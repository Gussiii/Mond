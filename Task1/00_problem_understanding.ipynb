{
 "cells": [
  {
   "cell_type": "markdown",
   "metadata": {},
   "source": [
    "# Task 1 Mondelez Case Study"
   ]
  },
  {
   "cell_type": "markdown",
   "metadata": {},
   "source": [
    "## Problem Statment"
   ]
  },
  {
   "cell_type": "markdown",
   "metadata": {},
   "source": [
    "### Case Study"
   ]
  },
  {
   "cell_type": "markdown",
   "metadata": {},
   "source": [
    "The large company who is into beverages business in Australia. They sell their products through various super-markets and also engage into heavy promotions throughout the year. Their demand is also influenced by various factors like holiday, seasonality. They needed forecast of each of products at item level every week in weekly buckets. "
   ]
  },
  {
   "cell_type": "markdown",
   "metadata": {},
   "source": [
    "### Challenge"
   ]
  },
  {
   "cell_type": "markdown",
   "metadata": {},
   "source": [
    "The time series data showed a range of patterns, some with trends, some seasonal, and some with neither. At the time, they were using their own software, written in-house, but it often produced forecasts that did not seem sensible. Company wanted to explore power of AI/ML based forecasting to replace their inhouse local solution "
   ]
  },
  {
   "cell_type": "markdown",
   "metadata": {},
   "source": [
    "### Objective"
   ]
  },
  {
   "cell_type": "markdown",
   "metadata": {},
   "source": [
    "1. Build atleast 4-5 multivariate forecasting model which included ML or Deep Learning based Model in PySpark leveraging parallel computing techniques\n",
    "2. Demonstrate best in class forecast accuracy (Forecast Accuracy = 1 - Wt. MAPE where Wt. MAPE = sum(Error)/sum(Actual)\n",
    "3. Write a code in such a way you run the model in least time\n",
    "4. Demonstrate explainability in the form of contribution of each variables "
   ]
  },
  {
   "cell_type": "markdown",
   "metadata": {},
   "source": [
    "### Note:"
   ]
  },
  {
   "cell_type": "markdown",
   "metadata": {},
   "source": [
    "Leveage Feature Engineering concepts to derive more variables to gain accuracy improvement\n",
    "You can build model and demostrate accuracy for Q3-Q4 of 2020"
   ]
  },
  {
   "cell_type": "markdown",
   "metadata": {},
   "source": [
    "### Submission:"
   ]
  },
  {
   "cell_type": "markdown",
   "metadata": {},
   "source": [
    "PySpark Code in notepad or word document\n",
    "Analysis & Findings of results in excel sheet clearly meeting objectives"
   ]
  },
  {
   "cell_type": "markdown",
   "metadata": {},
   "source": [
    "# Data Exploration"
   ]
  },
  {
   "cell_type": "markdown",
   "metadata": {},
   "source": [
    "## Overview and notes"
   ]
  },
  {
   "cell_type": "markdown",
   "metadata": {},
   "source": [
    "| Name | Comment | Data Type | Observation |\n",
    "|:---:|:---|:---:|:---|\n",
    "| Product |  | STR | SKU of the product |\n",
    "| date |  | Date (DD/MM/YY) | January 2017 missing |\n",
    "| Sales |  | Int | Unit sales |\n",
    "| Price Discount (%) | Price discount given to end   consumer on base price | Float |  |\n",
    "| In-Store Promo | These are fliers, pamphlets displayed in In-Store.<br>     1 - Fliers displayed during that week and<br>     0 - no fliers displayed | Bool |  |\n",
    "| Catalogue Promo | This are activities done by marketing team in market like catalogue of promotions circulated in market via different channels<br>     1 - Catalogue promotions active for a week<br>     0 - promo not active | Bool |  |\n",
    "| Store End Promo | This are different ENDS in store.<br>     1 represent if premium paid to buy END | Bool |  |\n",
    "| Google_Mobility |  | Float | Only available for 2020 |\n",
    "| Covid_Flag |  | Bool | Only available for 2020 |\n",
    "| V_DAY |  | Bool |  |\n",
    "| EASTER |  | Bool |  |\n",
    "| CHRISTMAS |  | Bool |  |"
   ]
  }
 ],
 "metadata": {
  "kernelspec": {
   "display_name": "Python 3 (ipykernel)",
   "language": "python",
   "name": "python3"
  }
 },
 "nbformat": 4,
 "nbformat_minor": 4
}
