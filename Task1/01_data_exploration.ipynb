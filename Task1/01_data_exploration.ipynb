{
 "cells": [
  {
   "cell_type": "markdown",
   "id": "e37095f7",
   "metadata": {
    "tags": []
   },
   "source": [
    "# Environment"
   ]
  },
  {
   "cell_type": "code",
   "execution_count": 28,
   "id": "c35b11c7",
   "metadata": {
    "collapsed": false,
    "jupyter": {
     "outputs_hidden": false
    }
   },
   "outputs": [
    {
     "name": "stdout",
     "output_type": "stream",
     "text": [
      "Python 3.10.8\n"
     ]
    }
   ],
   "source": [
    "!python -V"
   ]
  },
  {
   "cell_type": "code",
   "execution_count": 29,
   "id": "73d98ca7-a808-4afa-be21-124eb20879dd",
   "metadata": {},
   "outputs": [
    {
     "name": "stdout",
     "output_type": "stream",
     "text": [
      "Requirement already satisfied: plotly in /opt/conda/lib/python3.10/site-packages (5.11.0)\n",
      "Requirement already satisfied: tenacity>=6.2.0 in /opt/conda/lib/python3.10/site-packages (from plotly) (8.1.0)\n",
      "Requirement already satisfied: Prophet in /opt/conda/lib/python3.10/site-packages (1.1.1)\n",
      "Requirement already satisfied: cmdstanpy>=1.0.4 in /opt/conda/lib/python3.10/site-packages (from Prophet) (1.0.8)\n",
      "Requirement already satisfied: pandas>=1.0.4 in /opt/conda/lib/python3.10/site-packages (from Prophet) (1.5.2)\n",
      "Requirement already satisfied: setuptools>=42 in /opt/conda/lib/python3.10/site-packages (from Prophet) (65.5.1)\n",
      "Requirement already satisfied: numpy>=1.15.4 in /opt/conda/lib/python3.10/site-packages (from Prophet) (1.23.5)\n",
      "Requirement already satisfied: setuptools-git>=1.2 in /opt/conda/lib/python3.10/site-packages (from Prophet) (1.2)\n",
      "Requirement already satisfied: holidays>=0.14.2 in /opt/conda/lib/python3.10/site-packages (from Prophet) (0.17.2)\n",
      "Requirement already satisfied: LunarCalendar>=0.0.9 in /opt/conda/lib/python3.10/site-packages (from Prophet) (0.0.9)\n",
      "Requirement already satisfied: tqdm>=4.36.1 in /opt/conda/lib/python3.10/site-packages (from Prophet) (4.64.1)\n",
      "Requirement already satisfied: matplotlib>=2.0.0 in /opt/conda/lib/python3.10/site-packages (from Prophet) (3.6.2)\n",
      "Requirement already satisfied: python-dateutil>=2.8.0 in /opt/conda/lib/python3.10/site-packages (from Prophet) (2.8.2)\n",
      "Requirement already satisfied: wheel>=0.37.0 in /opt/conda/lib/python3.10/site-packages (from Prophet) (0.38.4)\n",
      "Requirement already satisfied: convertdate>=2.1.2 in /opt/conda/lib/python3.10/site-packages (from Prophet) (2.4.0)\n",
      "Requirement already satisfied: pymeeus<=1,>=0.3.13 in /opt/conda/lib/python3.10/site-packages (from convertdate>=2.1.2->Prophet) (0.5.11)\n",
      "Requirement already satisfied: korean-lunar-calendar in /opt/conda/lib/python3.10/site-packages (from holidays>=0.14.2->Prophet) (0.3.1)\n",
      "Requirement already satisfied: hijri-converter in /opt/conda/lib/python3.10/site-packages (from holidays>=0.14.2->Prophet) (2.2.4)\n",
      "Requirement already satisfied: ephem>=3.7.5.3 in /opt/conda/lib/python3.10/site-packages (from LunarCalendar>=0.0.9->Prophet) (4.1.3)\n",
      "Requirement already satisfied: pytz in /opt/conda/lib/python3.10/site-packages (from LunarCalendar>=0.0.9->Prophet) (2022.6)\n",
      "Requirement already satisfied: pillow>=6.2.0 in /opt/conda/lib/python3.10/site-packages (from matplotlib>=2.0.0->Prophet) (9.2.0)\n",
      "Requirement already satisfied: kiwisolver>=1.0.1 in /opt/conda/lib/python3.10/site-packages (from matplotlib>=2.0.0->Prophet) (1.4.4)\n",
      "Requirement already satisfied: contourpy>=1.0.1 in /opt/conda/lib/python3.10/site-packages (from matplotlib>=2.0.0->Prophet) (1.0.6)\n",
      "Requirement already satisfied: pyparsing>=2.2.1 in /opt/conda/lib/python3.10/site-packages (from matplotlib>=2.0.0->Prophet) (3.0.9)\n",
      "Requirement already satisfied: cycler>=0.10 in /opt/conda/lib/python3.10/site-packages (from matplotlib>=2.0.0->Prophet) (0.11.0)\n",
      "Requirement already satisfied: packaging>=20.0 in /opt/conda/lib/python3.10/site-packages (from matplotlib>=2.0.0->Prophet) (21.3)\n",
      "Requirement already satisfied: fonttools>=4.22.0 in /opt/conda/lib/python3.10/site-packages (from matplotlib>=2.0.0->Prophet) (4.38.0)\n",
      "Requirement already satisfied: six>=1.5 in /opt/conda/lib/python3.10/site-packages (from python-dateutil>=2.8.0->Prophet) (1.16.0)\n"
     ]
    }
   ],
   "source": [
    "!pip install plotly\n",
    "!pip install Prophet"
   ]
  },
  {
   "cell_type": "code",
   "execution_count": 30,
   "id": "78b85b09",
   "metadata": {
    "collapsed": false,
    "jupyter": {
     "outputs_hidden": false
    }
   },
   "outputs": [],
   "source": [
    "import os\n",
    "import re\n",
    "import warnings\n",
    "\n",
    "import plotly.express as px\n",
    "import numpy as np\n",
    "\n",
    "import pyspark\n",
    "import pyspark.pandas as ps\n",
    "\n",
    "from pyspark import SparkContext, SparkConf\n",
    "from pyspark.sql import SparkSession"
   ]
  },
  {
   "cell_type": "code",
   "execution_count": 31,
   "id": "23530515",
   "metadata": {
    "collapsed": false,
    "jupyter": {
     "outputs_hidden": false
    }
   },
   "outputs": [],
   "source": [
    "ps.options.display.max_rows = 10\n",
    "\n",
    "ps.set_option('plotting.backend', 'plotly')\n",
    "\n",
    "os.environ[\"PYARROW_IGNORE_TIMEZONE\"] = \"1\"\n",
    "os.environ[\"PYSPARK_DRIVER_PYTHON_OPTS\"] = \"lab\"\n",
    "\n",
    "warnings.filterwarnings(\"ignore\") "
   ]
  },
  {
   "cell_type": "code",
   "execution_count": 32,
   "id": "df841052",
   "metadata": {
    "collapsed": false,
    "jupyter": {
     "outputs_hidden": false
    }
   },
   "outputs": [
    {
     "name": "stdout",
     "output_type": "stream",
     "text": [
      "pyspark version: 3.3.1\n"
     ]
    }
   ],
   "source": [
    "print(f'pyspark version: {pyspark.__version__}')"
   ]
  },
  {
   "cell_type": "markdown",
   "id": "d082138d",
   "metadata": {
    "tags": []
   },
   "source": [
    "# Spark Secion"
   ]
  },
  {
   "cell_type": "code",
   "execution_count": 33,
   "id": "fc05ea19",
   "metadata": {
    "collapsed": false,
    "jupyter": {
     "outputs_hidden": false
    }
   },
   "outputs": [],
   "source": [
    "conf = pyspark.SparkConf()\n",
    "\n",
    "conf.setAppName('Task1')\n",
    "conf.setMaster('local[2]')\n",
    "\n",
    "sc = SparkContext.getOrCreate(conf)\n",
    "spark = SparkSession(sc)"
   ]
  },
  {
   "cell_type": "markdown",
   "id": "d6655ac0-59d4-41a7-bc97-555daa749e0e",
   "metadata": {
    "tags": [],
    "toc-hr-collapsed": true
   },
   "source": [
    "# Load Data"
   ]
  },
  {
   "cell_type": "code",
   "execution_count": 34,
   "id": "1765190a-2a29-4af6-b036-63e0b7aecfba",
   "metadata": {},
   "outputs": [
    {
     "data": {
      "text/html": [
       "<div>\n",
       "<style scoped>\n",
       "    .dataframe tbody tr th:only-of-type {\n",
       "        vertical-align: middle;\n",
       "    }\n",
       "\n",
       "    .dataframe tbody tr th {\n",
       "        vertical-align: top;\n",
       "    }\n",
       "\n",
       "    .dataframe thead th {\n",
       "        text-align: right;\n",
       "    }\n",
       "</style>\n",
       "<table border=\"1\" class=\"dataframe\">\n",
       "  <thead>\n",
       "    <tr style=\"text-align: right;\">\n",
       "      <th></th>\n",
       "      <th>Product</th>\n",
       "      <th>date</th>\n",
       "      <th>Sales</th>\n",
       "      <th>Price Discount (%)</th>\n",
       "      <th>In-Store Promo</th>\n",
       "      <th>Catalogue Promo</th>\n",
       "      <th>Store End Promo</th>\n",
       "      <th>Google_Mobility</th>\n",
       "      <th>Covid_Flag</th>\n",
       "      <th>V_DAY</th>\n",
       "      <th>EASTER</th>\n",
       "      <th>CHRISTMAS</th>\n",
       "    </tr>\n",
       "  </thead>\n",
       "  <tbody>\n",
       "    <tr>\n",
       "      <th>0</th>\n",
       "      <td>SKU1</td>\n",
       "      <td>05/02/17</td>\n",
       "      <td>27750</td>\n",
       "      <td>0%</td>\n",
       "      <td>0</td>\n",
       "      <td>0</td>\n",
       "      <td>0</td>\n",
       "      <td>0.0</td>\n",
       "      <td>0</td>\n",
       "      <td>0</td>\n",
       "      <td>0</td>\n",
       "      <td>0</td>\n",
       "    </tr>\n",
       "    <tr>\n",
       "      <th>1</th>\n",
       "      <td>SKU1</td>\n",
       "      <td>12/02/17</td>\n",
       "      <td>29023</td>\n",
       "      <td>0%</td>\n",
       "      <td>1</td>\n",
       "      <td>0</td>\n",
       "      <td>1</td>\n",
       "      <td>0.0</td>\n",
       "      <td>0</td>\n",
       "      <td>1</td>\n",
       "      <td>0</td>\n",
       "      <td>0</td>\n",
       "    </tr>\n",
       "    <tr>\n",
       "      <th>2</th>\n",
       "      <td>SKU1</td>\n",
       "      <td>19/02/17</td>\n",
       "      <td>45630</td>\n",
       "      <td>17%</td>\n",
       "      <td>0</td>\n",
       "      <td>0</td>\n",
       "      <td>0</td>\n",
       "      <td>0.0</td>\n",
       "      <td>0</td>\n",
       "      <td>0</td>\n",
       "      <td>0</td>\n",
       "      <td>0</td>\n",
       "    </tr>\n",
       "    <tr>\n",
       "      <th>3</th>\n",
       "      <td>SKU1</td>\n",
       "      <td>26/02/17</td>\n",
       "      <td>26789</td>\n",
       "      <td>0%</td>\n",
       "      <td>1</td>\n",
       "      <td>0</td>\n",
       "      <td>1</td>\n",
       "      <td>0.0</td>\n",
       "      <td>0</td>\n",
       "      <td>0</td>\n",
       "      <td>0</td>\n",
       "      <td>0</td>\n",
       "    </tr>\n",
       "    <tr>\n",
       "      <th>4</th>\n",
       "      <td>SKU1</td>\n",
       "      <td>05/03/17</td>\n",
       "      <td>41999</td>\n",
       "      <td>17%</td>\n",
       "      <td>0</td>\n",
       "      <td>0</td>\n",
       "      <td>0</td>\n",
       "      <td>0.0</td>\n",
       "      <td>0</td>\n",
       "      <td>0</td>\n",
       "      <td>0</td>\n",
       "      <td>0</td>\n",
       "    </tr>\n",
       "  </tbody>\n",
       "</table>\n",
       "</div>"
      ],
      "text/plain": [
       "  Product      date  Sales Price Discount (%)  In-Store Promo  Catalogue Promo  Store End Promo  Google_Mobility  Covid_Flag  V_DAY  EASTER  CHRISTMAS\n",
       "0    SKU1  05/02/17  27750                 0%               0                0                0              0.0           0      0       0          0\n",
       "1    SKU1  12/02/17  29023                 0%               1                0                1              0.0           0      1       0          0\n",
       "2    SKU1  19/02/17  45630                17%               0                0                0              0.0           0      0       0          0\n",
       "3    SKU1  26/02/17  26789                 0%               1                0                1              0.0           0      0       0          0\n",
       "4    SKU1  05/03/17  41999                17%               0                0                0              0.0           0      0       0          0"
      ]
     },
     "execution_count": 34,
     "metadata": {},
     "output_type": "execute_result"
    }
   ],
   "source": [
    "wd = os.getcwd()\n",
    "path_data = os.path.join(wd, 'study_case/Task1/data/', 'forcasting_cs_data.csv')\n",
    "#path_data = os.path.join(wd, 'data', 'forcasting_cs_data.csv')\n",
    "df = ps.read_csv(path_data)\n",
    "df.head()"
   ]
  },
  {
   "cell_type": "markdown",
   "id": "716248cf-00e5-4835-897d-49db14704889",
   "metadata": {},
   "source": [
    "## Column name homogenization"
   ]
  },
  {
   "cell_type": "code",
   "execution_count": 35,
   "id": "b917eee2",
   "metadata": {},
   "outputs": [],
   "source": [
    "columns = [re.sub(\"[^A-Z0-9 _]\", \"\", column, 0, re.IGNORECASE) for column in df.columns]\n",
    "columns = [column.replace('_',' ').title().replace(' ','') for column in columns]\n",
    "df.columns = columns"
   ]
  },
  {
   "cell_type": "code",
   "execution_count": 36,
   "id": "b70b0e83",
   "metadata": {},
   "outputs": [
    {
     "data": {
      "application/vnd.plotly.v1+json": {
       "config": {
        "plotlyServerURL": "https://plot.ly"
       },
       "data": [
        {
         "hovertemplate": "Product=SKU1<br>Date=%{x}<br>Sales=%{y}<extra></extra>",
         "legendgroup": "SKU1",
         "line": {
          "color": "#636efa",
          "dash": "solid"
         },
         "marker": {
          "symbol": "circle"
         },
         "mode": "lines",
         "name": "SKU1",
         "orientation": "v",
         "showlegend": true,
         "type": "scatter",
         "x": [
          "05/02/17",
          "12/02/17",
          "19/02/17",
          "26/02/17",
          "05/03/17",
          "12/03/17",
          "19/03/17",
          "26/03/17",
          "02/04/17",
          "09/04/17",
          "16/04/17",
          "23/04/17",
          "30/04/17",
          "07/05/17",
          "14/05/17",
          "21/05/17",
          "28/05/17",
          "04/06/17",
          "11/06/17",
          "18/06/17",
          "25/06/17",
          "02/07/17",
          "09/07/17",
          "16/07/17",
          "23/07/17",
          "30/07/17",
          "06/08/17",
          "13/08/17",
          "20/08/17",
          "27/08/17",
          "03/09/17",
          "10/09/17",
          "17/09/17",
          "24/09/17",
          "01/10/17",
          "08/10/17",
          "15/10/17",
          "22/10/17",
          "29/10/17",
          "05/11/17",
          "12/11/17",
          "19/11/17",
          "26/11/17",
          "03/12/17",
          "10/12/17",
          "17/12/17",
          "24/12/17",
          "31/12/17",
          "07/01/18",
          "14/01/18",
          "21/01/18",
          "28/01/18",
          "04/02/18",
          "11/02/18",
          "18/02/18",
          "25/02/18",
          "04/03/18",
          "11/03/18",
          "18/03/18",
          "25/03/18",
          "01/04/18",
          "08/04/18",
          "15/04/18",
          "22/04/18",
          "29/04/18",
          "06/05/18",
          "13/05/18",
          "20/05/18",
          "27/05/18",
          "03/06/18",
          "10/06/18",
          "17/06/18",
          "24/06/18",
          "01/07/18",
          "08/07/18",
          "15/07/18",
          "22/07/18",
          "29/07/18",
          "05/08/18",
          "12/08/18",
          "19/08/18",
          "26/08/18",
          "02/09/18",
          "09/09/18",
          "16/09/18",
          "23/09/18",
          "30/09/18",
          "07/10/18",
          "14/10/18",
          "21/10/18",
          "28/10/18",
          "04/11/18",
          "11/11/18",
          "18/11/18",
          "25/11/18",
          "02/12/18",
          "09/12/18",
          "16/12/18",
          "23/12/18",
          "30/12/18",
          "06/01/19",
          "13/01/19",
          "20/01/19",
          "27/01/19",
          "03/02/19",
          "10/02/19",
          "17/02/19",
          "24/02/19",
          "03/03/19",
          "10/03/19",
          "17/03/19",
          "24/03/19",
          "31/03/19",
          "07/04/19",
          "14/04/19",
          "21/04/19",
          "28/04/19",
          "05/05/19",
          "12/05/19",
          "19/05/19",
          "26/05/19",
          "02/06/19",
          "09/06/19",
          "16/06/19",
          "23/06/19",
          "30/06/19",
          "07/07/19",
          "14/07/19",
          "21/07/19",
          "28/07/19",
          "04/08/19",
          "11/08/19",
          "18/08/19",
          "25/08/19",
          "01/09/19",
          "08/09/19",
          "15/09/19",
          "22/09/19",
          "29/09/19",
          "06/10/19",
          "13/10/19",
          "20/10/19",
          "27/10/19",
          "03/11/19",
          "10/11/19",
          "17/11/19",
          "24/11/19",
          "01/12/19",
          "08/12/19",
          "15/12/19",
          "22/12/19",
          "29/12/19",
          "05/01/20",
          "12/01/20",
          "19/01/20",
          "26/01/20",
          "02/02/20",
          "09/02/20",
          "16/02/20",
          "23/02/20",
          "01/03/20",
          "08/03/20",
          "15/03/20",
          "22/03/20",
          "29/03/20",
          "05/04/20",
          "12/04/20",
          "19/04/20",
          "26/04/20",
          "03/05/20",
          "10/05/20",
          "17/05/20",
          "24/05/20",
          "31/05/20",
          "07/06/20",
          "14/06/20",
          "21/06/20",
          "28/06/20",
          "05/07/20",
          "12/07/20",
          "19/07/20",
          "26/07/20",
          "02/08/20",
          "09/08/20",
          "16/08/20",
          "23/08/20",
          "30/08/20",
          "06/09/20",
          "13/09/20",
          "20/09/20",
          "27/09/20",
          "04/10/20",
          "11/10/20",
          "18/10/20",
          "25/10/20",
          "01/11/20",
          "08/11/20",
          "15/11/20",
          "22/11/20",
          "29/11/20",
          "06/12/20",
          "13/12/20",
          "20/12/20",
          "27/12/20"
         ],
         "xaxis": "x",
         "y": [
          27750,
          29023,
          45630,
          26789,
          41999,
          29731,
          27365,
          27722,
          44339,
          54655,
          108159,
          30361,
          42154,
          39782,
          29490,
          25936,
          26045,
          25903,
          43689,
          25446,
          42543,
          27001,
          45198,
          28650,
          42032,
          27657,
          26888,
          46260,
          29415,
          50471,
          49531,
          30874,
          82940,
          34481,
          96610,
          31898,
          33967,
          33429,
          34918,
          104775,
          57417,
          60631,
          64904,
          66333,
          71917,
          94633,
          155253,
          89706,
          41941,
          37845,
          43324,
          65691,
          35016,
          33604,
          55216,
          33908,
          51305,
          91870,
          51438,
          54925,
          79050,
          35136,
          34800,
          56351,
          34225,
          49036,
          52964,
          34526,
          33308,
          49314,
          84075,
          32223,
          32463,
          51818,
          35597,
          35354,
          35191,
          33057,
          32373,
          31850,
          31772,
          29976,
          52126,
          48279,
          86576,
          49548,
          67966,
          33433,
          31482,
          32196,
          32717,
          97972,
          51495,
          52048,
          52532,
          59037,
          109917,
          80431,
          174994,
          96211,
          40420,
          34603,
          48759,
          58215,
          30561,
          29867,
          48001,
          30016,
          30502,
          32103,
          29664,
          28997,
          52930,
          55859,
          59375,
          119393,
          31741,
          43820,
          46628,
          28457,
          40402,
          28521,
          85108,
          44596,
          30099,
          46193,
          31093,
          31099,
          31866,
          31386,
          29985,
          31628,
          33665,
          34550,
          36320,
          55431,
          57446,
          58872,
          69480,
          106885,
          36072,
          37454,
          37663,
          60365,
          67770,
          70327,
          72587,
          73956,
          82558,
          85762,
          258874,
          124261,
          41141,
          34303,
          47058,
          58185,
          30020,
          29239,
          45572,
          29275,
          35684,
          36955,
          56886,
          77842,
          43707,
          39473,
          64685,
          39290,
          46829,
          29536,
          31836,
          31406,
          71971,
          29177,
          30877,
          26244,
          25445,
          26410,
          26925,
          26973,
          25749,
          23891,
          25792,
          24543,
          23744,
          23606,
          24346,
          51946,
          83565,
          50780,
          50644,
          55980,
          44587,
          43976,
          49593,
          33267,
          50159,
          51369,
          0,
          0,
          0,
          0,
          0,
          0
         ],
         "yaxis": "y"
        }
       ],
       "layout": {
        "legend": {
         "title": {
          "text": "Product"
         },
         "tracegroupgap": 0
        },
        "template": {
         "data": {
          "bar": [
           {
            "error_x": {
             "color": "#2a3f5f"
            },
            "error_y": {
             "color": "#2a3f5f"
            },
            "marker": {
             "line": {
              "color": "#E5ECF6",
              "width": 0.5
             },
             "pattern": {
              "fillmode": "overlay",
              "size": 10,
              "solidity": 0.2
             }
            },
            "type": "bar"
           }
          ],
          "barpolar": [
           {
            "marker": {
             "line": {
              "color": "#E5ECF6",
              "width": 0.5
             },
             "pattern": {
              "fillmode": "overlay",
              "size": 10,
              "solidity": 0.2
             }
            },
            "type": "barpolar"
           }
          ],
          "carpet": [
           {
            "aaxis": {
             "endlinecolor": "#2a3f5f",
             "gridcolor": "white",
             "linecolor": "white",
             "minorgridcolor": "white",
             "startlinecolor": "#2a3f5f"
            },
            "baxis": {
             "endlinecolor": "#2a3f5f",
             "gridcolor": "white",
             "linecolor": "white",
             "minorgridcolor": "white",
             "startlinecolor": "#2a3f5f"
            },
            "type": "carpet"
           }
          ],
          "choropleth": [
           {
            "colorbar": {
             "outlinewidth": 0,
             "ticks": ""
            },
            "type": "choropleth"
           }
          ],
          "contour": [
           {
            "colorbar": {
             "outlinewidth": 0,
             "ticks": ""
            },
            "colorscale": [
             [
              0,
              "#0d0887"
             ],
             [
              0.1111111111111111,
              "#46039f"
             ],
             [
              0.2222222222222222,
              "#7201a8"
             ],
             [
              0.3333333333333333,
              "#9c179e"
             ],
             [
              0.4444444444444444,
              "#bd3786"
             ],
             [
              0.5555555555555556,
              "#d8576b"
             ],
             [
              0.6666666666666666,
              "#ed7953"
             ],
             [
              0.7777777777777778,
              "#fb9f3a"
             ],
             [
              0.8888888888888888,
              "#fdca26"
             ],
             [
              1,
              "#f0f921"
             ]
            ],
            "type": "contour"
           }
          ],
          "contourcarpet": [
           {
            "colorbar": {
             "outlinewidth": 0,
             "ticks": ""
            },
            "type": "contourcarpet"
           }
          ],
          "heatmap": [
           {
            "colorbar": {
             "outlinewidth": 0,
             "ticks": ""
            },
            "colorscale": [
             [
              0,
              "#0d0887"
             ],
             [
              0.1111111111111111,
              "#46039f"
             ],
             [
              0.2222222222222222,
              "#7201a8"
             ],
             [
              0.3333333333333333,
              "#9c179e"
             ],
             [
              0.4444444444444444,
              "#bd3786"
             ],
             [
              0.5555555555555556,
              "#d8576b"
             ],
             [
              0.6666666666666666,
              "#ed7953"
             ],
             [
              0.7777777777777778,
              "#fb9f3a"
             ],
             [
              0.8888888888888888,
              "#fdca26"
             ],
             [
              1,
              "#f0f921"
             ]
            ],
            "type": "heatmap"
           }
          ],
          "heatmapgl": [
           {
            "colorbar": {
             "outlinewidth": 0,
             "ticks": ""
            },
            "colorscale": [
             [
              0,
              "#0d0887"
             ],
             [
              0.1111111111111111,
              "#46039f"
             ],
             [
              0.2222222222222222,
              "#7201a8"
             ],
             [
              0.3333333333333333,
              "#9c179e"
             ],
             [
              0.4444444444444444,
              "#bd3786"
             ],
             [
              0.5555555555555556,
              "#d8576b"
             ],
             [
              0.6666666666666666,
              "#ed7953"
             ],
             [
              0.7777777777777778,
              "#fb9f3a"
             ],
             [
              0.8888888888888888,
              "#fdca26"
             ],
             [
              1,
              "#f0f921"
             ]
            ],
            "type": "heatmapgl"
           }
          ],
          "histogram": [
           {
            "marker": {
             "pattern": {
              "fillmode": "overlay",
              "size": 10,
              "solidity": 0.2
             }
            },
            "type": "histogram"
           }
          ],
          "histogram2d": [
           {
            "colorbar": {
             "outlinewidth": 0,
             "ticks": ""
            },
            "colorscale": [
             [
              0,
              "#0d0887"
             ],
             [
              0.1111111111111111,
              "#46039f"
             ],
             [
              0.2222222222222222,
              "#7201a8"
             ],
             [
              0.3333333333333333,
              "#9c179e"
             ],
             [
              0.4444444444444444,
              "#bd3786"
             ],
             [
              0.5555555555555556,
              "#d8576b"
             ],
             [
              0.6666666666666666,
              "#ed7953"
             ],
             [
              0.7777777777777778,
              "#fb9f3a"
             ],
             [
              0.8888888888888888,
              "#fdca26"
             ],
             [
              1,
              "#f0f921"
             ]
            ],
            "type": "histogram2d"
           }
          ],
          "histogram2dcontour": [
           {
            "colorbar": {
             "outlinewidth": 0,
             "ticks": ""
            },
            "colorscale": [
             [
              0,
              "#0d0887"
             ],
             [
              0.1111111111111111,
              "#46039f"
             ],
             [
              0.2222222222222222,
              "#7201a8"
             ],
             [
              0.3333333333333333,
              "#9c179e"
             ],
             [
              0.4444444444444444,
              "#bd3786"
             ],
             [
              0.5555555555555556,
              "#d8576b"
             ],
             [
              0.6666666666666666,
              "#ed7953"
             ],
             [
              0.7777777777777778,
              "#fb9f3a"
             ],
             [
              0.8888888888888888,
              "#fdca26"
             ],
             [
              1,
              "#f0f921"
             ]
            ],
            "type": "histogram2dcontour"
           }
          ],
          "mesh3d": [
           {
            "colorbar": {
             "outlinewidth": 0,
             "ticks": ""
            },
            "type": "mesh3d"
           }
          ],
          "parcoords": [
           {
            "line": {
             "colorbar": {
              "outlinewidth": 0,
              "ticks": ""
             }
            },
            "type": "parcoords"
           }
          ],
          "pie": [
           {
            "automargin": true,
            "type": "pie"
           }
          ],
          "scatter": [
           {
            "fillpattern": {
             "fillmode": "overlay",
             "size": 10,
             "solidity": 0.2
            },
            "type": "scatter"
           }
          ],
          "scatter3d": [
           {
            "line": {
             "colorbar": {
              "outlinewidth": 0,
              "ticks": ""
             }
            },
            "marker": {
             "colorbar": {
              "outlinewidth": 0,
              "ticks": ""
             }
            },
            "type": "scatter3d"
           }
          ],
          "scattercarpet": [
           {
            "marker": {
             "colorbar": {
              "outlinewidth": 0,
              "ticks": ""
             }
            },
            "type": "scattercarpet"
           }
          ],
          "scattergeo": [
           {
            "marker": {
             "colorbar": {
              "outlinewidth": 0,
              "ticks": ""
             }
            },
            "type": "scattergeo"
           }
          ],
          "scattergl": [
           {
            "marker": {
             "colorbar": {
              "outlinewidth": 0,
              "ticks": ""
             }
            },
            "type": "scattergl"
           }
          ],
          "scattermapbox": [
           {
            "marker": {
             "colorbar": {
              "outlinewidth": 0,
              "ticks": ""
             }
            },
            "type": "scattermapbox"
           }
          ],
          "scatterpolar": [
           {
            "marker": {
             "colorbar": {
              "outlinewidth": 0,
              "ticks": ""
             }
            },
            "type": "scatterpolar"
           }
          ],
          "scatterpolargl": [
           {
            "marker": {
             "colorbar": {
              "outlinewidth": 0,
              "ticks": ""
             }
            },
            "type": "scatterpolargl"
           }
          ],
          "scatterternary": [
           {
            "marker": {
             "colorbar": {
              "outlinewidth": 0,
              "ticks": ""
             }
            },
            "type": "scatterternary"
           }
          ],
          "surface": [
           {
            "colorbar": {
             "outlinewidth": 0,
             "ticks": ""
            },
            "colorscale": [
             [
              0,
              "#0d0887"
             ],
             [
              0.1111111111111111,
              "#46039f"
             ],
             [
              0.2222222222222222,
              "#7201a8"
             ],
             [
              0.3333333333333333,
              "#9c179e"
             ],
             [
              0.4444444444444444,
              "#bd3786"
             ],
             [
              0.5555555555555556,
              "#d8576b"
             ],
             [
              0.6666666666666666,
              "#ed7953"
             ],
             [
              0.7777777777777778,
              "#fb9f3a"
             ],
             [
              0.8888888888888888,
              "#fdca26"
             ],
             [
              1,
              "#f0f921"
             ]
            ],
            "type": "surface"
           }
          ],
          "table": [
           {
            "cells": {
             "fill": {
              "color": "#EBF0F8"
             },
             "line": {
              "color": "white"
             }
            },
            "header": {
             "fill": {
              "color": "#C8D4E3"
             },
             "line": {
              "color": "white"
             }
            },
            "type": "table"
           }
          ]
         },
         "layout": {
          "annotationdefaults": {
           "arrowcolor": "#2a3f5f",
           "arrowhead": 0,
           "arrowwidth": 1
          },
          "autotypenumbers": "strict",
          "coloraxis": {
           "colorbar": {
            "outlinewidth": 0,
            "ticks": ""
           }
          },
          "colorscale": {
           "diverging": [
            [
             0,
             "#8e0152"
            ],
            [
             0.1,
             "#c51b7d"
            ],
            [
             0.2,
             "#de77ae"
            ],
            [
             0.3,
             "#f1b6da"
            ],
            [
             0.4,
             "#fde0ef"
            ],
            [
             0.5,
             "#f7f7f7"
            ],
            [
             0.6,
             "#e6f5d0"
            ],
            [
             0.7,
             "#b8e186"
            ],
            [
             0.8,
             "#7fbc41"
            ],
            [
             0.9,
             "#4d9221"
            ],
            [
             1,
             "#276419"
            ]
           ],
           "sequential": [
            [
             0,
             "#0d0887"
            ],
            [
             0.1111111111111111,
             "#46039f"
            ],
            [
             0.2222222222222222,
             "#7201a8"
            ],
            [
             0.3333333333333333,
             "#9c179e"
            ],
            [
             0.4444444444444444,
             "#bd3786"
            ],
            [
             0.5555555555555556,
             "#d8576b"
            ],
            [
             0.6666666666666666,
             "#ed7953"
            ],
            [
             0.7777777777777778,
             "#fb9f3a"
            ],
            [
             0.8888888888888888,
             "#fdca26"
            ],
            [
             1,
             "#f0f921"
            ]
           ],
           "sequentialminus": [
            [
             0,
             "#0d0887"
            ],
            [
             0.1111111111111111,
             "#46039f"
            ],
            [
             0.2222222222222222,
             "#7201a8"
            ],
            [
             0.3333333333333333,
             "#9c179e"
            ],
            [
             0.4444444444444444,
             "#bd3786"
            ],
            [
             0.5555555555555556,
             "#d8576b"
            ],
            [
             0.6666666666666666,
             "#ed7953"
            ],
            [
             0.7777777777777778,
             "#fb9f3a"
            ],
            [
             0.8888888888888888,
             "#fdca26"
            ],
            [
             1,
             "#f0f921"
            ]
           ]
          },
          "colorway": [
           "#636efa",
           "#EF553B",
           "#00cc96",
           "#ab63fa",
           "#FFA15A",
           "#19d3f3",
           "#FF6692",
           "#B6E880",
           "#FF97FF",
           "#FECB52"
          ],
          "font": {
           "color": "#2a3f5f"
          },
          "geo": {
           "bgcolor": "white",
           "lakecolor": "white",
           "landcolor": "#E5ECF6",
           "showlakes": true,
           "showland": true,
           "subunitcolor": "white"
          },
          "hoverlabel": {
           "align": "left"
          },
          "hovermode": "closest",
          "mapbox": {
           "style": "light"
          },
          "paper_bgcolor": "white",
          "plot_bgcolor": "#E5ECF6",
          "polar": {
           "angularaxis": {
            "gridcolor": "white",
            "linecolor": "white",
            "ticks": ""
           },
           "bgcolor": "#E5ECF6",
           "radialaxis": {
            "gridcolor": "white",
            "linecolor": "white",
            "ticks": ""
           }
          },
          "scene": {
           "xaxis": {
            "backgroundcolor": "#E5ECF6",
            "gridcolor": "white",
            "gridwidth": 2,
            "linecolor": "white",
            "showbackground": true,
            "ticks": "",
            "zerolinecolor": "white"
           },
           "yaxis": {
            "backgroundcolor": "#E5ECF6",
            "gridcolor": "white",
            "gridwidth": 2,
            "linecolor": "white",
            "showbackground": true,
            "ticks": "",
            "zerolinecolor": "white"
           },
           "zaxis": {
            "backgroundcolor": "#E5ECF6",
            "gridcolor": "white",
            "gridwidth": 2,
            "linecolor": "white",
            "showbackground": true,
            "ticks": "",
            "zerolinecolor": "white"
           }
          },
          "shapedefaults": {
           "line": {
            "color": "#2a3f5f"
           }
          },
          "ternary": {
           "aaxis": {
            "gridcolor": "white",
            "linecolor": "white",
            "ticks": ""
           },
           "baxis": {
            "gridcolor": "white",
            "linecolor": "white",
            "ticks": ""
           },
           "bgcolor": "#E5ECF6",
           "caxis": {
            "gridcolor": "white",
            "linecolor": "white",
            "ticks": ""
           }
          },
          "title": {
           "x": 0.05
          },
          "xaxis": {
           "automargin": true,
           "gridcolor": "white",
           "linecolor": "white",
           "ticks": "",
           "title": {
            "standoff": 15
           },
           "zerolinecolor": "white",
           "zerolinewidth": 2
          },
          "yaxis": {
           "automargin": true,
           "gridcolor": "white",
           "linecolor": "white",
           "ticks": "",
           "title": {
            "standoff": 15
           },
           "zerolinecolor": "white",
           "zerolinewidth": 2
          }
         }
        },
        "title": {
         "text": "SKU1 sales over 2017-2020"
        },
        "xaxis": {
         "anchor": "y",
         "domain": [
          0,
          1
         ],
         "title": {
          "text": "Date"
         }
        },
        "yaxis": {
         "anchor": "x",
         "domain": [
          0,
          1
         ],
         "title": {
          "text": "Sales"
         }
        }
       }
      },
      "text/html": [
       "<div>                            <div id=\"f456b2e7-05e7-490a-bc42-73683885b403\" class=\"plotly-graph-div\" style=\"height:525px; width:100%;\"></div>            <script type=\"text/javascript\">                require([\"plotly\"], function(Plotly) {                    window.PLOTLYENV=window.PLOTLYENV || {};                                    if (document.getElementById(\"f456b2e7-05e7-490a-bc42-73683885b403\")) {                    Plotly.newPlot(                        \"f456b2e7-05e7-490a-bc42-73683885b403\",                        [{\"hovertemplate\":\"Product=SKU1<br>Date=%{x}<br>Sales=%{y}<extra></extra>\",\"legendgroup\":\"SKU1\",\"line\":{\"color\":\"#636efa\",\"dash\":\"solid\"},\"marker\":{\"symbol\":\"circle\"},\"mode\":\"lines\",\"name\":\"SKU1\",\"orientation\":\"v\",\"showlegend\":true,\"x\":[\"05/02/17\",\"12/02/17\",\"19/02/17\",\"26/02/17\",\"05/03/17\",\"12/03/17\",\"19/03/17\",\"26/03/17\",\"02/04/17\",\"09/04/17\",\"16/04/17\",\"23/04/17\",\"30/04/17\",\"07/05/17\",\"14/05/17\",\"21/05/17\",\"28/05/17\",\"04/06/17\",\"11/06/17\",\"18/06/17\",\"25/06/17\",\"02/07/17\",\"09/07/17\",\"16/07/17\",\"23/07/17\",\"30/07/17\",\"06/08/17\",\"13/08/17\",\"20/08/17\",\"27/08/17\",\"03/09/17\",\"10/09/17\",\"17/09/17\",\"24/09/17\",\"01/10/17\",\"08/10/17\",\"15/10/17\",\"22/10/17\",\"29/10/17\",\"05/11/17\",\"12/11/17\",\"19/11/17\",\"26/11/17\",\"03/12/17\",\"10/12/17\",\"17/12/17\",\"24/12/17\",\"31/12/17\",\"07/01/18\",\"14/01/18\",\"21/01/18\",\"28/01/18\",\"04/02/18\",\"11/02/18\",\"18/02/18\",\"25/02/18\",\"04/03/18\",\"11/03/18\",\"18/03/18\",\"25/03/18\",\"01/04/18\",\"08/04/18\",\"15/04/18\",\"22/04/18\",\"29/04/18\",\"06/05/18\",\"13/05/18\",\"20/05/18\",\"27/05/18\",\"03/06/18\",\"10/06/18\",\"17/06/18\",\"24/06/18\",\"01/07/18\",\"08/07/18\",\"15/07/18\",\"22/07/18\",\"29/07/18\",\"05/08/18\",\"12/08/18\",\"19/08/18\",\"26/08/18\",\"02/09/18\",\"09/09/18\",\"16/09/18\",\"23/09/18\",\"30/09/18\",\"07/10/18\",\"14/10/18\",\"21/10/18\",\"28/10/18\",\"04/11/18\",\"11/11/18\",\"18/11/18\",\"25/11/18\",\"02/12/18\",\"09/12/18\",\"16/12/18\",\"23/12/18\",\"30/12/18\",\"06/01/19\",\"13/01/19\",\"20/01/19\",\"27/01/19\",\"03/02/19\",\"10/02/19\",\"17/02/19\",\"24/02/19\",\"03/03/19\",\"10/03/19\",\"17/03/19\",\"24/03/19\",\"31/03/19\",\"07/04/19\",\"14/04/19\",\"21/04/19\",\"28/04/19\",\"05/05/19\",\"12/05/19\",\"19/05/19\",\"26/05/19\",\"02/06/19\",\"09/06/19\",\"16/06/19\",\"23/06/19\",\"30/06/19\",\"07/07/19\",\"14/07/19\",\"21/07/19\",\"28/07/19\",\"04/08/19\",\"11/08/19\",\"18/08/19\",\"25/08/19\",\"01/09/19\",\"08/09/19\",\"15/09/19\",\"22/09/19\",\"29/09/19\",\"06/10/19\",\"13/10/19\",\"20/10/19\",\"27/10/19\",\"03/11/19\",\"10/11/19\",\"17/11/19\",\"24/11/19\",\"01/12/19\",\"08/12/19\",\"15/12/19\",\"22/12/19\",\"29/12/19\",\"05/01/20\",\"12/01/20\",\"19/01/20\",\"26/01/20\",\"02/02/20\",\"09/02/20\",\"16/02/20\",\"23/02/20\",\"01/03/20\",\"08/03/20\",\"15/03/20\",\"22/03/20\",\"29/03/20\",\"05/04/20\",\"12/04/20\",\"19/04/20\",\"26/04/20\",\"03/05/20\",\"10/05/20\",\"17/05/20\",\"24/05/20\",\"31/05/20\",\"07/06/20\",\"14/06/20\",\"21/06/20\",\"28/06/20\",\"05/07/20\",\"12/07/20\",\"19/07/20\",\"26/07/20\",\"02/08/20\",\"09/08/20\",\"16/08/20\",\"23/08/20\",\"30/08/20\",\"06/09/20\",\"13/09/20\",\"20/09/20\",\"27/09/20\",\"04/10/20\",\"11/10/20\",\"18/10/20\",\"25/10/20\",\"01/11/20\",\"08/11/20\",\"15/11/20\",\"22/11/20\",\"29/11/20\",\"06/12/20\",\"13/12/20\",\"20/12/20\",\"27/12/20\"],\"xaxis\":\"x\",\"y\":[27750,29023,45630,26789,41999,29731,27365,27722,44339,54655,108159,30361,42154,39782,29490,25936,26045,25903,43689,25446,42543,27001,45198,28650,42032,27657,26888,46260,29415,50471,49531,30874,82940,34481,96610,31898,33967,33429,34918,104775,57417,60631,64904,66333,71917,94633,155253,89706,41941,37845,43324,65691,35016,33604,55216,33908,51305,91870,51438,54925,79050,35136,34800,56351,34225,49036,52964,34526,33308,49314,84075,32223,32463,51818,35597,35354,35191,33057,32373,31850,31772,29976,52126,48279,86576,49548,67966,33433,31482,32196,32717,97972,51495,52048,52532,59037,109917,80431,174994,96211,40420,34603,48759,58215,30561,29867,48001,30016,30502,32103,29664,28997,52930,55859,59375,119393,31741,43820,46628,28457,40402,28521,85108,44596,30099,46193,31093,31099,31866,31386,29985,31628,33665,34550,36320,55431,57446,58872,69480,106885,36072,37454,37663,60365,67770,70327,72587,73956,82558,85762,258874,124261,41141,34303,47058,58185,30020,29239,45572,29275,35684,36955,56886,77842,43707,39473,64685,39290,46829,29536,31836,31406,71971,29177,30877,26244,25445,26410,26925,26973,25749,23891,25792,24543,23744,23606,24346,51946,83565,50780,50644,55980,44587,43976,49593,33267,50159,51369,0,0,0,0,0,0],\"yaxis\":\"y\",\"type\":\"scatter\"}],                        {\"template\":{\"data\":{\"histogram2dcontour\":[{\"type\":\"histogram2dcontour\",\"colorbar\":{\"outlinewidth\":0,\"ticks\":\"\"},\"colorscale\":[[0.0,\"#0d0887\"],[0.1111111111111111,\"#46039f\"],[0.2222222222222222,\"#7201a8\"],[0.3333333333333333,\"#9c179e\"],[0.4444444444444444,\"#bd3786\"],[0.5555555555555556,\"#d8576b\"],[0.6666666666666666,\"#ed7953\"],[0.7777777777777778,\"#fb9f3a\"],[0.8888888888888888,\"#fdca26\"],[1.0,\"#f0f921\"]]}],\"choropleth\":[{\"type\":\"choropleth\",\"colorbar\":{\"outlinewidth\":0,\"ticks\":\"\"}}],\"histogram2d\":[{\"type\":\"histogram2d\",\"colorbar\":{\"outlinewidth\":0,\"ticks\":\"\"},\"colorscale\":[[0.0,\"#0d0887\"],[0.1111111111111111,\"#46039f\"],[0.2222222222222222,\"#7201a8\"],[0.3333333333333333,\"#9c179e\"],[0.4444444444444444,\"#bd3786\"],[0.5555555555555556,\"#d8576b\"],[0.6666666666666666,\"#ed7953\"],[0.7777777777777778,\"#fb9f3a\"],[0.8888888888888888,\"#fdca26\"],[1.0,\"#f0f921\"]]}],\"heatmap\":[{\"type\":\"heatmap\",\"colorbar\":{\"outlinewidth\":0,\"ticks\":\"\"},\"colorscale\":[[0.0,\"#0d0887\"],[0.1111111111111111,\"#46039f\"],[0.2222222222222222,\"#7201a8\"],[0.3333333333333333,\"#9c179e\"],[0.4444444444444444,\"#bd3786\"],[0.5555555555555556,\"#d8576b\"],[0.6666666666666666,\"#ed7953\"],[0.7777777777777778,\"#fb9f3a\"],[0.8888888888888888,\"#fdca26\"],[1.0,\"#f0f921\"]]}],\"heatmapgl\":[{\"type\":\"heatmapgl\",\"colorbar\":{\"outlinewidth\":0,\"ticks\":\"\"},\"colorscale\":[[0.0,\"#0d0887\"],[0.1111111111111111,\"#46039f\"],[0.2222222222222222,\"#7201a8\"],[0.3333333333333333,\"#9c179e\"],[0.4444444444444444,\"#bd3786\"],[0.5555555555555556,\"#d8576b\"],[0.6666666666666666,\"#ed7953\"],[0.7777777777777778,\"#fb9f3a\"],[0.8888888888888888,\"#fdca26\"],[1.0,\"#f0f921\"]]}],\"contourcarpet\":[{\"type\":\"contourcarpet\",\"colorbar\":{\"outlinewidth\":0,\"ticks\":\"\"}}],\"contour\":[{\"type\":\"contour\",\"colorbar\":{\"outlinewidth\":0,\"ticks\":\"\"},\"colorscale\":[[0.0,\"#0d0887\"],[0.1111111111111111,\"#46039f\"],[0.2222222222222222,\"#7201a8\"],[0.3333333333333333,\"#9c179e\"],[0.4444444444444444,\"#bd3786\"],[0.5555555555555556,\"#d8576b\"],[0.6666666666666666,\"#ed7953\"],[0.7777777777777778,\"#fb9f3a\"],[0.8888888888888888,\"#fdca26\"],[1.0,\"#f0f921\"]]}],\"surface\":[{\"type\":\"surface\",\"colorbar\":{\"outlinewidth\":0,\"ticks\":\"\"},\"colorscale\":[[0.0,\"#0d0887\"],[0.1111111111111111,\"#46039f\"],[0.2222222222222222,\"#7201a8\"],[0.3333333333333333,\"#9c179e\"],[0.4444444444444444,\"#bd3786\"],[0.5555555555555556,\"#d8576b\"],[0.6666666666666666,\"#ed7953\"],[0.7777777777777778,\"#fb9f3a\"],[0.8888888888888888,\"#fdca26\"],[1.0,\"#f0f921\"]]}],\"mesh3d\":[{\"type\":\"mesh3d\",\"colorbar\":{\"outlinewidth\":0,\"ticks\":\"\"}}],\"scatter\":[{\"fillpattern\":{\"fillmode\":\"overlay\",\"size\":10,\"solidity\":0.2},\"type\":\"scatter\"}],\"parcoords\":[{\"type\":\"parcoords\",\"line\":{\"colorbar\":{\"outlinewidth\":0,\"ticks\":\"\"}}}],\"scatterpolargl\":[{\"type\":\"scatterpolargl\",\"marker\":{\"colorbar\":{\"outlinewidth\":0,\"ticks\":\"\"}}}],\"bar\":[{\"error_x\":{\"color\":\"#2a3f5f\"},\"error_y\":{\"color\":\"#2a3f5f\"},\"marker\":{\"line\":{\"color\":\"#E5ECF6\",\"width\":0.5},\"pattern\":{\"fillmode\":\"overlay\",\"size\":10,\"solidity\":0.2}},\"type\":\"bar\"}],\"scattergeo\":[{\"type\":\"scattergeo\",\"marker\":{\"colorbar\":{\"outlinewidth\":0,\"ticks\":\"\"}}}],\"scatterpolar\":[{\"type\":\"scatterpolar\",\"marker\":{\"colorbar\":{\"outlinewidth\":0,\"ticks\":\"\"}}}],\"histogram\":[{\"marker\":{\"pattern\":{\"fillmode\":\"overlay\",\"size\":10,\"solidity\":0.2}},\"type\":\"histogram\"}],\"scattergl\":[{\"type\":\"scattergl\",\"marker\":{\"colorbar\":{\"outlinewidth\":0,\"ticks\":\"\"}}}],\"scatter3d\":[{\"type\":\"scatter3d\",\"line\":{\"colorbar\":{\"outlinewidth\":0,\"ticks\":\"\"}},\"marker\":{\"colorbar\":{\"outlinewidth\":0,\"ticks\":\"\"}}}],\"scattermapbox\":[{\"type\":\"scattermapbox\",\"marker\":{\"colorbar\":{\"outlinewidth\":0,\"ticks\":\"\"}}}],\"scatterternary\":[{\"type\":\"scatterternary\",\"marker\":{\"colorbar\":{\"outlinewidth\":0,\"ticks\":\"\"}}}],\"scattercarpet\":[{\"type\":\"scattercarpet\",\"marker\":{\"colorbar\":{\"outlinewidth\":0,\"ticks\":\"\"}}}],\"carpet\":[{\"aaxis\":{\"endlinecolor\":\"#2a3f5f\",\"gridcolor\":\"white\",\"linecolor\":\"white\",\"minorgridcolor\":\"white\",\"startlinecolor\":\"#2a3f5f\"},\"baxis\":{\"endlinecolor\":\"#2a3f5f\",\"gridcolor\":\"white\",\"linecolor\":\"white\",\"minorgridcolor\":\"white\",\"startlinecolor\":\"#2a3f5f\"},\"type\":\"carpet\"}],\"table\":[{\"cells\":{\"fill\":{\"color\":\"#EBF0F8\"},\"line\":{\"color\":\"white\"}},\"header\":{\"fill\":{\"color\":\"#C8D4E3\"},\"line\":{\"color\":\"white\"}},\"type\":\"table\"}],\"barpolar\":[{\"marker\":{\"line\":{\"color\":\"#E5ECF6\",\"width\":0.5},\"pattern\":{\"fillmode\":\"overlay\",\"size\":10,\"solidity\":0.2}},\"type\":\"barpolar\"}],\"pie\":[{\"automargin\":true,\"type\":\"pie\"}]},\"layout\":{\"autotypenumbers\":\"strict\",\"colorway\":[\"#636efa\",\"#EF553B\",\"#00cc96\",\"#ab63fa\",\"#FFA15A\",\"#19d3f3\",\"#FF6692\",\"#B6E880\",\"#FF97FF\",\"#FECB52\"],\"font\":{\"color\":\"#2a3f5f\"},\"hovermode\":\"closest\",\"hoverlabel\":{\"align\":\"left\"},\"paper_bgcolor\":\"white\",\"plot_bgcolor\":\"#E5ECF6\",\"polar\":{\"bgcolor\":\"#E5ECF6\",\"angularaxis\":{\"gridcolor\":\"white\",\"linecolor\":\"white\",\"ticks\":\"\"},\"radialaxis\":{\"gridcolor\":\"white\",\"linecolor\":\"white\",\"ticks\":\"\"}},\"ternary\":{\"bgcolor\":\"#E5ECF6\",\"aaxis\":{\"gridcolor\":\"white\",\"linecolor\":\"white\",\"ticks\":\"\"},\"baxis\":{\"gridcolor\":\"white\",\"linecolor\":\"white\",\"ticks\":\"\"},\"caxis\":{\"gridcolor\":\"white\",\"linecolor\":\"white\",\"ticks\":\"\"}},\"coloraxis\":{\"colorbar\":{\"outlinewidth\":0,\"ticks\":\"\"}},\"colorscale\":{\"sequential\":[[0.0,\"#0d0887\"],[0.1111111111111111,\"#46039f\"],[0.2222222222222222,\"#7201a8\"],[0.3333333333333333,\"#9c179e\"],[0.4444444444444444,\"#bd3786\"],[0.5555555555555556,\"#d8576b\"],[0.6666666666666666,\"#ed7953\"],[0.7777777777777778,\"#fb9f3a\"],[0.8888888888888888,\"#fdca26\"],[1.0,\"#f0f921\"]],\"sequentialminus\":[[0.0,\"#0d0887\"],[0.1111111111111111,\"#46039f\"],[0.2222222222222222,\"#7201a8\"],[0.3333333333333333,\"#9c179e\"],[0.4444444444444444,\"#bd3786\"],[0.5555555555555556,\"#d8576b\"],[0.6666666666666666,\"#ed7953\"],[0.7777777777777778,\"#fb9f3a\"],[0.8888888888888888,\"#fdca26\"],[1.0,\"#f0f921\"]],\"diverging\":[[0,\"#8e0152\"],[0.1,\"#c51b7d\"],[0.2,\"#de77ae\"],[0.3,\"#f1b6da\"],[0.4,\"#fde0ef\"],[0.5,\"#f7f7f7\"],[0.6,\"#e6f5d0\"],[0.7,\"#b8e186\"],[0.8,\"#7fbc41\"],[0.9,\"#4d9221\"],[1,\"#276419\"]]},\"xaxis\":{\"gridcolor\":\"white\",\"linecolor\":\"white\",\"ticks\":\"\",\"title\":{\"standoff\":15},\"zerolinecolor\":\"white\",\"automargin\":true,\"zerolinewidth\":2},\"yaxis\":{\"gridcolor\":\"white\",\"linecolor\":\"white\",\"ticks\":\"\",\"title\":{\"standoff\":15},\"zerolinecolor\":\"white\",\"automargin\":true,\"zerolinewidth\":2},\"scene\":{\"xaxis\":{\"backgroundcolor\":\"#E5ECF6\",\"gridcolor\":\"white\",\"linecolor\":\"white\",\"showbackground\":true,\"ticks\":\"\",\"zerolinecolor\":\"white\",\"gridwidth\":2},\"yaxis\":{\"backgroundcolor\":\"#E5ECF6\",\"gridcolor\":\"white\",\"linecolor\":\"white\",\"showbackground\":true,\"ticks\":\"\",\"zerolinecolor\":\"white\",\"gridwidth\":2},\"zaxis\":{\"backgroundcolor\":\"#E5ECF6\",\"gridcolor\":\"white\",\"linecolor\":\"white\",\"showbackground\":true,\"ticks\":\"\",\"zerolinecolor\":\"white\",\"gridwidth\":2}},\"shapedefaults\":{\"line\":{\"color\":\"#2a3f5f\"}},\"annotationdefaults\":{\"arrowcolor\":\"#2a3f5f\",\"arrowhead\":0,\"arrowwidth\":1},\"geo\":{\"bgcolor\":\"white\",\"landcolor\":\"#E5ECF6\",\"subunitcolor\":\"white\",\"showland\":true,\"showlakes\":true,\"lakecolor\":\"white\"},\"title\":{\"x\":0.05},\"mapbox\":{\"style\":\"light\"}}},\"xaxis\":{\"anchor\":\"y\",\"domain\":[0.0,1.0],\"title\":{\"text\":\"Date\"}},\"yaxis\":{\"anchor\":\"x\",\"domain\":[0.0,1.0],\"title\":{\"text\":\"Sales\"}},\"legend\":{\"title\":{\"text\":\"Product\"},\"tracegroupgap\":0},\"title\":{\"text\":\"SKU1 sales over 2017-2020\"}},                        {\"responsive\": true}                    ).then(function(){\n",
       "                            \n",
       "var gd = document.getElementById('f456b2e7-05e7-490a-bc42-73683885b403');\n",
       "var x = new MutationObserver(function (mutations, observer) {{\n",
       "        var display = window.getComputedStyle(gd).display;\n",
       "        if (!display || display === 'none') {{\n",
       "            console.log([gd, 'removed!']);\n",
       "            Plotly.purge(gd);\n",
       "            observer.disconnect();\n",
       "        }}\n",
       "}});\n",
       "\n",
       "// Listen for the removal of the full notebook cells\n",
       "var notebookContainer = gd.closest('#notebook-container');\n",
       "if (notebookContainer) {{\n",
       "    x.observe(notebookContainer, {childList: true});\n",
       "}}\n",
       "\n",
       "// Listen for the clearing of the current output cell\n",
       "var outputEl = gd.closest('.output');\n",
       "if (outputEl) {{\n",
       "    x.observe(outputEl, {childList: true});\n",
       "}}\n",
       "\n",
       "                        })                };                });            </script>        </div>"
      ]
     },
     "metadata": {},
     "output_type": "display_data"
    },
    {
     "data": {
      "application/vnd.plotly.v1+json": {
       "config": {
        "plotlyServerURL": "https://plot.ly"
       },
       "data": [
        {
         "hovertemplate": "Product=SKU2<br>Date=%{x}<br>Sales=%{y}<extra></extra>",
         "legendgroup": "SKU2",
         "line": {
          "color": "#636efa",
          "dash": "solid"
         },
         "marker": {
          "symbol": "circle"
         },
         "mode": "lines",
         "name": "SKU2",
         "orientation": "v",
         "showlegend": true,
         "type": "scatter",
         "x": [
          "05/02/17",
          "12/02/17",
          "19/02/17",
          "26/02/17",
          "05/03/17",
          "12/03/17",
          "19/03/17",
          "26/03/17",
          "02/04/17",
          "09/04/17",
          "16/04/17",
          "23/04/17",
          "30/04/17",
          "07/05/17",
          "14/05/17",
          "21/05/17",
          "28/05/17",
          "04/06/17",
          "11/06/17",
          "18/06/17",
          "25/06/17",
          "02/07/17",
          "09/07/17",
          "16/07/17",
          "23/07/17",
          "30/07/17",
          "06/08/17",
          "13/08/17",
          "20/08/17",
          "27/08/17",
          "03/09/17",
          "10/09/17",
          "17/09/17",
          "24/09/17",
          "01/10/17",
          "08/10/17",
          "15/10/17",
          "22/10/17",
          "29/10/17",
          "05/11/17",
          "12/11/17",
          "19/11/17",
          "26/11/17",
          "03/12/17",
          "10/12/17",
          "17/12/17",
          "24/12/17",
          "31/12/17",
          "07/01/18",
          "14/01/18",
          "21/01/18",
          "28/01/18",
          "04/02/18",
          "11/02/18",
          "18/02/18",
          "25/02/18",
          "04/03/18",
          "11/03/18",
          "18/03/18",
          "25/03/18",
          "01/04/18",
          "08/04/18",
          "15/04/18",
          "22/04/18",
          "29/04/18",
          "06/05/18",
          "13/05/18",
          "20/05/18",
          "27/05/18",
          "03/06/18",
          "10/06/18",
          "17/06/18",
          "24/06/18",
          "01/07/18",
          "08/07/18",
          "15/07/18",
          "22/07/18",
          "29/07/18",
          "05/08/18",
          "12/08/18",
          "19/08/18",
          "26/08/18",
          "02/09/18",
          "09/09/18",
          "16/09/18",
          "23/09/18",
          "30/09/18",
          "07/10/18",
          "14/10/18",
          "21/10/18",
          "28/10/18",
          "04/11/18",
          "11/11/18",
          "18/11/18",
          "25/11/18",
          "02/12/18",
          "09/12/18",
          "16/12/18",
          "23/12/18",
          "30/12/18",
          "06/01/19",
          "13/01/19",
          "20/01/19",
          "27/01/19",
          "03/02/19",
          "10/02/19",
          "17/02/19",
          "24/02/19",
          "03/03/19",
          "10/03/19",
          "17/03/19",
          "24/03/19",
          "31/03/19",
          "07/04/19",
          "14/04/19",
          "21/04/19",
          "28/04/19",
          "05/05/19",
          "12/05/19",
          "19/05/19",
          "26/05/19",
          "02/06/19",
          "09/06/19",
          "16/06/19",
          "23/06/19",
          "30/06/19",
          "07/07/19",
          "14/07/19",
          "21/07/19",
          "28/07/19",
          "04/08/19",
          "11/08/19",
          "18/08/19",
          "25/08/19",
          "01/09/19",
          "08/09/19",
          "15/09/19",
          "22/09/19",
          "29/09/19",
          "06/10/19",
          "13/10/19",
          "20/10/19",
          "27/10/19",
          "03/11/19",
          "10/11/19",
          "17/11/19",
          "24/11/19",
          "01/12/19",
          "08/12/19",
          "15/12/19",
          "22/12/19",
          "29/12/19",
          "05/01/20",
          "12/01/20",
          "19/01/20",
          "26/01/20",
          "02/02/20",
          "09/02/20",
          "16/02/20",
          "23/02/20",
          "01/03/20",
          "08/03/20",
          "15/03/20",
          "22/03/20",
          "29/03/20",
          "05/04/20",
          "12/04/20",
          "19/04/20",
          "26/04/20",
          "03/05/20",
          "10/05/20",
          "17/05/20",
          "24/05/20",
          "31/05/20",
          "07/06/20",
          "14/06/20",
          "21/06/20",
          "28/06/20",
          "05/07/20",
          "12/07/20",
          "19/07/20",
          "26/07/20",
          "02/08/20",
          "09/08/20",
          "16/08/20",
          "23/08/20",
          "30/08/20",
          "06/09/20",
          "13/09/20",
          "20/09/20",
          "27/09/20",
          "04/10/20",
          "11/10/20",
          "18/10/20",
          "25/10/20",
          "01/11/20",
          "08/11/20",
          "15/11/20",
          "22/11/20",
          "29/11/20",
          "06/12/20",
          "13/12/20",
          "20/12/20",
          "27/12/20"
         ],
         "xaxis": "x",
         "y": [
          7180,
          7080,
          2753,
          3062,
          8342,
          3124,
          41915,
          3226,
          7618,
          3084,
          2463,
          6547,
          8290,
          3390,
          3450,
          52122,
          7256,
          3081,
          8604,
          3232,
          33566,
          3232,
          2560,
          8489,
          2990,
          7956,
          3071,
          3098,
          3078,
          8376,
          2626,
          2617,
          2572,
          6877,
          2242,
          7041,
          2523,
          6905,
          40527,
          2636,
          6184,
          2521,
          2380,
          6270,
          5278,
          2007,
          1453,
          4940,
          2156,
          2305,
          6406,
          2267,
          2583,
          32549,
          6613,
          2620,
          2805,
          3069,
          8464,
          3318,
          2651,
          17970,
          7697,
          2867,
          6534,
          3679,
          41316,
          8430,
          8539,
          8834,
          2930,
          3420,
          42002,
          8320,
          3387,
          9878,
          3468,
          9613,
          3901,
          8664,
          3395,
          9024,
          3725,
          3139,
          3126,
          9301,
          3053,
          32900,
          7386,
          2990,
          3269,
          3304,
          2825,
          7680,
          2747,
          2781,
          7022,
          2609,
          1976,
          2027,
          2642,
          2808,
          8978,
          6950,
          3019,
          2837,
          3055,
          23327,
          7084,
          6714,
          2744,
          2900,
          7817,
          2749,
          10895,
          2178,
          6349,
          2628,
          36674,
          6838,
          2598,
          6743,
          2423,
          2779,
          37065,
          5908,
          2349,
          2569,
          7718,
          2867,
          8486,
          3004,
          9897,
          2580,
          2743,
          7933,
          2748,
          7533,
          6829,
          2461,
          40111,
          7766,
          7209,
          2585,
          2907,
          3026,
          39870,
          7690,
          7215,
          2339,
          2178,
          1714,
          2506,
          2870,
          7374,
          30409,
          5152,
          6993,
          2857,
          9823,
          9807,
          3759,
          5999,
          5403,
          4258,
          3719,
          2914,
          3275,
          3251,
          3189,
          3298,
          3411,
          3424,
          3416,
          3181,
          3339,
          3425,
          3279,
          3267,
          3154,
          8340,
          3076,
          7732,
          3210,
          34327,
          7910,
          3170,
          8152,
          3081,
          3322,
          8123,
          3160,
          40169,
          8102,
          8143,
          3062,
          22460,
          3464,
          0,
          0,
          0,
          0,
          0,
          0
         ],
         "yaxis": "y"
        }
       ],
       "layout": {
        "legend": {
         "title": {
          "text": "Product"
         },
         "tracegroupgap": 0
        },
        "template": {
         "data": {
          "bar": [
           {
            "error_x": {
             "color": "#2a3f5f"
            },
            "error_y": {
             "color": "#2a3f5f"
            },
            "marker": {
             "line": {
              "color": "#E5ECF6",
              "width": 0.5
             },
             "pattern": {
              "fillmode": "overlay",
              "size": 10,
              "solidity": 0.2
             }
            },
            "type": "bar"
           }
          ],
          "barpolar": [
           {
            "marker": {
             "line": {
              "color": "#E5ECF6",
              "width": 0.5
             },
             "pattern": {
              "fillmode": "overlay",
              "size": 10,
              "solidity": 0.2
             }
            },
            "type": "barpolar"
           }
          ],
          "carpet": [
           {
            "aaxis": {
             "endlinecolor": "#2a3f5f",
             "gridcolor": "white",
             "linecolor": "white",
             "minorgridcolor": "white",
             "startlinecolor": "#2a3f5f"
            },
            "baxis": {
             "endlinecolor": "#2a3f5f",
             "gridcolor": "white",
             "linecolor": "white",
             "minorgridcolor": "white",
             "startlinecolor": "#2a3f5f"
            },
            "type": "carpet"
           }
          ],
          "choropleth": [
           {
            "colorbar": {
             "outlinewidth": 0,
             "ticks": ""
            },
            "type": "choropleth"
           }
          ],
          "contour": [
           {
            "colorbar": {
             "outlinewidth": 0,
             "ticks": ""
            },
            "colorscale": [
             [
              0,
              "#0d0887"
             ],
             [
              0.1111111111111111,
              "#46039f"
             ],
             [
              0.2222222222222222,
              "#7201a8"
             ],
             [
              0.3333333333333333,
              "#9c179e"
             ],
             [
              0.4444444444444444,
              "#bd3786"
             ],
             [
              0.5555555555555556,
              "#d8576b"
             ],
             [
              0.6666666666666666,
              "#ed7953"
             ],
             [
              0.7777777777777778,
              "#fb9f3a"
             ],
             [
              0.8888888888888888,
              "#fdca26"
             ],
             [
              1,
              "#f0f921"
             ]
            ],
            "type": "contour"
           }
          ],
          "contourcarpet": [
           {
            "colorbar": {
             "outlinewidth": 0,
             "ticks": ""
            },
            "type": "contourcarpet"
           }
          ],
          "heatmap": [
           {
            "colorbar": {
             "outlinewidth": 0,
             "ticks": ""
            },
            "colorscale": [
             [
              0,
              "#0d0887"
             ],
             [
              0.1111111111111111,
              "#46039f"
             ],
             [
              0.2222222222222222,
              "#7201a8"
             ],
             [
              0.3333333333333333,
              "#9c179e"
             ],
             [
              0.4444444444444444,
              "#bd3786"
             ],
             [
              0.5555555555555556,
              "#d8576b"
             ],
             [
              0.6666666666666666,
              "#ed7953"
             ],
             [
              0.7777777777777778,
              "#fb9f3a"
             ],
             [
              0.8888888888888888,
              "#fdca26"
             ],
             [
              1,
              "#f0f921"
             ]
            ],
            "type": "heatmap"
           }
          ],
          "heatmapgl": [
           {
            "colorbar": {
             "outlinewidth": 0,
             "ticks": ""
            },
            "colorscale": [
             [
              0,
              "#0d0887"
             ],
             [
              0.1111111111111111,
              "#46039f"
             ],
             [
              0.2222222222222222,
              "#7201a8"
             ],
             [
              0.3333333333333333,
              "#9c179e"
             ],
             [
              0.4444444444444444,
              "#bd3786"
             ],
             [
              0.5555555555555556,
              "#d8576b"
             ],
             [
              0.6666666666666666,
              "#ed7953"
             ],
             [
              0.7777777777777778,
              "#fb9f3a"
             ],
             [
              0.8888888888888888,
              "#fdca26"
             ],
             [
              1,
              "#f0f921"
             ]
            ],
            "type": "heatmapgl"
           }
          ],
          "histogram": [
           {
            "marker": {
             "pattern": {
              "fillmode": "overlay",
              "size": 10,
              "solidity": 0.2
             }
            },
            "type": "histogram"
           }
          ],
          "histogram2d": [
           {
            "colorbar": {
             "outlinewidth": 0,
             "ticks": ""
            },
            "colorscale": [
             [
              0,
              "#0d0887"
             ],
             [
              0.1111111111111111,
              "#46039f"
             ],
             [
              0.2222222222222222,
              "#7201a8"
             ],
             [
              0.3333333333333333,
              "#9c179e"
             ],
             [
              0.4444444444444444,
              "#bd3786"
             ],
             [
              0.5555555555555556,
              "#d8576b"
             ],
             [
              0.6666666666666666,
              "#ed7953"
             ],
             [
              0.7777777777777778,
              "#fb9f3a"
             ],
             [
              0.8888888888888888,
              "#fdca26"
             ],
             [
              1,
              "#f0f921"
             ]
            ],
            "type": "histogram2d"
           }
          ],
          "histogram2dcontour": [
           {
            "colorbar": {
             "outlinewidth": 0,
             "ticks": ""
            },
            "colorscale": [
             [
              0,
              "#0d0887"
             ],
             [
              0.1111111111111111,
              "#46039f"
             ],
             [
              0.2222222222222222,
              "#7201a8"
             ],
             [
              0.3333333333333333,
              "#9c179e"
             ],
             [
              0.4444444444444444,
              "#bd3786"
             ],
             [
              0.5555555555555556,
              "#d8576b"
             ],
             [
              0.6666666666666666,
              "#ed7953"
             ],
             [
              0.7777777777777778,
              "#fb9f3a"
             ],
             [
              0.8888888888888888,
              "#fdca26"
             ],
             [
              1,
              "#f0f921"
             ]
            ],
            "type": "histogram2dcontour"
           }
          ],
          "mesh3d": [
           {
            "colorbar": {
             "outlinewidth": 0,
             "ticks": ""
            },
            "type": "mesh3d"
           }
          ],
          "parcoords": [
           {
            "line": {
             "colorbar": {
              "outlinewidth": 0,
              "ticks": ""
             }
            },
            "type": "parcoords"
           }
          ],
          "pie": [
           {
            "automargin": true,
            "type": "pie"
           }
          ],
          "scatter": [
           {
            "fillpattern": {
             "fillmode": "overlay",
             "size": 10,
             "solidity": 0.2
            },
            "type": "scatter"
           }
          ],
          "scatter3d": [
           {
            "line": {
             "colorbar": {
              "outlinewidth": 0,
              "ticks": ""
             }
            },
            "marker": {
             "colorbar": {
              "outlinewidth": 0,
              "ticks": ""
             }
            },
            "type": "scatter3d"
           }
          ],
          "scattercarpet": [
           {
            "marker": {
             "colorbar": {
              "outlinewidth": 0,
              "ticks": ""
             }
            },
            "type": "scattercarpet"
           }
          ],
          "scattergeo": [
           {
            "marker": {
             "colorbar": {
              "outlinewidth": 0,
              "ticks": ""
             }
            },
            "type": "scattergeo"
           }
          ],
          "scattergl": [
           {
            "marker": {
             "colorbar": {
              "outlinewidth": 0,
              "ticks": ""
             }
            },
            "type": "scattergl"
           }
          ],
          "scattermapbox": [
           {
            "marker": {
             "colorbar": {
              "outlinewidth": 0,
              "ticks": ""
             }
            },
            "type": "scattermapbox"
           }
          ],
          "scatterpolar": [
           {
            "marker": {
             "colorbar": {
              "outlinewidth": 0,
              "ticks": ""
             }
            },
            "type": "scatterpolar"
           }
          ],
          "scatterpolargl": [
           {
            "marker": {
             "colorbar": {
              "outlinewidth": 0,
              "ticks": ""
             }
            },
            "type": "scatterpolargl"
           }
          ],
          "scatterternary": [
           {
            "marker": {
             "colorbar": {
              "outlinewidth": 0,
              "ticks": ""
             }
            },
            "type": "scatterternary"
           }
          ],
          "surface": [
           {
            "colorbar": {
             "outlinewidth": 0,
             "ticks": ""
            },
            "colorscale": [
             [
              0,
              "#0d0887"
             ],
             [
              0.1111111111111111,
              "#46039f"
             ],
             [
              0.2222222222222222,
              "#7201a8"
             ],
             [
              0.3333333333333333,
              "#9c179e"
             ],
             [
              0.4444444444444444,
              "#bd3786"
             ],
             [
              0.5555555555555556,
              "#d8576b"
             ],
             [
              0.6666666666666666,
              "#ed7953"
             ],
             [
              0.7777777777777778,
              "#fb9f3a"
             ],
             [
              0.8888888888888888,
              "#fdca26"
             ],
             [
              1,
              "#f0f921"
             ]
            ],
            "type": "surface"
           }
          ],
          "table": [
           {
            "cells": {
             "fill": {
              "color": "#EBF0F8"
             },
             "line": {
              "color": "white"
             }
            },
            "header": {
             "fill": {
              "color": "#C8D4E3"
             },
             "line": {
              "color": "white"
             }
            },
            "type": "table"
           }
          ]
         },
         "layout": {
          "annotationdefaults": {
           "arrowcolor": "#2a3f5f",
           "arrowhead": 0,
           "arrowwidth": 1
          },
          "autotypenumbers": "strict",
          "coloraxis": {
           "colorbar": {
            "outlinewidth": 0,
            "ticks": ""
           }
          },
          "colorscale": {
           "diverging": [
            [
             0,
             "#8e0152"
            ],
            [
             0.1,
             "#c51b7d"
            ],
            [
             0.2,
             "#de77ae"
            ],
            [
             0.3,
             "#f1b6da"
            ],
            [
             0.4,
             "#fde0ef"
            ],
            [
             0.5,
             "#f7f7f7"
            ],
            [
             0.6,
             "#e6f5d0"
            ],
            [
             0.7,
             "#b8e186"
            ],
            [
             0.8,
             "#7fbc41"
            ],
            [
             0.9,
             "#4d9221"
            ],
            [
             1,
             "#276419"
            ]
           ],
           "sequential": [
            [
             0,
             "#0d0887"
            ],
            [
             0.1111111111111111,
             "#46039f"
            ],
            [
             0.2222222222222222,
             "#7201a8"
            ],
            [
             0.3333333333333333,
             "#9c179e"
            ],
            [
             0.4444444444444444,
             "#bd3786"
            ],
            [
             0.5555555555555556,
             "#d8576b"
            ],
            [
             0.6666666666666666,
             "#ed7953"
            ],
            [
             0.7777777777777778,
             "#fb9f3a"
            ],
            [
             0.8888888888888888,
             "#fdca26"
            ],
            [
             1,
             "#f0f921"
            ]
           ],
           "sequentialminus": [
            [
             0,
             "#0d0887"
            ],
            [
             0.1111111111111111,
             "#46039f"
            ],
            [
             0.2222222222222222,
             "#7201a8"
            ],
            [
             0.3333333333333333,
             "#9c179e"
            ],
            [
             0.4444444444444444,
             "#bd3786"
            ],
            [
             0.5555555555555556,
             "#d8576b"
            ],
            [
             0.6666666666666666,
             "#ed7953"
            ],
            [
             0.7777777777777778,
             "#fb9f3a"
            ],
            [
             0.8888888888888888,
             "#fdca26"
            ],
            [
             1,
             "#f0f921"
            ]
           ]
          },
          "colorway": [
           "#636efa",
           "#EF553B",
           "#00cc96",
           "#ab63fa",
           "#FFA15A",
           "#19d3f3",
           "#FF6692",
           "#B6E880",
           "#FF97FF",
           "#FECB52"
          ],
          "font": {
           "color": "#2a3f5f"
          },
          "geo": {
           "bgcolor": "white",
           "lakecolor": "white",
           "landcolor": "#E5ECF6",
           "showlakes": true,
           "showland": true,
           "subunitcolor": "white"
          },
          "hoverlabel": {
           "align": "left"
          },
          "hovermode": "closest",
          "mapbox": {
           "style": "light"
          },
          "paper_bgcolor": "white",
          "plot_bgcolor": "#E5ECF6",
          "polar": {
           "angularaxis": {
            "gridcolor": "white",
            "linecolor": "white",
            "ticks": ""
           },
           "bgcolor": "#E5ECF6",
           "radialaxis": {
            "gridcolor": "white",
            "linecolor": "white",
            "ticks": ""
           }
          },
          "scene": {
           "xaxis": {
            "backgroundcolor": "#E5ECF6",
            "gridcolor": "white",
            "gridwidth": 2,
            "linecolor": "white",
            "showbackground": true,
            "ticks": "",
            "zerolinecolor": "white"
           },
           "yaxis": {
            "backgroundcolor": "#E5ECF6",
            "gridcolor": "white",
            "gridwidth": 2,
            "linecolor": "white",
            "showbackground": true,
            "ticks": "",
            "zerolinecolor": "white"
           },
           "zaxis": {
            "backgroundcolor": "#E5ECF6",
            "gridcolor": "white",
            "gridwidth": 2,
            "linecolor": "white",
            "showbackground": true,
            "ticks": "",
            "zerolinecolor": "white"
           }
          },
          "shapedefaults": {
           "line": {
            "color": "#2a3f5f"
           }
          },
          "ternary": {
           "aaxis": {
            "gridcolor": "white",
            "linecolor": "white",
            "ticks": ""
           },
           "baxis": {
            "gridcolor": "white",
            "linecolor": "white",
            "ticks": ""
           },
           "bgcolor": "#E5ECF6",
           "caxis": {
            "gridcolor": "white",
            "linecolor": "white",
            "ticks": ""
           }
          },
          "title": {
           "x": 0.05
          },
          "xaxis": {
           "automargin": true,
           "gridcolor": "white",
           "linecolor": "white",
           "ticks": "",
           "title": {
            "standoff": 15
           },
           "zerolinecolor": "white",
           "zerolinewidth": 2
          },
          "yaxis": {
           "automargin": true,
           "gridcolor": "white",
           "linecolor": "white",
           "ticks": "",
           "title": {
            "standoff": 15
           },
           "zerolinecolor": "white",
           "zerolinewidth": 2
          }
         }
        },
        "title": {
         "text": "SKU2 sales over 2017-2020"
        },
        "xaxis": {
         "anchor": "y",
         "domain": [
          0,
          1
         ],
         "title": {
          "text": "Date"
         }
        },
        "yaxis": {
         "anchor": "x",
         "domain": [
          0,
          1
         ],
         "title": {
          "text": "Sales"
         }
        }
       }
      },
      "text/html": [
       "<div>                            <div id=\"9c9ade60-159d-4d14-8511-3327cd8256c4\" class=\"plotly-graph-div\" style=\"height:525px; width:100%;\"></div>            <script type=\"text/javascript\">                require([\"plotly\"], function(Plotly) {                    window.PLOTLYENV=window.PLOTLYENV || {};                                    if (document.getElementById(\"9c9ade60-159d-4d14-8511-3327cd8256c4\")) {                    Plotly.newPlot(                        \"9c9ade60-159d-4d14-8511-3327cd8256c4\",                        [{\"hovertemplate\":\"Product=SKU2<br>Date=%{x}<br>Sales=%{y}<extra></extra>\",\"legendgroup\":\"SKU2\",\"line\":{\"color\":\"#636efa\",\"dash\":\"solid\"},\"marker\":{\"symbol\":\"circle\"},\"mode\":\"lines\",\"name\":\"SKU2\",\"orientation\":\"v\",\"showlegend\":true,\"x\":[\"05/02/17\",\"12/02/17\",\"19/02/17\",\"26/02/17\",\"05/03/17\",\"12/03/17\",\"19/03/17\",\"26/03/17\",\"02/04/17\",\"09/04/17\",\"16/04/17\",\"23/04/17\",\"30/04/17\",\"07/05/17\",\"14/05/17\",\"21/05/17\",\"28/05/17\",\"04/06/17\",\"11/06/17\",\"18/06/17\",\"25/06/17\",\"02/07/17\",\"09/07/17\",\"16/07/17\",\"23/07/17\",\"30/07/17\",\"06/08/17\",\"13/08/17\",\"20/08/17\",\"27/08/17\",\"03/09/17\",\"10/09/17\",\"17/09/17\",\"24/09/17\",\"01/10/17\",\"08/10/17\",\"15/10/17\",\"22/10/17\",\"29/10/17\",\"05/11/17\",\"12/11/17\",\"19/11/17\",\"26/11/17\",\"03/12/17\",\"10/12/17\",\"17/12/17\",\"24/12/17\",\"31/12/17\",\"07/01/18\",\"14/01/18\",\"21/01/18\",\"28/01/18\",\"04/02/18\",\"11/02/18\",\"18/02/18\",\"25/02/18\",\"04/03/18\",\"11/03/18\",\"18/03/18\",\"25/03/18\",\"01/04/18\",\"08/04/18\",\"15/04/18\",\"22/04/18\",\"29/04/18\",\"06/05/18\",\"13/05/18\",\"20/05/18\",\"27/05/18\",\"03/06/18\",\"10/06/18\",\"17/06/18\",\"24/06/18\",\"01/07/18\",\"08/07/18\",\"15/07/18\",\"22/07/18\",\"29/07/18\",\"05/08/18\",\"12/08/18\",\"19/08/18\",\"26/08/18\",\"02/09/18\",\"09/09/18\",\"16/09/18\",\"23/09/18\",\"30/09/18\",\"07/10/18\",\"14/10/18\",\"21/10/18\",\"28/10/18\",\"04/11/18\",\"11/11/18\",\"18/11/18\",\"25/11/18\",\"02/12/18\",\"09/12/18\",\"16/12/18\",\"23/12/18\",\"30/12/18\",\"06/01/19\",\"13/01/19\",\"20/01/19\",\"27/01/19\",\"03/02/19\",\"10/02/19\",\"17/02/19\",\"24/02/19\",\"03/03/19\",\"10/03/19\",\"17/03/19\",\"24/03/19\",\"31/03/19\",\"07/04/19\",\"14/04/19\",\"21/04/19\",\"28/04/19\",\"05/05/19\",\"12/05/19\",\"19/05/19\",\"26/05/19\",\"02/06/19\",\"09/06/19\",\"16/06/19\",\"23/06/19\",\"30/06/19\",\"07/07/19\",\"14/07/19\",\"21/07/19\",\"28/07/19\",\"04/08/19\",\"11/08/19\",\"18/08/19\",\"25/08/19\",\"01/09/19\",\"08/09/19\",\"15/09/19\",\"22/09/19\",\"29/09/19\",\"06/10/19\",\"13/10/19\",\"20/10/19\",\"27/10/19\",\"03/11/19\",\"10/11/19\",\"17/11/19\",\"24/11/19\",\"01/12/19\",\"08/12/19\",\"15/12/19\",\"22/12/19\",\"29/12/19\",\"05/01/20\",\"12/01/20\",\"19/01/20\",\"26/01/20\",\"02/02/20\",\"09/02/20\",\"16/02/20\",\"23/02/20\",\"01/03/20\",\"08/03/20\",\"15/03/20\",\"22/03/20\",\"29/03/20\",\"05/04/20\",\"12/04/20\",\"19/04/20\",\"26/04/20\",\"03/05/20\",\"10/05/20\",\"17/05/20\",\"24/05/20\",\"31/05/20\",\"07/06/20\",\"14/06/20\",\"21/06/20\",\"28/06/20\",\"05/07/20\",\"12/07/20\",\"19/07/20\",\"26/07/20\",\"02/08/20\",\"09/08/20\",\"16/08/20\",\"23/08/20\",\"30/08/20\",\"06/09/20\",\"13/09/20\",\"20/09/20\",\"27/09/20\",\"04/10/20\",\"11/10/20\",\"18/10/20\",\"25/10/20\",\"01/11/20\",\"08/11/20\",\"15/11/20\",\"22/11/20\",\"29/11/20\",\"06/12/20\",\"13/12/20\",\"20/12/20\",\"27/12/20\"],\"xaxis\":\"x\",\"y\":[7180,7080,2753,3062,8342,3124,41915,3226,7618,3084,2463,6547,8290,3390,3450,52122,7256,3081,8604,3232,33566,3232,2560,8489,2990,7956,3071,3098,3078,8376,2626,2617,2572,6877,2242,7041,2523,6905,40527,2636,6184,2521,2380,6270,5278,2007,1453,4940,2156,2305,6406,2267,2583,32549,6613,2620,2805,3069,8464,3318,2651,17970,7697,2867,6534,3679,41316,8430,8539,8834,2930,3420,42002,8320,3387,9878,3468,9613,3901,8664,3395,9024,3725,3139,3126,9301,3053,32900,7386,2990,3269,3304,2825,7680,2747,2781,7022,2609,1976,2027,2642,2808,8978,6950,3019,2837,3055,23327,7084,6714,2744,2900,7817,2749,10895,2178,6349,2628,36674,6838,2598,6743,2423,2779,37065,5908,2349,2569,7718,2867,8486,3004,9897,2580,2743,7933,2748,7533,6829,2461,40111,7766,7209,2585,2907,3026,39870,7690,7215,2339,2178,1714,2506,2870,7374,30409,5152,6993,2857,9823,9807,3759,5999,5403,4258,3719,2914,3275,3251,3189,3298,3411,3424,3416,3181,3339,3425,3279,3267,3154,8340,3076,7732,3210,34327,7910,3170,8152,3081,3322,8123,3160,40169,8102,8143,3062,22460,3464,0,0,0,0,0,0],\"yaxis\":\"y\",\"type\":\"scatter\"}],                        {\"template\":{\"data\":{\"histogram2dcontour\":[{\"type\":\"histogram2dcontour\",\"colorbar\":{\"outlinewidth\":0,\"ticks\":\"\"},\"colorscale\":[[0.0,\"#0d0887\"],[0.1111111111111111,\"#46039f\"],[0.2222222222222222,\"#7201a8\"],[0.3333333333333333,\"#9c179e\"],[0.4444444444444444,\"#bd3786\"],[0.5555555555555556,\"#d8576b\"],[0.6666666666666666,\"#ed7953\"],[0.7777777777777778,\"#fb9f3a\"],[0.8888888888888888,\"#fdca26\"],[1.0,\"#f0f921\"]]}],\"choropleth\":[{\"type\":\"choropleth\",\"colorbar\":{\"outlinewidth\":0,\"ticks\":\"\"}}],\"histogram2d\":[{\"type\":\"histogram2d\",\"colorbar\":{\"outlinewidth\":0,\"ticks\":\"\"},\"colorscale\":[[0.0,\"#0d0887\"],[0.1111111111111111,\"#46039f\"],[0.2222222222222222,\"#7201a8\"],[0.3333333333333333,\"#9c179e\"],[0.4444444444444444,\"#bd3786\"],[0.5555555555555556,\"#d8576b\"],[0.6666666666666666,\"#ed7953\"],[0.7777777777777778,\"#fb9f3a\"],[0.8888888888888888,\"#fdca26\"],[1.0,\"#f0f921\"]]}],\"heatmap\":[{\"type\":\"heatmap\",\"colorbar\":{\"outlinewidth\":0,\"ticks\":\"\"},\"colorscale\":[[0.0,\"#0d0887\"],[0.1111111111111111,\"#46039f\"],[0.2222222222222222,\"#7201a8\"],[0.3333333333333333,\"#9c179e\"],[0.4444444444444444,\"#bd3786\"],[0.5555555555555556,\"#d8576b\"],[0.6666666666666666,\"#ed7953\"],[0.7777777777777778,\"#fb9f3a\"],[0.8888888888888888,\"#fdca26\"],[1.0,\"#f0f921\"]]}],\"heatmapgl\":[{\"type\":\"heatmapgl\",\"colorbar\":{\"outlinewidth\":0,\"ticks\":\"\"},\"colorscale\":[[0.0,\"#0d0887\"],[0.1111111111111111,\"#46039f\"],[0.2222222222222222,\"#7201a8\"],[0.3333333333333333,\"#9c179e\"],[0.4444444444444444,\"#bd3786\"],[0.5555555555555556,\"#d8576b\"],[0.6666666666666666,\"#ed7953\"],[0.7777777777777778,\"#fb9f3a\"],[0.8888888888888888,\"#fdca26\"],[1.0,\"#f0f921\"]]}],\"contourcarpet\":[{\"type\":\"contourcarpet\",\"colorbar\":{\"outlinewidth\":0,\"ticks\":\"\"}}],\"contour\":[{\"type\":\"contour\",\"colorbar\":{\"outlinewidth\":0,\"ticks\":\"\"},\"colorscale\":[[0.0,\"#0d0887\"],[0.1111111111111111,\"#46039f\"],[0.2222222222222222,\"#7201a8\"],[0.3333333333333333,\"#9c179e\"],[0.4444444444444444,\"#bd3786\"],[0.5555555555555556,\"#d8576b\"],[0.6666666666666666,\"#ed7953\"],[0.7777777777777778,\"#fb9f3a\"],[0.8888888888888888,\"#fdca26\"],[1.0,\"#f0f921\"]]}],\"surface\":[{\"type\":\"surface\",\"colorbar\":{\"outlinewidth\":0,\"ticks\":\"\"},\"colorscale\":[[0.0,\"#0d0887\"],[0.1111111111111111,\"#46039f\"],[0.2222222222222222,\"#7201a8\"],[0.3333333333333333,\"#9c179e\"],[0.4444444444444444,\"#bd3786\"],[0.5555555555555556,\"#d8576b\"],[0.6666666666666666,\"#ed7953\"],[0.7777777777777778,\"#fb9f3a\"],[0.8888888888888888,\"#fdca26\"],[1.0,\"#f0f921\"]]}],\"mesh3d\":[{\"type\":\"mesh3d\",\"colorbar\":{\"outlinewidth\":0,\"ticks\":\"\"}}],\"scatter\":[{\"fillpattern\":{\"fillmode\":\"overlay\",\"size\":10,\"solidity\":0.2},\"type\":\"scatter\"}],\"parcoords\":[{\"type\":\"parcoords\",\"line\":{\"colorbar\":{\"outlinewidth\":0,\"ticks\":\"\"}}}],\"scatterpolargl\":[{\"type\":\"scatterpolargl\",\"marker\":{\"colorbar\":{\"outlinewidth\":0,\"ticks\":\"\"}}}],\"bar\":[{\"error_x\":{\"color\":\"#2a3f5f\"},\"error_y\":{\"color\":\"#2a3f5f\"},\"marker\":{\"line\":{\"color\":\"#E5ECF6\",\"width\":0.5},\"pattern\":{\"fillmode\":\"overlay\",\"size\":10,\"solidity\":0.2}},\"type\":\"bar\"}],\"scattergeo\":[{\"type\":\"scattergeo\",\"marker\":{\"colorbar\":{\"outlinewidth\":0,\"ticks\":\"\"}}}],\"scatterpolar\":[{\"type\":\"scatterpolar\",\"marker\":{\"colorbar\":{\"outlinewidth\":0,\"ticks\":\"\"}}}],\"histogram\":[{\"marker\":{\"pattern\":{\"fillmode\":\"overlay\",\"size\":10,\"solidity\":0.2}},\"type\":\"histogram\"}],\"scattergl\":[{\"type\":\"scattergl\",\"marker\":{\"colorbar\":{\"outlinewidth\":0,\"ticks\":\"\"}}}],\"scatter3d\":[{\"type\":\"scatter3d\",\"line\":{\"colorbar\":{\"outlinewidth\":0,\"ticks\":\"\"}},\"marker\":{\"colorbar\":{\"outlinewidth\":0,\"ticks\":\"\"}}}],\"scattermapbox\":[{\"type\":\"scattermapbox\",\"marker\":{\"colorbar\":{\"outlinewidth\":0,\"ticks\":\"\"}}}],\"scatterternary\":[{\"type\":\"scatterternary\",\"marker\":{\"colorbar\":{\"outlinewidth\":0,\"ticks\":\"\"}}}],\"scattercarpet\":[{\"type\":\"scattercarpet\",\"marker\":{\"colorbar\":{\"outlinewidth\":0,\"ticks\":\"\"}}}],\"carpet\":[{\"aaxis\":{\"endlinecolor\":\"#2a3f5f\",\"gridcolor\":\"white\",\"linecolor\":\"white\",\"minorgridcolor\":\"white\",\"startlinecolor\":\"#2a3f5f\"},\"baxis\":{\"endlinecolor\":\"#2a3f5f\",\"gridcolor\":\"white\",\"linecolor\":\"white\",\"minorgridcolor\":\"white\",\"startlinecolor\":\"#2a3f5f\"},\"type\":\"carpet\"}],\"table\":[{\"cells\":{\"fill\":{\"color\":\"#EBF0F8\"},\"line\":{\"color\":\"white\"}},\"header\":{\"fill\":{\"color\":\"#C8D4E3\"},\"line\":{\"color\":\"white\"}},\"type\":\"table\"}],\"barpolar\":[{\"marker\":{\"line\":{\"color\":\"#E5ECF6\",\"width\":0.5},\"pattern\":{\"fillmode\":\"overlay\",\"size\":10,\"solidity\":0.2}},\"type\":\"barpolar\"}],\"pie\":[{\"automargin\":true,\"type\":\"pie\"}]},\"layout\":{\"autotypenumbers\":\"strict\",\"colorway\":[\"#636efa\",\"#EF553B\",\"#00cc96\",\"#ab63fa\",\"#FFA15A\",\"#19d3f3\",\"#FF6692\",\"#B6E880\",\"#FF97FF\",\"#FECB52\"],\"font\":{\"color\":\"#2a3f5f\"},\"hovermode\":\"closest\",\"hoverlabel\":{\"align\":\"left\"},\"paper_bgcolor\":\"white\",\"plot_bgcolor\":\"#E5ECF6\",\"polar\":{\"bgcolor\":\"#E5ECF6\",\"angularaxis\":{\"gridcolor\":\"white\",\"linecolor\":\"white\",\"ticks\":\"\"},\"radialaxis\":{\"gridcolor\":\"white\",\"linecolor\":\"white\",\"ticks\":\"\"}},\"ternary\":{\"bgcolor\":\"#E5ECF6\",\"aaxis\":{\"gridcolor\":\"white\",\"linecolor\":\"white\",\"ticks\":\"\"},\"baxis\":{\"gridcolor\":\"white\",\"linecolor\":\"white\",\"ticks\":\"\"},\"caxis\":{\"gridcolor\":\"white\",\"linecolor\":\"white\",\"ticks\":\"\"}},\"coloraxis\":{\"colorbar\":{\"outlinewidth\":0,\"ticks\":\"\"}},\"colorscale\":{\"sequential\":[[0.0,\"#0d0887\"],[0.1111111111111111,\"#46039f\"],[0.2222222222222222,\"#7201a8\"],[0.3333333333333333,\"#9c179e\"],[0.4444444444444444,\"#bd3786\"],[0.5555555555555556,\"#d8576b\"],[0.6666666666666666,\"#ed7953\"],[0.7777777777777778,\"#fb9f3a\"],[0.8888888888888888,\"#fdca26\"],[1.0,\"#f0f921\"]],\"sequentialminus\":[[0.0,\"#0d0887\"],[0.1111111111111111,\"#46039f\"],[0.2222222222222222,\"#7201a8\"],[0.3333333333333333,\"#9c179e\"],[0.4444444444444444,\"#bd3786\"],[0.5555555555555556,\"#d8576b\"],[0.6666666666666666,\"#ed7953\"],[0.7777777777777778,\"#fb9f3a\"],[0.8888888888888888,\"#fdca26\"],[1.0,\"#f0f921\"]],\"diverging\":[[0,\"#8e0152\"],[0.1,\"#c51b7d\"],[0.2,\"#de77ae\"],[0.3,\"#f1b6da\"],[0.4,\"#fde0ef\"],[0.5,\"#f7f7f7\"],[0.6,\"#e6f5d0\"],[0.7,\"#b8e186\"],[0.8,\"#7fbc41\"],[0.9,\"#4d9221\"],[1,\"#276419\"]]},\"xaxis\":{\"gridcolor\":\"white\",\"linecolor\":\"white\",\"ticks\":\"\",\"title\":{\"standoff\":15},\"zerolinecolor\":\"white\",\"automargin\":true,\"zerolinewidth\":2},\"yaxis\":{\"gridcolor\":\"white\",\"linecolor\":\"white\",\"ticks\":\"\",\"title\":{\"standoff\":15},\"zerolinecolor\":\"white\",\"automargin\":true,\"zerolinewidth\":2},\"scene\":{\"xaxis\":{\"backgroundcolor\":\"#E5ECF6\",\"gridcolor\":\"white\",\"linecolor\":\"white\",\"showbackground\":true,\"ticks\":\"\",\"zerolinecolor\":\"white\",\"gridwidth\":2},\"yaxis\":{\"backgroundcolor\":\"#E5ECF6\",\"gridcolor\":\"white\",\"linecolor\":\"white\",\"showbackground\":true,\"ticks\":\"\",\"zerolinecolor\":\"white\",\"gridwidth\":2},\"zaxis\":{\"backgroundcolor\":\"#E5ECF6\",\"gridcolor\":\"white\",\"linecolor\":\"white\",\"showbackground\":true,\"ticks\":\"\",\"zerolinecolor\":\"white\",\"gridwidth\":2}},\"shapedefaults\":{\"line\":{\"color\":\"#2a3f5f\"}},\"annotationdefaults\":{\"arrowcolor\":\"#2a3f5f\",\"arrowhead\":0,\"arrowwidth\":1},\"geo\":{\"bgcolor\":\"white\",\"landcolor\":\"#E5ECF6\",\"subunitcolor\":\"white\",\"showland\":true,\"showlakes\":true,\"lakecolor\":\"white\"},\"title\":{\"x\":0.05},\"mapbox\":{\"style\":\"light\"}}},\"xaxis\":{\"anchor\":\"y\",\"domain\":[0.0,1.0],\"title\":{\"text\":\"Date\"}},\"yaxis\":{\"anchor\":\"x\",\"domain\":[0.0,1.0],\"title\":{\"text\":\"Sales\"}},\"legend\":{\"title\":{\"text\":\"Product\"},\"tracegroupgap\":0},\"title\":{\"text\":\"SKU2 sales over 2017-2020\"}},                        {\"responsive\": true}                    ).then(function(){\n",
       "                            \n",
       "var gd = document.getElementById('9c9ade60-159d-4d14-8511-3327cd8256c4');\n",
       "var x = new MutationObserver(function (mutations, observer) {{\n",
       "        var display = window.getComputedStyle(gd).display;\n",
       "        if (!display || display === 'none') {{\n",
       "            console.log([gd, 'removed!']);\n",
       "            Plotly.purge(gd);\n",
       "            observer.disconnect();\n",
       "        }}\n",
       "}});\n",
       "\n",
       "// Listen for the removal of the full notebook cells\n",
       "var notebookContainer = gd.closest('#notebook-container');\n",
       "if (notebookContainer) {{\n",
       "    x.observe(notebookContainer, {childList: true});\n",
       "}}\n",
       "\n",
       "// Listen for the clearing of the current output cell\n",
       "var outputEl = gd.closest('.output');\n",
       "if (outputEl) {{\n",
       "    x.observe(outputEl, {childList: true});\n",
       "}}\n",
       "\n",
       "                        })                };                });            </script>        </div>"
      ]
     },
     "metadata": {},
     "output_type": "display_data"
    },
    {
     "data": {
      "application/vnd.plotly.v1+json": {
       "config": {
        "plotlyServerURL": "https://plot.ly"
       },
       "data": [
        {
         "hovertemplate": "Product=SKU3<br>Date=%{x}<br>Sales=%{y}<extra></extra>",
         "legendgroup": "SKU3",
         "line": {
          "color": "#636efa",
          "dash": "solid"
         },
         "marker": {
          "symbol": "circle"
         },
         "mode": "lines",
         "name": "SKU3",
         "orientation": "v",
         "showlegend": true,
         "type": "scatter",
         "x": [
          "05/02/17",
          "12/02/17",
          "19/02/17",
          "26/02/17",
          "05/03/17",
          "12/03/17",
          "19/03/17",
          "26/03/17",
          "02/04/17",
          "09/04/17",
          "16/04/17",
          "23/04/17",
          "30/04/17",
          "07/05/17",
          "14/05/17",
          "21/05/17",
          "28/05/17",
          "04/06/17",
          "11/06/17",
          "18/06/17",
          "25/06/17",
          "02/07/17",
          "09/07/17",
          "16/07/17",
          "23/07/17",
          "30/07/17",
          "06/08/17",
          "13/08/17",
          "20/08/17",
          "27/08/17",
          "03/09/17",
          "10/09/17",
          "17/09/17",
          "24/09/17",
          "01/10/17",
          "08/10/17",
          "15/10/17",
          "22/10/17",
          "29/10/17",
          "05/11/17",
          "12/11/17",
          "19/11/17",
          "26/11/17",
          "03/12/17",
          "10/12/17",
          "17/12/17",
          "24/12/17",
          "31/12/17",
          "07/01/18",
          "14/01/18",
          "21/01/18",
          "28/01/18",
          "04/02/18",
          "11/02/18",
          "18/02/18",
          "25/02/18",
          "04/03/18",
          "11/03/18",
          "18/03/18",
          "25/03/18",
          "01/04/18",
          "08/04/18",
          "15/04/18",
          "22/04/18",
          "29/04/18",
          "06/05/18",
          "13/05/18",
          "20/05/18",
          "27/05/18",
          "03/06/18",
          "10/06/18",
          "17/06/18",
          "24/06/18",
          "01/07/18",
          "08/07/18",
          "15/07/18",
          "22/07/18",
          "29/07/18",
          "05/08/18",
          "12/08/18",
          "19/08/18",
          "26/08/18",
          "02/09/18",
          "09/09/18",
          "16/09/18",
          "23/09/18",
          "30/09/18",
          "07/10/18",
          "14/10/18",
          "21/10/18",
          "28/10/18",
          "04/11/18",
          "11/11/18",
          "18/11/18",
          "25/11/18",
          "02/12/18",
          "09/12/18",
          "16/12/18",
          "23/12/18",
          "30/12/18",
          "06/01/19",
          "13/01/19",
          "20/01/19",
          "27/01/19",
          "03/02/19",
          "10/02/19",
          "17/02/19",
          "24/02/19",
          "03/03/19",
          "10/03/19",
          "17/03/19",
          "24/03/19",
          "31/03/19",
          "07/04/19",
          "14/04/19",
          "21/04/19",
          "28/04/19",
          "05/05/19",
          "12/05/19",
          "19/05/19",
          "26/05/19",
          "02/06/19",
          "09/06/19",
          "16/06/19",
          "23/06/19",
          "30/06/19",
          "07/07/19",
          "14/07/19",
          "21/07/19",
          "28/07/19",
          "04/08/19",
          "11/08/19",
          "18/08/19",
          "25/08/19",
          "01/09/19",
          "08/09/19",
          "15/09/19",
          "22/09/19",
          "29/09/19",
          "06/10/19",
          "13/10/19",
          "20/10/19",
          "27/10/19",
          "03/11/19",
          "10/11/19",
          "17/11/19",
          "24/11/19",
          "01/12/19",
          "08/12/19",
          "15/12/19",
          "22/12/19",
          "29/12/19",
          "05/01/20",
          "12/01/20",
          "19/01/20",
          "26/01/20",
          "02/02/20",
          "09/02/20",
          "16/02/20",
          "23/02/20",
          "01/03/20",
          "08/03/20",
          "15/03/20",
          "22/03/20",
          "29/03/20",
          "05/04/20",
          "12/04/20",
          "19/04/20",
          "26/04/20",
          "03/05/20",
          "10/05/20",
          "17/05/20",
          "24/05/20",
          "31/05/20",
          "07/06/20",
          "14/06/20",
          "21/06/20",
          "28/06/20",
          "05/07/20",
          "12/07/20",
          "19/07/20",
          "26/07/20",
          "02/08/20",
          "09/08/20",
          "16/08/20",
          "23/08/20",
          "30/08/20",
          "06/09/20",
          "13/09/20",
          "20/09/20",
          "27/09/20",
          "04/10/20",
          "11/10/20",
          "18/10/20",
          "25/10/20",
          "01/11/20",
          "08/11/20",
          "15/11/20",
          "22/11/20",
          "29/11/20",
          "06/12/20",
          "13/12/20",
          "20/12/20",
          "27/12/20"
         ],
         "xaxis": "x",
         "y": [
          39767,
          49090,
          41044,
          53637,
          13568,
          48230,
          47632,
          52458,
          48624,
          58678,
          31180,
          39918,
          28519,
          212245,
          46634,
          15816,
          50615,
          55744,
          248373,
          56218,
          88330,
          21719,
          66602,
          37996,
          60173,
          18827,
          52917,
          19315,
          57361,
          236242,
          55091,
          64818,
          63731,
          72851,
          18797,
          52132,
          31259,
          49891,
          16354,
          212947,
          47367,
          29788,
          43078,
          62176,
          15098,
          46362,
          40244,
          10970,
          57707,
          13001,
          60844,
          14766,
          66821,
          14822,
          65917,
          72768,
          15242,
          77546,
          15914,
          81070,
          16298,
          63779,
          15593,
          91541,
          41716,
          85960,
          73443,
          81236,
          20184,
          43483,
          288322,
          44670,
          83798,
          45241,
          98300,
          24771,
          77644,
          21768,
          43217,
          21318,
          94025,
          19395,
          84724,
          17903,
          83294,
          69874,
          237462,
          19806,
          94028,
          17859,
          73225,
          16559,
          86341,
          18175,
          85834,
          16673,
          80303,
          16228,
          15567,
          19818,
          65120,
          13910,
          72688,
          15378,
          77331,
          16284,
          195088,
          66726,
          70897,
          18959,
          84789,
          23297,
          74574,
          20603,
          82925,
          16258,
          60819,
          14847,
          73917,
          30770,
          65796,
          19708,
          197503,
          40396,
          75058,
          34350,
          63367,
          19698,
          82028,
          18589,
          75642,
          20287,
          224723,
          36190,
          78848,
          18947,
          75687,
          22404,
          207356,
          37198,
          83295,
          18549,
          77885,
          16769,
          182891,
          30944,
          74345,
          16864,
          72108,
          29325,
          33126,
          17979,
          50536,
          13672,
          59700,
          14278,
          56120,
          15286,
          187548,
          31172,
          76759,
          16311,
          102770,
          24862,
          33476,
          29350,
          97959,
          19116,
          64671,
          22217,
          78949,
          19161,
          66290,
          19726,
          75510,
          20278,
          79090,
          23331,
          63430,
          20478,
          184365,
          33301,
          60530,
          21666,
          189965,
          51798,
          51884,
          21108,
          57867,
          19186,
          59997,
          52970,
          54751,
          17625,
          60638,
          15003,
          42459,
          13668,
          0,
          0,
          0,
          0,
          0,
          0
         ],
         "yaxis": "y"
        }
       ],
       "layout": {
        "legend": {
         "title": {
          "text": "Product"
         },
         "tracegroupgap": 0
        },
        "template": {
         "data": {
          "bar": [
           {
            "error_x": {
             "color": "#2a3f5f"
            },
            "error_y": {
             "color": "#2a3f5f"
            },
            "marker": {
             "line": {
              "color": "#E5ECF6",
              "width": 0.5
             },
             "pattern": {
              "fillmode": "overlay",
              "size": 10,
              "solidity": 0.2
             }
            },
            "type": "bar"
           }
          ],
          "barpolar": [
           {
            "marker": {
             "line": {
              "color": "#E5ECF6",
              "width": 0.5
             },
             "pattern": {
              "fillmode": "overlay",
              "size": 10,
              "solidity": 0.2
             }
            },
            "type": "barpolar"
           }
          ],
          "carpet": [
           {
            "aaxis": {
             "endlinecolor": "#2a3f5f",
             "gridcolor": "white",
             "linecolor": "white",
             "minorgridcolor": "white",
             "startlinecolor": "#2a3f5f"
            },
            "baxis": {
             "endlinecolor": "#2a3f5f",
             "gridcolor": "white",
             "linecolor": "white",
             "minorgridcolor": "white",
             "startlinecolor": "#2a3f5f"
            },
            "type": "carpet"
           }
          ],
          "choropleth": [
           {
            "colorbar": {
             "outlinewidth": 0,
             "ticks": ""
            },
            "type": "choropleth"
           }
          ],
          "contour": [
           {
            "colorbar": {
             "outlinewidth": 0,
             "ticks": ""
            },
            "colorscale": [
             [
              0,
              "#0d0887"
             ],
             [
              0.1111111111111111,
              "#46039f"
             ],
             [
              0.2222222222222222,
              "#7201a8"
             ],
             [
              0.3333333333333333,
              "#9c179e"
             ],
             [
              0.4444444444444444,
              "#bd3786"
             ],
             [
              0.5555555555555556,
              "#d8576b"
             ],
             [
              0.6666666666666666,
              "#ed7953"
             ],
             [
              0.7777777777777778,
              "#fb9f3a"
             ],
             [
              0.8888888888888888,
              "#fdca26"
             ],
             [
              1,
              "#f0f921"
             ]
            ],
            "type": "contour"
           }
          ],
          "contourcarpet": [
           {
            "colorbar": {
             "outlinewidth": 0,
             "ticks": ""
            },
            "type": "contourcarpet"
           }
          ],
          "heatmap": [
           {
            "colorbar": {
             "outlinewidth": 0,
             "ticks": ""
            },
            "colorscale": [
             [
              0,
              "#0d0887"
             ],
             [
              0.1111111111111111,
              "#46039f"
             ],
             [
              0.2222222222222222,
              "#7201a8"
             ],
             [
              0.3333333333333333,
              "#9c179e"
             ],
             [
              0.4444444444444444,
              "#bd3786"
             ],
             [
              0.5555555555555556,
              "#d8576b"
             ],
             [
              0.6666666666666666,
              "#ed7953"
             ],
             [
              0.7777777777777778,
              "#fb9f3a"
             ],
             [
              0.8888888888888888,
              "#fdca26"
             ],
             [
              1,
              "#f0f921"
             ]
            ],
            "type": "heatmap"
           }
          ],
          "heatmapgl": [
           {
            "colorbar": {
             "outlinewidth": 0,
             "ticks": ""
            },
            "colorscale": [
             [
              0,
              "#0d0887"
             ],
             [
              0.1111111111111111,
              "#46039f"
             ],
             [
              0.2222222222222222,
              "#7201a8"
             ],
             [
              0.3333333333333333,
              "#9c179e"
             ],
             [
              0.4444444444444444,
              "#bd3786"
             ],
             [
              0.5555555555555556,
              "#d8576b"
             ],
             [
              0.6666666666666666,
              "#ed7953"
             ],
             [
              0.7777777777777778,
              "#fb9f3a"
             ],
             [
              0.8888888888888888,
              "#fdca26"
             ],
             [
              1,
              "#f0f921"
             ]
            ],
            "type": "heatmapgl"
           }
          ],
          "histogram": [
           {
            "marker": {
             "pattern": {
              "fillmode": "overlay",
              "size": 10,
              "solidity": 0.2
             }
            },
            "type": "histogram"
           }
          ],
          "histogram2d": [
           {
            "colorbar": {
             "outlinewidth": 0,
             "ticks": ""
            },
            "colorscale": [
             [
              0,
              "#0d0887"
             ],
             [
              0.1111111111111111,
              "#46039f"
             ],
             [
              0.2222222222222222,
              "#7201a8"
             ],
             [
              0.3333333333333333,
              "#9c179e"
             ],
             [
              0.4444444444444444,
              "#bd3786"
             ],
             [
              0.5555555555555556,
              "#d8576b"
             ],
             [
              0.6666666666666666,
              "#ed7953"
             ],
             [
              0.7777777777777778,
              "#fb9f3a"
             ],
             [
              0.8888888888888888,
              "#fdca26"
             ],
             [
              1,
              "#f0f921"
             ]
            ],
            "type": "histogram2d"
           }
          ],
          "histogram2dcontour": [
           {
            "colorbar": {
             "outlinewidth": 0,
             "ticks": ""
            },
            "colorscale": [
             [
              0,
              "#0d0887"
             ],
             [
              0.1111111111111111,
              "#46039f"
             ],
             [
              0.2222222222222222,
              "#7201a8"
             ],
             [
              0.3333333333333333,
              "#9c179e"
             ],
             [
              0.4444444444444444,
              "#bd3786"
             ],
             [
              0.5555555555555556,
              "#d8576b"
             ],
             [
              0.6666666666666666,
              "#ed7953"
             ],
             [
              0.7777777777777778,
              "#fb9f3a"
             ],
             [
              0.8888888888888888,
              "#fdca26"
             ],
             [
              1,
              "#f0f921"
             ]
            ],
            "type": "histogram2dcontour"
           }
          ],
          "mesh3d": [
           {
            "colorbar": {
             "outlinewidth": 0,
             "ticks": ""
            },
            "type": "mesh3d"
           }
          ],
          "parcoords": [
           {
            "line": {
             "colorbar": {
              "outlinewidth": 0,
              "ticks": ""
             }
            },
            "type": "parcoords"
           }
          ],
          "pie": [
           {
            "automargin": true,
            "type": "pie"
           }
          ],
          "scatter": [
           {
            "fillpattern": {
             "fillmode": "overlay",
             "size": 10,
             "solidity": 0.2
            },
            "type": "scatter"
           }
          ],
          "scatter3d": [
           {
            "line": {
             "colorbar": {
              "outlinewidth": 0,
              "ticks": ""
             }
            },
            "marker": {
             "colorbar": {
              "outlinewidth": 0,
              "ticks": ""
             }
            },
            "type": "scatter3d"
           }
          ],
          "scattercarpet": [
           {
            "marker": {
             "colorbar": {
              "outlinewidth": 0,
              "ticks": ""
             }
            },
            "type": "scattercarpet"
           }
          ],
          "scattergeo": [
           {
            "marker": {
             "colorbar": {
              "outlinewidth": 0,
              "ticks": ""
             }
            },
            "type": "scattergeo"
           }
          ],
          "scattergl": [
           {
            "marker": {
             "colorbar": {
              "outlinewidth": 0,
              "ticks": ""
             }
            },
            "type": "scattergl"
           }
          ],
          "scattermapbox": [
           {
            "marker": {
             "colorbar": {
              "outlinewidth": 0,
              "ticks": ""
             }
            },
            "type": "scattermapbox"
           }
          ],
          "scatterpolar": [
           {
            "marker": {
             "colorbar": {
              "outlinewidth": 0,
              "ticks": ""
             }
            },
            "type": "scatterpolar"
           }
          ],
          "scatterpolargl": [
           {
            "marker": {
             "colorbar": {
              "outlinewidth": 0,
              "ticks": ""
             }
            },
            "type": "scatterpolargl"
           }
          ],
          "scatterternary": [
           {
            "marker": {
             "colorbar": {
              "outlinewidth": 0,
              "ticks": ""
             }
            },
            "type": "scatterternary"
           }
          ],
          "surface": [
           {
            "colorbar": {
             "outlinewidth": 0,
             "ticks": ""
            },
            "colorscale": [
             [
              0,
              "#0d0887"
             ],
             [
              0.1111111111111111,
              "#46039f"
             ],
             [
              0.2222222222222222,
              "#7201a8"
             ],
             [
              0.3333333333333333,
              "#9c179e"
             ],
             [
              0.4444444444444444,
              "#bd3786"
             ],
             [
              0.5555555555555556,
              "#d8576b"
             ],
             [
              0.6666666666666666,
              "#ed7953"
             ],
             [
              0.7777777777777778,
              "#fb9f3a"
             ],
             [
              0.8888888888888888,
              "#fdca26"
             ],
             [
              1,
              "#f0f921"
             ]
            ],
            "type": "surface"
           }
          ],
          "table": [
           {
            "cells": {
             "fill": {
              "color": "#EBF0F8"
             },
             "line": {
              "color": "white"
             }
            },
            "header": {
             "fill": {
              "color": "#C8D4E3"
             },
             "line": {
              "color": "white"
             }
            },
            "type": "table"
           }
          ]
         },
         "layout": {
          "annotationdefaults": {
           "arrowcolor": "#2a3f5f",
           "arrowhead": 0,
           "arrowwidth": 1
          },
          "autotypenumbers": "strict",
          "coloraxis": {
           "colorbar": {
            "outlinewidth": 0,
            "ticks": ""
           }
          },
          "colorscale": {
           "diverging": [
            [
             0,
             "#8e0152"
            ],
            [
             0.1,
             "#c51b7d"
            ],
            [
             0.2,
             "#de77ae"
            ],
            [
             0.3,
             "#f1b6da"
            ],
            [
             0.4,
             "#fde0ef"
            ],
            [
             0.5,
             "#f7f7f7"
            ],
            [
             0.6,
             "#e6f5d0"
            ],
            [
             0.7,
             "#b8e186"
            ],
            [
             0.8,
             "#7fbc41"
            ],
            [
             0.9,
             "#4d9221"
            ],
            [
             1,
             "#276419"
            ]
           ],
           "sequential": [
            [
             0,
             "#0d0887"
            ],
            [
             0.1111111111111111,
             "#46039f"
            ],
            [
             0.2222222222222222,
             "#7201a8"
            ],
            [
             0.3333333333333333,
             "#9c179e"
            ],
            [
             0.4444444444444444,
             "#bd3786"
            ],
            [
             0.5555555555555556,
             "#d8576b"
            ],
            [
             0.6666666666666666,
             "#ed7953"
            ],
            [
             0.7777777777777778,
             "#fb9f3a"
            ],
            [
             0.8888888888888888,
             "#fdca26"
            ],
            [
             1,
             "#f0f921"
            ]
           ],
           "sequentialminus": [
            [
             0,
             "#0d0887"
            ],
            [
             0.1111111111111111,
             "#46039f"
            ],
            [
             0.2222222222222222,
             "#7201a8"
            ],
            [
             0.3333333333333333,
             "#9c179e"
            ],
            [
             0.4444444444444444,
             "#bd3786"
            ],
            [
             0.5555555555555556,
             "#d8576b"
            ],
            [
             0.6666666666666666,
             "#ed7953"
            ],
            [
             0.7777777777777778,
             "#fb9f3a"
            ],
            [
             0.8888888888888888,
             "#fdca26"
            ],
            [
             1,
             "#f0f921"
            ]
           ]
          },
          "colorway": [
           "#636efa",
           "#EF553B",
           "#00cc96",
           "#ab63fa",
           "#FFA15A",
           "#19d3f3",
           "#FF6692",
           "#B6E880",
           "#FF97FF",
           "#FECB52"
          ],
          "font": {
           "color": "#2a3f5f"
          },
          "geo": {
           "bgcolor": "white",
           "lakecolor": "white",
           "landcolor": "#E5ECF6",
           "showlakes": true,
           "showland": true,
           "subunitcolor": "white"
          },
          "hoverlabel": {
           "align": "left"
          },
          "hovermode": "closest",
          "mapbox": {
           "style": "light"
          },
          "paper_bgcolor": "white",
          "plot_bgcolor": "#E5ECF6",
          "polar": {
           "angularaxis": {
            "gridcolor": "white",
            "linecolor": "white",
            "ticks": ""
           },
           "bgcolor": "#E5ECF6",
           "radialaxis": {
            "gridcolor": "white",
            "linecolor": "white",
            "ticks": ""
           }
          },
          "scene": {
           "xaxis": {
            "backgroundcolor": "#E5ECF6",
            "gridcolor": "white",
            "gridwidth": 2,
            "linecolor": "white",
            "showbackground": true,
            "ticks": "",
            "zerolinecolor": "white"
           },
           "yaxis": {
            "backgroundcolor": "#E5ECF6",
            "gridcolor": "white",
            "gridwidth": 2,
            "linecolor": "white",
            "showbackground": true,
            "ticks": "",
            "zerolinecolor": "white"
           },
           "zaxis": {
            "backgroundcolor": "#E5ECF6",
            "gridcolor": "white",
            "gridwidth": 2,
            "linecolor": "white",
            "showbackground": true,
            "ticks": "",
            "zerolinecolor": "white"
           }
          },
          "shapedefaults": {
           "line": {
            "color": "#2a3f5f"
           }
          },
          "ternary": {
           "aaxis": {
            "gridcolor": "white",
            "linecolor": "white",
            "ticks": ""
           },
           "baxis": {
            "gridcolor": "white",
            "linecolor": "white",
            "ticks": ""
           },
           "bgcolor": "#E5ECF6",
           "caxis": {
            "gridcolor": "white",
            "linecolor": "white",
            "ticks": ""
           }
          },
          "title": {
           "x": 0.05
          },
          "xaxis": {
           "automargin": true,
           "gridcolor": "white",
           "linecolor": "white",
           "ticks": "",
           "title": {
            "standoff": 15
           },
           "zerolinecolor": "white",
           "zerolinewidth": 2
          },
          "yaxis": {
           "automargin": true,
           "gridcolor": "white",
           "linecolor": "white",
           "ticks": "",
           "title": {
            "standoff": 15
           },
           "zerolinecolor": "white",
           "zerolinewidth": 2
          }
         }
        },
        "title": {
         "text": "SKU3 sales over 2017-2020"
        },
        "xaxis": {
         "anchor": "y",
         "domain": [
          0,
          1
         ],
         "title": {
          "text": "Date"
         }
        },
        "yaxis": {
         "anchor": "x",
         "domain": [
          0,
          1
         ],
         "title": {
          "text": "Sales"
         }
        }
       }
      },
      "text/html": [
       "<div>                            <div id=\"d32827f3-be7d-4fa1-91ad-53ac4b723d35\" class=\"plotly-graph-div\" style=\"height:525px; width:100%;\"></div>            <script type=\"text/javascript\">                require([\"plotly\"], function(Plotly) {                    window.PLOTLYENV=window.PLOTLYENV || {};                                    if (document.getElementById(\"d32827f3-be7d-4fa1-91ad-53ac4b723d35\")) {                    Plotly.newPlot(                        \"d32827f3-be7d-4fa1-91ad-53ac4b723d35\",                        [{\"hovertemplate\":\"Product=SKU3<br>Date=%{x}<br>Sales=%{y}<extra></extra>\",\"legendgroup\":\"SKU3\",\"line\":{\"color\":\"#636efa\",\"dash\":\"solid\"},\"marker\":{\"symbol\":\"circle\"},\"mode\":\"lines\",\"name\":\"SKU3\",\"orientation\":\"v\",\"showlegend\":true,\"x\":[\"05/02/17\",\"12/02/17\",\"19/02/17\",\"26/02/17\",\"05/03/17\",\"12/03/17\",\"19/03/17\",\"26/03/17\",\"02/04/17\",\"09/04/17\",\"16/04/17\",\"23/04/17\",\"30/04/17\",\"07/05/17\",\"14/05/17\",\"21/05/17\",\"28/05/17\",\"04/06/17\",\"11/06/17\",\"18/06/17\",\"25/06/17\",\"02/07/17\",\"09/07/17\",\"16/07/17\",\"23/07/17\",\"30/07/17\",\"06/08/17\",\"13/08/17\",\"20/08/17\",\"27/08/17\",\"03/09/17\",\"10/09/17\",\"17/09/17\",\"24/09/17\",\"01/10/17\",\"08/10/17\",\"15/10/17\",\"22/10/17\",\"29/10/17\",\"05/11/17\",\"12/11/17\",\"19/11/17\",\"26/11/17\",\"03/12/17\",\"10/12/17\",\"17/12/17\",\"24/12/17\",\"31/12/17\",\"07/01/18\",\"14/01/18\",\"21/01/18\",\"28/01/18\",\"04/02/18\",\"11/02/18\",\"18/02/18\",\"25/02/18\",\"04/03/18\",\"11/03/18\",\"18/03/18\",\"25/03/18\",\"01/04/18\",\"08/04/18\",\"15/04/18\",\"22/04/18\",\"29/04/18\",\"06/05/18\",\"13/05/18\",\"20/05/18\",\"27/05/18\",\"03/06/18\",\"10/06/18\",\"17/06/18\",\"24/06/18\",\"01/07/18\",\"08/07/18\",\"15/07/18\",\"22/07/18\",\"29/07/18\",\"05/08/18\",\"12/08/18\",\"19/08/18\",\"26/08/18\",\"02/09/18\",\"09/09/18\",\"16/09/18\",\"23/09/18\",\"30/09/18\",\"07/10/18\",\"14/10/18\",\"21/10/18\",\"28/10/18\",\"04/11/18\",\"11/11/18\",\"18/11/18\",\"25/11/18\",\"02/12/18\",\"09/12/18\",\"16/12/18\",\"23/12/18\",\"30/12/18\",\"06/01/19\",\"13/01/19\",\"20/01/19\",\"27/01/19\",\"03/02/19\",\"10/02/19\",\"17/02/19\",\"24/02/19\",\"03/03/19\",\"10/03/19\",\"17/03/19\",\"24/03/19\",\"31/03/19\",\"07/04/19\",\"14/04/19\",\"21/04/19\",\"28/04/19\",\"05/05/19\",\"12/05/19\",\"19/05/19\",\"26/05/19\",\"02/06/19\",\"09/06/19\",\"16/06/19\",\"23/06/19\",\"30/06/19\",\"07/07/19\",\"14/07/19\",\"21/07/19\",\"28/07/19\",\"04/08/19\",\"11/08/19\",\"18/08/19\",\"25/08/19\",\"01/09/19\",\"08/09/19\",\"15/09/19\",\"22/09/19\",\"29/09/19\",\"06/10/19\",\"13/10/19\",\"20/10/19\",\"27/10/19\",\"03/11/19\",\"10/11/19\",\"17/11/19\",\"24/11/19\",\"01/12/19\",\"08/12/19\",\"15/12/19\",\"22/12/19\",\"29/12/19\",\"05/01/20\",\"12/01/20\",\"19/01/20\",\"26/01/20\",\"02/02/20\",\"09/02/20\",\"16/02/20\",\"23/02/20\",\"01/03/20\",\"08/03/20\",\"15/03/20\",\"22/03/20\",\"29/03/20\",\"05/04/20\",\"12/04/20\",\"19/04/20\",\"26/04/20\",\"03/05/20\",\"10/05/20\",\"17/05/20\",\"24/05/20\",\"31/05/20\",\"07/06/20\",\"14/06/20\",\"21/06/20\",\"28/06/20\",\"05/07/20\",\"12/07/20\",\"19/07/20\",\"26/07/20\",\"02/08/20\",\"09/08/20\",\"16/08/20\",\"23/08/20\",\"30/08/20\",\"06/09/20\",\"13/09/20\",\"20/09/20\",\"27/09/20\",\"04/10/20\",\"11/10/20\",\"18/10/20\",\"25/10/20\",\"01/11/20\",\"08/11/20\",\"15/11/20\",\"22/11/20\",\"29/11/20\",\"06/12/20\",\"13/12/20\",\"20/12/20\",\"27/12/20\"],\"xaxis\":\"x\",\"y\":[39767,49090,41044,53637,13568,48230,47632,52458,48624,58678,31180,39918,28519,212245,46634,15816,50615,55744,248373,56218,88330,21719,66602,37996,60173,18827,52917,19315,57361,236242,55091,64818,63731,72851,18797,52132,31259,49891,16354,212947,47367,29788,43078,62176,15098,46362,40244,10970,57707,13001,60844,14766,66821,14822,65917,72768,15242,77546,15914,81070,16298,63779,15593,91541,41716,85960,73443,81236,20184,43483,288322,44670,83798,45241,98300,24771,77644,21768,43217,21318,94025,19395,84724,17903,83294,69874,237462,19806,94028,17859,73225,16559,86341,18175,85834,16673,80303,16228,15567,19818,65120,13910,72688,15378,77331,16284,195088,66726,70897,18959,84789,23297,74574,20603,82925,16258,60819,14847,73917,30770,65796,19708,197503,40396,75058,34350,63367,19698,82028,18589,75642,20287,224723,36190,78848,18947,75687,22404,207356,37198,83295,18549,77885,16769,182891,30944,74345,16864,72108,29325,33126,17979,50536,13672,59700,14278,56120,15286,187548,31172,76759,16311,102770,24862,33476,29350,97959,19116,64671,22217,78949,19161,66290,19726,75510,20278,79090,23331,63430,20478,184365,33301,60530,21666,189965,51798,51884,21108,57867,19186,59997,52970,54751,17625,60638,15003,42459,13668,0,0,0,0,0,0],\"yaxis\":\"y\",\"type\":\"scatter\"}],                        {\"template\":{\"data\":{\"histogram2dcontour\":[{\"type\":\"histogram2dcontour\",\"colorbar\":{\"outlinewidth\":0,\"ticks\":\"\"},\"colorscale\":[[0.0,\"#0d0887\"],[0.1111111111111111,\"#46039f\"],[0.2222222222222222,\"#7201a8\"],[0.3333333333333333,\"#9c179e\"],[0.4444444444444444,\"#bd3786\"],[0.5555555555555556,\"#d8576b\"],[0.6666666666666666,\"#ed7953\"],[0.7777777777777778,\"#fb9f3a\"],[0.8888888888888888,\"#fdca26\"],[1.0,\"#f0f921\"]]}],\"choropleth\":[{\"type\":\"choropleth\",\"colorbar\":{\"outlinewidth\":0,\"ticks\":\"\"}}],\"histogram2d\":[{\"type\":\"histogram2d\",\"colorbar\":{\"outlinewidth\":0,\"ticks\":\"\"},\"colorscale\":[[0.0,\"#0d0887\"],[0.1111111111111111,\"#46039f\"],[0.2222222222222222,\"#7201a8\"],[0.3333333333333333,\"#9c179e\"],[0.4444444444444444,\"#bd3786\"],[0.5555555555555556,\"#d8576b\"],[0.6666666666666666,\"#ed7953\"],[0.7777777777777778,\"#fb9f3a\"],[0.8888888888888888,\"#fdca26\"],[1.0,\"#f0f921\"]]}],\"heatmap\":[{\"type\":\"heatmap\",\"colorbar\":{\"outlinewidth\":0,\"ticks\":\"\"},\"colorscale\":[[0.0,\"#0d0887\"],[0.1111111111111111,\"#46039f\"],[0.2222222222222222,\"#7201a8\"],[0.3333333333333333,\"#9c179e\"],[0.4444444444444444,\"#bd3786\"],[0.5555555555555556,\"#d8576b\"],[0.6666666666666666,\"#ed7953\"],[0.7777777777777778,\"#fb9f3a\"],[0.8888888888888888,\"#fdca26\"],[1.0,\"#f0f921\"]]}],\"heatmapgl\":[{\"type\":\"heatmapgl\",\"colorbar\":{\"outlinewidth\":0,\"ticks\":\"\"},\"colorscale\":[[0.0,\"#0d0887\"],[0.1111111111111111,\"#46039f\"],[0.2222222222222222,\"#7201a8\"],[0.3333333333333333,\"#9c179e\"],[0.4444444444444444,\"#bd3786\"],[0.5555555555555556,\"#d8576b\"],[0.6666666666666666,\"#ed7953\"],[0.7777777777777778,\"#fb9f3a\"],[0.8888888888888888,\"#fdca26\"],[1.0,\"#f0f921\"]]}],\"contourcarpet\":[{\"type\":\"contourcarpet\",\"colorbar\":{\"outlinewidth\":0,\"ticks\":\"\"}}],\"contour\":[{\"type\":\"contour\",\"colorbar\":{\"outlinewidth\":0,\"ticks\":\"\"},\"colorscale\":[[0.0,\"#0d0887\"],[0.1111111111111111,\"#46039f\"],[0.2222222222222222,\"#7201a8\"],[0.3333333333333333,\"#9c179e\"],[0.4444444444444444,\"#bd3786\"],[0.5555555555555556,\"#d8576b\"],[0.6666666666666666,\"#ed7953\"],[0.7777777777777778,\"#fb9f3a\"],[0.8888888888888888,\"#fdca26\"],[1.0,\"#f0f921\"]]}],\"surface\":[{\"type\":\"surface\",\"colorbar\":{\"outlinewidth\":0,\"ticks\":\"\"},\"colorscale\":[[0.0,\"#0d0887\"],[0.1111111111111111,\"#46039f\"],[0.2222222222222222,\"#7201a8\"],[0.3333333333333333,\"#9c179e\"],[0.4444444444444444,\"#bd3786\"],[0.5555555555555556,\"#d8576b\"],[0.6666666666666666,\"#ed7953\"],[0.7777777777777778,\"#fb9f3a\"],[0.8888888888888888,\"#fdca26\"],[1.0,\"#f0f921\"]]}],\"mesh3d\":[{\"type\":\"mesh3d\",\"colorbar\":{\"outlinewidth\":0,\"ticks\":\"\"}}],\"scatter\":[{\"fillpattern\":{\"fillmode\":\"overlay\",\"size\":10,\"solidity\":0.2},\"type\":\"scatter\"}],\"parcoords\":[{\"type\":\"parcoords\",\"line\":{\"colorbar\":{\"outlinewidth\":0,\"ticks\":\"\"}}}],\"scatterpolargl\":[{\"type\":\"scatterpolargl\",\"marker\":{\"colorbar\":{\"outlinewidth\":0,\"ticks\":\"\"}}}],\"bar\":[{\"error_x\":{\"color\":\"#2a3f5f\"},\"error_y\":{\"color\":\"#2a3f5f\"},\"marker\":{\"line\":{\"color\":\"#E5ECF6\",\"width\":0.5},\"pattern\":{\"fillmode\":\"overlay\",\"size\":10,\"solidity\":0.2}},\"type\":\"bar\"}],\"scattergeo\":[{\"type\":\"scattergeo\",\"marker\":{\"colorbar\":{\"outlinewidth\":0,\"ticks\":\"\"}}}],\"scatterpolar\":[{\"type\":\"scatterpolar\",\"marker\":{\"colorbar\":{\"outlinewidth\":0,\"ticks\":\"\"}}}],\"histogram\":[{\"marker\":{\"pattern\":{\"fillmode\":\"overlay\",\"size\":10,\"solidity\":0.2}},\"type\":\"histogram\"}],\"scattergl\":[{\"type\":\"scattergl\",\"marker\":{\"colorbar\":{\"outlinewidth\":0,\"ticks\":\"\"}}}],\"scatter3d\":[{\"type\":\"scatter3d\",\"line\":{\"colorbar\":{\"outlinewidth\":0,\"ticks\":\"\"}},\"marker\":{\"colorbar\":{\"outlinewidth\":0,\"ticks\":\"\"}}}],\"scattermapbox\":[{\"type\":\"scattermapbox\",\"marker\":{\"colorbar\":{\"outlinewidth\":0,\"ticks\":\"\"}}}],\"scatterternary\":[{\"type\":\"scatterternary\",\"marker\":{\"colorbar\":{\"outlinewidth\":0,\"ticks\":\"\"}}}],\"scattercarpet\":[{\"type\":\"scattercarpet\",\"marker\":{\"colorbar\":{\"outlinewidth\":0,\"ticks\":\"\"}}}],\"carpet\":[{\"aaxis\":{\"endlinecolor\":\"#2a3f5f\",\"gridcolor\":\"white\",\"linecolor\":\"white\",\"minorgridcolor\":\"white\",\"startlinecolor\":\"#2a3f5f\"},\"baxis\":{\"endlinecolor\":\"#2a3f5f\",\"gridcolor\":\"white\",\"linecolor\":\"white\",\"minorgridcolor\":\"white\",\"startlinecolor\":\"#2a3f5f\"},\"type\":\"carpet\"}],\"table\":[{\"cells\":{\"fill\":{\"color\":\"#EBF0F8\"},\"line\":{\"color\":\"white\"}},\"header\":{\"fill\":{\"color\":\"#C8D4E3\"},\"line\":{\"color\":\"white\"}},\"type\":\"table\"}],\"barpolar\":[{\"marker\":{\"line\":{\"color\":\"#E5ECF6\",\"width\":0.5},\"pattern\":{\"fillmode\":\"overlay\",\"size\":10,\"solidity\":0.2}},\"type\":\"barpolar\"}],\"pie\":[{\"automargin\":true,\"type\":\"pie\"}]},\"layout\":{\"autotypenumbers\":\"strict\",\"colorway\":[\"#636efa\",\"#EF553B\",\"#00cc96\",\"#ab63fa\",\"#FFA15A\",\"#19d3f3\",\"#FF6692\",\"#B6E880\",\"#FF97FF\",\"#FECB52\"],\"font\":{\"color\":\"#2a3f5f\"},\"hovermode\":\"closest\",\"hoverlabel\":{\"align\":\"left\"},\"paper_bgcolor\":\"white\",\"plot_bgcolor\":\"#E5ECF6\",\"polar\":{\"bgcolor\":\"#E5ECF6\",\"angularaxis\":{\"gridcolor\":\"white\",\"linecolor\":\"white\",\"ticks\":\"\"},\"radialaxis\":{\"gridcolor\":\"white\",\"linecolor\":\"white\",\"ticks\":\"\"}},\"ternary\":{\"bgcolor\":\"#E5ECF6\",\"aaxis\":{\"gridcolor\":\"white\",\"linecolor\":\"white\",\"ticks\":\"\"},\"baxis\":{\"gridcolor\":\"white\",\"linecolor\":\"white\",\"ticks\":\"\"},\"caxis\":{\"gridcolor\":\"white\",\"linecolor\":\"white\",\"ticks\":\"\"}},\"coloraxis\":{\"colorbar\":{\"outlinewidth\":0,\"ticks\":\"\"}},\"colorscale\":{\"sequential\":[[0.0,\"#0d0887\"],[0.1111111111111111,\"#46039f\"],[0.2222222222222222,\"#7201a8\"],[0.3333333333333333,\"#9c179e\"],[0.4444444444444444,\"#bd3786\"],[0.5555555555555556,\"#d8576b\"],[0.6666666666666666,\"#ed7953\"],[0.7777777777777778,\"#fb9f3a\"],[0.8888888888888888,\"#fdca26\"],[1.0,\"#f0f921\"]],\"sequentialminus\":[[0.0,\"#0d0887\"],[0.1111111111111111,\"#46039f\"],[0.2222222222222222,\"#7201a8\"],[0.3333333333333333,\"#9c179e\"],[0.4444444444444444,\"#bd3786\"],[0.5555555555555556,\"#d8576b\"],[0.6666666666666666,\"#ed7953\"],[0.7777777777777778,\"#fb9f3a\"],[0.8888888888888888,\"#fdca26\"],[1.0,\"#f0f921\"]],\"diverging\":[[0,\"#8e0152\"],[0.1,\"#c51b7d\"],[0.2,\"#de77ae\"],[0.3,\"#f1b6da\"],[0.4,\"#fde0ef\"],[0.5,\"#f7f7f7\"],[0.6,\"#e6f5d0\"],[0.7,\"#b8e186\"],[0.8,\"#7fbc41\"],[0.9,\"#4d9221\"],[1,\"#276419\"]]},\"xaxis\":{\"gridcolor\":\"white\",\"linecolor\":\"white\",\"ticks\":\"\",\"title\":{\"standoff\":15},\"zerolinecolor\":\"white\",\"automargin\":true,\"zerolinewidth\":2},\"yaxis\":{\"gridcolor\":\"white\",\"linecolor\":\"white\",\"ticks\":\"\",\"title\":{\"standoff\":15},\"zerolinecolor\":\"white\",\"automargin\":true,\"zerolinewidth\":2},\"scene\":{\"xaxis\":{\"backgroundcolor\":\"#E5ECF6\",\"gridcolor\":\"white\",\"linecolor\":\"white\",\"showbackground\":true,\"ticks\":\"\",\"zerolinecolor\":\"white\",\"gridwidth\":2},\"yaxis\":{\"backgroundcolor\":\"#E5ECF6\",\"gridcolor\":\"white\",\"linecolor\":\"white\",\"showbackground\":true,\"ticks\":\"\",\"zerolinecolor\":\"white\",\"gridwidth\":2},\"zaxis\":{\"backgroundcolor\":\"#E5ECF6\",\"gridcolor\":\"white\",\"linecolor\":\"white\",\"showbackground\":true,\"ticks\":\"\",\"zerolinecolor\":\"white\",\"gridwidth\":2}},\"shapedefaults\":{\"line\":{\"color\":\"#2a3f5f\"}},\"annotationdefaults\":{\"arrowcolor\":\"#2a3f5f\",\"arrowhead\":0,\"arrowwidth\":1},\"geo\":{\"bgcolor\":\"white\",\"landcolor\":\"#E5ECF6\",\"subunitcolor\":\"white\",\"showland\":true,\"showlakes\":true,\"lakecolor\":\"white\"},\"title\":{\"x\":0.05},\"mapbox\":{\"style\":\"light\"}}},\"xaxis\":{\"anchor\":\"y\",\"domain\":[0.0,1.0],\"title\":{\"text\":\"Date\"}},\"yaxis\":{\"anchor\":\"x\",\"domain\":[0.0,1.0],\"title\":{\"text\":\"Sales\"}},\"legend\":{\"title\":{\"text\":\"Product\"},\"tracegroupgap\":0},\"title\":{\"text\":\"SKU3 sales over 2017-2020\"}},                        {\"responsive\": true}                    ).then(function(){\n",
       "                            \n",
       "var gd = document.getElementById('d32827f3-be7d-4fa1-91ad-53ac4b723d35');\n",
       "var x = new MutationObserver(function (mutations, observer) {{\n",
       "        var display = window.getComputedStyle(gd).display;\n",
       "        if (!display || display === 'none') {{\n",
       "            console.log([gd, 'removed!']);\n",
       "            Plotly.purge(gd);\n",
       "            observer.disconnect();\n",
       "        }}\n",
       "}});\n",
       "\n",
       "// Listen for the removal of the full notebook cells\n",
       "var notebookContainer = gd.closest('#notebook-container');\n",
       "if (notebookContainer) {{\n",
       "    x.observe(notebookContainer, {childList: true});\n",
       "}}\n",
       "\n",
       "// Listen for the clearing of the current output cell\n",
       "var outputEl = gd.closest('.output');\n",
       "if (outputEl) {{\n",
       "    x.observe(outputEl, {childList: true});\n",
       "}}\n",
       "\n",
       "                        })                };                });            </script>        </div>"
      ]
     },
     "metadata": {},
     "output_type": "display_data"
    },
    {
     "data": {
      "application/vnd.plotly.v1+json": {
       "config": {
        "plotlyServerURL": "https://plot.ly"
       },
       "data": [
        {
         "hovertemplate": "Product=SKU4<br>Date=%{x}<br>Sales=%{y}<extra></extra>",
         "legendgroup": "SKU4",
         "line": {
          "color": "#636efa",
          "dash": "solid"
         },
         "marker": {
          "symbol": "circle"
         },
         "mode": "lines",
         "name": "SKU4",
         "orientation": "v",
         "showlegend": true,
         "type": "scatter",
         "x": [
          "05/02/17",
          "12/02/17",
          "19/02/17",
          "26/02/17",
          "05/03/17",
          "12/03/17",
          "19/03/17",
          "26/03/17",
          "02/04/17",
          "09/04/17",
          "16/04/17",
          "23/04/17",
          "30/04/17",
          "07/05/17",
          "14/05/17",
          "21/05/17",
          "28/05/17",
          "04/06/17",
          "11/06/17",
          "18/06/17",
          "25/06/17",
          "02/07/17",
          "09/07/17",
          "16/07/17",
          "23/07/17",
          "30/07/17",
          "06/08/17",
          "13/08/17",
          "20/08/17",
          "27/08/17",
          "03/09/17",
          "10/09/17",
          "17/09/17",
          "24/09/17",
          "01/10/17",
          "08/10/17",
          "15/10/17",
          "22/10/17",
          "29/10/17",
          "05/11/17",
          "12/11/17",
          "19/11/17",
          "26/11/17",
          "03/12/17",
          "10/12/17",
          "17/12/17",
          "24/12/17",
          "31/12/17",
          "07/01/18",
          "14/01/18",
          "21/01/18",
          "28/01/18",
          "04/02/18",
          "11/02/18",
          "18/02/18",
          "25/02/18",
          "04/03/18",
          "11/03/18",
          "18/03/18",
          "25/03/18",
          "01/04/18",
          "08/04/18",
          "15/04/18",
          "22/04/18",
          "29/04/18",
          "06/05/18",
          "13/05/18",
          "20/05/18",
          "27/05/18",
          "03/06/18",
          "10/06/18",
          "17/06/18",
          "24/06/18",
          "01/07/18",
          "08/07/18",
          "15/07/18",
          "22/07/18",
          "29/07/18",
          "05/08/18",
          "12/08/18",
          "19/08/18",
          "26/08/18",
          "02/09/18",
          "09/09/18",
          "16/09/18",
          "23/09/18",
          "30/09/18",
          "07/10/18",
          "14/10/18",
          "21/10/18",
          "28/10/18",
          "04/11/18",
          "11/11/18",
          "18/11/18",
          "25/11/18",
          "02/12/18",
          "09/12/18",
          "16/12/18",
          "23/12/18",
          "30/12/18",
          "06/01/19",
          "13/01/19",
          "20/01/19",
          "27/01/19",
          "03/02/19",
          "10/02/19",
          "17/02/19",
          "24/02/19",
          "03/03/19",
          "10/03/19",
          "17/03/19",
          "24/03/19",
          "31/03/19",
          "07/04/19",
          "14/04/19",
          "21/04/19",
          "28/04/19",
          "05/05/19",
          "12/05/19",
          "19/05/19",
          "26/05/19",
          "02/06/19",
          "09/06/19",
          "16/06/19",
          "23/06/19",
          "30/06/19",
          "07/07/19",
          "14/07/19",
          "21/07/19",
          "28/07/19",
          "04/08/19",
          "11/08/19",
          "18/08/19",
          "25/08/19",
          "01/09/19",
          "08/09/19",
          "15/09/19",
          "22/09/19",
          "29/09/19",
          "06/10/19",
          "13/10/19",
          "20/10/19",
          "27/10/19",
          "03/11/19",
          "10/11/19",
          "17/11/19",
          "24/11/19",
          "01/12/19",
          "08/12/19",
          "15/12/19",
          "22/12/19",
          "29/12/19",
          "05/01/20",
          "12/01/20",
          "19/01/20",
          "26/01/20",
          "02/02/20",
          "09/02/20",
          "16/02/20",
          "23/02/20",
          "01/03/20",
          "08/03/20",
          "15/03/20",
          "22/03/20",
          "29/03/20",
          "05/04/20",
          "12/04/20",
          "19/04/20",
          "26/04/20",
          "03/05/20",
          "10/05/20",
          "17/05/20",
          "24/05/20",
          "31/05/20",
          "07/06/20",
          "14/06/20",
          "21/06/20",
          "28/06/20",
          "05/07/20",
          "12/07/20",
          "19/07/20",
          "26/07/20",
          "02/08/20",
          "09/08/20",
          "16/08/20",
          "23/08/20",
          "30/08/20",
          "06/09/20",
          "13/09/20",
          "20/09/20",
          "27/09/20",
          "04/10/20",
          "11/10/20",
          "18/10/20",
          "25/10/20",
          "01/11/20",
          "08/11/20",
          "15/11/20",
          "22/11/20",
          "29/11/20",
          "06/12/20",
          "13/12/20",
          "20/12/20",
          "27/12/20"
         ],
         "xaxis": "x",
         "y": [
          12835,
          15705,
          13382,
          15709,
          3729,
          15061,
          15759,
          15479,
          16003,
          19455,
          9445,
          12697,
          8735,
          65464,
          14559,
          4400,
          16004,
          15932,
          63256,
          16824,
          26316,
          5426,
          19411,
          11807,
          21089,
          5487,
          17564,
          5497,
          18434,
          75377,
          16756,
          17340,
          20945,
          24469,
          5640,
          16773,
          10420,
          16777,
          4725,
          69467,
          15498,
          8994,
          14023,
          20914,
          4248,
          13159,
          10487,
          2960,
          18647,
          3583,
          19773,
          4057,
          21229,
          4306,
          21451,
          22091,
          4422,
          24597,
          4604,
          25200,
          4140,
          19161,
          3754,
          24056,
          10289,
          25115,
          24208,
          24612,
          4970,
          12454,
          72261,
          12202,
          24918,
          12293,
          28282,
          6117,
          20461,
          5392,
          12400,
          5043,
          25732,
          5086,
          23667,
          4753,
          22977,
          20826,
          66114,
          5293,
          25266,
          4596,
          22940,
          4039,
          22262,
          4081,
          23852,
          3719,
          19795,
          3759,
          3332,
          5042,
          16712,
          3133,
          17667,
          3308,
          19564,
          3789,
          63842,
          19642,
          22114,
          5266,
          27690,
          7666,
          23530,
          6276,
          25614,
          4240,
          18035,
          4415,
          20849,
          9098,
          17578,
          5012,
          59637,
          11764,
          19576,
          9155,
          17401,
          4844,
          22481,
          4825,
          21721,
          5374,
          64115,
          9409,
          19481,
          4385,
          17385,
          5100,
          56430,
          9544,
          21822,
          4550,
          21013,
          4254,
          54996,
          8645,
          19749,
          4056,
          20011,
          8178,
          9285,
          5153,
          16152,
          3792,
          19561,
          3721,
          18078,
          4218,
          58091,
          8486,
          21180,
          4306,
          32133,
          6538,
          9592,
          8224,
          26823,
          5342,
          20558,
          6665,
          26698,
          6215,
          23484,
          6262,
          27221,
          6878,
          29993,
          7661,
          24787,
          7403,
          76346,
          13391,
          25496,
          8126,
          81301,
          21752,
          21743,
          7557,
          23086,
          6972,
          24960,
          22119,
          24923,
          6619,
          22889,
          5353,
          21558,
          5924,
          0,
          0,
          0,
          0,
          0,
          0
         ],
         "yaxis": "y"
        }
       ],
       "layout": {
        "legend": {
         "title": {
          "text": "Product"
         },
         "tracegroupgap": 0
        },
        "template": {
         "data": {
          "bar": [
           {
            "error_x": {
             "color": "#2a3f5f"
            },
            "error_y": {
             "color": "#2a3f5f"
            },
            "marker": {
             "line": {
              "color": "#E5ECF6",
              "width": 0.5
             },
             "pattern": {
              "fillmode": "overlay",
              "size": 10,
              "solidity": 0.2
             }
            },
            "type": "bar"
           }
          ],
          "barpolar": [
           {
            "marker": {
             "line": {
              "color": "#E5ECF6",
              "width": 0.5
             },
             "pattern": {
              "fillmode": "overlay",
              "size": 10,
              "solidity": 0.2
             }
            },
            "type": "barpolar"
           }
          ],
          "carpet": [
           {
            "aaxis": {
             "endlinecolor": "#2a3f5f",
             "gridcolor": "white",
             "linecolor": "white",
             "minorgridcolor": "white",
             "startlinecolor": "#2a3f5f"
            },
            "baxis": {
             "endlinecolor": "#2a3f5f",
             "gridcolor": "white",
             "linecolor": "white",
             "minorgridcolor": "white",
             "startlinecolor": "#2a3f5f"
            },
            "type": "carpet"
           }
          ],
          "choropleth": [
           {
            "colorbar": {
             "outlinewidth": 0,
             "ticks": ""
            },
            "type": "choropleth"
           }
          ],
          "contour": [
           {
            "colorbar": {
             "outlinewidth": 0,
             "ticks": ""
            },
            "colorscale": [
             [
              0,
              "#0d0887"
             ],
             [
              0.1111111111111111,
              "#46039f"
             ],
             [
              0.2222222222222222,
              "#7201a8"
             ],
             [
              0.3333333333333333,
              "#9c179e"
             ],
             [
              0.4444444444444444,
              "#bd3786"
             ],
             [
              0.5555555555555556,
              "#d8576b"
             ],
             [
              0.6666666666666666,
              "#ed7953"
             ],
             [
              0.7777777777777778,
              "#fb9f3a"
             ],
             [
              0.8888888888888888,
              "#fdca26"
             ],
             [
              1,
              "#f0f921"
             ]
            ],
            "type": "contour"
           }
          ],
          "contourcarpet": [
           {
            "colorbar": {
             "outlinewidth": 0,
             "ticks": ""
            },
            "type": "contourcarpet"
           }
          ],
          "heatmap": [
           {
            "colorbar": {
             "outlinewidth": 0,
             "ticks": ""
            },
            "colorscale": [
             [
              0,
              "#0d0887"
             ],
             [
              0.1111111111111111,
              "#46039f"
             ],
             [
              0.2222222222222222,
              "#7201a8"
             ],
             [
              0.3333333333333333,
              "#9c179e"
             ],
             [
              0.4444444444444444,
              "#bd3786"
             ],
             [
              0.5555555555555556,
              "#d8576b"
             ],
             [
              0.6666666666666666,
              "#ed7953"
             ],
             [
              0.7777777777777778,
              "#fb9f3a"
             ],
             [
              0.8888888888888888,
              "#fdca26"
             ],
             [
              1,
              "#f0f921"
             ]
            ],
            "type": "heatmap"
           }
          ],
          "heatmapgl": [
           {
            "colorbar": {
             "outlinewidth": 0,
             "ticks": ""
            },
            "colorscale": [
             [
              0,
              "#0d0887"
             ],
             [
              0.1111111111111111,
              "#46039f"
             ],
             [
              0.2222222222222222,
              "#7201a8"
             ],
             [
              0.3333333333333333,
              "#9c179e"
             ],
             [
              0.4444444444444444,
              "#bd3786"
             ],
             [
              0.5555555555555556,
              "#d8576b"
             ],
             [
              0.6666666666666666,
              "#ed7953"
             ],
             [
              0.7777777777777778,
              "#fb9f3a"
             ],
             [
              0.8888888888888888,
              "#fdca26"
             ],
             [
              1,
              "#f0f921"
             ]
            ],
            "type": "heatmapgl"
           }
          ],
          "histogram": [
           {
            "marker": {
             "pattern": {
              "fillmode": "overlay",
              "size": 10,
              "solidity": 0.2
             }
            },
            "type": "histogram"
           }
          ],
          "histogram2d": [
           {
            "colorbar": {
             "outlinewidth": 0,
             "ticks": ""
            },
            "colorscale": [
             [
              0,
              "#0d0887"
             ],
             [
              0.1111111111111111,
              "#46039f"
             ],
             [
              0.2222222222222222,
              "#7201a8"
             ],
             [
              0.3333333333333333,
              "#9c179e"
             ],
             [
              0.4444444444444444,
              "#bd3786"
             ],
             [
              0.5555555555555556,
              "#d8576b"
             ],
             [
              0.6666666666666666,
              "#ed7953"
             ],
             [
              0.7777777777777778,
              "#fb9f3a"
             ],
             [
              0.8888888888888888,
              "#fdca26"
             ],
             [
              1,
              "#f0f921"
             ]
            ],
            "type": "histogram2d"
           }
          ],
          "histogram2dcontour": [
           {
            "colorbar": {
             "outlinewidth": 0,
             "ticks": ""
            },
            "colorscale": [
             [
              0,
              "#0d0887"
             ],
             [
              0.1111111111111111,
              "#46039f"
             ],
             [
              0.2222222222222222,
              "#7201a8"
             ],
             [
              0.3333333333333333,
              "#9c179e"
             ],
             [
              0.4444444444444444,
              "#bd3786"
             ],
             [
              0.5555555555555556,
              "#d8576b"
             ],
             [
              0.6666666666666666,
              "#ed7953"
             ],
             [
              0.7777777777777778,
              "#fb9f3a"
             ],
             [
              0.8888888888888888,
              "#fdca26"
             ],
             [
              1,
              "#f0f921"
             ]
            ],
            "type": "histogram2dcontour"
           }
          ],
          "mesh3d": [
           {
            "colorbar": {
             "outlinewidth": 0,
             "ticks": ""
            },
            "type": "mesh3d"
           }
          ],
          "parcoords": [
           {
            "line": {
             "colorbar": {
              "outlinewidth": 0,
              "ticks": ""
             }
            },
            "type": "parcoords"
           }
          ],
          "pie": [
           {
            "automargin": true,
            "type": "pie"
           }
          ],
          "scatter": [
           {
            "fillpattern": {
             "fillmode": "overlay",
             "size": 10,
             "solidity": 0.2
            },
            "type": "scatter"
           }
          ],
          "scatter3d": [
           {
            "line": {
             "colorbar": {
              "outlinewidth": 0,
              "ticks": ""
             }
            },
            "marker": {
             "colorbar": {
              "outlinewidth": 0,
              "ticks": ""
             }
            },
            "type": "scatter3d"
           }
          ],
          "scattercarpet": [
           {
            "marker": {
             "colorbar": {
              "outlinewidth": 0,
              "ticks": ""
             }
            },
            "type": "scattercarpet"
           }
          ],
          "scattergeo": [
           {
            "marker": {
             "colorbar": {
              "outlinewidth": 0,
              "ticks": ""
             }
            },
            "type": "scattergeo"
           }
          ],
          "scattergl": [
           {
            "marker": {
             "colorbar": {
              "outlinewidth": 0,
              "ticks": ""
             }
            },
            "type": "scattergl"
           }
          ],
          "scattermapbox": [
           {
            "marker": {
             "colorbar": {
              "outlinewidth": 0,
              "ticks": ""
             }
            },
            "type": "scattermapbox"
           }
          ],
          "scatterpolar": [
           {
            "marker": {
             "colorbar": {
              "outlinewidth": 0,
              "ticks": ""
             }
            },
            "type": "scatterpolar"
           }
          ],
          "scatterpolargl": [
           {
            "marker": {
             "colorbar": {
              "outlinewidth": 0,
              "ticks": ""
             }
            },
            "type": "scatterpolargl"
           }
          ],
          "scatterternary": [
           {
            "marker": {
             "colorbar": {
              "outlinewidth": 0,
              "ticks": ""
             }
            },
            "type": "scatterternary"
           }
          ],
          "surface": [
           {
            "colorbar": {
             "outlinewidth": 0,
             "ticks": ""
            },
            "colorscale": [
             [
              0,
              "#0d0887"
             ],
             [
              0.1111111111111111,
              "#46039f"
             ],
             [
              0.2222222222222222,
              "#7201a8"
             ],
             [
              0.3333333333333333,
              "#9c179e"
             ],
             [
              0.4444444444444444,
              "#bd3786"
             ],
             [
              0.5555555555555556,
              "#d8576b"
             ],
             [
              0.6666666666666666,
              "#ed7953"
             ],
             [
              0.7777777777777778,
              "#fb9f3a"
             ],
             [
              0.8888888888888888,
              "#fdca26"
             ],
             [
              1,
              "#f0f921"
             ]
            ],
            "type": "surface"
           }
          ],
          "table": [
           {
            "cells": {
             "fill": {
              "color": "#EBF0F8"
             },
             "line": {
              "color": "white"
             }
            },
            "header": {
             "fill": {
              "color": "#C8D4E3"
             },
             "line": {
              "color": "white"
             }
            },
            "type": "table"
           }
          ]
         },
         "layout": {
          "annotationdefaults": {
           "arrowcolor": "#2a3f5f",
           "arrowhead": 0,
           "arrowwidth": 1
          },
          "autotypenumbers": "strict",
          "coloraxis": {
           "colorbar": {
            "outlinewidth": 0,
            "ticks": ""
           }
          },
          "colorscale": {
           "diverging": [
            [
             0,
             "#8e0152"
            ],
            [
             0.1,
             "#c51b7d"
            ],
            [
             0.2,
             "#de77ae"
            ],
            [
             0.3,
             "#f1b6da"
            ],
            [
             0.4,
             "#fde0ef"
            ],
            [
             0.5,
             "#f7f7f7"
            ],
            [
             0.6,
             "#e6f5d0"
            ],
            [
             0.7,
             "#b8e186"
            ],
            [
             0.8,
             "#7fbc41"
            ],
            [
             0.9,
             "#4d9221"
            ],
            [
             1,
             "#276419"
            ]
           ],
           "sequential": [
            [
             0,
             "#0d0887"
            ],
            [
             0.1111111111111111,
             "#46039f"
            ],
            [
             0.2222222222222222,
             "#7201a8"
            ],
            [
             0.3333333333333333,
             "#9c179e"
            ],
            [
             0.4444444444444444,
             "#bd3786"
            ],
            [
             0.5555555555555556,
             "#d8576b"
            ],
            [
             0.6666666666666666,
             "#ed7953"
            ],
            [
             0.7777777777777778,
             "#fb9f3a"
            ],
            [
             0.8888888888888888,
             "#fdca26"
            ],
            [
             1,
             "#f0f921"
            ]
           ],
           "sequentialminus": [
            [
             0,
             "#0d0887"
            ],
            [
             0.1111111111111111,
             "#46039f"
            ],
            [
             0.2222222222222222,
             "#7201a8"
            ],
            [
             0.3333333333333333,
             "#9c179e"
            ],
            [
             0.4444444444444444,
             "#bd3786"
            ],
            [
             0.5555555555555556,
             "#d8576b"
            ],
            [
             0.6666666666666666,
             "#ed7953"
            ],
            [
             0.7777777777777778,
             "#fb9f3a"
            ],
            [
             0.8888888888888888,
             "#fdca26"
            ],
            [
             1,
             "#f0f921"
            ]
           ]
          },
          "colorway": [
           "#636efa",
           "#EF553B",
           "#00cc96",
           "#ab63fa",
           "#FFA15A",
           "#19d3f3",
           "#FF6692",
           "#B6E880",
           "#FF97FF",
           "#FECB52"
          ],
          "font": {
           "color": "#2a3f5f"
          },
          "geo": {
           "bgcolor": "white",
           "lakecolor": "white",
           "landcolor": "#E5ECF6",
           "showlakes": true,
           "showland": true,
           "subunitcolor": "white"
          },
          "hoverlabel": {
           "align": "left"
          },
          "hovermode": "closest",
          "mapbox": {
           "style": "light"
          },
          "paper_bgcolor": "white",
          "plot_bgcolor": "#E5ECF6",
          "polar": {
           "angularaxis": {
            "gridcolor": "white",
            "linecolor": "white",
            "ticks": ""
           },
           "bgcolor": "#E5ECF6",
           "radialaxis": {
            "gridcolor": "white",
            "linecolor": "white",
            "ticks": ""
           }
          },
          "scene": {
           "xaxis": {
            "backgroundcolor": "#E5ECF6",
            "gridcolor": "white",
            "gridwidth": 2,
            "linecolor": "white",
            "showbackground": true,
            "ticks": "",
            "zerolinecolor": "white"
           },
           "yaxis": {
            "backgroundcolor": "#E5ECF6",
            "gridcolor": "white",
            "gridwidth": 2,
            "linecolor": "white",
            "showbackground": true,
            "ticks": "",
            "zerolinecolor": "white"
           },
           "zaxis": {
            "backgroundcolor": "#E5ECF6",
            "gridcolor": "white",
            "gridwidth": 2,
            "linecolor": "white",
            "showbackground": true,
            "ticks": "",
            "zerolinecolor": "white"
           }
          },
          "shapedefaults": {
           "line": {
            "color": "#2a3f5f"
           }
          },
          "ternary": {
           "aaxis": {
            "gridcolor": "white",
            "linecolor": "white",
            "ticks": ""
           },
           "baxis": {
            "gridcolor": "white",
            "linecolor": "white",
            "ticks": ""
           },
           "bgcolor": "#E5ECF6",
           "caxis": {
            "gridcolor": "white",
            "linecolor": "white",
            "ticks": ""
           }
          },
          "title": {
           "x": 0.05
          },
          "xaxis": {
           "automargin": true,
           "gridcolor": "white",
           "linecolor": "white",
           "ticks": "",
           "title": {
            "standoff": 15
           },
           "zerolinecolor": "white",
           "zerolinewidth": 2
          },
          "yaxis": {
           "automargin": true,
           "gridcolor": "white",
           "linecolor": "white",
           "ticks": "",
           "title": {
            "standoff": 15
           },
           "zerolinecolor": "white",
           "zerolinewidth": 2
          }
         }
        },
        "title": {
         "text": "SKU4 sales over 2017-2020"
        },
        "xaxis": {
         "anchor": "y",
         "domain": [
          0,
          1
         ],
         "title": {
          "text": "Date"
         }
        },
        "yaxis": {
         "anchor": "x",
         "domain": [
          0,
          1
         ],
         "title": {
          "text": "Sales"
         }
        }
       }
      },
      "text/html": [
       "<div>                            <div id=\"dbba4f33-ca02-4a85-96ef-0853a4483311\" class=\"plotly-graph-div\" style=\"height:525px; width:100%;\"></div>            <script type=\"text/javascript\">                require([\"plotly\"], function(Plotly) {                    window.PLOTLYENV=window.PLOTLYENV || {};                                    if (document.getElementById(\"dbba4f33-ca02-4a85-96ef-0853a4483311\")) {                    Plotly.newPlot(                        \"dbba4f33-ca02-4a85-96ef-0853a4483311\",                        [{\"hovertemplate\":\"Product=SKU4<br>Date=%{x}<br>Sales=%{y}<extra></extra>\",\"legendgroup\":\"SKU4\",\"line\":{\"color\":\"#636efa\",\"dash\":\"solid\"},\"marker\":{\"symbol\":\"circle\"},\"mode\":\"lines\",\"name\":\"SKU4\",\"orientation\":\"v\",\"showlegend\":true,\"x\":[\"05/02/17\",\"12/02/17\",\"19/02/17\",\"26/02/17\",\"05/03/17\",\"12/03/17\",\"19/03/17\",\"26/03/17\",\"02/04/17\",\"09/04/17\",\"16/04/17\",\"23/04/17\",\"30/04/17\",\"07/05/17\",\"14/05/17\",\"21/05/17\",\"28/05/17\",\"04/06/17\",\"11/06/17\",\"18/06/17\",\"25/06/17\",\"02/07/17\",\"09/07/17\",\"16/07/17\",\"23/07/17\",\"30/07/17\",\"06/08/17\",\"13/08/17\",\"20/08/17\",\"27/08/17\",\"03/09/17\",\"10/09/17\",\"17/09/17\",\"24/09/17\",\"01/10/17\",\"08/10/17\",\"15/10/17\",\"22/10/17\",\"29/10/17\",\"05/11/17\",\"12/11/17\",\"19/11/17\",\"26/11/17\",\"03/12/17\",\"10/12/17\",\"17/12/17\",\"24/12/17\",\"31/12/17\",\"07/01/18\",\"14/01/18\",\"21/01/18\",\"28/01/18\",\"04/02/18\",\"11/02/18\",\"18/02/18\",\"25/02/18\",\"04/03/18\",\"11/03/18\",\"18/03/18\",\"25/03/18\",\"01/04/18\",\"08/04/18\",\"15/04/18\",\"22/04/18\",\"29/04/18\",\"06/05/18\",\"13/05/18\",\"20/05/18\",\"27/05/18\",\"03/06/18\",\"10/06/18\",\"17/06/18\",\"24/06/18\",\"01/07/18\",\"08/07/18\",\"15/07/18\",\"22/07/18\",\"29/07/18\",\"05/08/18\",\"12/08/18\",\"19/08/18\",\"26/08/18\",\"02/09/18\",\"09/09/18\",\"16/09/18\",\"23/09/18\",\"30/09/18\",\"07/10/18\",\"14/10/18\",\"21/10/18\",\"28/10/18\",\"04/11/18\",\"11/11/18\",\"18/11/18\",\"25/11/18\",\"02/12/18\",\"09/12/18\",\"16/12/18\",\"23/12/18\",\"30/12/18\",\"06/01/19\",\"13/01/19\",\"20/01/19\",\"27/01/19\",\"03/02/19\",\"10/02/19\",\"17/02/19\",\"24/02/19\",\"03/03/19\",\"10/03/19\",\"17/03/19\",\"24/03/19\",\"31/03/19\",\"07/04/19\",\"14/04/19\",\"21/04/19\",\"28/04/19\",\"05/05/19\",\"12/05/19\",\"19/05/19\",\"26/05/19\",\"02/06/19\",\"09/06/19\",\"16/06/19\",\"23/06/19\",\"30/06/19\",\"07/07/19\",\"14/07/19\",\"21/07/19\",\"28/07/19\",\"04/08/19\",\"11/08/19\",\"18/08/19\",\"25/08/19\",\"01/09/19\",\"08/09/19\",\"15/09/19\",\"22/09/19\",\"29/09/19\",\"06/10/19\",\"13/10/19\",\"20/10/19\",\"27/10/19\",\"03/11/19\",\"10/11/19\",\"17/11/19\",\"24/11/19\",\"01/12/19\",\"08/12/19\",\"15/12/19\",\"22/12/19\",\"29/12/19\",\"05/01/20\",\"12/01/20\",\"19/01/20\",\"26/01/20\",\"02/02/20\",\"09/02/20\",\"16/02/20\",\"23/02/20\",\"01/03/20\",\"08/03/20\",\"15/03/20\",\"22/03/20\",\"29/03/20\",\"05/04/20\",\"12/04/20\",\"19/04/20\",\"26/04/20\",\"03/05/20\",\"10/05/20\",\"17/05/20\",\"24/05/20\",\"31/05/20\",\"07/06/20\",\"14/06/20\",\"21/06/20\",\"28/06/20\",\"05/07/20\",\"12/07/20\",\"19/07/20\",\"26/07/20\",\"02/08/20\",\"09/08/20\",\"16/08/20\",\"23/08/20\",\"30/08/20\",\"06/09/20\",\"13/09/20\",\"20/09/20\",\"27/09/20\",\"04/10/20\",\"11/10/20\",\"18/10/20\",\"25/10/20\",\"01/11/20\",\"08/11/20\",\"15/11/20\",\"22/11/20\",\"29/11/20\",\"06/12/20\",\"13/12/20\",\"20/12/20\",\"27/12/20\"],\"xaxis\":\"x\",\"y\":[12835,15705,13382,15709,3729,15061,15759,15479,16003,19455,9445,12697,8735,65464,14559,4400,16004,15932,63256,16824,26316,5426,19411,11807,21089,5487,17564,5497,18434,75377,16756,17340,20945,24469,5640,16773,10420,16777,4725,69467,15498,8994,14023,20914,4248,13159,10487,2960,18647,3583,19773,4057,21229,4306,21451,22091,4422,24597,4604,25200,4140,19161,3754,24056,10289,25115,24208,24612,4970,12454,72261,12202,24918,12293,28282,6117,20461,5392,12400,5043,25732,5086,23667,4753,22977,20826,66114,5293,25266,4596,22940,4039,22262,4081,23852,3719,19795,3759,3332,5042,16712,3133,17667,3308,19564,3789,63842,19642,22114,5266,27690,7666,23530,6276,25614,4240,18035,4415,20849,9098,17578,5012,59637,11764,19576,9155,17401,4844,22481,4825,21721,5374,64115,9409,19481,4385,17385,5100,56430,9544,21822,4550,21013,4254,54996,8645,19749,4056,20011,8178,9285,5153,16152,3792,19561,3721,18078,4218,58091,8486,21180,4306,32133,6538,9592,8224,26823,5342,20558,6665,26698,6215,23484,6262,27221,6878,29993,7661,24787,7403,76346,13391,25496,8126,81301,21752,21743,7557,23086,6972,24960,22119,24923,6619,22889,5353,21558,5924,0,0,0,0,0,0],\"yaxis\":\"y\",\"type\":\"scatter\"}],                        {\"template\":{\"data\":{\"histogram2dcontour\":[{\"type\":\"histogram2dcontour\",\"colorbar\":{\"outlinewidth\":0,\"ticks\":\"\"},\"colorscale\":[[0.0,\"#0d0887\"],[0.1111111111111111,\"#46039f\"],[0.2222222222222222,\"#7201a8\"],[0.3333333333333333,\"#9c179e\"],[0.4444444444444444,\"#bd3786\"],[0.5555555555555556,\"#d8576b\"],[0.6666666666666666,\"#ed7953\"],[0.7777777777777778,\"#fb9f3a\"],[0.8888888888888888,\"#fdca26\"],[1.0,\"#f0f921\"]]}],\"choropleth\":[{\"type\":\"choropleth\",\"colorbar\":{\"outlinewidth\":0,\"ticks\":\"\"}}],\"histogram2d\":[{\"type\":\"histogram2d\",\"colorbar\":{\"outlinewidth\":0,\"ticks\":\"\"},\"colorscale\":[[0.0,\"#0d0887\"],[0.1111111111111111,\"#46039f\"],[0.2222222222222222,\"#7201a8\"],[0.3333333333333333,\"#9c179e\"],[0.4444444444444444,\"#bd3786\"],[0.5555555555555556,\"#d8576b\"],[0.6666666666666666,\"#ed7953\"],[0.7777777777777778,\"#fb9f3a\"],[0.8888888888888888,\"#fdca26\"],[1.0,\"#f0f921\"]]}],\"heatmap\":[{\"type\":\"heatmap\",\"colorbar\":{\"outlinewidth\":0,\"ticks\":\"\"},\"colorscale\":[[0.0,\"#0d0887\"],[0.1111111111111111,\"#46039f\"],[0.2222222222222222,\"#7201a8\"],[0.3333333333333333,\"#9c179e\"],[0.4444444444444444,\"#bd3786\"],[0.5555555555555556,\"#d8576b\"],[0.6666666666666666,\"#ed7953\"],[0.7777777777777778,\"#fb9f3a\"],[0.8888888888888888,\"#fdca26\"],[1.0,\"#f0f921\"]]}],\"heatmapgl\":[{\"type\":\"heatmapgl\",\"colorbar\":{\"outlinewidth\":0,\"ticks\":\"\"},\"colorscale\":[[0.0,\"#0d0887\"],[0.1111111111111111,\"#46039f\"],[0.2222222222222222,\"#7201a8\"],[0.3333333333333333,\"#9c179e\"],[0.4444444444444444,\"#bd3786\"],[0.5555555555555556,\"#d8576b\"],[0.6666666666666666,\"#ed7953\"],[0.7777777777777778,\"#fb9f3a\"],[0.8888888888888888,\"#fdca26\"],[1.0,\"#f0f921\"]]}],\"contourcarpet\":[{\"type\":\"contourcarpet\",\"colorbar\":{\"outlinewidth\":0,\"ticks\":\"\"}}],\"contour\":[{\"type\":\"contour\",\"colorbar\":{\"outlinewidth\":0,\"ticks\":\"\"},\"colorscale\":[[0.0,\"#0d0887\"],[0.1111111111111111,\"#46039f\"],[0.2222222222222222,\"#7201a8\"],[0.3333333333333333,\"#9c179e\"],[0.4444444444444444,\"#bd3786\"],[0.5555555555555556,\"#d8576b\"],[0.6666666666666666,\"#ed7953\"],[0.7777777777777778,\"#fb9f3a\"],[0.8888888888888888,\"#fdca26\"],[1.0,\"#f0f921\"]]}],\"surface\":[{\"type\":\"surface\",\"colorbar\":{\"outlinewidth\":0,\"ticks\":\"\"},\"colorscale\":[[0.0,\"#0d0887\"],[0.1111111111111111,\"#46039f\"],[0.2222222222222222,\"#7201a8\"],[0.3333333333333333,\"#9c179e\"],[0.4444444444444444,\"#bd3786\"],[0.5555555555555556,\"#d8576b\"],[0.6666666666666666,\"#ed7953\"],[0.7777777777777778,\"#fb9f3a\"],[0.8888888888888888,\"#fdca26\"],[1.0,\"#f0f921\"]]}],\"mesh3d\":[{\"type\":\"mesh3d\",\"colorbar\":{\"outlinewidth\":0,\"ticks\":\"\"}}],\"scatter\":[{\"fillpattern\":{\"fillmode\":\"overlay\",\"size\":10,\"solidity\":0.2},\"type\":\"scatter\"}],\"parcoords\":[{\"type\":\"parcoords\",\"line\":{\"colorbar\":{\"outlinewidth\":0,\"ticks\":\"\"}}}],\"scatterpolargl\":[{\"type\":\"scatterpolargl\",\"marker\":{\"colorbar\":{\"outlinewidth\":0,\"ticks\":\"\"}}}],\"bar\":[{\"error_x\":{\"color\":\"#2a3f5f\"},\"error_y\":{\"color\":\"#2a3f5f\"},\"marker\":{\"line\":{\"color\":\"#E5ECF6\",\"width\":0.5},\"pattern\":{\"fillmode\":\"overlay\",\"size\":10,\"solidity\":0.2}},\"type\":\"bar\"}],\"scattergeo\":[{\"type\":\"scattergeo\",\"marker\":{\"colorbar\":{\"outlinewidth\":0,\"ticks\":\"\"}}}],\"scatterpolar\":[{\"type\":\"scatterpolar\",\"marker\":{\"colorbar\":{\"outlinewidth\":0,\"ticks\":\"\"}}}],\"histogram\":[{\"marker\":{\"pattern\":{\"fillmode\":\"overlay\",\"size\":10,\"solidity\":0.2}},\"type\":\"histogram\"}],\"scattergl\":[{\"type\":\"scattergl\",\"marker\":{\"colorbar\":{\"outlinewidth\":0,\"ticks\":\"\"}}}],\"scatter3d\":[{\"type\":\"scatter3d\",\"line\":{\"colorbar\":{\"outlinewidth\":0,\"ticks\":\"\"}},\"marker\":{\"colorbar\":{\"outlinewidth\":0,\"ticks\":\"\"}}}],\"scattermapbox\":[{\"type\":\"scattermapbox\",\"marker\":{\"colorbar\":{\"outlinewidth\":0,\"ticks\":\"\"}}}],\"scatterternary\":[{\"type\":\"scatterternary\",\"marker\":{\"colorbar\":{\"outlinewidth\":0,\"ticks\":\"\"}}}],\"scattercarpet\":[{\"type\":\"scattercarpet\",\"marker\":{\"colorbar\":{\"outlinewidth\":0,\"ticks\":\"\"}}}],\"carpet\":[{\"aaxis\":{\"endlinecolor\":\"#2a3f5f\",\"gridcolor\":\"white\",\"linecolor\":\"white\",\"minorgridcolor\":\"white\",\"startlinecolor\":\"#2a3f5f\"},\"baxis\":{\"endlinecolor\":\"#2a3f5f\",\"gridcolor\":\"white\",\"linecolor\":\"white\",\"minorgridcolor\":\"white\",\"startlinecolor\":\"#2a3f5f\"},\"type\":\"carpet\"}],\"table\":[{\"cells\":{\"fill\":{\"color\":\"#EBF0F8\"},\"line\":{\"color\":\"white\"}},\"header\":{\"fill\":{\"color\":\"#C8D4E3\"},\"line\":{\"color\":\"white\"}},\"type\":\"table\"}],\"barpolar\":[{\"marker\":{\"line\":{\"color\":\"#E5ECF6\",\"width\":0.5},\"pattern\":{\"fillmode\":\"overlay\",\"size\":10,\"solidity\":0.2}},\"type\":\"barpolar\"}],\"pie\":[{\"automargin\":true,\"type\":\"pie\"}]},\"layout\":{\"autotypenumbers\":\"strict\",\"colorway\":[\"#636efa\",\"#EF553B\",\"#00cc96\",\"#ab63fa\",\"#FFA15A\",\"#19d3f3\",\"#FF6692\",\"#B6E880\",\"#FF97FF\",\"#FECB52\"],\"font\":{\"color\":\"#2a3f5f\"},\"hovermode\":\"closest\",\"hoverlabel\":{\"align\":\"left\"},\"paper_bgcolor\":\"white\",\"plot_bgcolor\":\"#E5ECF6\",\"polar\":{\"bgcolor\":\"#E5ECF6\",\"angularaxis\":{\"gridcolor\":\"white\",\"linecolor\":\"white\",\"ticks\":\"\"},\"radialaxis\":{\"gridcolor\":\"white\",\"linecolor\":\"white\",\"ticks\":\"\"}},\"ternary\":{\"bgcolor\":\"#E5ECF6\",\"aaxis\":{\"gridcolor\":\"white\",\"linecolor\":\"white\",\"ticks\":\"\"},\"baxis\":{\"gridcolor\":\"white\",\"linecolor\":\"white\",\"ticks\":\"\"},\"caxis\":{\"gridcolor\":\"white\",\"linecolor\":\"white\",\"ticks\":\"\"}},\"coloraxis\":{\"colorbar\":{\"outlinewidth\":0,\"ticks\":\"\"}},\"colorscale\":{\"sequential\":[[0.0,\"#0d0887\"],[0.1111111111111111,\"#46039f\"],[0.2222222222222222,\"#7201a8\"],[0.3333333333333333,\"#9c179e\"],[0.4444444444444444,\"#bd3786\"],[0.5555555555555556,\"#d8576b\"],[0.6666666666666666,\"#ed7953\"],[0.7777777777777778,\"#fb9f3a\"],[0.8888888888888888,\"#fdca26\"],[1.0,\"#f0f921\"]],\"sequentialminus\":[[0.0,\"#0d0887\"],[0.1111111111111111,\"#46039f\"],[0.2222222222222222,\"#7201a8\"],[0.3333333333333333,\"#9c179e\"],[0.4444444444444444,\"#bd3786\"],[0.5555555555555556,\"#d8576b\"],[0.6666666666666666,\"#ed7953\"],[0.7777777777777778,\"#fb9f3a\"],[0.8888888888888888,\"#fdca26\"],[1.0,\"#f0f921\"]],\"diverging\":[[0,\"#8e0152\"],[0.1,\"#c51b7d\"],[0.2,\"#de77ae\"],[0.3,\"#f1b6da\"],[0.4,\"#fde0ef\"],[0.5,\"#f7f7f7\"],[0.6,\"#e6f5d0\"],[0.7,\"#b8e186\"],[0.8,\"#7fbc41\"],[0.9,\"#4d9221\"],[1,\"#276419\"]]},\"xaxis\":{\"gridcolor\":\"white\",\"linecolor\":\"white\",\"ticks\":\"\",\"title\":{\"standoff\":15},\"zerolinecolor\":\"white\",\"automargin\":true,\"zerolinewidth\":2},\"yaxis\":{\"gridcolor\":\"white\",\"linecolor\":\"white\",\"ticks\":\"\",\"title\":{\"standoff\":15},\"zerolinecolor\":\"white\",\"automargin\":true,\"zerolinewidth\":2},\"scene\":{\"xaxis\":{\"backgroundcolor\":\"#E5ECF6\",\"gridcolor\":\"white\",\"linecolor\":\"white\",\"showbackground\":true,\"ticks\":\"\",\"zerolinecolor\":\"white\",\"gridwidth\":2},\"yaxis\":{\"backgroundcolor\":\"#E5ECF6\",\"gridcolor\":\"white\",\"linecolor\":\"white\",\"showbackground\":true,\"ticks\":\"\",\"zerolinecolor\":\"white\",\"gridwidth\":2},\"zaxis\":{\"backgroundcolor\":\"#E5ECF6\",\"gridcolor\":\"white\",\"linecolor\":\"white\",\"showbackground\":true,\"ticks\":\"\",\"zerolinecolor\":\"white\",\"gridwidth\":2}},\"shapedefaults\":{\"line\":{\"color\":\"#2a3f5f\"}},\"annotationdefaults\":{\"arrowcolor\":\"#2a3f5f\",\"arrowhead\":0,\"arrowwidth\":1},\"geo\":{\"bgcolor\":\"white\",\"landcolor\":\"#E5ECF6\",\"subunitcolor\":\"white\",\"showland\":true,\"showlakes\":true,\"lakecolor\":\"white\"},\"title\":{\"x\":0.05},\"mapbox\":{\"style\":\"light\"}}},\"xaxis\":{\"anchor\":\"y\",\"domain\":[0.0,1.0],\"title\":{\"text\":\"Date\"}},\"yaxis\":{\"anchor\":\"x\",\"domain\":[0.0,1.0],\"title\":{\"text\":\"Sales\"}},\"legend\":{\"title\":{\"text\":\"Product\"},\"tracegroupgap\":0},\"title\":{\"text\":\"SKU4 sales over 2017-2020\"}},                        {\"responsive\": true}                    ).then(function(){\n",
       "                            \n",
       "var gd = document.getElementById('dbba4f33-ca02-4a85-96ef-0853a4483311');\n",
       "var x = new MutationObserver(function (mutations, observer) {{\n",
       "        var display = window.getComputedStyle(gd).display;\n",
       "        if (!display || display === 'none') {{\n",
       "            console.log([gd, 'removed!']);\n",
       "            Plotly.purge(gd);\n",
       "            observer.disconnect();\n",
       "        }}\n",
       "}});\n",
       "\n",
       "// Listen for the removal of the full notebook cells\n",
       "var notebookContainer = gd.closest('#notebook-container');\n",
       "if (notebookContainer) {{\n",
       "    x.observe(notebookContainer, {childList: true});\n",
       "}}\n",
       "\n",
       "// Listen for the clearing of the current output cell\n",
       "var outputEl = gd.closest('.output');\n",
       "if (outputEl) {{\n",
       "    x.observe(outputEl, {childList: true});\n",
       "}}\n",
       "\n",
       "                        })                };                });            </script>        </div>"
      ]
     },
     "metadata": {},
     "output_type": "display_data"
    },
    {
     "data": {
      "application/vnd.plotly.v1+json": {
       "config": {
        "plotlyServerURL": "https://plot.ly"
       },
       "data": [
        {
         "hovertemplate": "Product=SKU5<br>Date=%{x}<br>Sales=%{y}<extra></extra>",
         "legendgroup": "SKU5",
         "line": {
          "color": "#636efa",
          "dash": "solid"
         },
         "marker": {
          "symbol": "circle"
         },
         "mode": "lines",
         "name": "SKU5",
         "orientation": "v",
         "showlegend": true,
         "type": "scatter",
         "x": [
          "05/02/17",
          "12/02/17",
          "19/02/17",
          "26/02/17",
          "05/03/17",
          "12/03/17",
          "19/03/17",
          "26/03/17",
          "02/04/17",
          "09/04/17",
          "16/04/17",
          "23/04/17",
          "30/04/17",
          "07/05/17",
          "14/05/17",
          "21/05/17",
          "28/05/17",
          "04/06/17",
          "11/06/17",
          "18/06/17",
          "25/06/17",
          "02/07/17",
          "09/07/17",
          "16/07/17",
          "23/07/17",
          "30/07/17",
          "06/08/17",
          "13/08/17",
          "20/08/17",
          "27/08/17",
          "03/09/17",
          "10/09/17",
          "17/09/17",
          "24/09/17",
          "01/10/17",
          "08/10/17",
          "15/10/17",
          "22/10/17",
          "29/10/17",
          "05/11/17",
          "12/11/17",
          "19/11/17",
          "26/11/17",
          "03/12/17",
          "10/12/17",
          "17/12/17",
          "24/12/17",
          "31/12/17",
          "07/01/18",
          "14/01/18",
          "21/01/18",
          "28/01/18",
          "04/02/18",
          "11/02/18",
          "18/02/18",
          "25/02/18",
          "04/03/18",
          "11/03/18",
          "18/03/18",
          "25/03/18",
          "01/04/18",
          "08/04/18",
          "15/04/18",
          "22/04/18",
          "29/04/18",
          "06/05/18",
          "13/05/18",
          "20/05/18",
          "27/05/18",
          "03/06/18",
          "10/06/18",
          "17/06/18",
          "24/06/18",
          "01/07/18",
          "08/07/18",
          "15/07/18",
          "22/07/18",
          "29/07/18",
          "05/08/18",
          "12/08/18",
          "19/08/18",
          "26/08/18",
          "02/09/18",
          "09/09/18",
          "16/09/18",
          "23/09/18",
          "30/09/18",
          "07/10/18",
          "14/10/18",
          "21/10/18",
          "28/10/18",
          "04/11/18",
          "11/11/18",
          "18/11/18",
          "25/11/18",
          "02/12/18",
          "09/12/18",
          "16/12/18",
          "23/12/18",
          "30/12/18",
          "06/01/19",
          "13/01/19",
          "20/01/19",
          "27/01/19",
          "03/02/19",
          "10/02/19",
          "17/02/19",
          "24/02/19",
          "03/03/19",
          "10/03/19",
          "17/03/19",
          "24/03/19",
          "31/03/19",
          "07/04/19",
          "14/04/19",
          "21/04/19",
          "28/04/19",
          "05/05/19",
          "12/05/19",
          "19/05/19",
          "26/05/19",
          "02/06/19",
          "09/06/19",
          "16/06/19",
          "23/06/19",
          "30/06/19",
          "07/07/19",
          "14/07/19",
          "21/07/19",
          "28/07/19",
          "04/08/19",
          "11/08/19",
          "18/08/19",
          "25/08/19",
          "01/09/19",
          "08/09/19",
          "15/09/19",
          "22/09/19",
          "29/09/19",
          "06/10/19",
          "13/10/19",
          "20/10/19",
          "27/10/19",
          "03/11/19",
          "10/11/19",
          "17/11/19",
          "24/11/19",
          "01/12/19",
          "08/12/19",
          "15/12/19",
          "22/12/19",
          "29/12/19",
          "05/01/20",
          "12/01/20",
          "19/01/20",
          "26/01/20",
          "02/02/20",
          "09/02/20",
          "16/02/20",
          "23/02/20",
          "01/03/20",
          "08/03/20",
          "15/03/20",
          "22/03/20",
          "29/03/20",
          "05/04/20",
          "12/04/20",
          "19/04/20",
          "26/04/20",
          "03/05/20",
          "10/05/20",
          "17/05/20",
          "24/05/20",
          "31/05/20",
          "07/06/20",
          "14/06/20",
          "21/06/20",
          "28/06/20",
          "05/07/20",
          "12/07/20",
          "19/07/20",
          "26/07/20",
          "02/08/20",
          "09/08/20",
          "16/08/20",
          "23/08/20",
          "30/08/20",
          "06/09/20",
          "13/09/20",
          "20/09/20",
          "27/09/20",
          "04/10/20",
          "11/10/20",
          "18/10/20",
          "25/10/20",
          "01/11/20",
          "08/11/20",
          "15/11/20",
          "22/11/20",
          "29/11/20",
          "06/12/20",
          "13/12/20",
          "20/12/20",
          "27/12/20"
         ],
         "xaxis": "x",
         "y": [
          5229,
          5748,
          20536,
          5928,
          21787,
          5952,
          5994,
          15317,
          6194,
          6467,
          5740,
          42344,
          14974,
          6174,
          45348,
          16178,
          6856,
          6716,
          22959,
          6927,
          25870,
          7285,
          55905,
          17012,
          7485,
          7519,
          25361,
          7462,
          73114,
          16280,
          7209,
          23030,
          7000,
          55567,
          17914,
          6830,
          25641,
          15565,
          24714,
          6935,
          50485,
          13982,
          11140,
          12363,
          17940,
          11647,
          12059,
          4298,
          14637,
          5294,
          51114,
          11520,
          5389,
          20916,
          4965,
          5256,
          18282,
          5285,
          4832,
          12206,
          4562,
          4226,
          4993,
          6608,
          42963,
          13215,
          6442,
          17038,
          6759,
          55160,
          14319,
          6693,
          6789,
          56275,
          43611,
          21242,
          15810,
          22544,
          14761,
          6716,
          7212,
          46909,
          15599,
          45838,
          14169,
          21634,
          6973,
          40051,
          18984,
          24517,
          15187,
          7449,
          18669,
          5863,
          13225,
          6095,
          23690,
          14226,
          14616,
          7890,
          4889,
          4934,
          5241,
          12323,
          5251,
          13048,
          5421,
          16020,
          4829,
          17449,
          5738,
          17134,
          5365,
          5523,
          19294,
          5007,
          15324,
          5504,
          47061,
          14292,
          5687,
          17663,
          57064,
          17809,
          6203,
          61658,
          39035,
          18790,
          6622,
          18827,
          14597,
          63644,
          14461,
          6393,
          6739,
          6009,
          56807,
          24271,
          18570,
          7913,
          57496,
          9007,
          17524,
          20191,
          12292,
          6453,
          13577,
          6516,
          13941,
          6751,
          17296,
          8011,
          5482,
          5396,
          5579,
          6020,
          11446,
          13686,
          5999,
          5666,
          5719,
          6201,
          6808,
          9327,
          8379,
          16928,
          21732,
          7098,
          6955,
          20491,
          8974,
          61753,
          14153,
          14048,
          7903,
          12949,
          7074,
          15787,
          15044,
          8282,
          73058,
          19258,
          34540,
          43900,
          8048,
          40956,
          7271,
          20715,
          6975,
          7231,
          7236,
          7525,
          36651,
          19436,
          19392,
          32410,
          6887,
          6059,
          0,
          0,
          0,
          0,
          0,
          0
         ],
         "yaxis": "y"
        }
       ],
       "layout": {
        "legend": {
         "title": {
          "text": "Product"
         },
         "tracegroupgap": 0
        },
        "template": {
         "data": {
          "bar": [
           {
            "error_x": {
             "color": "#2a3f5f"
            },
            "error_y": {
             "color": "#2a3f5f"
            },
            "marker": {
             "line": {
              "color": "#E5ECF6",
              "width": 0.5
             },
             "pattern": {
              "fillmode": "overlay",
              "size": 10,
              "solidity": 0.2
             }
            },
            "type": "bar"
           }
          ],
          "barpolar": [
           {
            "marker": {
             "line": {
              "color": "#E5ECF6",
              "width": 0.5
             },
             "pattern": {
              "fillmode": "overlay",
              "size": 10,
              "solidity": 0.2
             }
            },
            "type": "barpolar"
           }
          ],
          "carpet": [
           {
            "aaxis": {
             "endlinecolor": "#2a3f5f",
             "gridcolor": "white",
             "linecolor": "white",
             "minorgridcolor": "white",
             "startlinecolor": "#2a3f5f"
            },
            "baxis": {
             "endlinecolor": "#2a3f5f",
             "gridcolor": "white",
             "linecolor": "white",
             "minorgridcolor": "white",
             "startlinecolor": "#2a3f5f"
            },
            "type": "carpet"
           }
          ],
          "choropleth": [
           {
            "colorbar": {
             "outlinewidth": 0,
             "ticks": ""
            },
            "type": "choropleth"
           }
          ],
          "contour": [
           {
            "colorbar": {
             "outlinewidth": 0,
             "ticks": ""
            },
            "colorscale": [
             [
              0,
              "#0d0887"
             ],
             [
              0.1111111111111111,
              "#46039f"
             ],
             [
              0.2222222222222222,
              "#7201a8"
             ],
             [
              0.3333333333333333,
              "#9c179e"
             ],
             [
              0.4444444444444444,
              "#bd3786"
             ],
             [
              0.5555555555555556,
              "#d8576b"
             ],
             [
              0.6666666666666666,
              "#ed7953"
             ],
             [
              0.7777777777777778,
              "#fb9f3a"
             ],
             [
              0.8888888888888888,
              "#fdca26"
             ],
             [
              1,
              "#f0f921"
             ]
            ],
            "type": "contour"
           }
          ],
          "contourcarpet": [
           {
            "colorbar": {
             "outlinewidth": 0,
             "ticks": ""
            },
            "type": "contourcarpet"
           }
          ],
          "heatmap": [
           {
            "colorbar": {
             "outlinewidth": 0,
             "ticks": ""
            },
            "colorscale": [
             [
              0,
              "#0d0887"
             ],
             [
              0.1111111111111111,
              "#46039f"
             ],
             [
              0.2222222222222222,
              "#7201a8"
             ],
             [
              0.3333333333333333,
              "#9c179e"
             ],
             [
              0.4444444444444444,
              "#bd3786"
             ],
             [
              0.5555555555555556,
              "#d8576b"
             ],
             [
              0.6666666666666666,
              "#ed7953"
             ],
             [
              0.7777777777777778,
              "#fb9f3a"
             ],
             [
              0.8888888888888888,
              "#fdca26"
             ],
             [
              1,
              "#f0f921"
             ]
            ],
            "type": "heatmap"
           }
          ],
          "heatmapgl": [
           {
            "colorbar": {
             "outlinewidth": 0,
             "ticks": ""
            },
            "colorscale": [
             [
              0,
              "#0d0887"
             ],
             [
              0.1111111111111111,
              "#46039f"
             ],
             [
              0.2222222222222222,
              "#7201a8"
             ],
             [
              0.3333333333333333,
              "#9c179e"
             ],
             [
              0.4444444444444444,
              "#bd3786"
             ],
             [
              0.5555555555555556,
              "#d8576b"
             ],
             [
              0.6666666666666666,
              "#ed7953"
             ],
             [
              0.7777777777777778,
              "#fb9f3a"
             ],
             [
              0.8888888888888888,
              "#fdca26"
             ],
             [
              1,
              "#f0f921"
             ]
            ],
            "type": "heatmapgl"
           }
          ],
          "histogram": [
           {
            "marker": {
             "pattern": {
              "fillmode": "overlay",
              "size": 10,
              "solidity": 0.2
             }
            },
            "type": "histogram"
           }
          ],
          "histogram2d": [
           {
            "colorbar": {
             "outlinewidth": 0,
             "ticks": ""
            },
            "colorscale": [
             [
              0,
              "#0d0887"
             ],
             [
              0.1111111111111111,
              "#46039f"
             ],
             [
              0.2222222222222222,
              "#7201a8"
             ],
             [
              0.3333333333333333,
              "#9c179e"
             ],
             [
              0.4444444444444444,
              "#bd3786"
             ],
             [
              0.5555555555555556,
              "#d8576b"
             ],
             [
              0.6666666666666666,
              "#ed7953"
             ],
             [
              0.7777777777777778,
              "#fb9f3a"
             ],
             [
              0.8888888888888888,
              "#fdca26"
             ],
             [
              1,
              "#f0f921"
             ]
            ],
            "type": "histogram2d"
           }
          ],
          "histogram2dcontour": [
           {
            "colorbar": {
             "outlinewidth": 0,
             "ticks": ""
            },
            "colorscale": [
             [
              0,
              "#0d0887"
             ],
             [
              0.1111111111111111,
              "#46039f"
             ],
             [
              0.2222222222222222,
              "#7201a8"
             ],
             [
              0.3333333333333333,
              "#9c179e"
             ],
             [
              0.4444444444444444,
              "#bd3786"
             ],
             [
              0.5555555555555556,
              "#d8576b"
             ],
             [
              0.6666666666666666,
              "#ed7953"
             ],
             [
              0.7777777777777778,
              "#fb9f3a"
             ],
             [
              0.8888888888888888,
              "#fdca26"
             ],
             [
              1,
              "#f0f921"
             ]
            ],
            "type": "histogram2dcontour"
           }
          ],
          "mesh3d": [
           {
            "colorbar": {
             "outlinewidth": 0,
             "ticks": ""
            },
            "type": "mesh3d"
           }
          ],
          "parcoords": [
           {
            "line": {
             "colorbar": {
              "outlinewidth": 0,
              "ticks": ""
             }
            },
            "type": "parcoords"
           }
          ],
          "pie": [
           {
            "automargin": true,
            "type": "pie"
           }
          ],
          "scatter": [
           {
            "fillpattern": {
             "fillmode": "overlay",
             "size": 10,
             "solidity": 0.2
            },
            "type": "scatter"
           }
          ],
          "scatter3d": [
           {
            "line": {
             "colorbar": {
              "outlinewidth": 0,
              "ticks": ""
             }
            },
            "marker": {
             "colorbar": {
              "outlinewidth": 0,
              "ticks": ""
             }
            },
            "type": "scatter3d"
           }
          ],
          "scattercarpet": [
           {
            "marker": {
             "colorbar": {
              "outlinewidth": 0,
              "ticks": ""
             }
            },
            "type": "scattercarpet"
           }
          ],
          "scattergeo": [
           {
            "marker": {
             "colorbar": {
              "outlinewidth": 0,
              "ticks": ""
             }
            },
            "type": "scattergeo"
           }
          ],
          "scattergl": [
           {
            "marker": {
             "colorbar": {
              "outlinewidth": 0,
              "ticks": ""
             }
            },
            "type": "scattergl"
           }
          ],
          "scattermapbox": [
           {
            "marker": {
             "colorbar": {
              "outlinewidth": 0,
              "ticks": ""
             }
            },
            "type": "scattermapbox"
           }
          ],
          "scatterpolar": [
           {
            "marker": {
             "colorbar": {
              "outlinewidth": 0,
              "ticks": ""
             }
            },
            "type": "scatterpolar"
           }
          ],
          "scatterpolargl": [
           {
            "marker": {
             "colorbar": {
              "outlinewidth": 0,
              "ticks": ""
             }
            },
            "type": "scatterpolargl"
           }
          ],
          "scatterternary": [
           {
            "marker": {
             "colorbar": {
              "outlinewidth": 0,
              "ticks": ""
             }
            },
            "type": "scatterternary"
           }
          ],
          "surface": [
           {
            "colorbar": {
             "outlinewidth": 0,
             "ticks": ""
            },
            "colorscale": [
             [
              0,
              "#0d0887"
             ],
             [
              0.1111111111111111,
              "#46039f"
             ],
             [
              0.2222222222222222,
              "#7201a8"
             ],
             [
              0.3333333333333333,
              "#9c179e"
             ],
             [
              0.4444444444444444,
              "#bd3786"
             ],
             [
              0.5555555555555556,
              "#d8576b"
             ],
             [
              0.6666666666666666,
              "#ed7953"
             ],
             [
              0.7777777777777778,
              "#fb9f3a"
             ],
             [
              0.8888888888888888,
              "#fdca26"
             ],
             [
              1,
              "#f0f921"
             ]
            ],
            "type": "surface"
           }
          ],
          "table": [
           {
            "cells": {
             "fill": {
              "color": "#EBF0F8"
             },
             "line": {
              "color": "white"
             }
            },
            "header": {
             "fill": {
              "color": "#C8D4E3"
             },
             "line": {
              "color": "white"
             }
            },
            "type": "table"
           }
          ]
         },
         "layout": {
          "annotationdefaults": {
           "arrowcolor": "#2a3f5f",
           "arrowhead": 0,
           "arrowwidth": 1
          },
          "autotypenumbers": "strict",
          "coloraxis": {
           "colorbar": {
            "outlinewidth": 0,
            "ticks": ""
           }
          },
          "colorscale": {
           "diverging": [
            [
             0,
             "#8e0152"
            ],
            [
             0.1,
             "#c51b7d"
            ],
            [
             0.2,
             "#de77ae"
            ],
            [
             0.3,
             "#f1b6da"
            ],
            [
             0.4,
             "#fde0ef"
            ],
            [
             0.5,
             "#f7f7f7"
            ],
            [
             0.6,
             "#e6f5d0"
            ],
            [
             0.7,
             "#b8e186"
            ],
            [
             0.8,
             "#7fbc41"
            ],
            [
             0.9,
             "#4d9221"
            ],
            [
             1,
             "#276419"
            ]
           ],
           "sequential": [
            [
             0,
             "#0d0887"
            ],
            [
             0.1111111111111111,
             "#46039f"
            ],
            [
             0.2222222222222222,
             "#7201a8"
            ],
            [
             0.3333333333333333,
             "#9c179e"
            ],
            [
             0.4444444444444444,
             "#bd3786"
            ],
            [
             0.5555555555555556,
             "#d8576b"
            ],
            [
             0.6666666666666666,
             "#ed7953"
            ],
            [
             0.7777777777777778,
             "#fb9f3a"
            ],
            [
             0.8888888888888888,
             "#fdca26"
            ],
            [
             1,
             "#f0f921"
            ]
           ],
           "sequentialminus": [
            [
             0,
             "#0d0887"
            ],
            [
             0.1111111111111111,
             "#46039f"
            ],
            [
             0.2222222222222222,
             "#7201a8"
            ],
            [
             0.3333333333333333,
             "#9c179e"
            ],
            [
             0.4444444444444444,
             "#bd3786"
            ],
            [
             0.5555555555555556,
             "#d8576b"
            ],
            [
             0.6666666666666666,
             "#ed7953"
            ],
            [
             0.7777777777777778,
             "#fb9f3a"
            ],
            [
             0.8888888888888888,
             "#fdca26"
            ],
            [
             1,
             "#f0f921"
            ]
           ]
          },
          "colorway": [
           "#636efa",
           "#EF553B",
           "#00cc96",
           "#ab63fa",
           "#FFA15A",
           "#19d3f3",
           "#FF6692",
           "#B6E880",
           "#FF97FF",
           "#FECB52"
          ],
          "font": {
           "color": "#2a3f5f"
          },
          "geo": {
           "bgcolor": "white",
           "lakecolor": "white",
           "landcolor": "#E5ECF6",
           "showlakes": true,
           "showland": true,
           "subunitcolor": "white"
          },
          "hoverlabel": {
           "align": "left"
          },
          "hovermode": "closest",
          "mapbox": {
           "style": "light"
          },
          "paper_bgcolor": "white",
          "plot_bgcolor": "#E5ECF6",
          "polar": {
           "angularaxis": {
            "gridcolor": "white",
            "linecolor": "white",
            "ticks": ""
           },
           "bgcolor": "#E5ECF6",
           "radialaxis": {
            "gridcolor": "white",
            "linecolor": "white",
            "ticks": ""
           }
          },
          "scene": {
           "xaxis": {
            "backgroundcolor": "#E5ECF6",
            "gridcolor": "white",
            "gridwidth": 2,
            "linecolor": "white",
            "showbackground": true,
            "ticks": "",
            "zerolinecolor": "white"
           },
           "yaxis": {
            "backgroundcolor": "#E5ECF6",
            "gridcolor": "white",
            "gridwidth": 2,
            "linecolor": "white",
            "showbackground": true,
            "ticks": "",
            "zerolinecolor": "white"
           },
           "zaxis": {
            "backgroundcolor": "#E5ECF6",
            "gridcolor": "white",
            "gridwidth": 2,
            "linecolor": "white",
            "showbackground": true,
            "ticks": "",
            "zerolinecolor": "white"
           }
          },
          "shapedefaults": {
           "line": {
            "color": "#2a3f5f"
           }
          },
          "ternary": {
           "aaxis": {
            "gridcolor": "white",
            "linecolor": "white",
            "ticks": ""
           },
           "baxis": {
            "gridcolor": "white",
            "linecolor": "white",
            "ticks": ""
           },
           "bgcolor": "#E5ECF6",
           "caxis": {
            "gridcolor": "white",
            "linecolor": "white",
            "ticks": ""
           }
          },
          "title": {
           "x": 0.05
          },
          "xaxis": {
           "automargin": true,
           "gridcolor": "white",
           "linecolor": "white",
           "ticks": "",
           "title": {
            "standoff": 15
           },
           "zerolinecolor": "white",
           "zerolinewidth": 2
          },
          "yaxis": {
           "automargin": true,
           "gridcolor": "white",
           "linecolor": "white",
           "ticks": "",
           "title": {
            "standoff": 15
           },
           "zerolinecolor": "white",
           "zerolinewidth": 2
          }
         }
        },
        "title": {
         "text": "SKU5 sales over 2017-2020"
        },
        "xaxis": {
         "anchor": "y",
         "domain": [
          0,
          1
         ],
         "title": {
          "text": "Date"
         }
        },
        "yaxis": {
         "anchor": "x",
         "domain": [
          0,
          1
         ],
         "title": {
          "text": "Sales"
         }
        }
       }
      },
      "text/html": [
       "<div>                            <div id=\"1993b71e-da5d-4959-8a30-843e17585190\" class=\"plotly-graph-div\" style=\"height:525px; width:100%;\"></div>            <script type=\"text/javascript\">                require([\"plotly\"], function(Plotly) {                    window.PLOTLYENV=window.PLOTLYENV || {};                                    if (document.getElementById(\"1993b71e-da5d-4959-8a30-843e17585190\")) {                    Plotly.newPlot(                        \"1993b71e-da5d-4959-8a30-843e17585190\",                        [{\"hovertemplate\":\"Product=SKU5<br>Date=%{x}<br>Sales=%{y}<extra></extra>\",\"legendgroup\":\"SKU5\",\"line\":{\"color\":\"#636efa\",\"dash\":\"solid\"},\"marker\":{\"symbol\":\"circle\"},\"mode\":\"lines\",\"name\":\"SKU5\",\"orientation\":\"v\",\"showlegend\":true,\"x\":[\"05/02/17\",\"12/02/17\",\"19/02/17\",\"26/02/17\",\"05/03/17\",\"12/03/17\",\"19/03/17\",\"26/03/17\",\"02/04/17\",\"09/04/17\",\"16/04/17\",\"23/04/17\",\"30/04/17\",\"07/05/17\",\"14/05/17\",\"21/05/17\",\"28/05/17\",\"04/06/17\",\"11/06/17\",\"18/06/17\",\"25/06/17\",\"02/07/17\",\"09/07/17\",\"16/07/17\",\"23/07/17\",\"30/07/17\",\"06/08/17\",\"13/08/17\",\"20/08/17\",\"27/08/17\",\"03/09/17\",\"10/09/17\",\"17/09/17\",\"24/09/17\",\"01/10/17\",\"08/10/17\",\"15/10/17\",\"22/10/17\",\"29/10/17\",\"05/11/17\",\"12/11/17\",\"19/11/17\",\"26/11/17\",\"03/12/17\",\"10/12/17\",\"17/12/17\",\"24/12/17\",\"31/12/17\",\"07/01/18\",\"14/01/18\",\"21/01/18\",\"28/01/18\",\"04/02/18\",\"11/02/18\",\"18/02/18\",\"25/02/18\",\"04/03/18\",\"11/03/18\",\"18/03/18\",\"25/03/18\",\"01/04/18\",\"08/04/18\",\"15/04/18\",\"22/04/18\",\"29/04/18\",\"06/05/18\",\"13/05/18\",\"20/05/18\",\"27/05/18\",\"03/06/18\",\"10/06/18\",\"17/06/18\",\"24/06/18\",\"01/07/18\",\"08/07/18\",\"15/07/18\",\"22/07/18\",\"29/07/18\",\"05/08/18\",\"12/08/18\",\"19/08/18\",\"26/08/18\",\"02/09/18\",\"09/09/18\",\"16/09/18\",\"23/09/18\",\"30/09/18\",\"07/10/18\",\"14/10/18\",\"21/10/18\",\"28/10/18\",\"04/11/18\",\"11/11/18\",\"18/11/18\",\"25/11/18\",\"02/12/18\",\"09/12/18\",\"16/12/18\",\"23/12/18\",\"30/12/18\",\"06/01/19\",\"13/01/19\",\"20/01/19\",\"27/01/19\",\"03/02/19\",\"10/02/19\",\"17/02/19\",\"24/02/19\",\"03/03/19\",\"10/03/19\",\"17/03/19\",\"24/03/19\",\"31/03/19\",\"07/04/19\",\"14/04/19\",\"21/04/19\",\"28/04/19\",\"05/05/19\",\"12/05/19\",\"19/05/19\",\"26/05/19\",\"02/06/19\",\"09/06/19\",\"16/06/19\",\"23/06/19\",\"30/06/19\",\"07/07/19\",\"14/07/19\",\"21/07/19\",\"28/07/19\",\"04/08/19\",\"11/08/19\",\"18/08/19\",\"25/08/19\",\"01/09/19\",\"08/09/19\",\"15/09/19\",\"22/09/19\",\"29/09/19\",\"06/10/19\",\"13/10/19\",\"20/10/19\",\"27/10/19\",\"03/11/19\",\"10/11/19\",\"17/11/19\",\"24/11/19\",\"01/12/19\",\"08/12/19\",\"15/12/19\",\"22/12/19\",\"29/12/19\",\"05/01/20\",\"12/01/20\",\"19/01/20\",\"26/01/20\",\"02/02/20\",\"09/02/20\",\"16/02/20\",\"23/02/20\",\"01/03/20\",\"08/03/20\",\"15/03/20\",\"22/03/20\",\"29/03/20\",\"05/04/20\",\"12/04/20\",\"19/04/20\",\"26/04/20\",\"03/05/20\",\"10/05/20\",\"17/05/20\",\"24/05/20\",\"31/05/20\",\"07/06/20\",\"14/06/20\",\"21/06/20\",\"28/06/20\",\"05/07/20\",\"12/07/20\",\"19/07/20\",\"26/07/20\",\"02/08/20\",\"09/08/20\",\"16/08/20\",\"23/08/20\",\"30/08/20\",\"06/09/20\",\"13/09/20\",\"20/09/20\",\"27/09/20\",\"04/10/20\",\"11/10/20\",\"18/10/20\",\"25/10/20\",\"01/11/20\",\"08/11/20\",\"15/11/20\",\"22/11/20\",\"29/11/20\",\"06/12/20\",\"13/12/20\",\"20/12/20\",\"27/12/20\"],\"xaxis\":\"x\",\"y\":[5229,5748,20536,5928,21787,5952,5994,15317,6194,6467,5740,42344,14974,6174,45348,16178,6856,6716,22959,6927,25870,7285,55905,17012,7485,7519,25361,7462,73114,16280,7209,23030,7000,55567,17914,6830,25641,15565,24714,6935,50485,13982,11140,12363,17940,11647,12059,4298,14637,5294,51114,11520,5389,20916,4965,5256,18282,5285,4832,12206,4562,4226,4993,6608,42963,13215,6442,17038,6759,55160,14319,6693,6789,56275,43611,21242,15810,22544,14761,6716,7212,46909,15599,45838,14169,21634,6973,40051,18984,24517,15187,7449,18669,5863,13225,6095,23690,14226,14616,7890,4889,4934,5241,12323,5251,13048,5421,16020,4829,17449,5738,17134,5365,5523,19294,5007,15324,5504,47061,14292,5687,17663,57064,17809,6203,61658,39035,18790,6622,18827,14597,63644,14461,6393,6739,6009,56807,24271,18570,7913,57496,9007,17524,20191,12292,6453,13577,6516,13941,6751,17296,8011,5482,5396,5579,6020,11446,13686,5999,5666,5719,6201,6808,9327,8379,16928,21732,7098,6955,20491,8974,61753,14153,14048,7903,12949,7074,15787,15044,8282,73058,19258,34540,43900,8048,40956,7271,20715,6975,7231,7236,7525,36651,19436,19392,32410,6887,6059,0,0,0,0,0,0],\"yaxis\":\"y\",\"type\":\"scatter\"}],                        {\"template\":{\"data\":{\"histogram2dcontour\":[{\"type\":\"histogram2dcontour\",\"colorbar\":{\"outlinewidth\":0,\"ticks\":\"\"},\"colorscale\":[[0.0,\"#0d0887\"],[0.1111111111111111,\"#46039f\"],[0.2222222222222222,\"#7201a8\"],[0.3333333333333333,\"#9c179e\"],[0.4444444444444444,\"#bd3786\"],[0.5555555555555556,\"#d8576b\"],[0.6666666666666666,\"#ed7953\"],[0.7777777777777778,\"#fb9f3a\"],[0.8888888888888888,\"#fdca26\"],[1.0,\"#f0f921\"]]}],\"choropleth\":[{\"type\":\"choropleth\",\"colorbar\":{\"outlinewidth\":0,\"ticks\":\"\"}}],\"histogram2d\":[{\"type\":\"histogram2d\",\"colorbar\":{\"outlinewidth\":0,\"ticks\":\"\"},\"colorscale\":[[0.0,\"#0d0887\"],[0.1111111111111111,\"#46039f\"],[0.2222222222222222,\"#7201a8\"],[0.3333333333333333,\"#9c179e\"],[0.4444444444444444,\"#bd3786\"],[0.5555555555555556,\"#d8576b\"],[0.6666666666666666,\"#ed7953\"],[0.7777777777777778,\"#fb9f3a\"],[0.8888888888888888,\"#fdca26\"],[1.0,\"#f0f921\"]]}],\"heatmap\":[{\"type\":\"heatmap\",\"colorbar\":{\"outlinewidth\":0,\"ticks\":\"\"},\"colorscale\":[[0.0,\"#0d0887\"],[0.1111111111111111,\"#46039f\"],[0.2222222222222222,\"#7201a8\"],[0.3333333333333333,\"#9c179e\"],[0.4444444444444444,\"#bd3786\"],[0.5555555555555556,\"#d8576b\"],[0.6666666666666666,\"#ed7953\"],[0.7777777777777778,\"#fb9f3a\"],[0.8888888888888888,\"#fdca26\"],[1.0,\"#f0f921\"]]}],\"heatmapgl\":[{\"type\":\"heatmapgl\",\"colorbar\":{\"outlinewidth\":0,\"ticks\":\"\"},\"colorscale\":[[0.0,\"#0d0887\"],[0.1111111111111111,\"#46039f\"],[0.2222222222222222,\"#7201a8\"],[0.3333333333333333,\"#9c179e\"],[0.4444444444444444,\"#bd3786\"],[0.5555555555555556,\"#d8576b\"],[0.6666666666666666,\"#ed7953\"],[0.7777777777777778,\"#fb9f3a\"],[0.8888888888888888,\"#fdca26\"],[1.0,\"#f0f921\"]]}],\"contourcarpet\":[{\"type\":\"contourcarpet\",\"colorbar\":{\"outlinewidth\":0,\"ticks\":\"\"}}],\"contour\":[{\"type\":\"contour\",\"colorbar\":{\"outlinewidth\":0,\"ticks\":\"\"},\"colorscale\":[[0.0,\"#0d0887\"],[0.1111111111111111,\"#46039f\"],[0.2222222222222222,\"#7201a8\"],[0.3333333333333333,\"#9c179e\"],[0.4444444444444444,\"#bd3786\"],[0.5555555555555556,\"#d8576b\"],[0.6666666666666666,\"#ed7953\"],[0.7777777777777778,\"#fb9f3a\"],[0.8888888888888888,\"#fdca26\"],[1.0,\"#f0f921\"]]}],\"surface\":[{\"type\":\"surface\",\"colorbar\":{\"outlinewidth\":0,\"ticks\":\"\"},\"colorscale\":[[0.0,\"#0d0887\"],[0.1111111111111111,\"#46039f\"],[0.2222222222222222,\"#7201a8\"],[0.3333333333333333,\"#9c179e\"],[0.4444444444444444,\"#bd3786\"],[0.5555555555555556,\"#d8576b\"],[0.6666666666666666,\"#ed7953\"],[0.7777777777777778,\"#fb9f3a\"],[0.8888888888888888,\"#fdca26\"],[1.0,\"#f0f921\"]]}],\"mesh3d\":[{\"type\":\"mesh3d\",\"colorbar\":{\"outlinewidth\":0,\"ticks\":\"\"}}],\"scatter\":[{\"fillpattern\":{\"fillmode\":\"overlay\",\"size\":10,\"solidity\":0.2},\"type\":\"scatter\"}],\"parcoords\":[{\"type\":\"parcoords\",\"line\":{\"colorbar\":{\"outlinewidth\":0,\"ticks\":\"\"}}}],\"scatterpolargl\":[{\"type\":\"scatterpolargl\",\"marker\":{\"colorbar\":{\"outlinewidth\":0,\"ticks\":\"\"}}}],\"bar\":[{\"error_x\":{\"color\":\"#2a3f5f\"},\"error_y\":{\"color\":\"#2a3f5f\"},\"marker\":{\"line\":{\"color\":\"#E5ECF6\",\"width\":0.5},\"pattern\":{\"fillmode\":\"overlay\",\"size\":10,\"solidity\":0.2}},\"type\":\"bar\"}],\"scattergeo\":[{\"type\":\"scattergeo\",\"marker\":{\"colorbar\":{\"outlinewidth\":0,\"ticks\":\"\"}}}],\"scatterpolar\":[{\"type\":\"scatterpolar\",\"marker\":{\"colorbar\":{\"outlinewidth\":0,\"ticks\":\"\"}}}],\"histogram\":[{\"marker\":{\"pattern\":{\"fillmode\":\"overlay\",\"size\":10,\"solidity\":0.2}},\"type\":\"histogram\"}],\"scattergl\":[{\"type\":\"scattergl\",\"marker\":{\"colorbar\":{\"outlinewidth\":0,\"ticks\":\"\"}}}],\"scatter3d\":[{\"type\":\"scatter3d\",\"line\":{\"colorbar\":{\"outlinewidth\":0,\"ticks\":\"\"}},\"marker\":{\"colorbar\":{\"outlinewidth\":0,\"ticks\":\"\"}}}],\"scattermapbox\":[{\"type\":\"scattermapbox\",\"marker\":{\"colorbar\":{\"outlinewidth\":0,\"ticks\":\"\"}}}],\"scatterternary\":[{\"type\":\"scatterternary\",\"marker\":{\"colorbar\":{\"outlinewidth\":0,\"ticks\":\"\"}}}],\"scattercarpet\":[{\"type\":\"scattercarpet\",\"marker\":{\"colorbar\":{\"outlinewidth\":0,\"ticks\":\"\"}}}],\"carpet\":[{\"aaxis\":{\"endlinecolor\":\"#2a3f5f\",\"gridcolor\":\"white\",\"linecolor\":\"white\",\"minorgridcolor\":\"white\",\"startlinecolor\":\"#2a3f5f\"},\"baxis\":{\"endlinecolor\":\"#2a3f5f\",\"gridcolor\":\"white\",\"linecolor\":\"white\",\"minorgridcolor\":\"white\",\"startlinecolor\":\"#2a3f5f\"},\"type\":\"carpet\"}],\"table\":[{\"cells\":{\"fill\":{\"color\":\"#EBF0F8\"},\"line\":{\"color\":\"white\"}},\"header\":{\"fill\":{\"color\":\"#C8D4E3\"},\"line\":{\"color\":\"white\"}},\"type\":\"table\"}],\"barpolar\":[{\"marker\":{\"line\":{\"color\":\"#E5ECF6\",\"width\":0.5},\"pattern\":{\"fillmode\":\"overlay\",\"size\":10,\"solidity\":0.2}},\"type\":\"barpolar\"}],\"pie\":[{\"automargin\":true,\"type\":\"pie\"}]},\"layout\":{\"autotypenumbers\":\"strict\",\"colorway\":[\"#636efa\",\"#EF553B\",\"#00cc96\",\"#ab63fa\",\"#FFA15A\",\"#19d3f3\",\"#FF6692\",\"#B6E880\",\"#FF97FF\",\"#FECB52\"],\"font\":{\"color\":\"#2a3f5f\"},\"hovermode\":\"closest\",\"hoverlabel\":{\"align\":\"left\"},\"paper_bgcolor\":\"white\",\"plot_bgcolor\":\"#E5ECF6\",\"polar\":{\"bgcolor\":\"#E5ECF6\",\"angularaxis\":{\"gridcolor\":\"white\",\"linecolor\":\"white\",\"ticks\":\"\"},\"radialaxis\":{\"gridcolor\":\"white\",\"linecolor\":\"white\",\"ticks\":\"\"}},\"ternary\":{\"bgcolor\":\"#E5ECF6\",\"aaxis\":{\"gridcolor\":\"white\",\"linecolor\":\"white\",\"ticks\":\"\"},\"baxis\":{\"gridcolor\":\"white\",\"linecolor\":\"white\",\"ticks\":\"\"},\"caxis\":{\"gridcolor\":\"white\",\"linecolor\":\"white\",\"ticks\":\"\"}},\"coloraxis\":{\"colorbar\":{\"outlinewidth\":0,\"ticks\":\"\"}},\"colorscale\":{\"sequential\":[[0.0,\"#0d0887\"],[0.1111111111111111,\"#46039f\"],[0.2222222222222222,\"#7201a8\"],[0.3333333333333333,\"#9c179e\"],[0.4444444444444444,\"#bd3786\"],[0.5555555555555556,\"#d8576b\"],[0.6666666666666666,\"#ed7953\"],[0.7777777777777778,\"#fb9f3a\"],[0.8888888888888888,\"#fdca26\"],[1.0,\"#f0f921\"]],\"sequentialminus\":[[0.0,\"#0d0887\"],[0.1111111111111111,\"#46039f\"],[0.2222222222222222,\"#7201a8\"],[0.3333333333333333,\"#9c179e\"],[0.4444444444444444,\"#bd3786\"],[0.5555555555555556,\"#d8576b\"],[0.6666666666666666,\"#ed7953\"],[0.7777777777777778,\"#fb9f3a\"],[0.8888888888888888,\"#fdca26\"],[1.0,\"#f0f921\"]],\"diverging\":[[0,\"#8e0152\"],[0.1,\"#c51b7d\"],[0.2,\"#de77ae\"],[0.3,\"#f1b6da\"],[0.4,\"#fde0ef\"],[0.5,\"#f7f7f7\"],[0.6,\"#e6f5d0\"],[0.7,\"#b8e186\"],[0.8,\"#7fbc41\"],[0.9,\"#4d9221\"],[1,\"#276419\"]]},\"xaxis\":{\"gridcolor\":\"white\",\"linecolor\":\"white\",\"ticks\":\"\",\"title\":{\"standoff\":15},\"zerolinecolor\":\"white\",\"automargin\":true,\"zerolinewidth\":2},\"yaxis\":{\"gridcolor\":\"white\",\"linecolor\":\"white\",\"ticks\":\"\",\"title\":{\"standoff\":15},\"zerolinecolor\":\"white\",\"automargin\":true,\"zerolinewidth\":2},\"scene\":{\"xaxis\":{\"backgroundcolor\":\"#E5ECF6\",\"gridcolor\":\"white\",\"linecolor\":\"white\",\"showbackground\":true,\"ticks\":\"\",\"zerolinecolor\":\"white\",\"gridwidth\":2},\"yaxis\":{\"backgroundcolor\":\"#E5ECF6\",\"gridcolor\":\"white\",\"linecolor\":\"white\",\"showbackground\":true,\"ticks\":\"\",\"zerolinecolor\":\"white\",\"gridwidth\":2},\"zaxis\":{\"backgroundcolor\":\"#E5ECF6\",\"gridcolor\":\"white\",\"linecolor\":\"white\",\"showbackground\":true,\"ticks\":\"\",\"zerolinecolor\":\"white\",\"gridwidth\":2}},\"shapedefaults\":{\"line\":{\"color\":\"#2a3f5f\"}},\"annotationdefaults\":{\"arrowcolor\":\"#2a3f5f\",\"arrowhead\":0,\"arrowwidth\":1},\"geo\":{\"bgcolor\":\"white\",\"landcolor\":\"#E5ECF6\",\"subunitcolor\":\"white\",\"showland\":true,\"showlakes\":true,\"lakecolor\":\"white\"},\"title\":{\"x\":0.05},\"mapbox\":{\"style\":\"light\"}}},\"xaxis\":{\"anchor\":\"y\",\"domain\":[0.0,1.0],\"title\":{\"text\":\"Date\"}},\"yaxis\":{\"anchor\":\"x\",\"domain\":[0.0,1.0],\"title\":{\"text\":\"Sales\"}},\"legend\":{\"title\":{\"text\":\"Product\"},\"tracegroupgap\":0},\"title\":{\"text\":\"SKU5 sales over 2017-2020\"}},                        {\"responsive\": true}                    ).then(function(){\n",
       "                            \n",
       "var gd = document.getElementById('1993b71e-da5d-4959-8a30-843e17585190');\n",
       "var x = new MutationObserver(function (mutations, observer) {{\n",
       "        var display = window.getComputedStyle(gd).display;\n",
       "        if (!display || display === 'none') {{\n",
       "            console.log([gd, 'removed!']);\n",
       "            Plotly.purge(gd);\n",
       "            observer.disconnect();\n",
       "        }}\n",
       "}});\n",
       "\n",
       "// Listen for the removal of the full notebook cells\n",
       "var notebookContainer = gd.closest('#notebook-container');\n",
       "if (notebookContainer) {{\n",
       "    x.observe(notebookContainer, {childList: true});\n",
       "}}\n",
       "\n",
       "// Listen for the clearing of the current output cell\n",
       "var outputEl = gd.closest('.output');\n",
       "if (outputEl) {{\n",
       "    x.observe(outputEl, {childList: true});\n",
       "}}\n",
       "\n",
       "                        })                };                });            </script>        </div>"
      ]
     },
     "metadata": {},
     "output_type": "display_data"
    },
    {
     "data": {
      "application/vnd.plotly.v1+json": {
       "config": {
        "plotlyServerURL": "https://plot.ly"
       },
       "data": [
        {
         "hovertemplate": "Product=SKU6<br>Date=%{x}<br>Sales=%{y}<extra></extra>",
         "legendgroup": "SKU6",
         "line": {
          "color": "#636efa",
          "dash": "solid"
         },
         "marker": {
          "symbol": "circle"
         },
         "mode": "lines",
         "name": "SKU6",
         "orientation": "v",
         "showlegend": true,
         "type": "scatter",
         "x": [
          "05/02/17",
          "12/02/17",
          "19/02/17",
          "26/02/17",
          "05/03/17",
          "12/03/17",
          "19/03/17",
          "26/03/17",
          "02/04/17",
          "09/04/17",
          "16/04/17",
          "23/04/17",
          "30/04/17",
          "07/05/17",
          "14/05/17",
          "21/05/17",
          "28/05/17",
          "04/06/17",
          "11/06/17",
          "18/06/17",
          "25/06/17",
          "02/07/17",
          "09/07/17",
          "16/07/17",
          "23/07/17",
          "30/07/17",
          "06/08/17",
          "13/08/17",
          "20/08/17",
          "27/08/17",
          "03/09/17",
          "10/09/17",
          "17/09/17",
          "24/09/17",
          "01/10/17",
          "08/10/17",
          "15/10/17",
          "22/10/17",
          "29/10/17",
          "05/11/17",
          "12/11/17",
          "19/11/17",
          "26/11/17",
          "03/12/17",
          "10/12/17",
          "17/12/17",
          "24/12/17",
          "31/12/17",
          "07/01/18",
          "14/01/18",
          "21/01/18",
          "28/01/18",
          "04/02/18",
          "11/02/18",
          "18/02/18",
          "25/02/18",
          "04/03/18",
          "11/03/18",
          "18/03/18",
          "25/03/18",
          "01/04/18",
          "08/04/18",
          "15/04/18",
          "22/04/18",
          "29/04/18",
          "06/05/18",
          "13/05/18",
          "20/05/18",
          "27/05/18",
          "03/06/18",
          "10/06/18",
          "17/06/18",
          "24/06/18",
          "01/07/18",
          "08/07/18",
          "15/07/18",
          "22/07/18",
          "29/07/18",
          "05/08/18",
          "12/08/18",
          "19/08/18",
          "26/08/18",
          "02/09/18",
          "09/09/18",
          "16/09/18",
          "23/09/18",
          "30/09/18",
          "07/10/18",
          "14/10/18",
          "21/10/18",
          "28/10/18",
          "04/11/18",
          "11/11/18",
          "18/11/18",
          "25/11/18",
          "02/12/18",
          "09/12/18",
          "16/12/18",
          "23/12/18",
          "30/12/18",
          "06/01/19",
          "13/01/19",
          "20/01/19",
          "27/01/19",
          "03/02/19",
          "10/02/19",
          "17/02/19",
          "24/02/19",
          "03/03/19",
          "10/03/19",
          "17/03/19",
          "24/03/19",
          "31/03/19",
          "07/04/19",
          "14/04/19",
          "21/04/19",
          "28/04/19",
          "05/05/19",
          "12/05/19",
          "19/05/19",
          "26/05/19",
          "02/06/19",
          "09/06/19",
          "16/06/19",
          "23/06/19",
          "30/06/19",
          "07/07/19",
          "14/07/19",
          "21/07/19",
          "28/07/19",
          "04/08/19",
          "11/08/19",
          "18/08/19",
          "25/08/19",
          "01/09/19",
          "08/09/19",
          "15/09/19",
          "22/09/19",
          "29/09/19",
          "06/10/19",
          "13/10/19",
          "20/10/19",
          "27/10/19",
          "03/11/19",
          "10/11/19",
          "17/11/19",
          "24/11/19",
          "01/12/19",
          "08/12/19",
          "15/12/19",
          "22/12/19",
          "29/12/19",
          "05/01/20",
          "12/01/20",
          "19/01/20",
          "26/01/20",
          "02/02/20",
          "09/02/20",
          "16/02/20",
          "23/02/20",
          "01/03/20",
          "08/03/20",
          "15/03/20",
          "22/03/20",
          "29/03/20",
          "05/04/20",
          "12/04/20",
          "19/04/20",
          "26/04/20",
          "03/05/20",
          "10/05/20",
          "17/05/20",
          "24/05/20",
          "31/05/20",
          "07/06/20",
          "14/06/20",
          "21/06/20",
          "28/06/20",
          "05/07/20",
          "12/07/20",
          "19/07/20",
          "26/07/20",
          "02/08/20",
          "09/08/20",
          "16/08/20",
          "23/08/20",
          "30/08/20",
          "06/09/20",
          "13/09/20",
          "20/09/20",
          "27/09/20",
          "04/10/20",
          "11/10/20",
          "18/10/20",
          "25/10/20",
          "01/11/20",
          "08/11/20",
          "15/11/20"
         ],
         "xaxis": "x",
         "y": [
          32138,
          11659,
          12140,
          29635,
          11666,
          118504,
          32530,
          28821,
          11595,
          29675,
          9508,
          21203,
          27228,
          28788,
          29511,
          32898,
          28847,
          142953,
          27682,
          12779,
          31805,
          131072,
          29081,
          37630,
          30212,
          33159,
          118276,
          33809,
          47551,
          33724,
          15134,
          14540,
          36254,
          129254,
          14692,
          44595,
          42541,
          154098,
          241114,
          34976,
          42047,
          32668,
          44779,
          42982,
          41175,
          14744,
          13862,
          19735,
          9047,
          38639,
          10629,
          41994,
          12099,
          38384,
          11298,
          12358,
          35011,
          110490,
          34761,
          11969,
          26184,
          8121,
          31617,
          11202,
          32640,
          11884,
          12072,
          43299,
          44324,
          128647,
          34861,
          38287,
          14182,
          45147,
          14632,
          107913,
          31895,
          39265,
          15446,
          46285,
          15026,
          41251,
          13210,
          41151,
          14818,
          127468,
          27569,
          51275,
          44702,
          140995,
          181833,
          105995,
          25456,
          40660,
          25478,
          39116,
          12783,
          38557,
          33821,
          7158,
          7148,
          26272,
          8741,
          32245,
          10101,
          37295,
          11422,
          20031,
          9715,
          21482,
          10329,
          112451,
          23003,
          33932,
          8850,
          19724,
          6545,
          21279,
          9373,
          86119,
          27378,
          34735,
          10571,
          26709,
          24578,
          38589,
          11271,
          103831,
          26567,
          37663,
          13397,
          40295,
          13056,
          36294,
          12320,
          42182,
          12848,
          103617,
          23973,
          39082,
          50881,
          138789,
          143887,
          163536,
          29842,
          36323,
          26587,
          40726,
          13056,
          14398,
          16213,
          6067,
          7314,
          27657,
          9984,
          30336,
          9831,
          32102,
          10955,
          24330,
          9934,
          24731,
          11742,
          20879,
          11874,
          9705,
          6756,
          16926,
          7726,
          8302,
          7924,
          63725,
          23969,
          29202,
          11104,
          24753,
          11518,
          29560,
          12577,
          27671,
          8670,
          24698,
          69799,
          26276,
          7722,
          16009,
          8158,
          29805,
          8164,
          80769,
          21692,
          23072,
          42044,
          96619,
          115798,
          152186,
          26445,
          26414
         ],
         "yaxis": "y"
        }
       ],
       "layout": {
        "legend": {
         "title": {
          "text": "Product"
         },
         "tracegroupgap": 0
        },
        "template": {
         "data": {
          "bar": [
           {
            "error_x": {
             "color": "#2a3f5f"
            },
            "error_y": {
             "color": "#2a3f5f"
            },
            "marker": {
             "line": {
              "color": "#E5ECF6",
              "width": 0.5
             },
             "pattern": {
              "fillmode": "overlay",
              "size": 10,
              "solidity": 0.2
             }
            },
            "type": "bar"
           }
          ],
          "barpolar": [
           {
            "marker": {
             "line": {
              "color": "#E5ECF6",
              "width": 0.5
             },
             "pattern": {
              "fillmode": "overlay",
              "size": 10,
              "solidity": 0.2
             }
            },
            "type": "barpolar"
           }
          ],
          "carpet": [
           {
            "aaxis": {
             "endlinecolor": "#2a3f5f",
             "gridcolor": "white",
             "linecolor": "white",
             "minorgridcolor": "white",
             "startlinecolor": "#2a3f5f"
            },
            "baxis": {
             "endlinecolor": "#2a3f5f",
             "gridcolor": "white",
             "linecolor": "white",
             "minorgridcolor": "white",
             "startlinecolor": "#2a3f5f"
            },
            "type": "carpet"
           }
          ],
          "choropleth": [
           {
            "colorbar": {
             "outlinewidth": 0,
             "ticks": ""
            },
            "type": "choropleth"
           }
          ],
          "contour": [
           {
            "colorbar": {
             "outlinewidth": 0,
             "ticks": ""
            },
            "colorscale": [
             [
              0,
              "#0d0887"
             ],
             [
              0.1111111111111111,
              "#46039f"
             ],
             [
              0.2222222222222222,
              "#7201a8"
             ],
             [
              0.3333333333333333,
              "#9c179e"
             ],
             [
              0.4444444444444444,
              "#bd3786"
             ],
             [
              0.5555555555555556,
              "#d8576b"
             ],
             [
              0.6666666666666666,
              "#ed7953"
             ],
             [
              0.7777777777777778,
              "#fb9f3a"
             ],
             [
              0.8888888888888888,
              "#fdca26"
             ],
             [
              1,
              "#f0f921"
             ]
            ],
            "type": "contour"
           }
          ],
          "contourcarpet": [
           {
            "colorbar": {
             "outlinewidth": 0,
             "ticks": ""
            },
            "type": "contourcarpet"
           }
          ],
          "heatmap": [
           {
            "colorbar": {
             "outlinewidth": 0,
             "ticks": ""
            },
            "colorscale": [
             [
              0,
              "#0d0887"
             ],
             [
              0.1111111111111111,
              "#46039f"
             ],
             [
              0.2222222222222222,
              "#7201a8"
             ],
             [
              0.3333333333333333,
              "#9c179e"
             ],
             [
              0.4444444444444444,
              "#bd3786"
             ],
             [
              0.5555555555555556,
              "#d8576b"
             ],
             [
              0.6666666666666666,
              "#ed7953"
             ],
             [
              0.7777777777777778,
              "#fb9f3a"
             ],
             [
              0.8888888888888888,
              "#fdca26"
             ],
             [
              1,
              "#f0f921"
             ]
            ],
            "type": "heatmap"
           }
          ],
          "heatmapgl": [
           {
            "colorbar": {
             "outlinewidth": 0,
             "ticks": ""
            },
            "colorscale": [
             [
              0,
              "#0d0887"
             ],
             [
              0.1111111111111111,
              "#46039f"
             ],
             [
              0.2222222222222222,
              "#7201a8"
             ],
             [
              0.3333333333333333,
              "#9c179e"
             ],
             [
              0.4444444444444444,
              "#bd3786"
             ],
             [
              0.5555555555555556,
              "#d8576b"
             ],
             [
              0.6666666666666666,
              "#ed7953"
             ],
             [
              0.7777777777777778,
              "#fb9f3a"
             ],
             [
              0.8888888888888888,
              "#fdca26"
             ],
             [
              1,
              "#f0f921"
             ]
            ],
            "type": "heatmapgl"
           }
          ],
          "histogram": [
           {
            "marker": {
             "pattern": {
              "fillmode": "overlay",
              "size": 10,
              "solidity": 0.2
             }
            },
            "type": "histogram"
           }
          ],
          "histogram2d": [
           {
            "colorbar": {
             "outlinewidth": 0,
             "ticks": ""
            },
            "colorscale": [
             [
              0,
              "#0d0887"
             ],
             [
              0.1111111111111111,
              "#46039f"
             ],
             [
              0.2222222222222222,
              "#7201a8"
             ],
             [
              0.3333333333333333,
              "#9c179e"
             ],
             [
              0.4444444444444444,
              "#bd3786"
             ],
             [
              0.5555555555555556,
              "#d8576b"
             ],
             [
              0.6666666666666666,
              "#ed7953"
             ],
             [
              0.7777777777777778,
              "#fb9f3a"
             ],
             [
              0.8888888888888888,
              "#fdca26"
             ],
             [
              1,
              "#f0f921"
             ]
            ],
            "type": "histogram2d"
           }
          ],
          "histogram2dcontour": [
           {
            "colorbar": {
             "outlinewidth": 0,
             "ticks": ""
            },
            "colorscale": [
             [
              0,
              "#0d0887"
             ],
             [
              0.1111111111111111,
              "#46039f"
             ],
             [
              0.2222222222222222,
              "#7201a8"
             ],
             [
              0.3333333333333333,
              "#9c179e"
             ],
             [
              0.4444444444444444,
              "#bd3786"
             ],
             [
              0.5555555555555556,
              "#d8576b"
             ],
             [
              0.6666666666666666,
              "#ed7953"
             ],
             [
              0.7777777777777778,
              "#fb9f3a"
             ],
             [
              0.8888888888888888,
              "#fdca26"
             ],
             [
              1,
              "#f0f921"
             ]
            ],
            "type": "histogram2dcontour"
           }
          ],
          "mesh3d": [
           {
            "colorbar": {
             "outlinewidth": 0,
             "ticks": ""
            },
            "type": "mesh3d"
           }
          ],
          "parcoords": [
           {
            "line": {
             "colorbar": {
              "outlinewidth": 0,
              "ticks": ""
             }
            },
            "type": "parcoords"
           }
          ],
          "pie": [
           {
            "automargin": true,
            "type": "pie"
           }
          ],
          "scatter": [
           {
            "fillpattern": {
             "fillmode": "overlay",
             "size": 10,
             "solidity": 0.2
            },
            "type": "scatter"
           }
          ],
          "scatter3d": [
           {
            "line": {
             "colorbar": {
              "outlinewidth": 0,
              "ticks": ""
             }
            },
            "marker": {
             "colorbar": {
              "outlinewidth": 0,
              "ticks": ""
             }
            },
            "type": "scatter3d"
           }
          ],
          "scattercarpet": [
           {
            "marker": {
             "colorbar": {
              "outlinewidth": 0,
              "ticks": ""
             }
            },
            "type": "scattercarpet"
           }
          ],
          "scattergeo": [
           {
            "marker": {
             "colorbar": {
              "outlinewidth": 0,
              "ticks": ""
             }
            },
            "type": "scattergeo"
           }
          ],
          "scattergl": [
           {
            "marker": {
             "colorbar": {
              "outlinewidth": 0,
              "ticks": ""
             }
            },
            "type": "scattergl"
           }
          ],
          "scattermapbox": [
           {
            "marker": {
             "colorbar": {
              "outlinewidth": 0,
              "ticks": ""
             }
            },
            "type": "scattermapbox"
           }
          ],
          "scatterpolar": [
           {
            "marker": {
             "colorbar": {
              "outlinewidth": 0,
              "ticks": ""
             }
            },
            "type": "scatterpolar"
           }
          ],
          "scatterpolargl": [
           {
            "marker": {
             "colorbar": {
              "outlinewidth": 0,
              "ticks": ""
             }
            },
            "type": "scatterpolargl"
           }
          ],
          "scatterternary": [
           {
            "marker": {
             "colorbar": {
              "outlinewidth": 0,
              "ticks": ""
             }
            },
            "type": "scatterternary"
           }
          ],
          "surface": [
           {
            "colorbar": {
             "outlinewidth": 0,
             "ticks": ""
            },
            "colorscale": [
             [
              0,
              "#0d0887"
             ],
             [
              0.1111111111111111,
              "#46039f"
             ],
             [
              0.2222222222222222,
              "#7201a8"
             ],
             [
              0.3333333333333333,
              "#9c179e"
             ],
             [
              0.4444444444444444,
              "#bd3786"
             ],
             [
              0.5555555555555556,
              "#d8576b"
             ],
             [
              0.6666666666666666,
              "#ed7953"
             ],
             [
              0.7777777777777778,
              "#fb9f3a"
             ],
             [
              0.8888888888888888,
              "#fdca26"
             ],
             [
              1,
              "#f0f921"
             ]
            ],
            "type": "surface"
           }
          ],
          "table": [
           {
            "cells": {
             "fill": {
              "color": "#EBF0F8"
             },
             "line": {
              "color": "white"
             }
            },
            "header": {
             "fill": {
              "color": "#C8D4E3"
             },
             "line": {
              "color": "white"
             }
            },
            "type": "table"
           }
          ]
         },
         "layout": {
          "annotationdefaults": {
           "arrowcolor": "#2a3f5f",
           "arrowhead": 0,
           "arrowwidth": 1
          },
          "autotypenumbers": "strict",
          "coloraxis": {
           "colorbar": {
            "outlinewidth": 0,
            "ticks": ""
           }
          },
          "colorscale": {
           "diverging": [
            [
             0,
             "#8e0152"
            ],
            [
             0.1,
             "#c51b7d"
            ],
            [
             0.2,
             "#de77ae"
            ],
            [
             0.3,
             "#f1b6da"
            ],
            [
             0.4,
             "#fde0ef"
            ],
            [
             0.5,
             "#f7f7f7"
            ],
            [
             0.6,
             "#e6f5d0"
            ],
            [
             0.7,
             "#b8e186"
            ],
            [
             0.8,
             "#7fbc41"
            ],
            [
             0.9,
             "#4d9221"
            ],
            [
             1,
             "#276419"
            ]
           ],
           "sequential": [
            [
             0,
             "#0d0887"
            ],
            [
             0.1111111111111111,
             "#46039f"
            ],
            [
             0.2222222222222222,
             "#7201a8"
            ],
            [
             0.3333333333333333,
             "#9c179e"
            ],
            [
             0.4444444444444444,
             "#bd3786"
            ],
            [
             0.5555555555555556,
             "#d8576b"
            ],
            [
             0.6666666666666666,
             "#ed7953"
            ],
            [
             0.7777777777777778,
             "#fb9f3a"
            ],
            [
             0.8888888888888888,
             "#fdca26"
            ],
            [
             1,
             "#f0f921"
            ]
           ],
           "sequentialminus": [
            [
             0,
             "#0d0887"
            ],
            [
             0.1111111111111111,
             "#46039f"
            ],
            [
             0.2222222222222222,
             "#7201a8"
            ],
            [
             0.3333333333333333,
             "#9c179e"
            ],
            [
             0.4444444444444444,
             "#bd3786"
            ],
            [
             0.5555555555555556,
             "#d8576b"
            ],
            [
             0.6666666666666666,
             "#ed7953"
            ],
            [
             0.7777777777777778,
             "#fb9f3a"
            ],
            [
             0.8888888888888888,
             "#fdca26"
            ],
            [
             1,
             "#f0f921"
            ]
           ]
          },
          "colorway": [
           "#636efa",
           "#EF553B",
           "#00cc96",
           "#ab63fa",
           "#FFA15A",
           "#19d3f3",
           "#FF6692",
           "#B6E880",
           "#FF97FF",
           "#FECB52"
          ],
          "font": {
           "color": "#2a3f5f"
          },
          "geo": {
           "bgcolor": "white",
           "lakecolor": "white",
           "landcolor": "#E5ECF6",
           "showlakes": true,
           "showland": true,
           "subunitcolor": "white"
          },
          "hoverlabel": {
           "align": "left"
          },
          "hovermode": "closest",
          "mapbox": {
           "style": "light"
          },
          "paper_bgcolor": "white",
          "plot_bgcolor": "#E5ECF6",
          "polar": {
           "angularaxis": {
            "gridcolor": "white",
            "linecolor": "white",
            "ticks": ""
           },
           "bgcolor": "#E5ECF6",
           "radialaxis": {
            "gridcolor": "white",
            "linecolor": "white",
            "ticks": ""
           }
          },
          "scene": {
           "xaxis": {
            "backgroundcolor": "#E5ECF6",
            "gridcolor": "white",
            "gridwidth": 2,
            "linecolor": "white",
            "showbackground": true,
            "ticks": "",
            "zerolinecolor": "white"
           },
           "yaxis": {
            "backgroundcolor": "#E5ECF6",
            "gridcolor": "white",
            "gridwidth": 2,
            "linecolor": "white",
            "showbackground": true,
            "ticks": "",
            "zerolinecolor": "white"
           },
           "zaxis": {
            "backgroundcolor": "#E5ECF6",
            "gridcolor": "white",
            "gridwidth": 2,
            "linecolor": "white",
            "showbackground": true,
            "ticks": "",
            "zerolinecolor": "white"
           }
          },
          "shapedefaults": {
           "line": {
            "color": "#2a3f5f"
           }
          },
          "ternary": {
           "aaxis": {
            "gridcolor": "white",
            "linecolor": "white",
            "ticks": ""
           },
           "baxis": {
            "gridcolor": "white",
            "linecolor": "white",
            "ticks": ""
           },
           "bgcolor": "#E5ECF6",
           "caxis": {
            "gridcolor": "white",
            "linecolor": "white",
            "ticks": ""
           }
          },
          "title": {
           "x": 0.05
          },
          "xaxis": {
           "automargin": true,
           "gridcolor": "white",
           "linecolor": "white",
           "ticks": "",
           "title": {
            "standoff": 15
           },
           "zerolinecolor": "white",
           "zerolinewidth": 2
          },
          "yaxis": {
           "automargin": true,
           "gridcolor": "white",
           "linecolor": "white",
           "ticks": "",
           "title": {
            "standoff": 15
           },
           "zerolinecolor": "white",
           "zerolinewidth": 2
          }
         }
        },
        "title": {
         "text": "SKU6 sales over 2017-2020"
        },
        "xaxis": {
         "anchor": "y",
         "domain": [
          0,
          1
         ],
         "title": {
          "text": "Date"
         }
        },
        "yaxis": {
         "anchor": "x",
         "domain": [
          0,
          1
         ],
         "title": {
          "text": "Sales"
         }
        }
       }
      },
      "text/html": [
       "<div>                            <div id=\"18c9ae7d-9dd8-4c08-ad47-e802d03fcfd9\" class=\"plotly-graph-div\" style=\"height:525px; width:100%;\"></div>            <script type=\"text/javascript\">                require([\"plotly\"], function(Plotly) {                    window.PLOTLYENV=window.PLOTLYENV || {};                                    if (document.getElementById(\"18c9ae7d-9dd8-4c08-ad47-e802d03fcfd9\")) {                    Plotly.newPlot(                        \"18c9ae7d-9dd8-4c08-ad47-e802d03fcfd9\",                        [{\"hovertemplate\":\"Product=SKU6<br>Date=%{x}<br>Sales=%{y}<extra></extra>\",\"legendgroup\":\"SKU6\",\"line\":{\"color\":\"#636efa\",\"dash\":\"solid\"},\"marker\":{\"symbol\":\"circle\"},\"mode\":\"lines\",\"name\":\"SKU6\",\"orientation\":\"v\",\"showlegend\":true,\"x\":[\"05/02/17\",\"12/02/17\",\"19/02/17\",\"26/02/17\",\"05/03/17\",\"12/03/17\",\"19/03/17\",\"26/03/17\",\"02/04/17\",\"09/04/17\",\"16/04/17\",\"23/04/17\",\"30/04/17\",\"07/05/17\",\"14/05/17\",\"21/05/17\",\"28/05/17\",\"04/06/17\",\"11/06/17\",\"18/06/17\",\"25/06/17\",\"02/07/17\",\"09/07/17\",\"16/07/17\",\"23/07/17\",\"30/07/17\",\"06/08/17\",\"13/08/17\",\"20/08/17\",\"27/08/17\",\"03/09/17\",\"10/09/17\",\"17/09/17\",\"24/09/17\",\"01/10/17\",\"08/10/17\",\"15/10/17\",\"22/10/17\",\"29/10/17\",\"05/11/17\",\"12/11/17\",\"19/11/17\",\"26/11/17\",\"03/12/17\",\"10/12/17\",\"17/12/17\",\"24/12/17\",\"31/12/17\",\"07/01/18\",\"14/01/18\",\"21/01/18\",\"28/01/18\",\"04/02/18\",\"11/02/18\",\"18/02/18\",\"25/02/18\",\"04/03/18\",\"11/03/18\",\"18/03/18\",\"25/03/18\",\"01/04/18\",\"08/04/18\",\"15/04/18\",\"22/04/18\",\"29/04/18\",\"06/05/18\",\"13/05/18\",\"20/05/18\",\"27/05/18\",\"03/06/18\",\"10/06/18\",\"17/06/18\",\"24/06/18\",\"01/07/18\",\"08/07/18\",\"15/07/18\",\"22/07/18\",\"29/07/18\",\"05/08/18\",\"12/08/18\",\"19/08/18\",\"26/08/18\",\"02/09/18\",\"09/09/18\",\"16/09/18\",\"23/09/18\",\"30/09/18\",\"07/10/18\",\"14/10/18\",\"21/10/18\",\"28/10/18\",\"04/11/18\",\"11/11/18\",\"18/11/18\",\"25/11/18\",\"02/12/18\",\"09/12/18\",\"16/12/18\",\"23/12/18\",\"30/12/18\",\"06/01/19\",\"13/01/19\",\"20/01/19\",\"27/01/19\",\"03/02/19\",\"10/02/19\",\"17/02/19\",\"24/02/19\",\"03/03/19\",\"10/03/19\",\"17/03/19\",\"24/03/19\",\"31/03/19\",\"07/04/19\",\"14/04/19\",\"21/04/19\",\"28/04/19\",\"05/05/19\",\"12/05/19\",\"19/05/19\",\"26/05/19\",\"02/06/19\",\"09/06/19\",\"16/06/19\",\"23/06/19\",\"30/06/19\",\"07/07/19\",\"14/07/19\",\"21/07/19\",\"28/07/19\",\"04/08/19\",\"11/08/19\",\"18/08/19\",\"25/08/19\",\"01/09/19\",\"08/09/19\",\"15/09/19\",\"22/09/19\",\"29/09/19\",\"06/10/19\",\"13/10/19\",\"20/10/19\",\"27/10/19\",\"03/11/19\",\"10/11/19\",\"17/11/19\",\"24/11/19\",\"01/12/19\",\"08/12/19\",\"15/12/19\",\"22/12/19\",\"29/12/19\",\"05/01/20\",\"12/01/20\",\"19/01/20\",\"26/01/20\",\"02/02/20\",\"09/02/20\",\"16/02/20\",\"23/02/20\",\"01/03/20\",\"08/03/20\",\"15/03/20\",\"22/03/20\",\"29/03/20\",\"05/04/20\",\"12/04/20\",\"19/04/20\",\"26/04/20\",\"03/05/20\",\"10/05/20\",\"17/05/20\",\"24/05/20\",\"31/05/20\",\"07/06/20\",\"14/06/20\",\"21/06/20\",\"28/06/20\",\"05/07/20\",\"12/07/20\",\"19/07/20\",\"26/07/20\",\"02/08/20\",\"09/08/20\",\"16/08/20\",\"23/08/20\",\"30/08/20\",\"06/09/20\",\"13/09/20\",\"20/09/20\",\"27/09/20\",\"04/10/20\",\"11/10/20\",\"18/10/20\",\"25/10/20\",\"01/11/20\",\"08/11/20\",\"15/11/20\"],\"xaxis\":\"x\",\"y\":[32138,11659,12140,29635,11666,118504,32530,28821,11595,29675,9508,21203,27228,28788,29511,32898,28847,142953,27682,12779,31805,131072,29081,37630,30212,33159,118276,33809,47551,33724,15134,14540,36254,129254,14692,44595,42541,154098,241114,34976,42047,32668,44779,42982,41175,14744,13862,19735,9047,38639,10629,41994,12099,38384,11298,12358,35011,110490,34761,11969,26184,8121,31617,11202,32640,11884,12072,43299,44324,128647,34861,38287,14182,45147,14632,107913,31895,39265,15446,46285,15026,41251,13210,41151,14818,127468,27569,51275,44702,140995,181833,105995,25456,40660,25478,39116,12783,38557,33821,7158,7148,26272,8741,32245,10101,37295,11422,20031,9715,21482,10329,112451,23003,33932,8850,19724,6545,21279,9373,86119,27378,34735,10571,26709,24578,38589,11271,103831,26567,37663,13397,40295,13056,36294,12320,42182,12848,103617,23973,39082,50881,138789,143887,163536,29842,36323,26587,40726,13056,14398,16213,6067,7314,27657,9984,30336,9831,32102,10955,24330,9934,24731,11742,20879,11874,9705,6756,16926,7726,8302,7924,63725,23969,29202,11104,24753,11518,29560,12577,27671,8670,24698,69799,26276,7722,16009,8158,29805,8164,80769,21692,23072,42044,96619,115798,152186,26445,26414],\"yaxis\":\"y\",\"type\":\"scatter\"}],                        {\"template\":{\"data\":{\"histogram2dcontour\":[{\"type\":\"histogram2dcontour\",\"colorbar\":{\"outlinewidth\":0,\"ticks\":\"\"},\"colorscale\":[[0.0,\"#0d0887\"],[0.1111111111111111,\"#46039f\"],[0.2222222222222222,\"#7201a8\"],[0.3333333333333333,\"#9c179e\"],[0.4444444444444444,\"#bd3786\"],[0.5555555555555556,\"#d8576b\"],[0.6666666666666666,\"#ed7953\"],[0.7777777777777778,\"#fb9f3a\"],[0.8888888888888888,\"#fdca26\"],[1.0,\"#f0f921\"]]}],\"choropleth\":[{\"type\":\"choropleth\",\"colorbar\":{\"outlinewidth\":0,\"ticks\":\"\"}}],\"histogram2d\":[{\"type\":\"histogram2d\",\"colorbar\":{\"outlinewidth\":0,\"ticks\":\"\"},\"colorscale\":[[0.0,\"#0d0887\"],[0.1111111111111111,\"#46039f\"],[0.2222222222222222,\"#7201a8\"],[0.3333333333333333,\"#9c179e\"],[0.4444444444444444,\"#bd3786\"],[0.5555555555555556,\"#d8576b\"],[0.6666666666666666,\"#ed7953\"],[0.7777777777777778,\"#fb9f3a\"],[0.8888888888888888,\"#fdca26\"],[1.0,\"#f0f921\"]]}],\"heatmap\":[{\"type\":\"heatmap\",\"colorbar\":{\"outlinewidth\":0,\"ticks\":\"\"},\"colorscale\":[[0.0,\"#0d0887\"],[0.1111111111111111,\"#46039f\"],[0.2222222222222222,\"#7201a8\"],[0.3333333333333333,\"#9c179e\"],[0.4444444444444444,\"#bd3786\"],[0.5555555555555556,\"#d8576b\"],[0.6666666666666666,\"#ed7953\"],[0.7777777777777778,\"#fb9f3a\"],[0.8888888888888888,\"#fdca26\"],[1.0,\"#f0f921\"]]}],\"heatmapgl\":[{\"type\":\"heatmapgl\",\"colorbar\":{\"outlinewidth\":0,\"ticks\":\"\"},\"colorscale\":[[0.0,\"#0d0887\"],[0.1111111111111111,\"#46039f\"],[0.2222222222222222,\"#7201a8\"],[0.3333333333333333,\"#9c179e\"],[0.4444444444444444,\"#bd3786\"],[0.5555555555555556,\"#d8576b\"],[0.6666666666666666,\"#ed7953\"],[0.7777777777777778,\"#fb9f3a\"],[0.8888888888888888,\"#fdca26\"],[1.0,\"#f0f921\"]]}],\"contourcarpet\":[{\"type\":\"contourcarpet\",\"colorbar\":{\"outlinewidth\":0,\"ticks\":\"\"}}],\"contour\":[{\"type\":\"contour\",\"colorbar\":{\"outlinewidth\":0,\"ticks\":\"\"},\"colorscale\":[[0.0,\"#0d0887\"],[0.1111111111111111,\"#46039f\"],[0.2222222222222222,\"#7201a8\"],[0.3333333333333333,\"#9c179e\"],[0.4444444444444444,\"#bd3786\"],[0.5555555555555556,\"#d8576b\"],[0.6666666666666666,\"#ed7953\"],[0.7777777777777778,\"#fb9f3a\"],[0.8888888888888888,\"#fdca26\"],[1.0,\"#f0f921\"]]}],\"surface\":[{\"type\":\"surface\",\"colorbar\":{\"outlinewidth\":0,\"ticks\":\"\"},\"colorscale\":[[0.0,\"#0d0887\"],[0.1111111111111111,\"#46039f\"],[0.2222222222222222,\"#7201a8\"],[0.3333333333333333,\"#9c179e\"],[0.4444444444444444,\"#bd3786\"],[0.5555555555555556,\"#d8576b\"],[0.6666666666666666,\"#ed7953\"],[0.7777777777777778,\"#fb9f3a\"],[0.8888888888888888,\"#fdca26\"],[1.0,\"#f0f921\"]]}],\"mesh3d\":[{\"type\":\"mesh3d\",\"colorbar\":{\"outlinewidth\":0,\"ticks\":\"\"}}],\"scatter\":[{\"fillpattern\":{\"fillmode\":\"overlay\",\"size\":10,\"solidity\":0.2},\"type\":\"scatter\"}],\"parcoords\":[{\"type\":\"parcoords\",\"line\":{\"colorbar\":{\"outlinewidth\":0,\"ticks\":\"\"}}}],\"scatterpolargl\":[{\"type\":\"scatterpolargl\",\"marker\":{\"colorbar\":{\"outlinewidth\":0,\"ticks\":\"\"}}}],\"bar\":[{\"error_x\":{\"color\":\"#2a3f5f\"},\"error_y\":{\"color\":\"#2a3f5f\"},\"marker\":{\"line\":{\"color\":\"#E5ECF6\",\"width\":0.5},\"pattern\":{\"fillmode\":\"overlay\",\"size\":10,\"solidity\":0.2}},\"type\":\"bar\"}],\"scattergeo\":[{\"type\":\"scattergeo\",\"marker\":{\"colorbar\":{\"outlinewidth\":0,\"ticks\":\"\"}}}],\"scatterpolar\":[{\"type\":\"scatterpolar\",\"marker\":{\"colorbar\":{\"outlinewidth\":0,\"ticks\":\"\"}}}],\"histogram\":[{\"marker\":{\"pattern\":{\"fillmode\":\"overlay\",\"size\":10,\"solidity\":0.2}},\"type\":\"histogram\"}],\"scattergl\":[{\"type\":\"scattergl\",\"marker\":{\"colorbar\":{\"outlinewidth\":0,\"ticks\":\"\"}}}],\"scatter3d\":[{\"type\":\"scatter3d\",\"line\":{\"colorbar\":{\"outlinewidth\":0,\"ticks\":\"\"}},\"marker\":{\"colorbar\":{\"outlinewidth\":0,\"ticks\":\"\"}}}],\"scattermapbox\":[{\"type\":\"scattermapbox\",\"marker\":{\"colorbar\":{\"outlinewidth\":0,\"ticks\":\"\"}}}],\"scatterternary\":[{\"type\":\"scatterternary\",\"marker\":{\"colorbar\":{\"outlinewidth\":0,\"ticks\":\"\"}}}],\"scattercarpet\":[{\"type\":\"scattercarpet\",\"marker\":{\"colorbar\":{\"outlinewidth\":0,\"ticks\":\"\"}}}],\"carpet\":[{\"aaxis\":{\"endlinecolor\":\"#2a3f5f\",\"gridcolor\":\"white\",\"linecolor\":\"white\",\"minorgridcolor\":\"white\",\"startlinecolor\":\"#2a3f5f\"},\"baxis\":{\"endlinecolor\":\"#2a3f5f\",\"gridcolor\":\"white\",\"linecolor\":\"white\",\"minorgridcolor\":\"white\",\"startlinecolor\":\"#2a3f5f\"},\"type\":\"carpet\"}],\"table\":[{\"cells\":{\"fill\":{\"color\":\"#EBF0F8\"},\"line\":{\"color\":\"white\"}},\"header\":{\"fill\":{\"color\":\"#C8D4E3\"},\"line\":{\"color\":\"white\"}},\"type\":\"table\"}],\"barpolar\":[{\"marker\":{\"line\":{\"color\":\"#E5ECF6\",\"width\":0.5},\"pattern\":{\"fillmode\":\"overlay\",\"size\":10,\"solidity\":0.2}},\"type\":\"barpolar\"}],\"pie\":[{\"automargin\":true,\"type\":\"pie\"}]},\"layout\":{\"autotypenumbers\":\"strict\",\"colorway\":[\"#636efa\",\"#EF553B\",\"#00cc96\",\"#ab63fa\",\"#FFA15A\",\"#19d3f3\",\"#FF6692\",\"#B6E880\",\"#FF97FF\",\"#FECB52\"],\"font\":{\"color\":\"#2a3f5f\"},\"hovermode\":\"closest\",\"hoverlabel\":{\"align\":\"left\"},\"paper_bgcolor\":\"white\",\"plot_bgcolor\":\"#E5ECF6\",\"polar\":{\"bgcolor\":\"#E5ECF6\",\"angularaxis\":{\"gridcolor\":\"white\",\"linecolor\":\"white\",\"ticks\":\"\"},\"radialaxis\":{\"gridcolor\":\"white\",\"linecolor\":\"white\",\"ticks\":\"\"}},\"ternary\":{\"bgcolor\":\"#E5ECF6\",\"aaxis\":{\"gridcolor\":\"white\",\"linecolor\":\"white\",\"ticks\":\"\"},\"baxis\":{\"gridcolor\":\"white\",\"linecolor\":\"white\",\"ticks\":\"\"},\"caxis\":{\"gridcolor\":\"white\",\"linecolor\":\"white\",\"ticks\":\"\"}},\"coloraxis\":{\"colorbar\":{\"outlinewidth\":0,\"ticks\":\"\"}},\"colorscale\":{\"sequential\":[[0.0,\"#0d0887\"],[0.1111111111111111,\"#46039f\"],[0.2222222222222222,\"#7201a8\"],[0.3333333333333333,\"#9c179e\"],[0.4444444444444444,\"#bd3786\"],[0.5555555555555556,\"#d8576b\"],[0.6666666666666666,\"#ed7953\"],[0.7777777777777778,\"#fb9f3a\"],[0.8888888888888888,\"#fdca26\"],[1.0,\"#f0f921\"]],\"sequentialminus\":[[0.0,\"#0d0887\"],[0.1111111111111111,\"#46039f\"],[0.2222222222222222,\"#7201a8\"],[0.3333333333333333,\"#9c179e\"],[0.4444444444444444,\"#bd3786\"],[0.5555555555555556,\"#d8576b\"],[0.6666666666666666,\"#ed7953\"],[0.7777777777777778,\"#fb9f3a\"],[0.8888888888888888,\"#fdca26\"],[1.0,\"#f0f921\"]],\"diverging\":[[0,\"#8e0152\"],[0.1,\"#c51b7d\"],[0.2,\"#de77ae\"],[0.3,\"#f1b6da\"],[0.4,\"#fde0ef\"],[0.5,\"#f7f7f7\"],[0.6,\"#e6f5d0\"],[0.7,\"#b8e186\"],[0.8,\"#7fbc41\"],[0.9,\"#4d9221\"],[1,\"#276419\"]]},\"xaxis\":{\"gridcolor\":\"white\",\"linecolor\":\"white\",\"ticks\":\"\",\"title\":{\"standoff\":15},\"zerolinecolor\":\"white\",\"automargin\":true,\"zerolinewidth\":2},\"yaxis\":{\"gridcolor\":\"white\",\"linecolor\":\"white\",\"ticks\":\"\",\"title\":{\"standoff\":15},\"zerolinecolor\":\"white\",\"automargin\":true,\"zerolinewidth\":2},\"scene\":{\"xaxis\":{\"backgroundcolor\":\"#E5ECF6\",\"gridcolor\":\"white\",\"linecolor\":\"white\",\"showbackground\":true,\"ticks\":\"\",\"zerolinecolor\":\"white\",\"gridwidth\":2},\"yaxis\":{\"backgroundcolor\":\"#E5ECF6\",\"gridcolor\":\"white\",\"linecolor\":\"white\",\"showbackground\":true,\"ticks\":\"\",\"zerolinecolor\":\"white\",\"gridwidth\":2},\"zaxis\":{\"backgroundcolor\":\"#E5ECF6\",\"gridcolor\":\"white\",\"linecolor\":\"white\",\"showbackground\":true,\"ticks\":\"\",\"zerolinecolor\":\"white\",\"gridwidth\":2}},\"shapedefaults\":{\"line\":{\"color\":\"#2a3f5f\"}},\"annotationdefaults\":{\"arrowcolor\":\"#2a3f5f\",\"arrowhead\":0,\"arrowwidth\":1},\"geo\":{\"bgcolor\":\"white\",\"landcolor\":\"#E5ECF6\",\"subunitcolor\":\"white\",\"showland\":true,\"showlakes\":true,\"lakecolor\":\"white\"},\"title\":{\"x\":0.05},\"mapbox\":{\"style\":\"light\"}}},\"xaxis\":{\"anchor\":\"y\",\"domain\":[0.0,1.0],\"title\":{\"text\":\"Date\"}},\"yaxis\":{\"anchor\":\"x\",\"domain\":[0.0,1.0],\"title\":{\"text\":\"Sales\"}},\"legend\":{\"title\":{\"text\":\"Product\"},\"tracegroupgap\":0},\"title\":{\"text\":\"SKU6 sales over 2017-2020\"}},                        {\"responsive\": true}                    ).then(function(){\n",
       "                            \n",
       "var gd = document.getElementById('18c9ae7d-9dd8-4c08-ad47-e802d03fcfd9');\n",
       "var x = new MutationObserver(function (mutations, observer) {{\n",
       "        var display = window.getComputedStyle(gd).display;\n",
       "        if (!display || display === 'none') {{\n",
       "            console.log([gd, 'removed!']);\n",
       "            Plotly.purge(gd);\n",
       "            observer.disconnect();\n",
       "        }}\n",
       "}});\n",
       "\n",
       "// Listen for the removal of the full notebook cells\n",
       "var notebookContainer = gd.closest('#notebook-container');\n",
       "if (notebookContainer) {{\n",
       "    x.observe(notebookContainer, {childList: true});\n",
       "}}\n",
       "\n",
       "// Listen for the clearing of the current output cell\n",
       "var outputEl = gd.closest('.output');\n",
       "if (outputEl) {{\n",
       "    x.observe(outputEl, {childList: true});\n",
       "}}\n",
       "\n",
       "                        })                };                });            </script>        </div>"
      ]
     },
     "metadata": {},
     "output_type": "display_data"
    }
   ],
   "source": [
    "products = np.sort(df['Product'].unique().values)\n",
    "for product in products:\n",
    "    df[df['Product']==product].plot.line(x='Date', y='Sales', color=\"Product\", title=f\"{product} sales over 2017-2020\").show()"
   ]
  },
  {
   "cell_type": "markdown",
   "id": "e05e5c77-c73a-4f2c-ada0-1e584b949b5d",
   "metadata": {},
   "source": [
    "## Type convertion"
   ]
  },
  {
   "cell_type": "code",
   "execution_count": 37,
   "id": "57e5621c",
   "metadata": {},
   "outputs": [
    {
     "data": {
      "text/plain": [
       "Product            object\n",
       "Date               object\n",
       "Sales               int32\n",
       "PriceDiscount      object\n",
       "InstorePromo        int32\n",
       "CataloguePromo      int32\n",
       "StoreEndPromo       int32\n",
       "GoogleMobility    float64\n",
       "CovidFlag           int32\n",
       "VDay                int32\n",
       "Easter              int32\n",
       "Christmas           int32\n",
       "dtype: object"
      ]
     },
     "execution_count": 37,
     "metadata": {},
     "output_type": "execute_result"
    }
   ],
   "source": [
    "df.dtypes"
   ]
  },
  {
   "cell_type": "code",
   "execution_count": 38,
   "id": "7a57ad6b-bcb0-4ea1-8613-a003257ef6f7",
   "metadata": {},
   "outputs": [],
   "source": [
    "df['Day'] = df['Date'].apply(lambda x: x.split('/')[0])\n",
    "df['Month'] = df['Date'].apply(lambda x: x.split('/')[1])\n",
    "df['Year'] = df['Date'].apply(lambda x: x.split('/')[2])\n",
    "df['Date'] = df['Month'] + '/' + df['Day'] + '/' + df['Year']\n",
    "df['Date'] = ps.to_datetime(df['Date'])\n",
    "df['Month'] = df['Date'].dt.month\n",
    "df['Year'] = df['Date'].dt.year\n",
    "df['Cw'] = df['Date'].dt.week\n",
    "df['Quarter'] = df['Date'].dt.quarter"
   ]
  },
  {
   "cell_type": "code",
   "execution_count": 39,
   "id": "fa5e6811-96ed-40cf-8124-2ed4837326ad",
   "metadata": {},
   "outputs": [],
   "source": [
    "df['SkuNumber'] = df['Product'].apply(lambda x: int(x.replace('SKU','')))\n",
    "df['PriceDiscount'] = df['PriceDiscount'].apply(lambda x: float(x.replace('%','')))"
   ]
  },
  {
   "cell_type": "markdown",
   "id": "e01653a9-fba2-4eb5-a4fb-0d350ef3211c",
   "metadata": {},
   "source": [
    "## Shape and missing values "
   ]
  },
  {
   "cell_type": "code",
   "execution_count": 40,
   "id": "b92dfb58-a9c2-4999-a092-cf88bb70d9c5",
   "metadata": {},
   "outputs": [
    {
     "data": {
      "text/plain": [
       "(1218, 18)"
      ]
     },
     "execution_count": 40,
     "metadata": {},
     "output_type": "execute_result"
    }
   ],
   "source": [
    "df.shape"
   ]
  },
  {
   "cell_type": "code",
   "execution_count": 41,
   "id": "b7b1be7e-e533-442e-b70f-33d0532d937b",
   "metadata": {},
   "outputs": [
    {
     "data": {
      "text/plain": [
       "Product           0\n",
       "Date              0\n",
       "Sales             0\n",
       "PriceDiscount     0\n",
       "InstorePromo      0\n",
       "CataloguePromo    0\n",
       "StoreEndPromo     0\n",
       "GoogleMobility    0\n",
       "CovidFlag         0\n",
       "VDay              0\n",
       "dtype: int64\n",
       "Showing only the first 10"
      ]
     },
     "execution_count": 41,
     "metadata": {},
     "output_type": "execute_result"
    }
   ],
   "source": [
    "df.isna().sum()"
   ]
  },
  {
   "cell_type": "code",
   "execution_count": 42,
   "id": "6b2e4a12-fcd2-493c-9cf5-4744777628ab",
   "metadata": {},
   "outputs": [
    {
     "data": {
      "text/plain": [
       "Product           0\n",
       "Date              0\n",
       "Sales             0\n",
       "PriceDiscount     0\n",
       "InstorePromo      0\n",
       "CataloguePromo    0\n",
       "StoreEndPromo     0\n",
       "GoogleMobility    0\n",
       "CovidFlag         0\n",
       "VDay              0\n",
       "dtype: int64\n",
       "Showing only the first 10"
      ]
     },
     "execution_count": 42,
     "metadata": {},
     "output_type": "execute_result"
    }
   ],
   "source": [
    "df.isnull().sum()"
   ]
  },
  {
   "cell_type": "markdown",
   "id": "b9cb3f81-e2ed-439c-9c22-2e1886ab8110",
   "metadata": {},
   "source": [
    "# Exploration"
   ]
  },
  {
   "cell_type": "markdown",
   "id": "98e23be5",
   "metadata": {},
   "source": [
    "## Stats"
   ]
  },
  {
   "cell_type": "code",
   "execution_count": 43,
   "id": "91313a67-91c0-4dd6-b4e4-bfde760e3410",
   "metadata": {},
   "outputs": [
    {
     "data": {
      "text/html": [
       "<div>\n",
       "<style scoped>\n",
       "    .dataframe tbody tr th:only-of-type {\n",
       "        vertical-align: middle;\n",
       "    }\n",
       "\n",
       "    .dataframe tbody tr th {\n",
       "        vertical-align: top;\n",
       "    }\n",
       "\n",
       "    .dataframe thead th {\n",
       "        text-align: right;\n",
       "    }\n",
       "</style>\n",
       "<table border=\"1\" class=\"dataframe\">\n",
       "  <thead>\n",
       "    <tr style=\"text-align: right;\">\n",
       "      <th></th>\n",
       "      <th>Product</th>\n",
       "      <th>Date</th>\n",
       "      <th>Sales</th>\n",
       "      <th>PriceDiscount</th>\n",
       "      <th>InstorePromo</th>\n",
       "      <th>CataloguePromo</th>\n",
       "      <th>StoreEndPromo</th>\n",
       "      <th>GoogleMobility</th>\n",
       "      <th>CovidFlag</th>\n",
       "      <th>VDay</th>\n",
       "      <th>Easter</th>\n",
       "      <th>Christmas</th>\n",
       "      <th>Day</th>\n",
       "      <th>Month</th>\n",
       "      <th>Year</th>\n",
       "      <th>Cw</th>\n",
       "      <th>Quarter</th>\n",
       "      <th>SkuNumber</th>\n",
       "    </tr>\n",
       "  </thead>\n",
       "  <tbody>\n",
       "    <tr>\n",
       "      <th>0</th>\n",
       "      <td>SKU1</td>\n",
       "      <td>2017-02-05</td>\n",
       "      <td>27750</td>\n",
       "      <td>0.0</td>\n",
       "      <td>0</td>\n",
       "      <td>0</td>\n",
       "      <td>0</td>\n",
       "      <td>0.0</td>\n",
       "      <td>0</td>\n",
       "      <td>0</td>\n",
       "      <td>0</td>\n",
       "      <td>0</td>\n",
       "      <td>05</td>\n",
       "      <td>2</td>\n",
       "      <td>2017</td>\n",
       "      <td>5</td>\n",
       "      <td>1</td>\n",
       "      <td>1</td>\n",
       "    </tr>\n",
       "    <tr>\n",
       "      <th>1</th>\n",
       "      <td>SKU1</td>\n",
       "      <td>2017-02-12</td>\n",
       "      <td>29023</td>\n",
       "      <td>0.0</td>\n",
       "      <td>1</td>\n",
       "      <td>0</td>\n",
       "      <td>1</td>\n",
       "      <td>0.0</td>\n",
       "      <td>0</td>\n",
       "      <td>1</td>\n",
       "      <td>0</td>\n",
       "      <td>0</td>\n",
       "      <td>12</td>\n",
       "      <td>2</td>\n",
       "      <td>2017</td>\n",
       "      <td>6</td>\n",
       "      <td>1</td>\n",
       "      <td>1</td>\n",
       "    </tr>\n",
       "    <tr>\n",
       "      <th>2</th>\n",
       "      <td>SKU1</td>\n",
       "      <td>2017-02-19</td>\n",
       "      <td>45630</td>\n",
       "      <td>17.0</td>\n",
       "      <td>0</td>\n",
       "      <td>0</td>\n",
       "      <td>0</td>\n",
       "      <td>0.0</td>\n",
       "      <td>0</td>\n",
       "      <td>0</td>\n",
       "      <td>0</td>\n",
       "      <td>0</td>\n",
       "      <td>19</td>\n",
       "      <td>2</td>\n",
       "      <td>2017</td>\n",
       "      <td>7</td>\n",
       "      <td>1</td>\n",
       "      <td>1</td>\n",
       "    </tr>\n",
       "    <tr>\n",
       "      <th>3</th>\n",
       "      <td>SKU1</td>\n",
       "      <td>2017-02-26</td>\n",
       "      <td>26789</td>\n",
       "      <td>0.0</td>\n",
       "      <td>1</td>\n",
       "      <td>0</td>\n",
       "      <td>1</td>\n",
       "      <td>0.0</td>\n",
       "      <td>0</td>\n",
       "      <td>0</td>\n",
       "      <td>0</td>\n",
       "      <td>0</td>\n",
       "      <td>26</td>\n",
       "      <td>2</td>\n",
       "      <td>2017</td>\n",
       "      <td>8</td>\n",
       "      <td>1</td>\n",
       "      <td>1</td>\n",
       "    </tr>\n",
       "    <tr>\n",
       "      <th>4</th>\n",
       "      <td>SKU1</td>\n",
       "      <td>2017-03-05</td>\n",
       "      <td>41999</td>\n",
       "      <td>17.0</td>\n",
       "      <td>0</td>\n",
       "      <td>0</td>\n",
       "      <td>0</td>\n",
       "      <td>0.0</td>\n",
       "      <td>0</td>\n",
       "      <td>0</td>\n",
       "      <td>0</td>\n",
       "      <td>0</td>\n",
       "      <td>05</td>\n",
       "      <td>3</td>\n",
       "      <td>2017</td>\n",
       "      <td>9</td>\n",
       "      <td>1</td>\n",
       "      <td>1</td>\n",
       "    </tr>\n",
       "  </tbody>\n",
       "</table>\n",
       "</div>"
      ],
      "text/plain": [
       "  Product       Date  Sales  PriceDiscount  InstorePromo  CataloguePromo  StoreEndPromo  GoogleMobility  CovidFlag  VDay  Easter  Christmas Day  Month  Year  Cw  Quarter  SkuNumber\n",
       "0    SKU1 2017-02-05  27750            0.0             0               0              0             0.0          0     0       0          0  05      2  2017   5        1          1\n",
       "1    SKU1 2017-02-12  29023            0.0             1               0              1             0.0          0     1       0          0  12      2  2017   6        1          1\n",
       "2    SKU1 2017-02-19  45630           17.0             0               0              0             0.0          0     0       0          0  19      2  2017   7        1          1\n",
       "3    SKU1 2017-02-26  26789            0.0             1               0              1             0.0          0     0       0          0  26      2  2017   8        1          1\n",
       "4    SKU1 2017-03-05  41999           17.0             0               0              0             0.0          0     0       0          0  05      3  2017   9        1          1"
      ]
     },
     "execution_count": 43,
     "metadata": {},
     "output_type": "execute_result"
    }
   ],
   "source": [
    "df.head()"
   ]
  },
  {
   "cell_type": "code",
   "execution_count": 44,
   "id": "2a1ddd19-e71a-4fcd-b120-cce34b743495",
   "metadata": {},
   "outputs": [
    {
     "data": {
      "text/html": [
       "<div>\n",
       "<style scoped>\n",
       "    .dataframe tbody tr th:only-of-type {\n",
       "        vertical-align: middle;\n",
       "    }\n",
       "\n",
       "    .dataframe tbody tr th {\n",
       "        vertical-align: top;\n",
       "    }\n",
       "\n",
       "    .dataframe thead th {\n",
       "        text-align: right;\n",
       "    }\n",
       "</style>\n",
       "<table border=\"1\" class=\"dataframe\">\n",
       "  <thead>\n",
       "    <tr style=\"text-align: right;\">\n",
       "      <th></th>\n",
       "      <th>Date</th>\n",
       "      <th>Sales</th>\n",
       "      <th>PriceDiscount</th>\n",
       "      <th>InstorePromo</th>\n",
       "      <th>CataloguePromo</th>\n",
       "      <th>StoreEndPromo</th>\n",
       "      <th>GoogleMobility</th>\n",
       "      <th>CovidFlag</th>\n",
       "      <th>VDay</th>\n",
       "      <th>Easter</th>\n",
       "      <th>Christmas</th>\n",
       "      <th>Month</th>\n",
       "      <th>Year</th>\n",
       "      <th>Cw</th>\n",
       "      <th>Quarter</th>\n",
       "      <th>SkuNumber</th>\n",
       "    </tr>\n",
       "  </thead>\n",
       "  <tbody>\n",
       "    <tr>\n",
       "      <th>count</th>\n",
       "      <td>1218</td>\n",
       "      <td>1218.000000</td>\n",
       "      <td>1218.000000</td>\n",
       "      <td>1218.000000</td>\n",
       "      <td>1218.000000</td>\n",
       "      <td>1218.000000</td>\n",
       "      <td>1218.000000</td>\n",
       "      <td>1218.000000</td>\n",
       "      <td>1218.00000</td>\n",
       "      <td>1218.00000</td>\n",
       "      <td>1218.000000</td>\n",
       "      <td>1218.000000</td>\n",
       "      <td>1218.000000</td>\n",
       "      <td>1218.000000</td>\n",
       "      <td>1218.000000</td>\n",
       "      <td>1218.000000</td>\n",
       "    </tr>\n",
       "    <tr>\n",
       "      <th>mean</th>\n",
       "      <td>2019-01-13 02:04:08.275862</td>\n",
       "      <td>30294.000000</td>\n",
       "      <td>25.104269</td>\n",
       "      <td>0.000000</td>\n",
       "      <td>0.000000</td>\n",
       "      <td>0.000000</td>\n",
       "      <td>-2.377406</td>\n",
       "      <td>0.000000</td>\n",
       "      <td>0.00000</td>\n",
       "      <td>0.00000</td>\n",
       "      <td>0.000000</td>\n",
       "      <td>6.000000</td>\n",
       "      <td>2018.000000</td>\n",
       "      <td>26.000000</td>\n",
       "      <td>2.000000</td>\n",
       "      <td>3.000000</td>\n",
       "    </tr>\n",
       "    <tr>\n",
       "      <th>min</th>\n",
       "      <td>2017-02-05 00:00:00</td>\n",
       "      <td>0.000000</td>\n",
       "      <td>0.000000</td>\n",
       "      <td>0.000000</td>\n",
       "      <td>0.000000</td>\n",
       "      <td>0.000000</td>\n",
       "      <td>-28.490000</td>\n",
       "      <td>0.000000</td>\n",
       "      <td>0.00000</td>\n",
       "      <td>0.00000</td>\n",
       "      <td>0.000000</td>\n",
       "      <td>1.000000</td>\n",
       "      <td>2017.000000</td>\n",
       "      <td>1.000000</td>\n",
       "      <td>1.000000</td>\n",
       "      <td>1.000000</td>\n",
       "    </tr>\n",
       "    <tr>\n",
       "      <th>25%</th>\n",
       "      <td>2018-01-21 00:00:00</td>\n",
       "      <td>7212.000000</td>\n",
       "      <td>2.000000</td>\n",
       "      <td>0.000000</td>\n",
       "      <td>0.000000</td>\n",
       "      <td>0.000000</td>\n",
       "      <td>0.000000</td>\n",
       "      <td>0.000000</td>\n",
       "      <td>0.00000</td>\n",
       "      <td>0.00000</td>\n",
       "      <td>0.000000</td>\n",
       "      <td>4.000000</td>\n",
       "      <td>2018.000000</td>\n",
       "      <td>14.000000</td>\n",
       "      <td>2.000000</td>\n",
       "      <td>2.000000</td>\n",
       "    </tr>\n",
       "    <tr>\n",
       "      <th>50%</th>\n",
       "      <td>2019-01-13 00:00:00</td>\n",
       "      <td>19735.000000</td>\n",
       "      <td>25.000000</td>\n",
       "      <td>0.000000</td>\n",
       "      <td>0.000000</td>\n",
       "      <td>0.000000</td>\n",
       "      <td>0.000000</td>\n",
       "      <td>0.000000</td>\n",
       "      <td>0.00000</td>\n",
       "      <td>0.00000</td>\n",
       "      <td>0.000000</td>\n",
       "      <td>7.000000</td>\n",
       "      <td>2019.000000</td>\n",
       "      <td>27.000000</td>\n",
       "      <td>3.000000</td>\n",
       "      <td>3.000000</td>\n",
       "    </tr>\n",
       "    <tr>\n",
       "      <th>75%</th>\n",
       "      <td>2020-01-05 00:00:00</td>\n",
       "      <td>40295.000000</td>\n",
       "      <td>40.000000</td>\n",
       "      <td>1.000000</td>\n",
       "      <td>0.000000</td>\n",
       "      <td>1.000000</td>\n",
       "      <td>0.000000</td>\n",
       "      <td>0.000000</td>\n",
       "      <td>0.00000</td>\n",
       "      <td>0.00000</td>\n",
       "      <td>0.000000</td>\n",
       "      <td>10.000000</td>\n",
       "      <td>2020.000000</td>\n",
       "      <td>40.000000</td>\n",
       "      <td>4.000000</td>\n",
       "      <td>5.000000</td>\n",
       "    </tr>\n",
       "    <tr>\n",
       "      <th>max</th>\n",
       "      <td>2020-12-27 00:00:00</td>\n",
       "      <td>288322.000000</td>\n",
       "      <td>83.000000</td>\n",
       "      <td>1.000000</td>\n",
       "      <td>1.000000</td>\n",
       "      <td>1.000000</td>\n",
       "      <td>3.900000</td>\n",
       "      <td>1.000000</td>\n",
       "      <td>1.00000</td>\n",
       "      <td>1.00000</td>\n",
       "      <td>1.000000</td>\n",
       "      <td>12.000000</td>\n",
       "      <td>2020.000000</td>\n",
       "      <td>52.000000</td>\n",
       "      <td>4.000000</td>\n",
       "      <td>6.000000</td>\n",
       "    </tr>\n",
       "    <tr>\n",
       "      <th>std</th>\n",
       "      <td>None</td>\n",
       "      <td>35032.527297</td>\n",
       "      <td>21.549350</td>\n",
       "      <td>0.499425</td>\n",
       "      <td>0.409346</td>\n",
       "      <td>0.476828</td>\n",
       "      <td>5.806291</td>\n",
       "      <td>0.418804</td>\n",
       "      <td>0.13904</td>\n",
       "      <td>0.13904</td>\n",
       "      <td>0.136169</td>\n",
       "      <td>3.376247</td>\n",
       "      <td>1.107197</td>\n",
       "      <td>14.725899</td>\n",
       "      <td>1.101964</td>\n",
       "      <td>1.703666</td>\n",
       "    </tr>\n",
       "  </tbody>\n",
       "</table>\n",
       "</div>"
      ],
      "text/plain": [
       "                             Date          Sales  PriceDiscount  InstorePromo  CataloguePromo  StoreEndPromo  GoogleMobility    CovidFlag        VDay      Easter    Christmas        Month         Year           Cw      Quarter    SkuNumber\n",
       "count                        1218    1218.000000    1218.000000   1218.000000     1218.000000    1218.000000     1218.000000  1218.000000  1218.00000  1218.00000  1218.000000  1218.000000  1218.000000  1218.000000  1218.000000  1218.000000\n",
       "mean   2019-01-13 02:04:08.275862   30294.000000      25.104269      0.000000        0.000000       0.000000       -2.377406     0.000000     0.00000     0.00000     0.000000     6.000000  2018.000000    26.000000     2.000000     3.000000\n",
       "min           2017-02-05 00:00:00       0.000000       0.000000      0.000000        0.000000       0.000000      -28.490000     0.000000     0.00000     0.00000     0.000000     1.000000  2017.000000     1.000000     1.000000     1.000000\n",
       "25%           2018-01-21 00:00:00    7212.000000       2.000000      0.000000        0.000000       0.000000        0.000000     0.000000     0.00000     0.00000     0.000000     4.000000  2018.000000    14.000000     2.000000     2.000000\n",
       "50%           2019-01-13 00:00:00   19735.000000      25.000000      0.000000        0.000000       0.000000        0.000000     0.000000     0.00000     0.00000     0.000000     7.000000  2019.000000    27.000000     3.000000     3.000000\n",
       "75%           2020-01-05 00:00:00   40295.000000      40.000000      1.000000        0.000000       1.000000        0.000000     0.000000     0.00000     0.00000     0.000000    10.000000  2020.000000    40.000000     4.000000     5.000000\n",
       "max           2020-12-27 00:00:00  288322.000000      83.000000      1.000000        1.000000       1.000000        3.900000     1.000000     1.00000     1.00000     1.000000    12.000000  2020.000000    52.000000     4.000000     6.000000\n",
       "std                          None   35032.527297      21.549350      0.499425        0.409346       0.476828        5.806291     0.418804     0.13904     0.13904     0.136169     3.376247     1.107197    14.725899     1.101964     1.703666"
      ]
     },
     "execution_count": 44,
     "metadata": {},
     "output_type": "execute_result"
    }
   ],
   "source": [
    "df.describe()"
   ]
  },
  {
   "cell_type": "code",
   "execution_count": 45,
   "id": "91b7ef69-87c5-4869-80cf-83a20a39bb99",
   "metadata": {},
   "outputs": [
    {
     "data": {
      "text/html": [
       "<div>\n",
       "<style scoped>\n",
       "    .dataframe tbody tr th:only-of-type {\n",
       "        vertical-align: middle;\n",
       "    }\n",
       "\n",
       "    .dataframe tbody tr th {\n",
       "        vertical-align: top;\n",
       "    }\n",
       "\n",
       "    .dataframe thead th {\n",
       "        text-align: right;\n",
       "    }\n",
       "</style>\n",
       "<table border=\"1\" class=\"dataframe\">\n",
       "  <thead>\n",
       "    <tr style=\"text-align: right;\">\n",
       "      <th></th>\n",
       "      <th>Sales</th>\n",
       "      <th>PriceDiscount</th>\n",
       "      <th>InstorePromo</th>\n",
       "      <th>CataloguePromo</th>\n",
       "      <th>StoreEndPromo</th>\n",
       "      <th>GoogleMobility</th>\n",
       "      <th>CovidFlag</th>\n",
       "      <th>VDay</th>\n",
       "      <th>Easter</th>\n",
       "      <th>Christmas</th>\n",
       "      <th>Month</th>\n",
       "      <th>Year</th>\n",
       "      <th>Cw</th>\n",
       "      <th>Quarter</th>\n",
       "      <th>SkuNumber</th>\n",
       "    </tr>\n",
       "  </thead>\n",
       "  <tbody>\n",
       "    <tr>\n",
       "      <th>Sales</th>\n",
       "      <td>1.000000</td>\n",
       "      <td>0.403196</td>\n",
       "      <td>0.240891</td>\n",
       "      <td>-0.121081</td>\n",
       "      <td>0.235439</td>\n",
       "      <td>0.058781</td>\n",
       "      <td>-0.085571</td>\n",
       "      <td>-0.008442</td>\n",
       "      <td>-0.010266</td>\n",
       "      <td>-0.035916</td>\n",
       "      <td>0.076782</td>\n",
       "      <td>-0.078891</td>\n",
       "      <td>0.076160</td>\n",
       "      <td>0.072527</td>\n",
       "      <td>-0.085193</td>\n",
       "    </tr>\n",
       "    <tr>\n",
       "      <th>PriceDiscount</th>\n",
       "      <td>0.403196</td>\n",
       "      <td>1.000000</td>\n",
       "      <td>0.217904</td>\n",
       "      <td>-0.074055</td>\n",
       "      <td>0.216127</td>\n",
       "      <td>-0.213534</td>\n",
       "      <td>0.281537</td>\n",
       "      <td>-0.044565</td>\n",
       "      <td>0.000959</td>\n",
       "      <td>-0.012153</td>\n",
       "      <td>0.055461</td>\n",
       "      <td>0.250843</td>\n",
       "      <td>0.062121</td>\n",
       "      <td>0.053238</td>\n",
       "      <td>0.279167</td>\n",
       "    </tr>\n",
       "    <tr>\n",
       "      <th>InstorePromo</th>\n",
       "      <td>0.240891</td>\n",
       "      <td>0.217904</td>\n",
       "      <td>1.000000</td>\n",
       "      <td>-0.491438</td>\n",
       "      <td>0.367004</td>\n",
       "      <td>0.056074</td>\n",
       "      <td>-0.024732</td>\n",
       "      <td>0.019761</td>\n",
       "      <td>0.019761</td>\n",
       "      <td>0.013799</td>\n",
       "      <td>0.081300</td>\n",
       "      <td>-0.031572</td>\n",
       "      <td>0.082982</td>\n",
       "      <td>0.074042</td>\n",
       "      <td>0.021807</td>\n",
       "    </tr>\n",
       "    <tr>\n",
       "      <th>CataloguePromo</th>\n",
       "      <td>-0.121081</td>\n",
       "      <td>-0.074055</td>\n",
       "      <td>-0.491438</td>\n",
       "      <td>1.000000</td>\n",
       "      <td>0.116301</td>\n",
       "      <td>0.073260</td>\n",
       "      <td>-0.094373</td>\n",
       "      <td>-0.044805</td>\n",
       "      <td>-0.044805</td>\n",
       "      <td>0.045834</td>\n",
       "      <td>0.037491</td>\n",
       "      <td>-0.038510</td>\n",
       "      <td>0.031810</td>\n",
       "      <td>0.051696</td>\n",
       "      <td>0.113924</td>\n",
       "    </tr>\n",
       "    <tr>\n",
       "      <th>StoreEndPromo</th>\n",
       "      <td>0.235439</td>\n",
       "      <td>0.216127</td>\n",
       "      <td>0.367004</td>\n",
       "      <td>0.116301</td>\n",
       "      <td>1.000000</td>\n",
       "      <td>0.084955</td>\n",
       "      <td>-0.075321</td>\n",
       "      <td>0.020148</td>\n",
       "      <td>-0.066610</td>\n",
       "      <td>-0.000322</td>\n",
       "      <td>0.050312</td>\n",
       "      <td>-0.071472</td>\n",
       "      <td>0.047589</td>\n",
       "      <td>0.049433</td>\n",
       "      <td>0.095823</td>\n",
       "    </tr>\n",
       "    <tr>\n",
       "      <th>GoogleMobility</th>\n",
       "      <td>0.058781</td>\n",
       "      <td>-0.213534</td>\n",
       "      <td>0.056074</td>\n",
       "      <td>0.073260</td>\n",
       "      <td>0.084955</td>\n",
       "      <td>1.000000</td>\n",
       "      <td>-0.756752</td>\n",
       "      <td>0.078227</td>\n",
       "      <td>-0.108645</td>\n",
       "      <td>0.003461</td>\n",
       "      <td>-0.017752</td>\n",
       "      <td>-0.546968</td>\n",
       "      <td>-0.030071</td>\n",
       "      <td>-0.031850</td>\n",
       "      <td>0.004846</td>\n",
       "    </tr>\n",
       "    <tr>\n",
       "      <th>CovidFlag</th>\n",
       "      <td>-0.085571</td>\n",
       "      <td>0.281537</td>\n",
       "      <td>-0.024732</td>\n",
       "      <td>-0.094373</td>\n",
       "      <td>-0.075321</td>\n",
       "      <td>-0.756752</td>\n",
       "      <td>1.000000</td>\n",
       "      <td>0.007924</td>\n",
       "      <td>0.007924</td>\n",
       "      <td>-0.003052</td>\n",
       "      <td>0.050348</td>\n",
       "      <td>0.722783</td>\n",
       "      <td>0.062320</td>\n",
       "      <td>0.041100</td>\n",
       "      <td>-0.013360</td>\n",
       "    </tr>\n",
       "    <tr>\n",
       "      <th>VDay</th>\n",
       "      <td>-0.008442</td>\n",
       "      <td>-0.044565</td>\n",
       "      <td>0.019761</td>\n",
       "      <td>-0.044805</td>\n",
       "      <td>0.020148</td>\n",
       "      <td>0.078227</td>\n",
       "      <td>0.007924</td>\n",
       "      <td>1.000000</td>\n",
       "      <td>-0.020101</td>\n",
       "      <td>-0.019669</td>\n",
       "      <td>-0.196251</td>\n",
       "      <td>-0.002840</td>\n",
       "      <td>-0.198504</td>\n",
       "      <td>-0.199089</td>\n",
       "      <td>0.001025</td>\n",
       "    </tr>\n",
       "    <tr>\n",
       "      <th>Easter</th>\n",
       "      <td>-0.010266</td>\n",
       "      <td>0.000959</td>\n",
       "      <td>0.019761</td>\n",
       "      <td>-0.044805</td>\n",
       "      <td>-0.066610</td>\n",
       "      <td>-0.108645</td>\n",
       "      <td>0.007924</td>\n",
       "      <td>-0.020101</td>\n",
       "      <td>1.000000</td>\n",
       "      <td>-0.019669</td>\n",
       "      <td>-0.112232</td>\n",
       "      <td>-0.002840</td>\n",
       "      <td>-0.121451</td>\n",
       "      <td>-0.070379</td>\n",
       "      <td>0.001025</td>\n",
       "    </tr>\n",
       "    <tr>\n",
       "      <th>Christmas</th>\n",
       "      <td>-0.035916</td>\n",
       "      <td>-0.012153</td>\n",
       "      <td>0.013799</td>\n",
       "      <td>0.045834</td>\n",
       "      <td>-0.000322</td>\n",
       "      <td>0.003461</td>\n",
       "      <td>-0.003052</td>\n",
       "      <td>-0.019669</td>\n",
       "      <td>-0.019669</td>\n",
       "      <td>1.000000</td>\n",
       "      <td>0.219039</td>\n",
       "      <td>-0.010954</td>\n",
       "      <td>0.205393</td>\n",
       "      <td>0.183028</td>\n",
       "      <td>-0.007852</td>\n",
       "    </tr>\n",
       "  </tbody>\n",
       "</table>\n",
       "<p>Showing only the first 10 rows × 15 columns</p>\n",
       "</div>"
      ],
      "text/plain": [
       "                   Sales  PriceDiscount  InstorePromo  CataloguePromo  StoreEndPromo  GoogleMobility  CovidFlag      VDay    Easter  Christmas     Month      Year        Cw   Quarter  SkuNumber\n",
       "Sales           1.000000       0.403196      0.240891       -0.121081       0.235439        0.058781  -0.085571 -0.008442 -0.010266  -0.035916  0.076782 -0.078891  0.076160  0.072527  -0.085193\n",
       "PriceDiscount   0.403196       1.000000      0.217904       -0.074055       0.216127       -0.213534   0.281537 -0.044565  0.000959  -0.012153  0.055461  0.250843  0.062121  0.053238   0.279167\n",
       "InstorePromo    0.240891       0.217904      1.000000       -0.491438       0.367004        0.056074  -0.024732  0.019761  0.019761   0.013799  0.081300 -0.031572  0.082982  0.074042   0.021807\n",
       "CataloguePromo -0.121081      -0.074055     -0.491438        1.000000       0.116301        0.073260  -0.094373 -0.044805 -0.044805   0.045834  0.037491 -0.038510  0.031810  0.051696   0.113924\n",
       "StoreEndPromo   0.235439       0.216127      0.367004        0.116301       1.000000        0.084955  -0.075321  0.020148 -0.066610  -0.000322  0.050312 -0.071472  0.047589  0.049433   0.095823\n",
       "GoogleMobility  0.058781      -0.213534      0.056074        0.073260       0.084955        1.000000  -0.756752  0.078227 -0.108645   0.003461 -0.017752 -0.546968 -0.030071 -0.031850   0.004846\n",
       "CovidFlag      -0.085571       0.281537     -0.024732       -0.094373      -0.075321       -0.756752   1.000000  0.007924  0.007924  -0.003052  0.050348  0.722783  0.062320  0.041100  -0.013360\n",
       "VDay           -0.008442      -0.044565      0.019761       -0.044805       0.020148        0.078227   0.007924  1.000000 -0.020101  -0.019669 -0.196251 -0.002840 -0.198504 -0.199089   0.001025\n",
       "Easter         -0.010266       0.000959      0.019761       -0.044805      -0.066610       -0.108645   0.007924 -0.020101  1.000000  -0.019669 -0.112232 -0.002840 -0.121451 -0.070379   0.001025\n",
       "Christmas      -0.035916      -0.012153      0.013799        0.045834      -0.000322        0.003461  -0.003052 -0.019669 -0.019669   1.000000  0.219039 -0.010954  0.205393  0.183028  -0.007852\n",
       "\n",
       "[Showing only the first 10 rows x 15 columns]"
      ]
     },
     "execution_count": 45,
     "metadata": {},
     "output_type": "execute_result"
    }
   ],
   "source": [
    "df.corr()"
   ]
  },
  {
   "cell_type": "code",
   "execution_count": 46,
   "id": "e9c138e9",
   "metadata": {},
   "outputs": [
    {
     "data": {
      "application/vnd.plotly.v1+json": {
       "config": {
        "plotlyServerURL": "https://plot.ly"
       },
       "data": [
        {
         "coloraxis": "coloraxis",
         "hovertemplate": "x: %{x}<br>y: %{y}<br>color: %{z}<extra></extra>",
         "name": "0",
         "texttemplate": "%{z}",
         "type": "heatmap",
         "x": [
          "Sales",
          "PriceDiscount",
          "InstorePromo",
          "CataloguePromo",
          "StoreEndPromo",
          "GoogleMobility",
          "CovidFlag",
          "VDay",
          "Easter",
          "Christmas",
          "Month",
          "Year",
          "Cw",
          "Quarter",
          "SkuNumber"
         ],
         "xaxis": "x",
         "y": [
          "Sales",
          "PriceDiscount",
          "InstorePromo",
          "CataloguePromo",
          "StoreEndPromo",
          "GoogleMobility",
          "CovidFlag",
          "VDay",
          "Easter",
          "Christmas",
          "Month",
          "Year",
          "Cw",
          "Quarter",
          "SkuNumber"
         ],
         "yaxis": "y",
         "z": [
          [
           1,
           0.40319619323318673,
           0.24089126661254565,
           -0.12108144239870942,
           0.23543920199187163,
           0.05878119754410269,
           -0.08557064001690153,
           -0.008442162007282266,
           -0.010265741903165678,
           -0.035915935904060024,
           0.07678235823855316,
           -0.07889149200035513,
           0.07615964860116192,
           0.07252702185617121,
           -0.0851927655388721
          ],
          [
           0.40319619323318673,
           1,
           0.2179042034161907,
           -0.07405514885000769,
           0.21612680713591817,
           -0.21353365919214862,
           0.2815365628604457,
           -0.04456524930272379,
           0.0009591768826523276,
           -0.012152565218648322,
           0.05546066919285818,
           0.2508427767888283,
           0.062121039195297684,
           0.053237961256182846,
           0.2791669200408505
          ],
          [
           0.24089126661254565,
           0.2179042034161907,
           1,
           -0.4914383162382251,
           0.3670035812468885,
           0.056073810564414635,
           -0.02473219733214956,
           0.019760765094410927,
           0.019760765094409792,
           0.01379875331018643,
           0.081299839224574,
           -0.0315716720911209,
           0.08298242449981462,
           0.07404157657150487,
           0.021807359191684295
          ],
          [
           -0.12108144239870942,
           -0.07405514885000769,
           -0.4914383162382251,
           1,
           0.11630058997228282,
           0.07326015271254666,
           -0.09437266527764579,
           -0.04480482959874768,
           -0.04480482959874785,
           0.045834051547593166,
           0.03749052276619898,
           -0.03851031763434238,
           0.03181029016251758,
           0.05169561275373199,
           0.11392387286808407
          ],
          [
           0.23543920199187163,
           0.21612680713591817,
           0.3670035812468885,
           0.11630058997228282,
           1,
           0.08495520829278097,
           -0.0753209700471462,
           0.020147740442188623,
           -0.06660965097705579,
           -0.00032209409618230657,
           0.05031197406233218,
           -0.07147194058099368,
           0.047588820819563796,
           0.0494328873859788,
           0.09582276225521082
          ],
          [
           0.05878119754410269,
           -0.21353365919214862,
           0.056073810564414635,
           0.07326015271254666,
           0.08495520829278097,
           1,
           -0.7567522955313712,
           0.07822748178036078,
           -0.10864461175176665,
           0.0034611366779342193,
           -0.017752217706400904,
           -0.5469676304404326,
           -0.030070703789835538,
           -0.03184995249689042,
           0.004846012632829691
          ],
          [
           -0.08557064001690153,
           0.2815365628604457,
           -0.02473219733214956,
           -0.09437266527764579,
           -0.0753209700471462,
           -0.7567522955313712,
           1,
           0.007924435320632143,
           0.007924435320632167,
           -0.0030520513966847086,
           0.050348270617825264,
           0.7227829154536787,
           0.06232025331977523,
           0.041099571090684,
           -0.013360071913692382
          ],
          [
           -0.008442162007282266,
           -0.04456524930272379,
           0.019760765094410927,
           -0.04480482959874768,
           0.020147740442188623,
           0.07822748178036078,
           0.007924435320632143,
           1,
           -0.02010050251256242,
           -0.019669051743185423,
           -0.19625131107904162,
           -0.002839706826019568,
           -0.19850419748610584,
           -0.19908938423374228,
           0.0010252773020877019
          ],
          [
           -0.010265741903165678,
           0.0009591768826523276,
           0.019760765094409792,
           -0.04480482959874785,
           -0.06660965097705579,
           -0.10864461175176665,
           0.007924435320632167,
           -0.02010050251256242,
           1,
           -0.019669051743185423,
           -0.1122322963534652,
           -0.002839706826019564,
           -0.12145111909532387,
           -0.07037873136925407,
           0.0010252773020876834
          ],
          [
           -0.035915935904060024,
           -0.012152565218648322,
           0.01379875331018643,
           0.045834051547593166,
           -0.00032209409618230657,
           0.0034611366779342193,
           -0.0030520513966847086,
           -0.019669051743185423,
           -0.019669051743185423,
           1,
           0.21903902876115008,
           -0.010953926602870196,
           0.20539266259649566,
           0.18302776614468966,
           -0.007851678708657463
          ],
          [
           0.07678235823855316,
           0.05546066919285818,
           0.081299839224574,
           0.03749052276619898,
           0.05031197406233218,
           -0.017752217706400904,
           0.050348270617825264,
           -0.19625131107904162,
           -0.1122322963534652,
           0.21903902876115008,
           1,
           -0.06795099030905441,
           0.9962765532662281,
           0.9701554375612178,
           -0.010703453675538955
          ],
          [
           -0.07889149200035513,
           0.2508427767888283,
           -0.0315716720911209,
           -0.03851031763434238,
           -0.07147194058099368,
           -0.5469676304404326,
           0.7227829154536787,
           -0.002839706826019568,
           -0.002839706826019564,
           -0.010953926602870196,
           -0.06795099030905441,
           1,
           -0.05446427742085575,
           -0.06853454829044113,
           -0.009656431728450435
          ],
          [
           0.07615964860116192,
           0.062121039195297684,
           0.08298242449981462,
           0.03181029016251758,
           0.047588820819563796,
           -0.030070703789835538,
           0.06232025331977523,
           -0.19850419748610584,
           -0.12145111909532387,
           0.20539266259649566,
           0.9962765532662281,
           -0.05446427742085575,
           1,
           0.9669218797377263,
           -0.011122909848546254
          ],
          [
           0.07252702185617121,
           0.053237961256182846,
           0.07404157657150487,
           0.05169561275373199,
           0.0494328873859788,
           -0.03184995249689042,
           0.041099571090684,
           -0.19908938423374228,
           -0.07037873136925407,
           0.18302776614468966,
           0.9701554375612178,
           -0.06853454829044113,
           0.9669218797377263,
           1,
           -0.009540582674250269
          ],
          [
           -0.0851927655388721,
           0.2791669200408505,
           0.021807359191684295,
           0.11392387286808407,
           0.09582276225521082,
           0.004846012632829691,
           -0.013360071913692382,
           0.0010252773020877019,
           0.0010252773020876834,
           -0.007851678708657463,
           -0.010703453675538955,
           -0.009656431728450435,
           -0.011122909848546254,
           -0.009540582674250269,
           1
          ]
         ]
        }
       ],
       "layout": {
        "coloraxis": {
         "colorscale": [
          [
           0,
           "#0d0887"
          ],
          [
           0.1111111111111111,
           "#46039f"
          ],
          [
           0.2222222222222222,
           "#7201a8"
          ],
          [
           0.3333333333333333,
           "#9c179e"
          ],
          [
           0.4444444444444444,
           "#bd3786"
          ],
          [
           0.5555555555555556,
           "#d8576b"
          ],
          [
           0.6666666666666666,
           "#ed7953"
          ],
          [
           0.7777777777777778,
           "#fb9f3a"
          ],
          [
           0.8888888888888888,
           "#fdca26"
          ],
          [
           1,
           "#f0f921"
          ]
         ]
        },
        "margin": {
         "t": 60
        },
        "template": {
         "data": {
          "bar": [
           {
            "error_x": {
             "color": "#2a3f5f"
            },
            "error_y": {
             "color": "#2a3f5f"
            },
            "marker": {
             "line": {
              "color": "#E5ECF6",
              "width": 0.5
             },
             "pattern": {
              "fillmode": "overlay",
              "size": 10,
              "solidity": 0.2
             }
            },
            "type": "bar"
           }
          ],
          "barpolar": [
           {
            "marker": {
             "line": {
              "color": "#E5ECF6",
              "width": 0.5
             },
             "pattern": {
              "fillmode": "overlay",
              "size": 10,
              "solidity": 0.2
             }
            },
            "type": "barpolar"
           }
          ],
          "carpet": [
           {
            "aaxis": {
             "endlinecolor": "#2a3f5f",
             "gridcolor": "white",
             "linecolor": "white",
             "minorgridcolor": "white",
             "startlinecolor": "#2a3f5f"
            },
            "baxis": {
             "endlinecolor": "#2a3f5f",
             "gridcolor": "white",
             "linecolor": "white",
             "minorgridcolor": "white",
             "startlinecolor": "#2a3f5f"
            },
            "type": "carpet"
           }
          ],
          "choropleth": [
           {
            "colorbar": {
             "outlinewidth": 0,
             "ticks": ""
            },
            "type": "choropleth"
           }
          ],
          "contour": [
           {
            "colorbar": {
             "outlinewidth": 0,
             "ticks": ""
            },
            "colorscale": [
             [
              0,
              "#0d0887"
             ],
             [
              0.1111111111111111,
              "#46039f"
             ],
             [
              0.2222222222222222,
              "#7201a8"
             ],
             [
              0.3333333333333333,
              "#9c179e"
             ],
             [
              0.4444444444444444,
              "#bd3786"
             ],
             [
              0.5555555555555556,
              "#d8576b"
             ],
             [
              0.6666666666666666,
              "#ed7953"
             ],
             [
              0.7777777777777778,
              "#fb9f3a"
             ],
             [
              0.8888888888888888,
              "#fdca26"
             ],
             [
              1,
              "#f0f921"
             ]
            ],
            "type": "contour"
           }
          ],
          "contourcarpet": [
           {
            "colorbar": {
             "outlinewidth": 0,
             "ticks": ""
            },
            "type": "contourcarpet"
           }
          ],
          "heatmap": [
           {
            "colorbar": {
             "outlinewidth": 0,
             "ticks": ""
            },
            "colorscale": [
             [
              0,
              "#0d0887"
             ],
             [
              0.1111111111111111,
              "#46039f"
             ],
             [
              0.2222222222222222,
              "#7201a8"
             ],
             [
              0.3333333333333333,
              "#9c179e"
             ],
             [
              0.4444444444444444,
              "#bd3786"
             ],
             [
              0.5555555555555556,
              "#d8576b"
             ],
             [
              0.6666666666666666,
              "#ed7953"
             ],
             [
              0.7777777777777778,
              "#fb9f3a"
             ],
             [
              0.8888888888888888,
              "#fdca26"
             ],
             [
              1,
              "#f0f921"
             ]
            ],
            "type": "heatmap"
           }
          ],
          "heatmapgl": [
           {
            "colorbar": {
             "outlinewidth": 0,
             "ticks": ""
            },
            "colorscale": [
             [
              0,
              "#0d0887"
             ],
             [
              0.1111111111111111,
              "#46039f"
             ],
             [
              0.2222222222222222,
              "#7201a8"
             ],
             [
              0.3333333333333333,
              "#9c179e"
             ],
             [
              0.4444444444444444,
              "#bd3786"
             ],
             [
              0.5555555555555556,
              "#d8576b"
             ],
             [
              0.6666666666666666,
              "#ed7953"
             ],
             [
              0.7777777777777778,
              "#fb9f3a"
             ],
             [
              0.8888888888888888,
              "#fdca26"
             ],
             [
              1,
              "#f0f921"
             ]
            ],
            "type": "heatmapgl"
           }
          ],
          "histogram": [
           {
            "marker": {
             "pattern": {
              "fillmode": "overlay",
              "size": 10,
              "solidity": 0.2
             }
            },
            "type": "histogram"
           }
          ],
          "histogram2d": [
           {
            "colorbar": {
             "outlinewidth": 0,
             "ticks": ""
            },
            "colorscale": [
             [
              0,
              "#0d0887"
             ],
             [
              0.1111111111111111,
              "#46039f"
             ],
             [
              0.2222222222222222,
              "#7201a8"
             ],
             [
              0.3333333333333333,
              "#9c179e"
             ],
             [
              0.4444444444444444,
              "#bd3786"
             ],
             [
              0.5555555555555556,
              "#d8576b"
             ],
             [
              0.6666666666666666,
              "#ed7953"
             ],
             [
              0.7777777777777778,
              "#fb9f3a"
             ],
             [
              0.8888888888888888,
              "#fdca26"
             ],
             [
              1,
              "#f0f921"
             ]
            ],
            "type": "histogram2d"
           }
          ],
          "histogram2dcontour": [
           {
            "colorbar": {
             "outlinewidth": 0,
             "ticks": ""
            },
            "colorscale": [
             [
              0,
              "#0d0887"
             ],
             [
              0.1111111111111111,
              "#46039f"
             ],
             [
              0.2222222222222222,
              "#7201a8"
             ],
             [
              0.3333333333333333,
              "#9c179e"
             ],
             [
              0.4444444444444444,
              "#bd3786"
             ],
             [
              0.5555555555555556,
              "#d8576b"
             ],
             [
              0.6666666666666666,
              "#ed7953"
             ],
             [
              0.7777777777777778,
              "#fb9f3a"
             ],
             [
              0.8888888888888888,
              "#fdca26"
             ],
             [
              1,
              "#f0f921"
             ]
            ],
            "type": "histogram2dcontour"
           }
          ],
          "mesh3d": [
           {
            "colorbar": {
             "outlinewidth": 0,
             "ticks": ""
            },
            "type": "mesh3d"
           }
          ],
          "parcoords": [
           {
            "line": {
             "colorbar": {
              "outlinewidth": 0,
              "ticks": ""
             }
            },
            "type": "parcoords"
           }
          ],
          "pie": [
           {
            "automargin": true,
            "type": "pie"
           }
          ],
          "scatter": [
           {
            "fillpattern": {
             "fillmode": "overlay",
             "size": 10,
             "solidity": 0.2
            },
            "type": "scatter"
           }
          ],
          "scatter3d": [
           {
            "line": {
             "colorbar": {
              "outlinewidth": 0,
              "ticks": ""
             }
            },
            "marker": {
             "colorbar": {
              "outlinewidth": 0,
              "ticks": ""
             }
            },
            "type": "scatter3d"
           }
          ],
          "scattercarpet": [
           {
            "marker": {
             "colorbar": {
              "outlinewidth": 0,
              "ticks": ""
             }
            },
            "type": "scattercarpet"
           }
          ],
          "scattergeo": [
           {
            "marker": {
             "colorbar": {
              "outlinewidth": 0,
              "ticks": ""
             }
            },
            "type": "scattergeo"
           }
          ],
          "scattergl": [
           {
            "marker": {
             "colorbar": {
              "outlinewidth": 0,
              "ticks": ""
             }
            },
            "type": "scattergl"
           }
          ],
          "scattermapbox": [
           {
            "marker": {
             "colorbar": {
              "outlinewidth": 0,
              "ticks": ""
             }
            },
            "type": "scattermapbox"
           }
          ],
          "scatterpolar": [
           {
            "marker": {
             "colorbar": {
              "outlinewidth": 0,
              "ticks": ""
             }
            },
            "type": "scatterpolar"
           }
          ],
          "scatterpolargl": [
           {
            "marker": {
             "colorbar": {
              "outlinewidth": 0,
              "ticks": ""
             }
            },
            "type": "scatterpolargl"
           }
          ],
          "scatterternary": [
           {
            "marker": {
             "colorbar": {
              "outlinewidth": 0,
              "ticks": ""
             }
            },
            "type": "scatterternary"
           }
          ],
          "surface": [
           {
            "colorbar": {
             "outlinewidth": 0,
             "ticks": ""
            },
            "colorscale": [
             [
              0,
              "#0d0887"
             ],
             [
              0.1111111111111111,
              "#46039f"
             ],
             [
              0.2222222222222222,
              "#7201a8"
             ],
             [
              0.3333333333333333,
              "#9c179e"
             ],
             [
              0.4444444444444444,
              "#bd3786"
             ],
             [
              0.5555555555555556,
              "#d8576b"
             ],
             [
              0.6666666666666666,
              "#ed7953"
             ],
             [
              0.7777777777777778,
              "#fb9f3a"
             ],
             [
              0.8888888888888888,
              "#fdca26"
             ],
             [
              1,
              "#f0f921"
             ]
            ],
            "type": "surface"
           }
          ],
          "table": [
           {
            "cells": {
             "fill": {
              "color": "#EBF0F8"
             },
             "line": {
              "color": "white"
             }
            },
            "header": {
             "fill": {
              "color": "#C8D4E3"
             },
             "line": {
              "color": "white"
             }
            },
            "type": "table"
           }
          ]
         },
         "layout": {
          "annotationdefaults": {
           "arrowcolor": "#2a3f5f",
           "arrowhead": 0,
           "arrowwidth": 1
          },
          "autotypenumbers": "strict",
          "coloraxis": {
           "colorbar": {
            "outlinewidth": 0,
            "ticks": ""
           }
          },
          "colorscale": {
           "diverging": [
            [
             0,
             "#8e0152"
            ],
            [
             0.1,
             "#c51b7d"
            ],
            [
             0.2,
             "#de77ae"
            ],
            [
             0.3,
             "#f1b6da"
            ],
            [
             0.4,
             "#fde0ef"
            ],
            [
             0.5,
             "#f7f7f7"
            ],
            [
             0.6,
             "#e6f5d0"
            ],
            [
             0.7,
             "#b8e186"
            ],
            [
             0.8,
             "#7fbc41"
            ],
            [
             0.9,
             "#4d9221"
            ],
            [
             1,
             "#276419"
            ]
           ],
           "sequential": [
            [
             0,
             "#0d0887"
            ],
            [
             0.1111111111111111,
             "#46039f"
            ],
            [
             0.2222222222222222,
             "#7201a8"
            ],
            [
             0.3333333333333333,
             "#9c179e"
            ],
            [
             0.4444444444444444,
             "#bd3786"
            ],
            [
             0.5555555555555556,
             "#d8576b"
            ],
            [
             0.6666666666666666,
             "#ed7953"
            ],
            [
             0.7777777777777778,
             "#fb9f3a"
            ],
            [
             0.8888888888888888,
             "#fdca26"
            ],
            [
             1,
             "#f0f921"
            ]
           ],
           "sequentialminus": [
            [
             0,
             "#0d0887"
            ],
            [
             0.1111111111111111,
             "#46039f"
            ],
            [
             0.2222222222222222,
             "#7201a8"
            ],
            [
             0.3333333333333333,
             "#9c179e"
            ],
            [
             0.4444444444444444,
             "#bd3786"
            ],
            [
             0.5555555555555556,
             "#d8576b"
            ],
            [
             0.6666666666666666,
             "#ed7953"
            ],
            [
             0.7777777777777778,
             "#fb9f3a"
            ],
            [
             0.8888888888888888,
             "#fdca26"
            ],
            [
             1,
             "#f0f921"
            ]
           ]
          },
          "colorway": [
           "#636efa",
           "#EF553B",
           "#00cc96",
           "#ab63fa",
           "#FFA15A",
           "#19d3f3",
           "#FF6692",
           "#B6E880",
           "#FF97FF",
           "#FECB52"
          ],
          "font": {
           "color": "#2a3f5f"
          },
          "geo": {
           "bgcolor": "white",
           "lakecolor": "white",
           "landcolor": "#E5ECF6",
           "showlakes": true,
           "showland": true,
           "subunitcolor": "white"
          },
          "hoverlabel": {
           "align": "left"
          },
          "hovermode": "closest",
          "mapbox": {
           "style": "light"
          },
          "paper_bgcolor": "white",
          "plot_bgcolor": "#E5ECF6",
          "polar": {
           "angularaxis": {
            "gridcolor": "white",
            "linecolor": "white",
            "ticks": ""
           },
           "bgcolor": "#E5ECF6",
           "radialaxis": {
            "gridcolor": "white",
            "linecolor": "white",
            "ticks": ""
           }
          },
          "scene": {
           "xaxis": {
            "backgroundcolor": "#E5ECF6",
            "gridcolor": "white",
            "gridwidth": 2,
            "linecolor": "white",
            "showbackground": true,
            "ticks": "",
            "zerolinecolor": "white"
           },
           "yaxis": {
            "backgroundcolor": "#E5ECF6",
            "gridcolor": "white",
            "gridwidth": 2,
            "linecolor": "white",
            "showbackground": true,
            "ticks": "",
            "zerolinecolor": "white"
           },
           "zaxis": {
            "backgroundcolor": "#E5ECF6",
            "gridcolor": "white",
            "gridwidth": 2,
            "linecolor": "white",
            "showbackground": true,
            "ticks": "",
            "zerolinecolor": "white"
           }
          },
          "shapedefaults": {
           "line": {
            "color": "#2a3f5f"
           }
          },
          "ternary": {
           "aaxis": {
            "gridcolor": "white",
            "linecolor": "white",
            "ticks": ""
           },
           "baxis": {
            "gridcolor": "white",
            "linecolor": "white",
            "ticks": ""
           },
           "bgcolor": "#E5ECF6",
           "caxis": {
            "gridcolor": "white",
            "linecolor": "white",
            "ticks": ""
           }
          },
          "title": {
           "x": 0.05
          },
          "xaxis": {
           "automargin": true,
           "gridcolor": "white",
           "linecolor": "white",
           "ticks": "",
           "title": {
            "standoff": 15
           },
           "zerolinecolor": "white",
           "zerolinewidth": 2
          },
          "yaxis": {
           "automargin": true,
           "gridcolor": "white",
           "linecolor": "white",
           "ticks": "",
           "title": {
            "standoff": 15
           },
           "zerolinecolor": "white",
           "zerolinewidth": 2
          }
         }
        },
        "xaxis": {
         "anchor": "y",
         "domain": [
          0,
          1
         ]
        },
        "yaxis": {
         "anchor": "x",
         "autorange": "reversed",
         "domain": [
          0,
          1
         ]
        }
       }
      },
      "text/html": [
       "<div>                            <div id=\"9ec524a7-4ef4-48d1-a034-aee402c1b7fd\" class=\"plotly-graph-div\" style=\"height:525px; width:100%;\"></div>            <script type=\"text/javascript\">                require([\"plotly\"], function(Plotly) {                    window.PLOTLYENV=window.PLOTLYENV || {};                                    if (document.getElementById(\"9ec524a7-4ef4-48d1-a034-aee402c1b7fd\")) {                    Plotly.newPlot(                        \"9ec524a7-4ef4-48d1-a034-aee402c1b7fd\",                        [{\"coloraxis\":\"coloraxis\",\"name\":\"0\",\"texttemplate\":\"%{z}\",\"x\":[\"Sales\",\"PriceDiscount\",\"InstorePromo\",\"CataloguePromo\",\"StoreEndPromo\",\"GoogleMobility\",\"CovidFlag\",\"VDay\",\"Easter\",\"Christmas\",\"Month\",\"Year\",\"Cw\",\"Quarter\",\"SkuNumber\"],\"y\":[\"Sales\",\"PriceDiscount\",\"InstorePromo\",\"CataloguePromo\",\"StoreEndPromo\",\"GoogleMobility\",\"CovidFlag\",\"VDay\",\"Easter\",\"Christmas\",\"Month\",\"Year\",\"Cw\",\"Quarter\",\"SkuNumber\"],\"z\":[[1.0,0.40319619323318673,0.24089126661254565,-0.12108144239870942,0.23543920199187163,0.05878119754410269,-0.08557064001690153,-0.008442162007282266,-0.010265741903165678,-0.035915935904060024,0.07678235823855316,-0.07889149200035513,0.07615964860116192,0.07252702185617121,-0.0851927655388721],[0.40319619323318673,1.0,0.2179042034161907,-0.07405514885000769,0.21612680713591817,-0.21353365919214862,0.2815365628604457,-0.04456524930272379,0.0009591768826523276,-0.012152565218648322,0.05546066919285818,0.2508427767888283,0.062121039195297684,0.053237961256182846,0.2791669200408505],[0.24089126661254565,0.2179042034161907,1.0,-0.4914383162382251,0.3670035812468885,0.056073810564414635,-0.02473219733214956,0.019760765094410927,0.019760765094409792,0.01379875331018643,0.081299839224574,-0.0315716720911209,0.08298242449981462,0.07404157657150487,0.021807359191684295],[-0.12108144239870942,-0.07405514885000769,-0.4914383162382251,1.0,0.11630058997228282,0.07326015271254666,-0.09437266527764579,-0.04480482959874768,-0.04480482959874785,0.045834051547593166,0.03749052276619898,-0.03851031763434238,0.03181029016251758,0.05169561275373199,0.11392387286808407],[0.23543920199187163,0.21612680713591817,0.3670035812468885,0.11630058997228282,1.0,0.08495520829278097,-0.0753209700471462,0.020147740442188623,-0.06660965097705579,-0.00032209409618230657,0.05031197406233218,-0.07147194058099368,0.047588820819563796,0.0494328873859788,0.09582276225521082],[0.05878119754410269,-0.21353365919214862,0.056073810564414635,0.07326015271254666,0.08495520829278097,1.0,-0.7567522955313712,0.07822748178036078,-0.10864461175176665,0.0034611366779342193,-0.017752217706400904,-0.5469676304404326,-0.030070703789835538,-0.03184995249689042,0.004846012632829691],[-0.08557064001690153,0.2815365628604457,-0.02473219733214956,-0.09437266527764579,-0.0753209700471462,-0.7567522955313712,1.0,0.007924435320632143,0.007924435320632167,-0.0030520513966847086,0.050348270617825264,0.7227829154536787,0.06232025331977523,0.041099571090684,-0.013360071913692382],[-0.008442162007282266,-0.04456524930272379,0.019760765094410927,-0.04480482959874768,0.020147740442188623,0.07822748178036078,0.007924435320632143,1.0,-0.02010050251256242,-0.019669051743185423,-0.19625131107904162,-0.002839706826019568,-0.19850419748610584,-0.19908938423374228,0.0010252773020877019],[-0.010265741903165678,0.0009591768826523276,0.019760765094409792,-0.04480482959874785,-0.06660965097705579,-0.10864461175176665,0.007924435320632167,-0.02010050251256242,1.0,-0.019669051743185423,-0.1122322963534652,-0.002839706826019564,-0.12145111909532387,-0.07037873136925407,0.0010252773020876834],[-0.035915935904060024,-0.012152565218648322,0.01379875331018643,0.045834051547593166,-0.00032209409618230657,0.0034611366779342193,-0.0030520513966847086,-0.019669051743185423,-0.019669051743185423,1.0,0.21903902876115008,-0.010953926602870196,0.20539266259649566,0.18302776614468966,-0.007851678708657463],[0.07678235823855316,0.05546066919285818,0.081299839224574,0.03749052276619898,0.05031197406233218,-0.017752217706400904,0.050348270617825264,-0.19625131107904162,-0.1122322963534652,0.21903902876115008,1.0,-0.06795099030905441,0.9962765532662281,0.9701554375612178,-0.010703453675538955],[-0.07889149200035513,0.2508427767888283,-0.0315716720911209,-0.03851031763434238,-0.07147194058099368,-0.5469676304404326,0.7227829154536787,-0.002839706826019568,-0.002839706826019564,-0.010953926602870196,-0.06795099030905441,1.0,-0.05446427742085575,-0.06853454829044113,-0.009656431728450435],[0.07615964860116192,0.062121039195297684,0.08298242449981462,0.03181029016251758,0.047588820819563796,-0.030070703789835538,0.06232025331977523,-0.19850419748610584,-0.12145111909532387,0.20539266259649566,0.9962765532662281,-0.05446427742085575,1.0,0.9669218797377263,-0.011122909848546254],[0.07252702185617121,0.053237961256182846,0.07404157657150487,0.05169561275373199,0.0494328873859788,-0.03184995249689042,0.041099571090684,-0.19908938423374228,-0.07037873136925407,0.18302776614468966,0.9701554375612178,-0.06853454829044113,0.9669218797377263,1.0,-0.009540582674250269],[-0.0851927655388721,0.2791669200408505,0.021807359191684295,0.11392387286808407,0.09582276225521082,0.004846012632829691,-0.013360071913692382,0.0010252773020877019,0.0010252773020876834,-0.007851678708657463,-0.010703453675538955,-0.009656431728450435,-0.011122909848546254,-0.009540582674250269,1.0]],\"type\":\"heatmap\",\"xaxis\":\"x\",\"yaxis\":\"y\",\"hovertemplate\":\"x: %{x}<br>y: %{y}<br>color: %{z}<extra></extra>\"}],                        {\"template\":{\"data\":{\"histogram2dcontour\":[{\"type\":\"histogram2dcontour\",\"colorbar\":{\"outlinewidth\":0,\"ticks\":\"\"},\"colorscale\":[[0.0,\"#0d0887\"],[0.1111111111111111,\"#46039f\"],[0.2222222222222222,\"#7201a8\"],[0.3333333333333333,\"#9c179e\"],[0.4444444444444444,\"#bd3786\"],[0.5555555555555556,\"#d8576b\"],[0.6666666666666666,\"#ed7953\"],[0.7777777777777778,\"#fb9f3a\"],[0.8888888888888888,\"#fdca26\"],[1.0,\"#f0f921\"]]}],\"choropleth\":[{\"type\":\"choropleth\",\"colorbar\":{\"outlinewidth\":0,\"ticks\":\"\"}}],\"histogram2d\":[{\"type\":\"histogram2d\",\"colorbar\":{\"outlinewidth\":0,\"ticks\":\"\"},\"colorscale\":[[0.0,\"#0d0887\"],[0.1111111111111111,\"#46039f\"],[0.2222222222222222,\"#7201a8\"],[0.3333333333333333,\"#9c179e\"],[0.4444444444444444,\"#bd3786\"],[0.5555555555555556,\"#d8576b\"],[0.6666666666666666,\"#ed7953\"],[0.7777777777777778,\"#fb9f3a\"],[0.8888888888888888,\"#fdca26\"],[1.0,\"#f0f921\"]]}],\"heatmap\":[{\"type\":\"heatmap\",\"colorbar\":{\"outlinewidth\":0,\"ticks\":\"\"},\"colorscale\":[[0.0,\"#0d0887\"],[0.1111111111111111,\"#46039f\"],[0.2222222222222222,\"#7201a8\"],[0.3333333333333333,\"#9c179e\"],[0.4444444444444444,\"#bd3786\"],[0.5555555555555556,\"#d8576b\"],[0.6666666666666666,\"#ed7953\"],[0.7777777777777778,\"#fb9f3a\"],[0.8888888888888888,\"#fdca26\"],[1.0,\"#f0f921\"]]}],\"heatmapgl\":[{\"type\":\"heatmapgl\",\"colorbar\":{\"outlinewidth\":0,\"ticks\":\"\"},\"colorscale\":[[0.0,\"#0d0887\"],[0.1111111111111111,\"#46039f\"],[0.2222222222222222,\"#7201a8\"],[0.3333333333333333,\"#9c179e\"],[0.4444444444444444,\"#bd3786\"],[0.5555555555555556,\"#d8576b\"],[0.6666666666666666,\"#ed7953\"],[0.7777777777777778,\"#fb9f3a\"],[0.8888888888888888,\"#fdca26\"],[1.0,\"#f0f921\"]]}],\"contourcarpet\":[{\"type\":\"contourcarpet\",\"colorbar\":{\"outlinewidth\":0,\"ticks\":\"\"}}],\"contour\":[{\"type\":\"contour\",\"colorbar\":{\"outlinewidth\":0,\"ticks\":\"\"},\"colorscale\":[[0.0,\"#0d0887\"],[0.1111111111111111,\"#46039f\"],[0.2222222222222222,\"#7201a8\"],[0.3333333333333333,\"#9c179e\"],[0.4444444444444444,\"#bd3786\"],[0.5555555555555556,\"#d8576b\"],[0.6666666666666666,\"#ed7953\"],[0.7777777777777778,\"#fb9f3a\"],[0.8888888888888888,\"#fdca26\"],[1.0,\"#f0f921\"]]}],\"surface\":[{\"type\":\"surface\",\"colorbar\":{\"outlinewidth\":0,\"ticks\":\"\"},\"colorscale\":[[0.0,\"#0d0887\"],[0.1111111111111111,\"#46039f\"],[0.2222222222222222,\"#7201a8\"],[0.3333333333333333,\"#9c179e\"],[0.4444444444444444,\"#bd3786\"],[0.5555555555555556,\"#d8576b\"],[0.6666666666666666,\"#ed7953\"],[0.7777777777777778,\"#fb9f3a\"],[0.8888888888888888,\"#fdca26\"],[1.0,\"#f0f921\"]]}],\"mesh3d\":[{\"type\":\"mesh3d\",\"colorbar\":{\"outlinewidth\":0,\"ticks\":\"\"}}],\"scatter\":[{\"fillpattern\":{\"fillmode\":\"overlay\",\"size\":10,\"solidity\":0.2},\"type\":\"scatter\"}],\"parcoords\":[{\"type\":\"parcoords\",\"line\":{\"colorbar\":{\"outlinewidth\":0,\"ticks\":\"\"}}}],\"scatterpolargl\":[{\"type\":\"scatterpolargl\",\"marker\":{\"colorbar\":{\"outlinewidth\":0,\"ticks\":\"\"}}}],\"bar\":[{\"error_x\":{\"color\":\"#2a3f5f\"},\"error_y\":{\"color\":\"#2a3f5f\"},\"marker\":{\"line\":{\"color\":\"#E5ECF6\",\"width\":0.5},\"pattern\":{\"fillmode\":\"overlay\",\"size\":10,\"solidity\":0.2}},\"type\":\"bar\"}],\"scattergeo\":[{\"type\":\"scattergeo\",\"marker\":{\"colorbar\":{\"outlinewidth\":0,\"ticks\":\"\"}}}],\"scatterpolar\":[{\"type\":\"scatterpolar\",\"marker\":{\"colorbar\":{\"outlinewidth\":0,\"ticks\":\"\"}}}],\"histogram\":[{\"marker\":{\"pattern\":{\"fillmode\":\"overlay\",\"size\":10,\"solidity\":0.2}},\"type\":\"histogram\"}],\"scattergl\":[{\"type\":\"scattergl\",\"marker\":{\"colorbar\":{\"outlinewidth\":0,\"ticks\":\"\"}}}],\"scatter3d\":[{\"type\":\"scatter3d\",\"line\":{\"colorbar\":{\"outlinewidth\":0,\"ticks\":\"\"}},\"marker\":{\"colorbar\":{\"outlinewidth\":0,\"ticks\":\"\"}}}],\"scattermapbox\":[{\"type\":\"scattermapbox\",\"marker\":{\"colorbar\":{\"outlinewidth\":0,\"ticks\":\"\"}}}],\"scatterternary\":[{\"type\":\"scatterternary\",\"marker\":{\"colorbar\":{\"outlinewidth\":0,\"ticks\":\"\"}}}],\"scattercarpet\":[{\"type\":\"scattercarpet\",\"marker\":{\"colorbar\":{\"outlinewidth\":0,\"ticks\":\"\"}}}],\"carpet\":[{\"aaxis\":{\"endlinecolor\":\"#2a3f5f\",\"gridcolor\":\"white\",\"linecolor\":\"white\",\"minorgridcolor\":\"white\",\"startlinecolor\":\"#2a3f5f\"},\"baxis\":{\"endlinecolor\":\"#2a3f5f\",\"gridcolor\":\"white\",\"linecolor\":\"white\",\"minorgridcolor\":\"white\",\"startlinecolor\":\"#2a3f5f\"},\"type\":\"carpet\"}],\"table\":[{\"cells\":{\"fill\":{\"color\":\"#EBF0F8\"},\"line\":{\"color\":\"white\"}},\"header\":{\"fill\":{\"color\":\"#C8D4E3\"},\"line\":{\"color\":\"white\"}},\"type\":\"table\"}],\"barpolar\":[{\"marker\":{\"line\":{\"color\":\"#E5ECF6\",\"width\":0.5},\"pattern\":{\"fillmode\":\"overlay\",\"size\":10,\"solidity\":0.2}},\"type\":\"barpolar\"}],\"pie\":[{\"automargin\":true,\"type\":\"pie\"}]},\"layout\":{\"autotypenumbers\":\"strict\",\"colorway\":[\"#636efa\",\"#EF553B\",\"#00cc96\",\"#ab63fa\",\"#FFA15A\",\"#19d3f3\",\"#FF6692\",\"#B6E880\",\"#FF97FF\",\"#FECB52\"],\"font\":{\"color\":\"#2a3f5f\"},\"hovermode\":\"closest\",\"hoverlabel\":{\"align\":\"left\"},\"paper_bgcolor\":\"white\",\"plot_bgcolor\":\"#E5ECF6\",\"polar\":{\"bgcolor\":\"#E5ECF6\",\"angularaxis\":{\"gridcolor\":\"white\",\"linecolor\":\"white\",\"ticks\":\"\"},\"radialaxis\":{\"gridcolor\":\"white\",\"linecolor\":\"white\",\"ticks\":\"\"}},\"ternary\":{\"bgcolor\":\"#E5ECF6\",\"aaxis\":{\"gridcolor\":\"white\",\"linecolor\":\"white\",\"ticks\":\"\"},\"baxis\":{\"gridcolor\":\"white\",\"linecolor\":\"white\",\"ticks\":\"\"},\"caxis\":{\"gridcolor\":\"white\",\"linecolor\":\"white\",\"ticks\":\"\"}},\"coloraxis\":{\"colorbar\":{\"outlinewidth\":0,\"ticks\":\"\"}},\"colorscale\":{\"sequential\":[[0.0,\"#0d0887\"],[0.1111111111111111,\"#46039f\"],[0.2222222222222222,\"#7201a8\"],[0.3333333333333333,\"#9c179e\"],[0.4444444444444444,\"#bd3786\"],[0.5555555555555556,\"#d8576b\"],[0.6666666666666666,\"#ed7953\"],[0.7777777777777778,\"#fb9f3a\"],[0.8888888888888888,\"#fdca26\"],[1.0,\"#f0f921\"]],\"sequentialminus\":[[0.0,\"#0d0887\"],[0.1111111111111111,\"#46039f\"],[0.2222222222222222,\"#7201a8\"],[0.3333333333333333,\"#9c179e\"],[0.4444444444444444,\"#bd3786\"],[0.5555555555555556,\"#d8576b\"],[0.6666666666666666,\"#ed7953\"],[0.7777777777777778,\"#fb9f3a\"],[0.8888888888888888,\"#fdca26\"],[1.0,\"#f0f921\"]],\"diverging\":[[0,\"#8e0152\"],[0.1,\"#c51b7d\"],[0.2,\"#de77ae\"],[0.3,\"#f1b6da\"],[0.4,\"#fde0ef\"],[0.5,\"#f7f7f7\"],[0.6,\"#e6f5d0\"],[0.7,\"#b8e186\"],[0.8,\"#7fbc41\"],[0.9,\"#4d9221\"],[1,\"#276419\"]]},\"xaxis\":{\"gridcolor\":\"white\",\"linecolor\":\"white\",\"ticks\":\"\",\"title\":{\"standoff\":15},\"zerolinecolor\":\"white\",\"automargin\":true,\"zerolinewidth\":2},\"yaxis\":{\"gridcolor\":\"white\",\"linecolor\":\"white\",\"ticks\":\"\",\"title\":{\"standoff\":15},\"zerolinecolor\":\"white\",\"automargin\":true,\"zerolinewidth\":2},\"scene\":{\"xaxis\":{\"backgroundcolor\":\"#E5ECF6\",\"gridcolor\":\"white\",\"linecolor\":\"white\",\"showbackground\":true,\"ticks\":\"\",\"zerolinecolor\":\"white\",\"gridwidth\":2},\"yaxis\":{\"backgroundcolor\":\"#E5ECF6\",\"gridcolor\":\"white\",\"linecolor\":\"white\",\"showbackground\":true,\"ticks\":\"\",\"zerolinecolor\":\"white\",\"gridwidth\":2},\"zaxis\":{\"backgroundcolor\":\"#E5ECF6\",\"gridcolor\":\"white\",\"linecolor\":\"white\",\"showbackground\":true,\"ticks\":\"\",\"zerolinecolor\":\"white\",\"gridwidth\":2}},\"shapedefaults\":{\"line\":{\"color\":\"#2a3f5f\"}},\"annotationdefaults\":{\"arrowcolor\":\"#2a3f5f\",\"arrowhead\":0,\"arrowwidth\":1},\"geo\":{\"bgcolor\":\"white\",\"landcolor\":\"#E5ECF6\",\"subunitcolor\":\"white\",\"showland\":true,\"showlakes\":true,\"lakecolor\":\"white\"},\"title\":{\"x\":0.05},\"mapbox\":{\"style\":\"light\"}}},\"xaxis\":{\"anchor\":\"y\",\"domain\":[0.0,1.0]},\"yaxis\":{\"anchor\":\"x\",\"domain\":[0.0,1.0],\"autorange\":\"reversed\"},\"coloraxis\":{\"colorscale\":[[0.0,\"#0d0887\"],[0.1111111111111111,\"#46039f\"],[0.2222222222222222,\"#7201a8\"],[0.3333333333333333,\"#9c179e\"],[0.4444444444444444,\"#bd3786\"],[0.5555555555555556,\"#d8576b\"],[0.6666666666666666,\"#ed7953\"],[0.7777777777777778,\"#fb9f3a\"],[0.8888888888888888,\"#fdca26\"],[1.0,\"#f0f921\"]]},\"margin\":{\"t\":60}},                        {\"responsive\": true}                    ).then(function(){\n",
       "                            \n",
       "var gd = document.getElementById('9ec524a7-4ef4-48d1-a034-aee402c1b7fd');\n",
       "var x = new MutationObserver(function (mutations, observer) {{\n",
       "        var display = window.getComputedStyle(gd).display;\n",
       "        if (!display || display === 'none') {{\n",
       "            console.log([gd, 'removed!']);\n",
       "            Plotly.purge(gd);\n",
       "            observer.disconnect();\n",
       "        }}\n",
       "}});\n",
       "\n",
       "// Listen for the removal of the full notebook cells\n",
       "var notebookContainer = gd.closest('#notebook-container');\n",
       "if (notebookContainer) {{\n",
       "    x.observe(notebookContainer, {childList: true});\n",
       "}}\n",
       "\n",
       "// Listen for the clearing of the current output cell\n",
       "var outputEl = gd.closest('.output');\n",
       "if (outputEl) {{\n",
       "    x.observe(outputEl, {childList: true});\n",
       "}}\n",
       "\n",
       "                        })                };                });            </script>        </div>"
      ]
     },
     "metadata": {},
     "output_type": "display_data"
    }
   ],
   "source": [
    "px.imshow(df.corr().to_pandas(), text_auto=True, aspect=\"auto\")"
   ]
  },
  {
   "cell_type": "code",
   "execution_count": 47,
   "id": "39767f83",
   "metadata": {},
   "outputs": [
    {
     "data": {
      "text/html": [
       "<div>\n",
       "<style scoped>\n",
       "    .dataframe tbody tr th:only-of-type {\n",
       "        vertical-align: middle;\n",
       "    }\n",
       "\n",
       "    .dataframe tbody tr th {\n",
       "        vertical-align: top;\n",
       "    }\n",
       "\n",
       "    .dataframe thead th {\n",
       "        text-align: right;\n",
       "    }\n",
       "</style>\n",
       "<table border=\"1\" class=\"dataframe\">\n",
       "  <thead>\n",
       "    <tr style=\"text-align: right;\">\n",
       "      <th></th>\n",
       "      <th>Product</th>\n",
       "      <th>total_sales_month</th>\n",
       "    </tr>\n",
       "  </thead>\n",
       "  <tbody>\n",
       "    <tr>\n",
       "      <th>0</th>\n",
       "      <td>SKU3</td>\n",
       "      <td>204</td>\n",
       "    </tr>\n",
       "    <tr>\n",
       "      <th>1</th>\n",
       "      <td>SKU4</td>\n",
       "      <td>204</td>\n",
       "    </tr>\n",
       "    <tr>\n",
       "      <th>2</th>\n",
       "      <td>SKU1</td>\n",
       "      <td>204</td>\n",
       "    </tr>\n",
       "    <tr>\n",
       "      <th>3</th>\n",
       "      <td>SKU5</td>\n",
       "      <td>204</td>\n",
       "    </tr>\n",
       "    <tr>\n",
       "      <th>4</th>\n",
       "      <td>SKU6</td>\n",
       "      <td>198</td>\n",
       "    </tr>\n",
       "    <tr>\n",
       "      <th>5</th>\n",
       "      <td>SKU2</td>\n",
       "      <td>204</td>\n",
       "    </tr>\n",
       "  </tbody>\n",
       "</table>\n",
       "</div>"
      ],
      "text/plain": [
       "  Product  total_sales_month\n",
       "0    SKU3                204\n",
       "1    SKU4                204\n",
       "2    SKU1                204\n",
       "3    SKU5                204\n",
       "4    SKU6                198\n",
       "5    SKU2                204"
      ]
     },
     "execution_count": 47,
     "metadata": {},
     "output_type": "execute_result"
    }
   ],
   "source": [
    "df.groupby(['Product']).agg(total_sales_month = ('Date','count')).reset_index()"
   ]
  },
  {
   "cell_type": "markdown",
   "id": "dd652d5b",
   "metadata": {},
   "source": [
    "Note: SKU6 has 6 missing values"
   ]
  },
  {
   "cell_type": "markdown",
   "id": "6bc7eae4",
   "metadata": {},
   "source": [
    "## Plots"
   ]
  },
  {
   "cell_type": "code",
   "execution_count": 48,
   "id": "50f31c6a",
   "metadata": {},
   "outputs": [
    {
     "data": {
      "text/html": [
       "<div>\n",
       "<style scoped>\n",
       "    .dataframe tbody tr th:only-of-type {\n",
       "        vertical-align: middle;\n",
       "    }\n",
       "\n",
       "    .dataframe tbody tr th {\n",
       "        vertical-align: top;\n",
       "    }\n",
       "\n",
       "    .dataframe thead th {\n",
       "        text-align: right;\n",
       "    }\n",
       "</style>\n",
       "<table border=\"1\" class=\"dataframe\">\n",
       "  <thead>\n",
       "    <tr style=\"text-align: right;\">\n",
       "      <th></th>\n",
       "      <th>Product</th>\n",
       "      <th>Year</th>\n",
       "      <th>Month</th>\n",
       "      <th>total_sales_month</th>\n",
       "    </tr>\n",
       "  </thead>\n",
       "  <tbody>\n",
       "    <tr>\n",
       "      <th>0</th>\n",
       "      <td>SKU1</td>\n",
       "      <td>2019</td>\n",
       "      <td>5</td>\n",
       "      <td>159307</td>\n",
       "    </tr>\n",
       "    <tr>\n",
       "      <th>1</th>\n",
       "      <td>SKU5</td>\n",
       "      <td>2020</td>\n",
       "      <td>3</td>\n",
       "      <td>36434</td>\n",
       "    </tr>\n",
       "    <tr>\n",
       "      <th>2</th>\n",
       "      <td>SKU6</td>\n",
       "      <td>2019</td>\n",
       "      <td>5</td>\n",
       "      <td>144149</td>\n",
       "    </tr>\n",
       "    <tr>\n",
       "      <th>3</th>\n",
       "      <td>SKU4</td>\n",
       "      <td>2018</td>\n",
       "      <td>7</td>\n",
       "      <td>72545</td>\n",
       "    </tr>\n",
       "    <tr>\n",
       "      <th>4</th>\n",
       "      <td>SKU4</td>\n",
       "      <td>2019</td>\n",
       "      <td>10</td>\n",
       "      <td>56929</td>\n",
       "    </tr>\n",
       "    <tr>\n",
       "      <th>5</th>\n",
       "      <td>SKU1</td>\n",
       "      <td>2020</td>\n",
       "      <td>10</td>\n",
       "      <td>194136</td>\n",
       "    </tr>\n",
       "    <tr>\n",
       "      <th>6</th>\n",
       "      <td>SKU2</td>\n",
       "      <td>2017</td>\n",
       "      <td>11</td>\n",
       "      <td>13721</td>\n",
       "    </tr>\n",
       "    <tr>\n",
       "      <th>7</th>\n",
       "      <td>SKU3</td>\n",
       "      <td>2020</td>\n",
       "      <td>6</td>\n",
       "      <td>198209</td>\n",
       "    </tr>\n",
       "    <tr>\n",
       "      <th>8</th>\n",
       "      <td>SKU2</td>\n",
       "      <td>2017</td>\n",
       "      <td>7</td>\n",
       "      <td>25227</td>\n",
       "    </tr>\n",
       "    <tr>\n",
       "      <th>9</th>\n",
       "      <td>SKU6</td>\n",
       "      <td>2020</td>\n",
       "      <td>9</td>\n",
       "      <td>140430</td>\n",
       "    </tr>\n",
       "  </tbody>\n",
       "</table>\n",
       "<p>Showing only the first 10 rows × 4 columns</p>\n",
       "</div>"
      ],
      "text/plain": [
       "  Product  Year  Month  total_sales_month\n",
       "0    SKU1  2019      5             159307\n",
       "1    SKU5  2020      3              36434\n",
       "2    SKU6  2019      5             144149\n",
       "3    SKU4  2018      7              72545\n",
       "4    SKU4  2019     10              56929\n",
       "5    SKU1  2020     10             194136\n",
       "6    SKU2  2017     11              13721\n",
       "7    SKU3  2020      6             198209\n",
       "8    SKU2  2017      7              25227\n",
       "9    SKU6  2020      9             140430\n",
       "\n",
       "[Showing only the first 10 rows x 4 columns]"
      ]
     },
     "execution_count": 48,
     "metadata": {},
     "output_type": "execute_result"
    }
   ],
   "source": [
    "df.groupby(['Product', 'Year', 'Month']).agg(total_sales_month = ('Sales','sum')).reset_index()"
   ]
  },
  {
   "cell_type": "code",
   "execution_count": 49,
   "id": "f7114676",
   "metadata": {},
   "outputs": [
    {
     "data": {
      "application/vnd.plotly.v1+json": {
       "config": {
        "plotlyServerURL": "https://plot.ly"
       },
       "data": [
        {
         "hovertemplate": "Product=SKU3<br>Cw=%{x}<br>total_sales_week=%{y}<extra></extra>",
         "legendgroup": "SKU3",
         "marker": {
          "color": "#636efa",
          "symbol": "circle"
         },
         "mode": "markers",
         "name": "SKU3",
         "orientation": "v",
         "showlegend": true,
         "type": "scatter",
         "x": [
          14,
          46,
          4,
          33,
          18,
          2,
          28,
          44,
          41,
          49,
          27,
          23,
          52,
          13,
          42,
          7,
          29,
          31,
          11,
          45,
          22,
          30,
          20,
          5,
          43,
          12,
          36,
          50,
          3,
          21,
          26,
          16,
          24,
          48,
          37,
          39,
          8,
          19,
          15,
          40,
          34,
          47,
          38,
          17,
          25,
          1,
          9,
          35,
          32,
          51,
          10,
          6
         ],
         "xaxis": "x",
         "y": [
          172410,
          92575,
          44422,
          566074,
          335269,
          40583,
          102943,
          261278,
          263333,
          167509,
          291699,
          809708,
          48767,
          172972,
          103924,
          489597,
          404210,
          232306,
          251105,
          359058,
          138661,
          92485,
          146983,
          240039,
          228102,
          181687,
          122776,
          91915,
          193232,
          202885,
          124641,
          166833,
          161562,
          95713,
          280579,
          523612,
          224303,
          272943,
          227657,
          162106,
          343625,
          203257,
          184315,
          195725,
          326276,
          173363,
          176466,
          270547,
          82586,
          88937,
          161046,
          95482
         ],
         "yaxis": "y"
        },
        {
         "hovertemplate": "Product=SKU6<br>Cw=%{x}<br>total_sales_week=%{y}<extra></extra>",
         "legendgroup": "SKU6",
         "marker": {
          "color": "#EF553B",
          "symbol": "circle"
         },
         "mode": "markers",
         "name": "SKU6",
         "orientation": "v",
         "showlegend": true,
         "type": "scatter",
         "x": [
          44,
          20,
          35,
          29,
          37,
          40,
          21,
          31,
          12,
          9,
          7,
          14,
          39,
          8,
          4,
          43,
          51,
          33,
          45,
          34,
          2,
          13,
          22,
          27,
          23,
          16,
          30,
          10,
          38,
          28,
          18,
          26,
          32,
          24,
          25,
          41,
          3,
          46,
          36,
          50,
          1,
          19,
          48,
          11,
          5,
          47,
          6,
          52,
          49,
          42,
          17,
          15
         ],
         "xaxis": "x",
         "y": [
          456693,
          226041,
          48822,
          97344,
          72084,
          158024,
          124518,
          216918,
          174120,
          66326,
          45815,
          81433,
          87926,
          86354,
          104575,
          682632,
          63896,
          83355,
          123790,
          127278,
          92568,
          72656,
          335537,
          67561,
          84218,
          69055,
          134785,
          275207,
          441108,
          277045,
          70253,
          244368,
          146665,
          102528,
          82083,
          180168,
          29354,
          136065,
          127678,
          67699,
          23509,
          58880,
          122824,
          89362,
          64169,
          96844,
          119440,
          32960,
          67014,
          530501,
          74139,
          56731
         ],
         "yaxis": "y"
        },
        {
         "hovertemplate": "Product=SKU2<br>Cw=%{x}<br>total_sales_week=%{y}<extra></extra>",
         "legendgroup": "SKU2",
         "marker": {
          "color": "#00cc96",
          "symbol": "circle"
         },
         "mode": "markers",
         "name": "SKU2",
         "orientation": "v",
         "showlegend": true,
         "type": "scatter",
         "x": [
          13,
          35,
          8,
          27,
          7,
          18,
          3,
          45,
          30,
          36,
          19,
          23,
          32,
          33,
          14,
          26,
          48,
          41,
          46,
          20,
          40,
          5,
          4,
          1,
          39,
          12,
          47,
          34,
          6,
          43,
          49,
          29,
          2,
          38,
          37,
          25,
          16,
          15,
          10,
          24,
          51,
          21,
          31,
          52,
          9,
          28,
          50,
          44,
          42,
          17,
          22,
          11
         ],
         "xaxis": "x",
         "y": [
          22344,
          12264,
          38832,
          11563,
          15278,
          12886,
          22758,
          34376,
          23512,
          21841,
          84738,
          17138,
          17976,
          50697,
          27522,
          20739,
          16741,
          90189,
          16691,
          70801,
          45562,
          17934,
          39626,
          7304,
          20247,
          14847,
          44997,
          27890,
          49459,
          59148,
          19515,
          22516,
          7983,
          27033,
          11527,
          116058,
          14867,
          23969,
          16666,
          12770,
          5607,
          21817,
          23190,
          8681,
          28038,
          24090,
          6955,
          11587,
          25763,
          24424,
          22074,
          59122
         ],
         "yaxis": "y"
        },
        {
         "hovertemplate": "Product=SKU1<br>Cw=%{x}<br>total_sales_week=%{y}<extra></extra>",
         "legendgroup": "SKU1",
         "marker": {
          "color": "#ab63fa",
          "symbol": "circle"
         },
         "mode": "markers",
         "name": "SKU1",
         "orientation": "v",
         "showlegend": true,
         "type": "scatter",
         "x": [
          51,
          6,
          28,
          26,
          25,
          34,
          19,
          24,
          31,
          3,
          49,
          42,
          10,
          27,
          43,
          22,
          41,
          1,
          23,
          29,
          37,
          5,
          14,
          12,
          9,
          17,
          7,
          40,
          15,
          45,
          20,
          44,
          38,
          16,
          36,
          33,
          18,
          2,
          21,
          52,
          46,
          35,
          47,
          50,
          48,
          8,
          39,
          13,
          30,
          11,
          32,
          4
         ],
         "xaxis": "x",
         "y": [
          589121,
          121733,
          122076,
          151422,
          130550,
          138603,
          160918,
          128509,
          115038,
          139141,
          264392,
          147055,
          190659,
          138813,
          154891,
          132915,
          146108,
          123502,
          243749,
          134838,
          310527,
          123347,
          185123,
          189486,
          159490,
          154949,
          194419,
          228196,
          267019,
          226841,
          120325,
          296379,
          193681,
          245395,
          186530,
          118596,
          162174,
          106751,
          171726,
          310178,
          234375,
          162323,
          190023,
          260826,
          199326,
          119988,
          284700,
          220026,
          115991,
          165353,
          134281,
          182091
         ],
         "yaxis": "y"
        },
        {
         "hovertemplate": "Product=SKU4<br>Cw=%{x}<br>total_sales_week=%{y}<extra></extra>",
         "legendgroup": "SKU4",
         "marker": {
          "color": "#FFA15A",
          "symbol": "circle"
         },
         "mode": "markers",
         "name": "SKU4",
         "orientation": "v",
         "showlegend": true,
         "type": "scatter",
         "x": [
          4,
          6,
          23,
          45,
          48,
          8,
          13,
          20,
          22,
          3,
          12,
          25,
          43,
          11,
          52,
          24,
          31,
          51,
          40,
          2,
          15,
          27,
          18,
          19,
          49,
          42,
          10,
          50,
          7,
          30,
          35,
          32,
          5,
          29,
          17,
          39,
          14,
          33,
          41,
          44,
          37,
          47,
          1,
          46,
          28,
          16,
          9,
          34,
          36,
          26,
          38,
          21
         ],
         "xaxis": "x",
         "y": [
          11086,
          28018,
          222375,
          114314,
          28689,
          65928,
          53265,
          44325,
          39660,
          57001,
          54883,
          100803,
          71567,
          80186,
          13155,
          47668,
          77181,
          23104,
          53729,
          10508,
          65636,
          89881,
          101659,
          86314,
          44054,
          32542,
          49230,
          25096,
          156766,
          29095,
          81647,
          24040,
          71706,
          140377,
          57617,
          153144,
          53116,
          189582,
          82431,
          83113,
          84393,
          57624,
          51511,
          27644,
          30171,
          46335,
          51445,
          111624,
          34035,
          34535,
          57367,
          62036
         ],
         "yaxis": "y"
        },
        {
         "hovertemplate": "Product=SKU5<br>Cw=%{x}<br>total_sales_week=%{y}<extra></extra>",
         "legendgroup": "SKU5",
         "marker": {
          "color": "#19d3f3",
          "symbol": "circle"
         },
         "mode": "markers",
         "name": "SKU5",
         "orientation": "v",
         "showlegend": true,
         "type": "scatter",
         "x": [
          7,
          1,
          45,
          21,
          18,
          23,
          40,
          41,
          44,
          50,
          14,
          16,
          48,
          52,
          9,
          5,
          27,
          19,
          49,
          10,
          8,
          32,
          51,
          38,
          42,
          13,
          24,
          26,
          33,
          30,
          47,
          22,
          29,
          28,
          17,
          46,
          2,
          37,
          3,
          15,
          20,
          39,
          35,
          36,
          6,
          12,
          11,
          31,
          43,
          4,
          34,
          25
         ],
         "xaxis": "x",
         "y": [
          36921,
          25008,
          88333,
          33455,
          45384,
          102245,
          62319,
          138772,
          66985,
          32624,
          33144,
          61057,
          24974,
          20199,
          50617,
          27315,
          153595,
          107825,
          55571,
          34887,
          32870,
          121722,
          43971,
          108703,
          68525,
          24500,
          44378,
          141005,
          102835,
          68148,
          37942,
          93587,
          102975,
          65326,
          80216,
          32357,
          15624,
          84951,
          61934,
          51759,
          109261,
          50693,
          36818,
          95592,
          53398,
          53984,
          23372,
          89259,
          76817,
          29863,
          110538,
          45936
         ],
         "yaxis": "y"
        }
       ],
       "layout": {
        "legend": {
         "title": {
          "text": "Product"
         },
         "tracegroupgap": 0
        },
        "template": {
         "data": {
          "bar": [
           {
            "error_x": {
             "color": "#2a3f5f"
            },
            "error_y": {
             "color": "#2a3f5f"
            },
            "marker": {
             "line": {
              "color": "#E5ECF6",
              "width": 0.5
             },
             "pattern": {
              "fillmode": "overlay",
              "size": 10,
              "solidity": 0.2
             }
            },
            "type": "bar"
           }
          ],
          "barpolar": [
           {
            "marker": {
             "line": {
              "color": "#E5ECF6",
              "width": 0.5
             },
             "pattern": {
              "fillmode": "overlay",
              "size": 10,
              "solidity": 0.2
             }
            },
            "type": "barpolar"
           }
          ],
          "carpet": [
           {
            "aaxis": {
             "endlinecolor": "#2a3f5f",
             "gridcolor": "white",
             "linecolor": "white",
             "minorgridcolor": "white",
             "startlinecolor": "#2a3f5f"
            },
            "baxis": {
             "endlinecolor": "#2a3f5f",
             "gridcolor": "white",
             "linecolor": "white",
             "minorgridcolor": "white",
             "startlinecolor": "#2a3f5f"
            },
            "type": "carpet"
           }
          ],
          "choropleth": [
           {
            "colorbar": {
             "outlinewidth": 0,
             "ticks": ""
            },
            "type": "choropleth"
           }
          ],
          "contour": [
           {
            "colorbar": {
             "outlinewidth": 0,
             "ticks": ""
            },
            "colorscale": [
             [
              0,
              "#0d0887"
             ],
             [
              0.1111111111111111,
              "#46039f"
             ],
             [
              0.2222222222222222,
              "#7201a8"
             ],
             [
              0.3333333333333333,
              "#9c179e"
             ],
             [
              0.4444444444444444,
              "#bd3786"
             ],
             [
              0.5555555555555556,
              "#d8576b"
             ],
             [
              0.6666666666666666,
              "#ed7953"
             ],
             [
              0.7777777777777778,
              "#fb9f3a"
             ],
             [
              0.8888888888888888,
              "#fdca26"
             ],
             [
              1,
              "#f0f921"
             ]
            ],
            "type": "contour"
           }
          ],
          "contourcarpet": [
           {
            "colorbar": {
             "outlinewidth": 0,
             "ticks": ""
            },
            "type": "contourcarpet"
           }
          ],
          "heatmap": [
           {
            "colorbar": {
             "outlinewidth": 0,
             "ticks": ""
            },
            "colorscale": [
             [
              0,
              "#0d0887"
             ],
             [
              0.1111111111111111,
              "#46039f"
             ],
             [
              0.2222222222222222,
              "#7201a8"
             ],
             [
              0.3333333333333333,
              "#9c179e"
             ],
             [
              0.4444444444444444,
              "#bd3786"
             ],
             [
              0.5555555555555556,
              "#d8576b"
             ],
             [
              0.6666666666666666,
              "#ed7953"
             ],
             [
              0.7777777777777778,
              "#fb9f3a"
             ],
             [
              0.8888888888888888,
              "#fdca26"
             ],
             [
              1,
              "#f0f921"
             ]
            ],
            "type": "heatmap"
           }
          ],
          "heatmapgl": [
           {
            "colorbar": {
             "outlinewidth": 0,
             "ticks": ""
            },
            "colorscale": [
             [
              0,
              "#0d0887"
             ],
             [
              0.1111111111111111,
              "#46039f"
             ],
             [
              0.2222222222222222,
              "#7201a8"
             ],
             [
              0.3333333333333333,
              "#9c179e"
             ],
             [
              0.4444444444444444,
              "#bd3786"
             ],
             [
              0.5555555555555556,
              "#d8576b"
             ],
             [
              0.6666666666666666,
              "#ed7953"
             ],
             [
              0.7777777777777778,
              "#fb9f3a"
             ],
             [
              0.8888888888888888,
              "#fdca26"
             ],
             [
              1,
              "#f0f921"
             ]
            ],
            "type": "heatmapgl"
           }
          ],
          "histogram": [
           {
            "marker": {
             "pattern": {
              "fillmode": "overlay",
              "size": 10,
              "solidity": 0.2
             }
            },
            "type": "histogram"
           }
          ],
          "histogram2d": [
           {
            "colorbar": {
             "outlinewidth": 0,
             "ticks": ""
            },
            "colorscale": [
             [
              0,
              "#0d0887"
             ],
             [
              0.1111111111111111,
              "#46039f"
             ],
             [
              0.2222222222222222,
              "#7201a8"
             ],
             [
              0.3333333333333333,
              "#9c179e"
             ],
             [
              0.4444444444444444,
              "#bd3786"
             ],
             [
              0.5555555555555556,
              "#d8576b"
             ],
             [
              0.6666666666666666,
              "#ed7953"
             ],
             [
              0.7777777777777778,
              "#fb9f3a"
             ],
             [
              0.8888888888888888,
              "#fdca26"
             ],
             [
              1,
              "#f0f921"
             ]
            ],
            "type": "histogram2d"
           }
          ],
          "histogram2dcontour": [
           {
            "colorbar": {
             "outlinewidth": 0,
             "ticks": ""
            },
            "colorscale": [
             [
              0,
              "#0d0887"
             ],
             [
              0.1111111111111111,
              "#46039f"
             ],
             [
              0.2222222222222222,
              "#7201a8"
             ],
             [
              0.3333333333333333,
              "#9c179e"
             ],
             [
              0.4444444444444444,
              "#bd3786"
             ],
             [
              0.5555555555555556,
              "#d8576b"
             ],
             [
              0.6666666666666666,
              "#ed7953"
             ],
             [
              0.7777777777777778,
              "#fb9f3a"
             ],
             [
              0.8888888888888888,
              "#fdca26"
             ],
             [
              1,
              "#f0f921"
             ]
            ],
            "type": "histogram2dcontour"
           }
          ],
          "mesh3d": [
           {
            "colorbar": {
             "outlinewidth": 0,
             "ticks": ""
            },
            "type": "mesh3d"
           }
          ],
          "parcoords": [
           {
            "line": {
             "colorbar": {
              "outlinewidth": 0,
              "ticks": ""
             }
            },
            "type": "parcoords"
           }
          ],
          "pie": [
           {
            "automargin": true,
            "type": "pie"
           }
          ],
          "scatter": [
           {
            "fillpattern": {
             "fillmode": "overlay",
             "size": 10,
             "solidity": 0.2
            },
            "type": "scatter"
           }
          ],
          "scatter3d": [
           {
            "line": {
             "colorbar": {
              "outlinewidth": 0,
              "ticks": ""
             }
            },
            "marker": {
             "colorbar": {
              "outlinewidth": 0,
              "ticks": ""
             }
            },
            "type": "scatter3d"
           }
          ],
          "scattercarpet": [
           {
            "marker": {
             "colorbar": {
              "outlinewidth": 0,
              "ticks": ""
             }
            },
            "type": "scattercarpet"
           }
          ],
          "scattergeo": [
           {
            "marker": {
             "colorbar": {
              "outlinewidth": 0,
              "ticks": ""
             }
            },
            "type": "scattergeo"
           }
          ],
          "scattergl": [
           {
            "marker": {
             "colorbar": {
              "outlinewidth": 0,
              "ticks": ""
             }
            },
            "type": "scattergl"
           }
          ],
          "scattermapbox": [
           {
            "marker": {
             "colorbar": {
              "outlinewidth": 0,
              "ticks": ""
             }
            },
            "type": "scattermapbox"
           }
          ],
          "scatterpolar": [
           {
            "marker": {
             "colorbar": {
              "outlinewidth": 0,
              "ticks": ""
             }
            },
            "type": "scatterpolar"
           }
          ],
          "scatterpolargl": [
           {
            "marker": {
             "colorbar": {
              "outlinewidth": 0,
              "ticks": ""
             }
            },
            "type": "scatterpolargl"
           }
          ],
          "scatterternary": [
           {
            "marker": {
             "colorbar": {
              "outlinewidth": 0,
              "ticks": ""
             }
            },
            "type": "scatterternary"
           }
          ],
          "surface": [
           {
            "colorbar": {
             "outlinewidth": 0,
             "ticks": ""
            },
            "colorscale": [
             [
              0,
              "#0d0887"
             ],
             [
              0.1111111111111111,
              "#46039f"
             ],
             [
              0.2222222222222222,
              "#7201a8"
             ],
             [
              0.3333333333333333,
              "#9c179e"
             ],
             [
              0.4444444444444444,
              "#bd3786"
             ],
             [
              0.5555555555555556,
              "#d8576b"
             ],
             [
              0.6666666666666666,
              "#ed7953"
             ],
             [
              0.7777777777777778,
              "#fb9f3a"
             ],
             [
              0.8888888888888888,
              "#fdca26"
             ],
             [
              1,
              "#f0f921"
             ]
            ],
            "type": "surface"
           }
          ],
          "table": [
           {
            "cells": {
             "fill": {
              "color": "#EBF0F8"
             },
             "line": {
              "color": "white"
             }
            },
            "header": {
             "fill": {
              "color": "#C8D4E3"
             },
             "line": {
              "color": "white"
             }
            },
            "type": "table"
           }
          ]
         },
         "layout": {
          "annotationdefaults": {
           "arrowcolor": "#2a3f5f",
           "arrowhead": 0,
           "arrowwidth": 1
          },
          "autotypenumbers": "strict",
          "coloraxis": {
           "colorbar": {
            "outlinewidth": 0,
            "ticks": ""
           }
          },
          "colorscale": {
           "diverging": [
            [
             0,
             "#8e0152"
            ],
            [
             0.1,
             "#c51b7d"
            ],
            [
             0.2,
             "#de77ae"
            ],
            [
             0.3,
             "#f1b6da"
            ],
            [
             0.4,
             "#fde0ef"
            ],
            [
             0.5,
             "#f7f7f7"
            ],
            [
             0.6,
             "#e6f5d0"
            ],
            [
             0.7,
             "#b8e186"
            ],
            [
             0.8,
             "#7fbc41"
            ],
            [
             0.9,
             "#4d9221"
            ],
            [
             1,
             "#276419"
            ]
           ],
           "sequential": [
            [
             0,
             "#0d0887"
            ],
            [
             0.1111111111111111,
             "#46039f"
            ],
            [
             0.2222222222222222,
             "#7201a8"
            ],
            [
             0.3333333333333333,
             "#9c179e"
            ],
            [
             0.4444444444444444,
             "#bd3786"
            ],
            [
             0.5555555555555556,
             "#d8576b"
            ],
            [
             0.6666666666666666,
             "#ed7953"
            ],
            [
             0.7777777777777778,
             "#fb9f3a"
            ],
            [
             0.8888888888888888,
             "#fdca26"
            ],
            [
             1,
             "#f0f921"
            ]
           ],
           "sequentialminus": [
            [
             0,
             "#0d0887"
            ],
            [
             0.1111111111111111,
             "#46039f"
            ],
            [
             0.2222222222222222,
             "#7201a8"
            ],
            [
             0.3333333333333333,
             "#9c179e"
            ],
            [
             0.4444444444444444,
             "#bd3786"
            ],
            [
             0.5555555555555556,
             "#d8576b"
            ],
            [
             0.6666666666666666,
             "#ed7953"
            ],
            [
             0.7777777777777778,
             "#fb9f3a"
            ],
            [
             0.8888888888888888,
             "#fdca26"
            ],
            [
             1,
             "#f0f921"
            ]
           ]
          },
          "colorway": [
           "#636efa",
           "#EF553B",
           "#00cc96",
           "#ab63fa",
           "#FFA15A",
           "#19d3f3",
           "#FF6692",
           "#B6E880",
           "#FF97FF",
           "#FECB52"
          ],
          "font": {
           "color": "#2a3f5f"
          },
          "geo": {
           "bgcolor": "white",
           "lakecolor": "white",
           "landcolor": "#E5ECF6",
           "showlakes": true,
           "showland": true,
           "subunitcolor": "white"
          },
          "hoverlabel": {
           "align": "left"
          },
          "hovermode": "closest",
          "mapbox": {
           "style": "light"
          },
          "paper_bgcolor": "white",
          "plot_bgcolor": "#E5ECF6",
          "polar": {
           "angularaxis": {
            "gridcolor": "white",
            "linecolor": "white",
            "ticks": ""
           },
           "bgcolor": "#E5ECF6",
           "radialaxis": {
            "gridcolor": "white",
            "linecolor": "white",
            "ticks": ""
           }
          },
          "scene": {
           "xaxis": {
            "backgroundcolor": "#E5ECF6",
            "gridcolor": "white",
            "gridwidth": 2,
            "linecolor": "white",
            "showbackground": true,
            "ticks": "",
            "zerolinecolor": "white"
           },
           "yaxis": {
            "backgroundcolor": "#E5ECF6",
            "gridcolor": "white",
            "gridwidth": 2,
            "linecolor": "white",
            "showbackground": true,
            "ticks": "",
            "zerolinecolor": "white"
           },
           "zaxis": {
            "backgroundcolor": "#E5ECF6",
            "gridcolor": "white",
            "gridwidth": 2,
            "linecolor": "white",
            "showbackground": true,
            "ticks": "",
            "zerolinecolor": "white"
           }
          },
          "shapedefaults": {
           "line": {
            "color": "#2a3f5f"
           }
          },
          "ternary": {
           "aaxis": {
            "gridcolor": "white",
            "linecolor": "white",
            "ticks": ""
           },
           "baxis": {
            "gridcolor": "white",
            "linecolor": "white",
            "ticks": ""
           },
           "bgcolor": "#E5ECF6",
           "caxis": {
            "gridcolor": "white",
            "linecolor": "white",
            "ticks": ""
           }
          },
          "title": {
           "x": 0.05
          },
          "xaxis": {
           "automargin": true,
           "gridcolor": "white",
           "linecolor": "white",
           "ticks": "",
           "title": {
            "standoff": 15
           },
           "zerolinecolor": "white",
           "zerolinewidth": 2
          },
          "yaxis": {
           "automargin": true,
           "gridcolor": "white",
           "linecolor": "white",
           "ticks": "",
           "title": {
            "standoff": 15
           },
           "zerolinecolor": "white",
           "zerolinewidth": 2
          }
         }
        },
        "title": {
         "text": "Total Weekly sales over 2017-2020"
        },
        "xaxis": {
         "anchor": "y",
         "domain": [
          0,
          1
         ],
         "title": {
          "text": "Cw"
         }
        },
        "yaxis": {
         "anchor": "x",
         "domain": [
          0,
          1
         ],
         "title": {
          "text": "total_sales_week"
         }
        }
       }
      },
      "text/html": [
       "<div>                            <div id=\"67b06a01-2607-401b-bfae-60e7826b0438\" class=\"plotly-graph-div\" style=\"height:525px; width:100%;\"></div>            <script type=\"text/javascript\">                require([\"plotly\"], function(Plotly) {                    window.PLOTLYENV=window.PLOTLYENV || {};                                    if (document.getElementById(\"67b06a01-2607-401b-bfae-60e7826b0438\")) {                    Plotly.newPlot(                        \"67b06a01-2607-401b-bfae-60e7826b0438\",                        [{\"hovertemplate\":\"Product=SKU3<br>Cw=%{x}<br>total_sales_week=%{y}<extra></extra>\",\"legendgroup\":\"SKU3\",\"marker\":{\"color\":\"#636efa\",\"symbol\":\"circle\"},\"mode\":\"markers\",\"name\":\"SKU3\",\"orientation\":\"v\",\"showlegend\":true,\"x\":[14,46,4,33,18,2,28,44,41,49,27,23,52,13,42,7,29,31,11,45,22,30,20,5,43,12,36,50,3,21,26,16,24,48,37,39,8,19,15,40,34,47,38,17,25,1,9,35,32,51,10,6],\"xaxis\":\"x\",\"y\":[172410,92575,44422,566074,335269,40583,102943,261278,263333,167509,291699,809708,48767,172972,103924,489597,404210,232306,251105,359058,138661,92485,146983,240039,228102,181687,122776,91915,193232,202885,124641,166833,161562,95713,280579,523612,224303,272943,227657,162106,343625,203257,184315,195725,326276,173363,176466,270547,82586,88937,161046,95482],\"yaxis\":\"y\",\"type\":\"scatter\"},{\"hovertemplate\":\"Product=SKU6<br>Cw=%{x}<br>total_sales_week=%{y}<extra></extra>\",\"legendgroup\":\"SKU6\",\"marker\":{\"color\":\"#EF553B\",\"symbol\":\"circle\"},\"mode\":\"markers\",\"name\":\"SKU6\",\"orientation\":\"v\",\"showlegend\":true,\"x\":[44,20,35,29,37,40,21,31,12,9,7,14,39,8,4,43,51,33,45,34,2,13,22,27,23,16,30,10,38,28,18,26,32,24,25,41,3,46,36,50,1,19,48,11,5,47,6,52,49,42,17,15],\"xaxis\":\"x\",\"y\":[456693,226041,48822,97344,72084,158024,124518,216918,174120,66326,45815,81433,87926,86354,104575,682632,63896,83355,123790,127278,92568,72656,335537,67561,84218,69055,134785,275207,441108,277045,70253,244368,146665,102528,82083,180168,29354,136065,127678,67699,23509,58880,122824,89362,64169,96844,119440,32960,67014,530501,74139,56731],\"yaxis\":\"y\",\"type\":\"scatter\"},{\"hovertemplate\":\"Product=SKU2<br>Cw=%{x}<br>total_sales_week=%{y}<extra></extra>\",\"legendgroup\":\"SKU2\",\"marker\":{\"color\":\"#00cc96\",\"symbol\":\"circle\"},\"mode\":\"markers\",\"name\":\"SKU2\",\"orientation\":\"v\",\"showlegend\":true,\"x\":[13,35,8,27,7,18,3,45,30,36,19,23,32,33,14,26,48,41,46,20,40,5,4,1,39,12,47,34,6,43,49,29,2,38,37,25,16,15,10,24,51,21,31,52,9,28,50,44,42,17,22,11],\"xaxis\":\"x\",\"y\":[22344,12264,38832,11563,15278,12886,22758,34376,23512,21841,84738,17138,17976,50697,27522,20739,16741,90189,16691,70801,45562,17934,39626,7304,20247,14847,44997,27890,49459,59148,19515,22516,7983,27033,11527,116058,14867,23969,16666,12770,5607,21817,23190,8681,28038,24090,6955,11587,25763,24424,22074,59122],\"yaxis\":\"y\",\"type\":\"scatter\"},{\"hovertemplate\":\"Product=SKU1<br>Cw=%{x}<br>total_sales_week=%{y}<extra></extra>\",\"legendgroup\":\"SKU1\",\"marker\":{\"color\":\"#ab63fa\",\"symbol\":\"circle\"},\"mode\":\"markers\",\"name\":\"SKU1\",\"orientation\":\"v\",\"showlegend\":true,\"x\":[51,6,28,26,25,34,19,24,31,3,49,42,10,27,43,22,41,1,23,29,37,5,14,12,9,17,7,40,15,45,20,44,38,16,36,33,18,2,21,52,46,35,47,50,48,8,39,13,30,11,32,4],\"xaxis\":\"x\",\"y\":[589121,121733,122076,151422,130550,138603,160918,128509,115038,139141,264392,147055,190659,138813,154891,132915,146108,123502,243749,134838,310527,123347,185123,189486,159490,154949,194419,228196,267019,226841,120325,296379,193681,245395,186530,118596,162174,106751,171726,310178,234375,162323,190023,260826,199326,119988,284700,220026,115991,165353,134281,182091],\"yaxis\":\"y\",\"type\":\"scatter\"},{\"hovertemplate\":\"Product=SKU4<br>Cw=%{x}<br>total_sales_week=%{y}<extra></extra>\",\"legendgroup\":\"SKU4\",\"marker\":{\"color\":\"#FFA15A\",\"symbol\":\"circle\"},\"mode\":\"markers\",\"name\":\"SKU4\",\"orientation\":\"v\",\"showlegend\":true,\"x\":[4,6,23,45,48,8,13,20,22,3,12,25,43,11,52,24,31,51,40,2,15,27,18,19,49,42,10,50,7,30,35,32,5,29,17,39,14,33,41,44,37,47,1,46,28,16,9,34,36,26,38,21],\"xaxis\":\"x\",\"y\":[11086,28018,222375,114314,28689,65928,53265,44325,39660,57001,54883,100803,71567,80186,13155,47668,77181,23104,53729,10508,65636,89881,101659,86314,44054,32542,49230,25096,156766,29095,81647,24040,71706,140377,57617,153144,53116,189582,82431,83113,84393,57624,51511,27644,30171,46335,51445,111624,34035,34535,57367,62036],\"yaxis\":\"y\",\"type\":\"scatter\"},{\"hovertemplate\":\"Product=SKU5<br>Cw=%{x}<br>total_sales_week=%{y}<extra></extra>\",\"legendgroup\":\"SKU5\",\"marker\":{\"color\":\"#19d3f3\",\"symbol\":\"circle\"},\"mode\":\"markers\",\"name\":\"SKU5\",\"orientation\":\"v\",\"showlegend\":true,\"x\":[7,1,45,21,18,23,40,41,44,50,14,16,48,52,9,5,27,19,49,10,8,32,51,38,42,13,24,26,33,30,47,22,29,28,17,46,2,37,3,15,20,39,35,36,6,12,11,31,43,4,34,25],\"xaxis\":\"x\",\"y\":[36921,25008,88333,33455,45384,102245,62319,138772,66985,32624,33144,61057,24974,20199,50617,27315,153595,107825,55571,34887,32870,121722,43971,108703,68525,24500,44378,141005,102835,68148,37942,93587,102975,65326,80216,32357,15624,84951,61934,51759,109261,50693,36818,95592,53398,53984,23372,89259,76817,29863,110538,45936],\"yaxis\":\"y\",\"type\":\"scatter\"}],                        {\"template\":{\"data\":{\"histogram2dcontour\":[{\"type\":\"histogram2dcontour\",\"colorbar\":{\"outlinewidth\":0,\"ticks\":\"\"},\"colorscale\":[[0.0,\"#0d0887\"],[0.1111111111111111,\"#46039f\"],[0.2222222222222222,\"#7201a8\"],[0.3333333333333333,\"#9c179e\"],[0.4444444444444444,\"#bd3786\"],[0.5555555555555556,\"#d8576b\"],[0.6666666666666666,\"#ed7953\"],[0.7777777777777778,\"#fb9f3a\"],[0.8888888888888888,\"#fdca26\"],[1.0,\"#f0f921\"]]}],\"choropleth\":[{\"type\":\"choropleth\",\"colorbar\":{\"outlinewidth\":0,\"ticks\":\"\"}}],\"histogram2d\":[{\"type\":\"histogram2d\",\"colorbar\":{\"outlinewidth\":0,\"ticks\":\"\"},\"colorscale\":[[0.0,\"#0d0887\"],[0.1111111111111111,\"#46039f\"],[0.2222222222222222,\"#7201a8\"],[0.3333333333333333,\"#9c179e\"],[0.4444444444444444,\"#bd3786\"],[0.5555555555555556,\"#d8576b\"],[0.6666666666666666,\"#ed7953\"],[0.7777777777777778,\"#fb9f3a\"],[0.8888888888888888,\"#fdca26\"],[1.0,\"#f0f921\"]]}],\"heatmap\":[{\"type\":\"heatmap\",\"colorbar\":{\"outlinewidth\":0,\"ticks\":\"\"},\"colorscale\":[[0.0,\"#0d0887\"],[0.1111111111111111,\"#46039f\"],[0.2222222222222222,\"#7201a8\"],[0.3333333333333333,\"#9c179e\"],[0.4444444444444444,\"#bd3786\"],[0.5555555555555556,\"#d8576b\"],[0.6666666666666666,\"#ed7953\"],[0.7777777777777778,\"#fb9f3a\"],[0.8888888888888888,\"#fdca26\"],[1.0,\"#f0f921\"]]}],\"heatmapgl\":[{\"type\":\"heatmapgl\",\"colorbar\":{\"outlinewidth\":0,\"ticks\":\"\"},\"colorscale\":[[0.0,\"#0d0887\"],[0.1111111111111111,\"#46039f\"],[0.2222222222222222,\"#7201a8\"],[0.3333333333333333,\"#9c179e\"],[0.4444444444444444,\"#bd3786\"],[0.5555555555555556,\"#d8576b\"],[0.6666666666666666,\"#ed7953\"],[0.7777777777777778,\"#fb9f3a\"],[0.8888888888888888,\"#fdca26\"],[1.0,\"#f0f921\"]]}],\"contourcarpet\":[{\"type\":\"contourcarpet\",\"colorbar\":{\"outlinewidth\":0,\"ticks\":\"\"}}],\"contour\":[{\"type\":\"contour\",\"colorbar\":{\"outlinewidth\":0,\"ticks\":\"\"},\"colorscale\":[[0.0,\"#0d0887\"],[0.1111111111111111,\"#46039f\"],[0.2222222222222222,\"#7201a8\"],[0.3333333333333333,\"#9c179e\"],[0.4444444444444444,\"#bd3786\"],[0.5555555555555556,\"#d8576b\"],[0.6666666666666666,\"#ed7953\"],[0.7777777777777778,\"#fb9f3a\"],[0.8888888888888888,\"#fdca26\"],[1.0,\"#f0f921\"]]}],\"surface\":[{\"type\":\"surface\",\"colorbar\":{\"outlinewidth\":0,\"ticks\":\"\"},\"colorscale\":[[0.0,\"#0d0887\"],[0.1111111111111111,\"#46039f\"],[0.2222222222222222,\"#7201a8\"],[0.3333333333333333,\"#9c179e\"],[0.4444444444444444,\"#bd3786\"],[0.5555555555555556,\"#d8576b\"],[0.6666666666666666,\"#ed7953\"],[0.7777777777777778,\"#fb9f3a\"],[0.8888888888888888,\"#fdca26\"],[1.0,\"#f0f921\"]]}],\"mesh3d\":[{\"type\":\"mesh3d\",\"colorbar\":{\"outlinewidth\":0,\"ticks\":\"\"}}],\"scatter\":[{\"fillpattern\":{\"fillmode\":\"overlay\",\"size\":10,\"solidity\":0.2},\"type\":\"scatter\"}],\"parcoords\":[{\"type\":\"parcoords\",\"line\":{\"colorbar\":{\"outlinewidth\":0,\"ticks\":\"\"}}}],\"scatterpolargl\":[{\"type\":\"scatterpolargl\",\"marker\":{\"colorbar\":{\"outlinewidth\":0,\"ticks\":\"\"}}}],\"bar\":[{\"error_x\":{\"color\":\"#2a3f5f\"},\"error_y\":{\"color\":\"#2a3f5f\"},\"marker\":{\"line\":{\"color\":\"#E5ECF6\",\"width\":0.5},\"pattern\":{\"fillmode\":\"overlay\",\"size\":10,\"solidity\":0.2}},\"type\":\"bar\"}],\"scattergeo\":[{\"type\":\"scattergeo\",\"marker\":{\"colorbar\":{\"outlinewidth\":0,\"ticks\":\"\"}}}],\"scatterpolar\":[{\"type\":\"scatterpolar\",\"marker\":{\"colorbar\":{\"outlinewidth\":0,\"ticks\":\"\"}}}],\"histogram\":[{\"marker\":{\"pattern\":{\"fillmode\":\"overlay\",\"size\":10,\"solidity\":0.2}},\"type\":\"histogram\"}],\"scattergl\":[{\"type\":\"scattergl\",\"marker\":{\"colorbar\":{\"outlinewidth\":0,\"ticks\":\"\"}}}],\"scatter3d\":[{\"type\":\"scatter3d\",\"line\":{\"colorbar\":{\"outlinewidth\":0,\"ticks\":\"\"}},\"marker\":{\"colorbar\":{\"outlinewidth\":0,\"ticks\":\"\"}}}],\"scattermapbox\":[{\"type\":\"scattermapbox\",\"marker\":{\"colorbar\":{\"outlinewidth\":0,\"ticks\":\"\"}}}],\"scatterternary\":[{\"type\":\"scatterternary\",\"marker\":{\"colorbar\":{\"outlinewidth\":0,\"ticks\":\"\"}}}],\"scattercarpet\":[{\"type\":\"scattercarpet\",\"marker\":{\"colorbar\":{\"outlinewidth\":0,\"ticks\":\"\"}}}],\"carpet\":[{\"aaxis\":{\"endlinecolor\":\"#2a3f5f\",\"gridcolor\":\"white\",\"linecolor\":\"white\",\"minorgridcolor\":\"white\",\"startlinecolor\":\"#2a3f5f\"},\"baxis\":{\"endlinecolor\":\"#2a3f5f\",\"gridcolor\":\"white\",\"linecolor\":\"white\",\"minorgridcolor\":\"white\",\"startlinecolor\":\"#2a3f5f\"},\"type\":\"carpet\"}],\"table\":[{\"cells\":{\"fill\":{\"color\":\"#EBF0F8\"},\"line\":{\"color\":\"white\"}},\"header\":{\"fill\":{\"color\":\"#C8D4E3\"},\"line\":{\"color\":\"white\"}},\"type\":\"table\"}],\"barpolar\":[{\"marker\":{\"line\":{\"color\":\"#E5ECF6\",\"width\":0.5},\"pattern\":{\"fillmode\":\"overlay\",\"size\":10,\"solidity\":0.2}},\"type\":\"barpolar\"}],\"pie\":[{\"automargin\":true,\"type\":\"pie\"}]},\"layout\":{\"autotypenumbers\":\"strict\",\"colorway\":[\"#636efa\",\"#EF553B\",\"#00cc96\",\"#ab63fa\",\"#FFA15A\",\"#19d3f3\",\"#FF6692\",\"#B6E880\",\"#FF97FF\",\"#FECB52\"],\"font\":{\"color\":\"#2a3f5f\"},\"hovermode\":\"closest\",\"hoverlabel\":{\"align\":\"left\"},\"paper_bgcolor\":\"white\",\"plot_bgcolor\":\"#E5ECF6\",\"polar\":{\"bgcolor\":\"#E5ECF6\",\"angularaxis\":{\"gridcolor\":\"white\",\"linecolor\":\"white\",\"ticks\":\"\"},\"radialaxis\":{\"gridcolor\":\"white\",\"linecolor\":\"white\",\"ticks\":\"\"}},\"ternary\":{\"bgcolor\":\"#E5ECF6\",\"aaxis\":{\"gridcolor\":\"white\",\"linecolor\":\"white\",\"ticks\":\"\"},\"baxis\":{\"gridcolor\":\"white\",\"linecolor\":\"white\",\"ticks\":\"\"},\"caxis\":{\"gridcolor\":\"white\",\"linecolor\":\"white\",\"ticks\":\"\"}},\"coloraxis\":{\"colorbar\":{\"outlinewidth\":0,\"ticks\":\"\"}},\"colorscale\":{\"sequential\":[[0.0,\"#0d0887\"],[0.1111111111111111,\"#46039f\"],[0.2222222222222222,\"#7201a8\"],[0.3333333333333333,\"#9c179e\"],[0.4444444444444444,\"#bd3786\"],[0.5555555555555556,\"#d8576b\"],[0.6666666666666666,\"#ed7953\"],[0.7777777777777778,\"#fb9f3a\"],[0.8888888888888888,\"#fdca26\"],[1.0,\"#f0f921\"]],\"sequentialminus\":[[0.0,\"#0d0887\"],[0.1111111111111111,\"#46039f\"],[0.2222222222222222,\"#7201a8\"],[0.3333333333333333,\"#9c179e\"],[0.4444444444444444,\"#bd3786\"],[0.5555555555555556,\"#d8576b\"],[0.6666666666666666,\"#ed7953\"],[0.7777777777777778,\"#fb9f3a\"],[0.8888888888888888,\"#fdca26\"],[1.0,\"#f0f921\"]],\"diverging\":[[0,\"#8e0152\"],[0.1,\"#c51b7d\"],[0.2,\"#de77ae\"],[0.3,\"#f1b6da\"],[0.4,\"#fde0ef\"],[0.5,\"#f7f7f7\"],[0.6,\"#e6f5d0\"],[0.7,\"#b8e186\"],[0.8,\"#7fbc41\"],[0.9,\"#4d9221\"],[1,\"#276419\"]]},\"xaxis\":{\"gridcolor\":\"white\",\"linecolor\":\"white\",\"ticks\":\"\",\"title\":{\"standoff\":15},\"zerolinecolor\":\"white\",\"automargin\":true,\"zerolinewidth\":2},\"yaxis\":{\"gridcolor\":\"white\",\"linecolor\":\"white\",\"ticks\":\"\",\"title\":{\"standoff\":15},\"zerolinecolor\":\"white\",\"automargin\":true,\"zerolinewidth\":2},\"scene\":{\"xaxis\":{\"backgroundcolor\":\"#E5ECF6\",\"gridcolor\":\"white\",\"linecolor\":\"white\",\"showbackground\":true,\"ticks\":\"\",\"zerolinecolor\":\"white\",\"gridwidth\":2},\"yaxis\":{\"backgroundcolor\":\"#E5ECF6\",\"gridcolor\":\"white\",\"linecolor\":\"white\",\"showbackground\":true,\"ticks\":\"\",\"zerolinecolor\":\"white\",\"gridwidth\":2},\"zaxis\":{\"backgroundcolor\":\"#E5ECF6\",\"gridcolor\":\"white\",\"linecolor\":\"white\",\"showbackground\":true,\"ticks\":\"\",\"zerolinecolor\":\"white\",\"gridwidth\":2}},\"shapedefaults\":{\"line\":{\"color\":\"#2a3f5f\"}},\"annotationdefaults\":{\"arrowcolor\":\"#2a3f5f\",\"arrowhead\":0,\"arrowwidth\":1},\"geo\":{\"bgcolor\":\"white\",\"landcolor\":\"#E5ECF6\",\"subunitcolor\":\"white\",\"showland\":true,\"showlakes\":true,\"lakecolor\":\"white\"},\"title\":{\"x\":0.05},\"mapbox\":{\"style\":\"light\"}}},\"xaxis\":{\"anchor\":\"y\",\"domain\":[0.0,1.0],\"title\":{\"text\":\"Cw\"}},\"yaxis\":{\"anchor\":\"x\",\"domain\":[0.0,1.0],\"title\":{\"text\":\"total_sales_week\"}},\"legend\":{\"title\":{\"text\":\"Product\"},\"tracegroupgap\":0},\"title\":{\"text\":\"Total Weekly sales over 2017-2020\"}},                        {\"responsive\": true}                    ).then(function(){\n",
       "                            \n",
       "var gd = document.getElementById('67b06a01-2607-401b-bfae-60e7826b0438');\n",
       "var x = new MutationObserver(function (mutations, observer) {{\n",
       "        var display = window.getComputedStyle(gd).display;\n",
       "        if (!display || display === 'none') {{\n",
       "            console.log([gd, 'removed!']);\n",
       "            Plotly.purge(gd);\n",
       "            observer.disconnect();\n",
       "        }}\n",
       "}});\n",
       "\n",
       "// Listen for the removal of the full notebook cells\n",
       "var notebookContainer = gd.closest('#notebook-container');\n",
       "if (notebookContainer) {{\n",
       "    x.observe(notebookContainer, {childList: true});\n",
       "}}\n",
       "\n",
       "// Listen for the clearing of the current output cell\n",
       "var outputEl = gd.closest('.output');\n",
       "if (outputEl) {{\n",
       "    x.observe(outputEl, {childList: true});\n",
       "}}\n",
       "\n",
       "                        })                };                });            </script>        </div>"
      ]
     },
     "metadata": {},
     "output_type": "display_data"
    }
   ],
   "source": [
    "df.groupby(['Product', 'Cw']).agg(total_sales_week = ('Sales','sum')).reset_index().plot.scatter(x='Cw', y='total_sales_week', \n",
    "color=\"Product\", title=\"Total Weekly sales over 2017-2020\")"
   ]
  },
  {
   "cell_type": "code",
   "execution_count": 53,
   "id": "5c43746e-cce6-42ae-ac13-970f3a58f416",
   "metadata": {},
   "outputs": [
    {
     "data": {
      "application/vnd.plotly.v1+json": {
       "config": {
        "plotlyServerURL": "https://plot.ly"
       },
       "data": [
        {
         "hovertemplate": "Product=SKU2<br>Date=%{x}<br>mean_sales=%{y}<extra></extra>",
         "legendgroup": "SKU2",
         "marker": {
          "color": "#636efa",
          "symbol": "circle"
         },
         "mode": "markers",
         "name": "SKU2",
         "orientation": "v",
         "showlegend": true,
         "type": "scatter",
         "x": [
          "2017-04-30T00:00:00",
          "2017-12-31T00:00:00",
          "2019-09-08T00:00:00",
          "2018-04-01T00:00:00",
          "2020-05-17T00:00:00",
          "2018-04-08T00:00:00",
          "2018-03-11T00:00:00",
          "2019-08-04T00:00:00",
          "2018-01-28T00:00:00",
          "2018-02-11T00:00:00",
          "2018-07-29T00:00:00",
          "2017-10-01T00:00:00",
          "2017-12-24T00:00:00",
          "2019-05-19T00:00:00",
          "2019-09-22T00:00:00",
          "2020-12-06T00:00:00",
          "2017-12-03T00:00:00",
          "2019-07-21T00:00:00",
          "2019-12-29T00:00:00",
          "2020-08-09T00:00:00",
          "2017-11-26T00:00:00",
          "2019-07-28T00:00:00",
          "2018-10-28T00:00:00",
          "2020-01-05T00:00:00",
          "2020-10-11T00:00:00",
          "2018-06-17T00:00:00",
          "2019-06-02T00:00:00",
          "2020-07-12T00:00:00",
          "2019-09-15T00:00:00",
          "2018-01-21T00:00:00",
          "2017-10-08T00:00:00",
          "2019-04-28T00:00:00",
          "2019-12-15T00:00:00",
          "2017-03-05T00:00:00",
          "2020-06-07T00:00:00",
          "2017-08-06T00:00:00",
          "2020-09-20T00:00:00",
          "2018-12-09T00:00:00",
          "2017-12-17T00:00:00",
          "2019-02-24T00:00:00",
          "2017-05-14T00:00:00",
          "2019-09-29T00:00:00",
          "2017-06-04T00:00:00",
          "2018-10-21T00:00:00",
          "2020-02-16T00:00:00",
          "2018-07-15T00:00:00",
          "2019-03-17T00:00:00",
          "2017-06-25T00:00:00",
          "2020-07-05T00:00:00",
          "2018-09-23T00:00:00",
          "2019-02-03T00:00:00",
          "2019-11-03T00:00:00",
          "2017-11-05T00:00:00",
          "2020-11-29T00:00:00",
          "2019-01-13T00:00:00",
          "2019-11-17T00:00:00",
          "2017-09-17T00:00:00",
          "2019-10-27T00:00:00",
          "2019-03-24T00:00:00",
          "2017-04-02T00:00:00",
          "2017-11-19T00:00:00",
          "2018-09-02T00:00:00",
          "2017-02-12T00:00:00",
          "2018-12-23T00:00:00",
          "2018-01-14T00:00:00",
          "2020-03-15T00:00:00",
          "2018-05-27T00:00:00",
          "2017-02-26T00:00:00",
          "2020-02-09T00:00:00",
          "2018-06-03T00:00:00",
          "2018-11-25T00:00:00",
          "2020-11-01T00:00:00",
          "2020-01-12T00:00:00",
          "2018-04-15T00:00:00",
          "2020-08-30T00:00:00",
          "2017-08-27T00:00:00",
          "2017-08-13T00:00:00",
          "2019-01-20T00:00:00",
          "2020-12-20T00:00:00",
          "2017-06-11T00:00:00",
          "2018-09-09T00:00:00",
          "2020-12-27T00:00:00",
          "2020-03-22T00:00:00",
          "2017-11-12T00:00:00",
          "2020-01-26T00:00:00",
          "2018-03-04T00:00:00",
          "2018-05-13T00:00:00",
          "2020-11-15T00:00:00",
          "2019-02-17T00:00:00",
          "2019-11-24T00:00:00",
          "2018-10-07T00:00:00",
          "2020-06-14T00:00:00",
          "2018-12-30T00:00:00",
          "2018-02-04T00:00:00",
          "2018-09-30T00:00:00",
          "2018-12-16T00:00:00",
          "2018-01-07T00:00:00",
          "2019-12-08T00:00:00",
          "2020-11-22T00:00:00",
          "2019-07-14T00:00:00",
          "2019-08-25T00:00:00",
          "2019-04-21T00:00:00",
          "2020-10-04T00:00:00",
          "2019-02-10T00:00:00",
          "2017-04-09T00:00:00",
          "2017-02-19T00:00:00",
          "2017-07-02T00:00:00",
          "2019-10-20T00:00:00",
          "2017-07-16T00:00:00",
          "2017-10-22T00:00:00",
          "2019-12-22T00:00:00",
          "2020-03-29T00:00:00",
          "2018-07-01T00:00:00",
          "2017-07-23T00:00:00",
          "2020-07-19T00:00:00",
          "2019-03-31T00:00:00",
          "2017-09-10T00:00:00",
          "2019-04-07T00:00:00",
          "2019-05-12T00:00:00",
          "2018-08-26T00:00:00",
          "2020-06-28T00:00:00",
          "2017-07-09T00:00:00",
          "2018-11-18T00:00:00",
          "2020-05-24T00:00:00",
          "2018-08-12T00:00:00",
          "2018-03-25T00:00:00",
          "2019-10-06T00:00:00",
          "2020-05-03T00:00:00",
          "2020-08-16T00:00:00",
          "2020-12-13T00:00:00",
          "2020-05-31T00:00:00",
          "2017-05-21T00:00:00",
          "2018-02-18T00:00:00",
          "2018-04-22T00:00:00",
          "2018-07-22T00:00:00",
          "2020-04-26T00:00:00",
          "2018-07-08T00:00:00",
          "2019-11-10T00:00:00",
          "2020-08-23T00:00:00",
          "2017-07-30T00:00:00",
          "2018-03-18T00:00:00",
          "2018-04-29T00:00:00",
          "2019-01-06T00:00:00",
          "2019-03-10T00:00:00",
          "2019-04-14T00:00:00",
          "2017-03-19T00:00:00",
          "2017-10-15T00:00:00",
          "2019-12-01T00:00:00",
          "2020-02-02T00:00:00",
          "2017-02-05T00:00:00",
          "2017-10-29T00:00:00",
          "2019-08-11T00:00:00",
          "2019-10-13T00:00:00",
          "2020-04-12T00:00:00",
          "2017-05-28T00:00:00",
          "2018-06-10T00:00:00",
          "2018-06-24T00:00:00",
          "2019-05-05T00:00:00",
          "2018-02-25T00:00:00",
          "2020-08-02T00:00:00",
          "2019-05-26T00:00:00",
          "2020-10-25T00:00:00",
          "2017-03-12T00:00:00",
          "2019-06-09T00:00:00",
          "2020-04-05T00:00:00",
          "2018-10-14T00:00:00",
          "2020-06-21T00:00:00",
          "2020-07-26T00:00:00",
          "2017-06-18T00:00:00",
          "2018-05-06T00:00:00",
          "2019-09-01T00:00:00"
         ],
         "xaxis": "x",
         "y": [
          8290,
          4940,
          7933,
          2651,
          3411,
          17970,
          3069,
          8486,
          2267,
          32549,
          9613,
          2242,
          1453,
          6838,
          7533,
          0,
          6270,
          7718,
          1714,
          3210,
          2380,
          2867,
          3269,
          2506,
          40169,
          3420,
          6743,
          3154,
          2748,
          6406,
          7041,
          6349,
          2339,
          8342,
          3181,
          3071,
          3322,
          7022,
          2007,
          23327,
          3450,
          6829,
          3081,
          2990,
          2857,
          9878,
          2744,
          33566,
          3267,
          9301,
          3019,
          2585,
          2636,
          0,
          2808,
          3026,
          2572,
          7209,
          2900,
          7618,
          2521,
          3725,
          7080,
          1976,
          2305,
          5999,
          8539,
          3062,
          6993,
          8834,
          2747,
          3062,
          2870,
          7697,
          3170,
          8376,
          3098,
          8978,
          0,
          8604,
          3139,
          0,
          5403,
          6184,
          30409,
          2805,
          41316,
          3464,
          3055,
          39870,
          32900,
          3339,
          2027,
          2583,
          3053,
          2609,
          2156,
          7215,
          0,
          2569,
          2580,
          2178,
          3160,
          2837,
          3084,
          2753,
          3232,
          7766,
          8489,
          6905,
          2178,
          4258,
          8320,
          2990,
          8340,
          7817,
          2617,
          2749,
          36674,
          9024,
          3279,
          2560,
          7680,
          3424,
          8664,
          3318,
          2461,
          3189,
          34327,
          0,
          3416,
          52122,
          6613,
          2867,
          3468,
          3251,
          3387,
          2907,
          7910,
          7956,
          8464,
          6534,
          2642,
          6714,
          10895,
          41915,
          2523,
          7690,
          5152,
          7180,
          40527,
          3004,
          40111,
          2914,
          7256,
          2930,
          42002,
          2628,
          2620,
          7732,
          2598,
          8143,
          3124,
          2423,
          3719,
          7386,
          3425,
          3076,
          3232,
          3679,
          2743
         ],
         "yaxis": "y"
        },
        {
         "hovertemplate": "Product=SKU4<br>Date=%{x}<br>mean_sales=%{y}<extra></extra>",
         "legendgroup": "SKU4",
         "marker": {
          "color": "#EF553B",
          "symbol": "circle"
         },
         "mode": "markers",
         "name": "SKU4",
         "orientation": "v",
         "showlegend": true,
         "type": "scatter",
         "x": [
          "2017-02-05T00:00:00",
          "2018-04-15T00:00:00",
          "2018-10-28T00:00:00",
          "2018-06-10T00:00:00",
          "2020-03-15T00:00:00",
          "2018-06-17T00:00:00",
          "2020-10-04T00:00:00",
          "2017-04-16T00:00:00",
          "2020-02-02T00:00:00",
          "2018-07-29T00:00:00",
          "2019-12-01T00:00:00",
          "2020-06-21T00:00:00",
          "2020-12-20T00:00:00",
          "2018-02-25T00:00:00",
          "2018-03-04T00:00:00",
          "2017-11-05T00:00:00",
          "2017-08-13T00:00:00",
          "2019-09-22T00:00:00",
          "2017-04-23T00:00:00",
          "2020-03-29T00:00:00",
          "2018-02-18T00:00:00",
          "2018-12-16T00:00:00",
          "2020-04-19T00:00:00",
          "2020-09-27T00:00:00",
          "2018-07-15T00:00:00",
          "2019-08-04T00:00:00",
          "2019-09-08T00:00:00",
          "2020-07-26T00:00:00",
          "2018-03-11T00:00:00",
          "2019-05-05T00:00:00",
          "2019-03-31T00:00:00",
          "2020-04-12T00:00:00",
          "2018-01-28T00:00:00",
          "2018-01-07T00:00:00",
          "2018-11-04T00:00:00",
          "2018-03-25T00:00:00",
          "2017-08-06T00:00:00",
          "2020-09-13T00:00:00",
          "2020-01-26T00:00:00",
          "2017-07-30T00:00:00",
          "2019-06-30T00:00:00",
          "2019-10-06T00:00:00",
          "2018-06-03T00:00:00",
          "2018-12-09T00:00:00",
          "2019-02-03T00:00:00",
          "2018-11-18T00:00:00",
          "2020-03-22T00:00:00",
          "2020-03-01T00:00:00",
          "2020-08-30T00:00:00",
          "2019-02-17T00:00:00",
          "2018-01-21T00:00:00",
          "2018-07-08T00:00:00",
          "2018-11-25T00:00:00",
          "2018-08-05T00:00:00",
          "2017-05-14T00:00:00",
          "2019-01-20T00:00:00",
          "2018-10-21T00:00:00",
          "2020-05-17T00:00:00",
          "2020-10-18T00:00:00",
          "2018-05-20T00:00:00",
          "2018-09-23T00:00:00",
          "2020-08-09T00:00:00",
          "2017-10-01T00:00:00",
          "2018-12-30T00:00:00",
          "2020-11-29T00:00:00",
          "2019-05-26T00:00:00",
          "2020-01-12T00:00:00",
          "2020-11-22T00:00:00",
          "2018-05-13T00:00:00",
          "2019-10-27T00:00:00",
          "2017-06-25T00:00:00",
          "2017-07-16T00:00:00",
          "2017-10-22T00:00:00",
          "2020-12-06T00:00:00",
          "2020-07-05T00:00:00",
          "2020-02-23T00:00:00",
          "2018-04-22T00:00:00",
          "2017-07-09T00:00:00",
          "2018-08-26T00:00:00",
          "2018-12-23T00:00:00",
          "2020-05-24T00:00:00",
          "2019-06-23T00:00:00",
          "2017-03-19T00:00:00",
          "2017-06-18T00:00:00",
          "2017-07-02T00:00:00",
          "2019-07-07T00:00:00",
          "2017-03-05T00:00:00",
          "2019-12-08T00:00:00",
          "2018-11-11T00:00:00",
          "2019-03-10T00:00:00",
          "2017-02-26T00:00:00",
          "2020-02-16T00:00:00",
          "2020-09-06T00:00:00",
          "2019-07-21T00:00:00",
          "2019-12-29T00:00:00",
          "2017-11-26T00:00:00",
          "2020-06-28T00:00:00",
          "2019-10-20T00:00:00",
          "2017-04-02T00:00:00",
          "2019-03-03T00:00:00",
          "2019-12-15T00:00:00",
          "2020-04-05T00:00:00",
          "2017-08-20T00:00:00",
          "2019-08-25T00:00:00",
          "2017-11-12T00:00:00",
          "2018-02-11T00:00:00",
          "2020-05-03T00:00:00",
          "2018-04-08T00:00:00",
          "2020-02-09T00:00:00",
          "2017-04-09T00:00:00",
          "2019-09-15T00:00:00",
          "2019-02-10T00:00:00",
          "2017-03-12T00:00:00",
          "2017-12-17T00:00:00",
          "2019-06-02T00:00:00",
          "2017-08-27T00:00:00",
          "2020-01-19T00:00:00",
          "2020-09-20T00:00:00",
          "2018-04-29T00:00:00",
          "2020-11-15T00:00:00",
          "2019-04-21T00:00:00",
          "2019-07-14T00:00:00",
          "2018-07-01T00:00:00",
          "2018-07-22T00:00:00",
          "2019-10-13T00:00:00",
          "2020-06-07T00:00:00",
          "2018-09-02T00:00:00",
          "2017-09-10T00:00:00",
          "2017-11-19T00:00:00",
          "2017-10-15T00:00:00",
          "2017-06-04T00:00:00",
          "2017-12-31T00:00:00",
          "2019-05-19T00:00:00",
          "2020-08-23T00:00:00",
          "2018-05-06T00:00:00",
          "2018-04-01T00:00:00",
          "2017-09-17T00:00:00",
          "2019-09-29T00:00:00",
          "2018-09-16T00:00:00",
          "2017-03-26T00:00:00",
          "2017-02-12T00:00:00",
          "2017-10-29T00:00:00",
          "2019-04-14T00:00:00",
          "2019-08-18T00:00:00",
          "2017-10-08T00:00:00",
          "2019-06-16T00:00:00",
          "2020-08-16T00:00:00",
          "2019-09-01T00:00:00",
          "2020-07-19T00:00:00",
          "2020-11-08T00:00:00",
          "2019-04-07T00:00:00",
          "2018-02-04T00:00:00",
          "2019-11-24T00:00:00",
          "2019-12-22T00:00:00",
          "2017-12-24T00:00:00",
          "2018-09-09T00:00:00",
          "2017-09-24T00:00:00",
          "2018-01-14T00:00:00",
          "2018-10-07T00:00:00",
          "2019-03-17T00:00:00",
          "2018-08-12T00:00:00",
          "2020-05-31T00:00:00",
          "2020-11-01T00:00:00"
         ],
         "xaxis": "x",
         "y": [
          12835,
          3754,
          22940,
          72261,
          32133,
          12202,
          22119,
          9445,
          18078,
          5392,
          4056,
          29993,
          0,
          22091,
          4422,
          69467,
          5497,
          5100,
          12697,
          9592,
          21451,
          3759,
          5342,
          24960,
          6117,
          21721,
          4385,
          13391,
          24597,
          4415,
          23530,
          26823,
          4057,
          18647,
          4039,
          25200,
          17564,
          23086,
          3721,
          5487,
          9155,
          9544,
          12454,
          19795,
          19564,
          4081,
          6538,
          21180,
          21743,
          63842,
          19773,
          28282,
          23852,
          12400,
          14559,
          17667,
          4596,
          6215,
          6619,
          24612,
          20826,
          8126,
          5640,
          5042,
          0,
          17578,
          3792,
          0,
          24208,
          21013,
          26316,
          11807,
          16777,
          0,
          24787,
          8486,
          24056,
          19411,
          5086,
          3332,
          23484,
          19576,
          15759,
          16824,
          5426,
          17401,
          3729,
          20011,
          22262,
          5266,
          15709,
          58091,
          7557,
          22481,
          5153,
          14023,
          7661,
          4550,
          16003,
          22114,
          8178,
          8224,
          18434,
          9409,
          15498,
          4306,
          6665,
          19161,
          4218,
          19455,
          17385,
          3789,
          15061,
          13159,
          5012,
          75377,
          19561,
          6972,
          10289,
          5924,
          4240,
          4844,
          12293,
          20461,
          21822,
          27221,
          23667,
          17340,
          8994,
          10420,
          15932,
          2960,
          9098,
          21752,
          25115,
          4140,
          20945,
          56430,
          22977,
          15479,
          15705,
          4725,
          25614,
          64115,
          16773,
          11764,
          81301,
          19481,
          76346,
          21558,
          6276,
          21229,
          19749,
          9285,
          10487,
          4753,
          24469,
          3583,
          5293,
          27690,
          5043,
          6262,
          5353
         ],
         "yaxis": "y"
        },
        {
         "hovertemplate": "Product=SKU6<br>Date=%{x}<br>mean_sales=%{y}<extra></extra>",
         "legendgroup": "SKU6",
         "marker": {
          "color": "#00cc96",
          "symbol": "circle"
         },
         "mode": "markers",
         "name": "SKU6",
         "orientation": "v",
         "showlegend": true,
         "type": "scatter",
         "x": [
          "2017-07-02T00:00:00",
          "2019-12-22T00:00:00",
          "2020-07-05T00:00:00",
          "2019-10-13T00:00:00",
          "2019-01-13T00:00:00",
          "2019-12-01T00:00:00",
          "2019-08-18T00:00:00",
          "2020-04-12T00:00:00",
          "2017-10-08T00:00:00",
          "2018-04-15T00:00:00",
          "2017-03-05T00:00:00",
          "2019-11-10T00:00:00",
          "2018-03-18T00:00:00",
          "2018-07-01T00:00:00",
          "2018-05-13T00:00:00",
          "2020-07-26T00:00:00",
          "2018-08-19T00:00:00",
          "2019-04-21T00:00:00",
          "2019-12-15T00:00:00",
          "2018-03-25T00:00:00",
          "2019-07-14T00:00:00",
          "2017-07-09T00:00:00",
          "2017-11-26T00:00:00",
          "2020-07-19T00:00:00",
          "2019-05-26T00:00:00",
          "2019-03-24T00:00:00",
          "2018-04-08T00:00:00",
          "2017-05-28T00:00:00",
          "2020-05-17T00:00:00",
          "2017-05-21T00:00:00",
          "2017-06-04T00:00:00",
          "2018-05-27T00:00:00",
          "2017-05-07T00:00:00",
          "2017-12-17T00:00:00",
          "2017-04-30T00:00:00",
          "2018-12-23T00:00:00",
          "2018-06-24T00:00:00",
          "2020-09-20T00:00:00",
          "2018-04-01T00:00:00",
          "2020-11-01T00:00:00",
          "2017-11-19T00:00:00",
          "2017-12-03T00:00:00",
          "2020-02-16T00:00:00",
          "2018-12-09T00:00:00",
          "2020-06-21T00:00:00",
          "2017-07-16T00:00:00",
          "2019-06-09T00:00:00",
          "2017-12-10T00:00:00",
          "2019-02-10T00:00:00",
          "2017-10-22T00:00:00",
          "2019-06-30T00:00:00",
          "2017-10-15T00:00:00",
          "2019-11-24T00:00:00",
          "2017-08-27T00:00:00",
          "2018-02-25T00:00:00",
          "2018-11-18T00:00:00",
          "2018-05-06T00:00:00",
          "2020-10-18T00:00:00",
          "2017-12-24T00:00:00",
          "2020-08-09T00:00:00",
          "2018-12-02T00:00:00",
          "2020-02-23T00:00:00",
          "2017-02-19T00:00:00",
          "2018-08-26T00:00:00",
          "2017-07-30T00:00:00",
          "2018-12-30T00:00:00",
          "2020-04-05T00:00:00",
          "2017-04-02T00:00:00",
          "2018-07-08T00:00:00",
          "2017-03-19T00:00:00",
          "2018-11-25T00:00:00",
          "2019-12-08T00:00:00",
          "2019-05-12T00:00:00",
          "2018-07-15T00:00:00",
          "2020-01-26T00:00:00",
          "2017-10-01T00:00:00",
          "2019-09-29T00:00:00",
          "2020-03-22T00:00:00",
          "2020-08-02T00:00:00",
          "2017-02-26T00:00:00",
          "2017-05-14T00:00:00",
          "2018-06-17T00:00:00",
          "2018-02-04T00:00:00",
          "2019-05-19T00:00:00",
          "2018-09-30T00:00:00",
          "2019-07-21T00:00:00",
          "2019-02-03T00:00:00",
          "2018-01-28T00:00:00",
          "2019-01-27T00:00:00",
          "2018-11-04T00:00:00",
          "2019-10-27T00:00:00",
          "2020-06-28T00:00:00",
          "2020-11-08T00:00:00",
          "2017-12-31T00:00:00",
          "2020-04-19T00:00:00",
          "2019-04-14T00:00:00",
          "2020-05-03T00:00:00",
          "2020-05-24T00:00:00",
          "2018-09-02T00:00:00",
          "2019-06-23T00:00:00",
          "2020-05-10T00:00:00",
          "2019-06-16T00:00:00",
          "2017-10-29T00:00:00",
          "2020-01-19T00:00:00",
          "2017-09-10T00:00:00",
          "2019-11-03T00:00:00",
          "2018-10-14T00:00:00",
          "2017-04-23T00:00:00",
          "2019-09-22T00:00:00",
          "2017-09-24T00:00:00",
          "2018-01-14T00:00:00",
          "2019-09-01T00:00:00",
          "2018-04-22T00:00:00",
          "2018-02-11T00:00:00",
          "2019-12-29T00:00:00",
          "2020-03-01T00:00:00",
          "2020-09-13T00:00:00",
          "2020-05-31T00:00:00",
          "2020-07-12T00:00:00",
          "2018-01-07T00:00:00",
          "2019-10-06T00:00:00",
          "2018-12-16T00:00:00",
          "2019-03-17T00:00:00",
          "2017-08-13T00:00:00",
          "2019-08-11T00:00:00",
          "2020-02-02T00:00:00",
          "2017-04-09T00:00:00",
          "2018-09-23T00:00:00",
          "2018-10-28T00:00:00",
          "2019-06-02T00:00:00",
          "2018-11-11T00:00:00",
          "2017-03-12T00:00:00",
          "2018-07-29T00:00:00",
          "2019-03-10T00:00:00",
          "2019-02-17T00:00:00",
          "2017-08-20T00:00:00",
          "2020-02-09T00:00:00",
          "2019-08-04T00:00:00",
          "2018-08-12T00:00:00",
          "2020-04-26T00:00:00",
          "2020-09-27T00:00:00",
          "2018-05-20T00:00:00",
          "2020-08-30T00:00:00",
          "2018-03-11T00:00:00",
          "2019-02-24T00:00:00",
          "2017-03-26T00:00:00",
          "2019-09-08T00:00:00",
          "2019-03-31T00:00:00",
          "2018-07-22T00:00:00",
          "2019-07-28T00:00:00",
          "2018-10-21T00:00:00",
          "2019-03-03T00:00:00",
          "2018-04-29T00:00:00",
          "2020-06-14T00:00:00",
          "2017-06-18T00:00:00",
          "2020-08-16T00:00:00"
         ],
         "xaxis": "x",
         "y": [
          131072,
          16213,
          12577,
          50881,
          26272,
          40726,
          13056,
          6756,
          44595,
          31617,
          11666,
          29842,
          34761,
          45147,
          12072,
          24698,
          15026,
          19724,
          14398,
          11969,
          103831,
          29081,
          44779,
          8670,
          27378,
          112451,
          8121,
          28847,
          63725,
          32898,
          142953,
          44324,
          28788,
          14744,
          27228,
          33821,
          14182,
          80769,
          26184,
          152186,
          32668,
          42982,
          10955,
          12783,
          11518,
          37630,
          10571,
          41175,
          37295,
          154098,
          38589,
          42541,
          26587,
          33724,
          12358,
          40660,
          11884,
          96619,
          13862,
          26276,
          39116,
          24330,
          12140,
          41251,
          33159,
          7158,
          9705,
          11595,
          14632,
          32530,
          25478,
          13056,
          9373,
          107913,
          30336,
          14692,
          23973,
          20879,
          69799,
          29635,
          29511,
          38287,
          12099,
          86119,
          27569,
          26567,
          10101,
          41994,
          32245,
          105995,
          143887,
          29560,
          26445,
          19735,
          16926,
          8850,
          8302,
          23969,
          13210,
          24578,
          7924,
          26709,
          241114,
          9984,
          14540,
          163536,
          44702,
          21203,
          103617,
          129254,
          38639,
          12320,
          11202,
          38384,
          6067,
          9934,
          8164,
          29202,
          27671,
          9047,
          39082,
          38557,
          10329,
          33809,
          40295,
          9831,
          29675,
          127468,
          181833,
          34735,
          25456,
          118504,
          39265,
          21482,
          11422,
          47551,
          32102,
          13397,
          46285,
          7726,
          21692,
          43299,
          8158,
          110490,
          20031,
          28821,
          42182,
          23003,
          31895,
          37663,
          140995,
          9715,
          32640,
          24753,
          12779,
          7722
         ],
         "yaxis": "y"
        },
        {
         "hovertemplate": "Product=SKU1<br>Date=%{x}<br>mean_sales=%{y}<extra></extra>",
         "legendgroup": "SKU1",
         "marker": {
          "color": "#ab63fa",
          "symbol": "circle"
         },
         "mode": "markers",
         "name": "SKU1",
         "orientation": "v",
         "showlegend": true,
         "type": "scatter",
         "x": [
          "2019-04-28T00:00:00",
          "2017-11-12T00:00:00",
          "2019-12-29T00:00:00",
          "2017-04-30T00:00:00",
          "2020-03-08T00:00:00",
          "2018-05-13T00:00:00",
          "2019-02-24T00:00:00",
          "2018-03-25T00:00:00",
          "2020-08-23T00:00:00",
          "2020-01-19T00:00:00",
          "2018-01-07T00:00:00",
          "2019-09-29T00:00:00",
          "2017-02-19T00:00:00",
          "2018-08-26T00:00:00",
          "2018-11-11T00:00:00",
          "2020-06-14T00:00:00",
          "2020-10-25T00:00:00",
          "2019-12-08T00:00:00",
          "2020-12-27T00:00:00",
          "2017-04-09T00:00:00",
          "2017-09-03T00:00:00",
          "2020-07-19T00:00:00",
          "2017-09-10T00:00:00",
          "2019-11-10T00:00:00",
          "2020-05-31T00:00:00",
          "2019-09-15T00:00:00",
          "2019-02-03T00:00:00",
          "2019-07-14T00:00:00",
          "2017-10-15T00:00:00",
          "2018-02-18T00:00:00",
          "2017-12-03T00:00:00",
          "2018-08-05T00:00:00",
          "2020-09-06T00:00:00",
          "2017-09-17T00:00:00",
          "2017-12-31T00:00:00",
          "2020-02-23T00:00:00",
          "2020-04-26T00:00:00",
          "2017-09-24T00:00:00",
          "2019-09-01T00:00:00",
          "2017-12-24T00:00:00",
          "2018-04-01T00:00:00",
          "2018-10-14T00:00:00",
          "2018-05-20T00:00:00",
          "2019-05-19T00:00:00",
          "2019-03-31T00:00:00",
          "2020-09-13T00:00:00",
          "2018-09-02T00:00:00",
          "2019-06-23T00:00:00",
          "2018-06-17T00:00:00",
          "2017-10-01T00:00:00",
          "2018-06-03T00:00:00",
          "2018-07-15T00:00:00",
          "2017-05-14T00:00:00",
          "2020-11-29T00:00:00",
          "2019-12-15T00:00:00",
          "2019-05-05T00:00:00",
          "2018-11-18T00:00:00",
          "2020-10-11T00:00:00",
          "2020-12-13T00:00:00",
          "2020-12-20T00:00:00",
          "2020-10-18T00:00:00",
          "2020-11-01T00:00:00",
          "2017-06-18T00:00:00",
          "2018-12-30T00:00:00",
          "2018-04-08T00:00:00",
          "2018-09-23T00:00:00",
          "2017-10-08T00:00:00",
          "2020-08-02T00:00:00",
          "2020-11-08T00:00:00",
          "2018-05-06T00:00:00",
          "2018-12-09T00:00:00",
          "2019-06-09T00:00:00",
          "2020-02-09T00:00:00",
          "2018-12-02T00:00:00",
          "2020-04-19T00:00:00",
          "2019-02-10T00:00:00",
          "2019-05-26T00:00:00",
          "2019-11-03T00:00:00",
          "2020-04-12T00:00:00",
          "2020-06-07T00:00:00",
          "2020-06-28T00:00:00",
          "2018-04-22T00:00:00",
          "2019-06-16T00:00:00",
          "2017-02-26T00:00:00",
          "2018-11-04T00:00:00",
          "2019-02-17T00:00:00",
          "2018-03-04T00:00:00",
          "2019-07-21T00:00:00",
          "2020-07-26T00:00:00",
          "2017-11-05T00:00:00",
          "2019-03-17T00:00:00",
          "2019-05-12T00:00:00",
          "2019-12-22T00:00:00",
          "2018-03-11T00:00:00",
          "2020-08-09T00:00:00",
          "2017-03-05T00:00:00",
          "2019-08-04T00:00:00",
          "2020-04-05T00:00:00",
          "2017-07-09T00:00:00",
          "2018-07-22T00:00:00",
          "2018-12-16T00:00:00",
          "2019-07-28T00:00:00",
          "2020-07-05T00:00:00",
          "2018-04-29T00:00:00",
          "2018-07-01T00:00:00",
          "2019-03-24T00:00:00",
          "2017-05-21T00:00:00",
          "2019-04-14T00:00:00",
          "2018-09-09T00:00:00",
          "2019-03-10T00:00:00",
          "2018-01-28T00:00:00",
          "2018-06-24T00:00:00",
          "2018-07-29T00:00:00",
          "2017-07-02T00:00:00",
          "2018-08-19T00:00:00",
          "2018-10-07T00:00:00",
          "2019-04-07T00:00:00",
          "2019-09-08T00:00:00",
          "2020-05-10T00:00:00",
          "2017-10-22T00:00:00",
          "2020-05-24T00:00:00",
          "2020-07-12T00:00:00",
          "2020-09-27T00:00:00",
          "2018-01-21T00:00:00",
          "2019-11-24T00:00:00",
          "2017-06-25T00:00:00",
          "2017-08-06T00:00:00",
          "2019-10-13T00:00:00",
          "2020-03-01T00:00:00",
          "2017-06-11T00:00:00",
          "2019-01-06T00:00:00",
          "2017-04-16T00:00:00",
          "2018-09-30T00:00:00",
          "2017-06-04T00:00:00",
          "2017-11-26T00:00:00",
          "2020-06-21T00:00:00",
          "2018-08-12T00:00:00",
          "2020-10-04T00:00:00",
          "2019-12-01T00:00:00",
          "2017-07-30T00:00:00",
          "2017-08-13T00:00:00",
          "2018-01-14T00:00:00",
          "2017-04-02T00:00:00",
          "2018-04-15T00:00:00",
          "2019-10-20T00:00:00",
          "2020-01-26T00:00:00",
          "2017-03-26T00:00:00",
          "2020-08-16T00:00:00",
          "2018-02-25T00:00:00",
          "2019-03-03T00:00:00",
          "2018-05-27T00:00:00",
          "2018-10-21T00:00:00",
          "2018-02-04T00:00:00",
          "2019-06-30T00:00:00",
          "2020-02-16T00:00:00",
          "2017-02-12T00:00:00",
          "2018-02-11T00:00:00",
          "2020-11-15T00:00:00",
          "2020-05-17T00:00:00",
          "2020-12-06T00:00:00",
          "2019-01-20T00:00:00",
          "2019-01-13T00:00:00",
          "2019-09-22T00:00:00",
          "2018-06-10T00:00:00",
          "2017-04-23T00:00:00",
          "2017-12-17T00:00:00",
          "2017-05-07T00:00:00"
         ],
         "xaxis": "x",
         "y": [
          31741,
          57417,
          124261,
          42154,
          36955,
          52964,
          30016,
          54925,
          23606,
          47058,
          41941,
          69480,
          45630,
          29976,
          51495,
          26244,
          49593,
          82558,
          0,
          54655,
          49531,
          25749,
          30874,
          67770,
          29177,
          57446,
          30561,
          31099,
          33967,
          55216,
          66333,
          32373,
          51946,
          82940,
          89706,
          29275,
          46829,
          34481,
          36320,
          155253,
          79050,
          31482,
          34526,
          28457,
          52930,
          83565,
          52126,
          30099,
          32223,
          96610,
          49314,
          35354,
          29490,
          0,
          85762,
          43820,
          52048,
          44587,
          0,
          0,
          43976,
          33267,
          25446,
          96211,
          35136,
          49548,
          31898,
          25792,
          50159,
          49036,
          109917,
          85108,
          29239,
          59037,
          39290,
          29867,
          40402,
          60365,
          64685,
          30877,
          26410,
          56351,
          44596,
          26789,
          97972,
          48001,
          51305,
          31866,
          23891,
          104775,
          29664,
          46628,
          258874,
          91870,
          24543,
          41999,
          29985,
          39473,
          45198,
          35191,
          80431,
          31386,
          26925,
          34225,
          51818,
          28997,
          25936,
          59375,
          48279,
          32103,
          65691,
          32463,
          33057,
          27001,
          31772,
          33433,
          55859,
          55431,
          31836,
          33429,
          71971,
          26973,
          50644,
          43324,
          72587,
          42543,
          26888,
          36072,
          35684,
          43689,
          40420,
          108159,
          67966,
          25903,
          64904,
          25445,
          31850,
          55980,
          73956,
          27657,
          46260,
          37845,
          44339,
          34800,
          37454,
          58185,
          27722,
          23744,
          33908,
          30502,
          33308,
          32196,
          35016,
          46193,
          45572,
          29023,
          33604,
          51369,
          31406,
          0,
          48759,
          34603,
          58872,
          84075,
          30361,
          94633,
          39782
         ],
         "yaxis": "y"
        },
        {
         "hovertemplate": "Product=SKU5<br>Date=%{x}<br>mean_sales=%{y}<extra></extra>",
         "legendgroup": "SKU5",
         "marker": {
          "color": "#FFA15A",
          "symbol": "circle"
         },
         "mode": "markers",
         "name": "SKU5",
         "orientation": "v",
         "showlegend": true,
         "type": "scatter",
         "x": [
          "2019-12-29T00:00:00",
          "2018-05-06T00:00:00",
          "2020-04-19T00:00:00",
          "2017-04-30T00:00:00",
          "2019-09-08T00:00:00",
          "2020-03-08T00:00:00",
          "2018-08-26T00:00:00",
          "2020-01-12T00:00:00",
          "2020-10-04T00:00:00",
          "2018-11-18T00:00:00",
          "2018-10-28T00:00:00",
          "2019-01-27T00:00:00",
          "2018-10-21T00:00:00",
          "2018-05-27T00:00:00",
          "2020-09-27T00:00:00",
          "2019-01-20T00:00:00",
          "2018-07-29T00:00:00",
          "2017-04-23T00:00:00",
          "2018-08-12T00:00:00",
          "2020-08-09T00:00:00",
          "2017-10-01T00:00:00",
          "2020-06-14T00:00:00",
          "2018-09-09T00:00:00",
          "2019-07-14T00:00:00",
          "2018-12-23T00:00:00",
          "2020-12-27T00:00:00",
          "2017-12-24T00:00:00",
          "2020-08-02T00:00:00",
          "2017-07-23T00:00:00",
          "2020-02-09T00:00:00",
          "2020-12-20T00:00:00",
          "2017-03-19T00:00:00",
          "2019-09-01T00:00:00",
          "2017-12-17T00:00:00",
          "2018-12-09T00:00:00",
          "2017-08-20T00:00:00",
          "2019-03-31T00:00:00",
          "2020-10-25T00:00:00",
          "2017-03-26T00:00:00",
          "2018-07-08T00:00:00",
          "2019-05-26T00:00:00",
          "2018-03-04T00:00:00",
          "2018-04-01T00:00:00",
          "2018-02-04T00:00:00",
          "2020-01-26T00:00:00",
          "2017-06-04T00:00:00",
          "2019-07-28T00:00:00",
          "2020-05-03T00:00:00",
          "2017-10-15T00:00:00",
          "2017-12-31T00:00:00",
          "2017-07-09T00:00:00",
          "2019-09-15T00:00:00",
          "2019-03-10T00:00:00",
          "2019-04-14T00:00:00",
          "2019-07-07T00:00:00",
          "2019-11-17T00:00:00",
          "2020-02-16T00:00:00",
          "2017-02-12T00:00:00",
          "2018-06-24T00:00:00",
          "2019-02-24T00:00:00",
          "2019-04-21T00:00:00",
          "2019-05-19T00:00:00",
          "2020-03-29T00:00:00",
          "2020-11-29T00:00:00",
          "2017-09-24T00:00:00",
          "2020-01-05T00:00:00",
          "2020-04-12T00:00:00",
          "2018-03-25T00:00:00",
          "2018-05-20T00:00:00",
          "2018-11-25T00:00:00",
          "2018-12-16T00:00:00",
          "2019-03-03T00:00:00",
          "2019-11-03T00:00:00",
          "2019-04-28T00:00:00",
          "2019-12-22T00:00:00",
          "2020-04-05T00:00:00",
          "2017-12-03T00:00:00",
          "2019-02-03T00:00:00",
          "2019-05-12T00:00:00",
          "2018-09-02T00:00:00",
          "2020-09-20T00:00:00",
          "2018-08-05T00:00:00",
          "2019-04-07T00:00:00",
          "2019-09-29T00:00:00",
          "2017-10-29T00:00:00",
          "2018-04-15T00:00:00",
          "2018-06-17T00:00:00",
          "2018-07-01T00:00:00",
          "2017-06-25T00:00:00",
          "2019-10-20T00:00:00",
          "2020-06-21T00:00:00",
          "2018-01-21T00:00:00",
          "2018-02-25T00:00:00",
          "2019-11-10T00:00:00",
          "2020-02-23T00:00:00",
          "2020-03-22T00:00:00",
          "2020-10-18T00:00:00",
          "2017-02-26T00:00:00",
          "2017-09-03T00:00:00",
          "2020-09-06T00:00:00",
          "2017-06-11T00:00:00",
          "2020-11-15T00:00:00",
          "2018-02-11T00:00:00",
          "2018-09-23T00:00:00",
          "2018-06-03T00:00:00",
          "2017-12-10T00:00:00",
          "2019-10-27T00:00:00",
          "2019-12-08T00:00:00",
          "2018-04-08T00:00:00",
          "2020-05-24T00:00:00",
          "2018-12-30T00:00:00",
          "2018-04-29T00:00:00",
          "2019-10-13T00:00:00",
          "2020-11-08T00:00:00",
          "2017-07-02T00:00:00",
          "2018-09-16T00:00:00",
          "2019-08-18T00:00:00",
          "2019-09-22T00:00:00",
          "2020-06-28T00:00:00",
          "2020-11-22T00:00:00",
          "2018-03-11T00:00:00",
          "2019-06-23T00:00:00",
          "2018-01-07T00:00:00",
          "2018-05-13T00:00:00",
          "2019-02-17T00:00:00",
          "2019-06-02T00:00:00",
          "2020-05-17T00:00:00",
          "2020-11-01T00:00:00",
          "2017-03-12T00:00:00",
          "2019-08-25T00:00:00",
          "2018-04-22T00:00:00",
          "2017-03-05T00:00:00",
          "2018-12-02T00:00:00",
          "2017-04-16T00:00:00",
          "2017-05-21T00:00:00",
          "2017-05-07T00:00:00",
          "2019-06-16T00:00:00",
          "2019-03-24T00:00:00",
          "2020-05-10T00:00:00",
          "2020-07-19T00:00:00",
          "2018-07-22T00:00:00",
          "2019-10-06T00:00:00",
          "2020-12-06T00:00:00",
          "2020-12-13T00:00:00",
          "2017-07-16T00:00:00",
          "2020-01-19T00:00:00",
          "2017-11-19T00:00:00",
          "2019-08-11T00:00:00",
          "2018-11-11T00:00:00",
          "2018-06-10T00:00:00",
          "2017-11-12T00:00:00",
          "2019-06-30T00:00:00",
          "2020-08-16T00:00:00",
          "2017-06-18T00:00:00",
          "2019-08-04T00:00:00",
          "2020-10-11T00:00:00",
          "2017-11-26T00:00:00",
          "2020-03-15T00:00:00",
          "2018-01-28T00:00:00",
          "2018-07-15T00:00:00",
          "2019-05-05T00:00:00",
          "2019-12-01T00:00:00",
          "2017-04-02T00:00:00",
          "2019-06-09T00:00:00",
          "2017-09-10T00:00:00",
          "2020-09-13T00:00:00",
          "2020-07-12T00:00:00",
          "2019-03-17T00:00:00"
         ],
         "xaxis": "x",
         "y": [
          8011,
          13215,
          7098,
          14974,
          6009,
          6201,
          46909,
          5396,
          7525,
          5863,
          15187,
          12323,
          24517,
          6759,
          7236,
          5241,
          22544,
          42344,
          6716,
          43900,
          17914,
          12949,
          45838,
          18790,
          14616,
          0,
          12059,
          34540,
          7485,
          13686,
          0,
          5994,
          6739,
          11647,
          23690,
          73114,
          5365,
          19392,
          15317,
          43611,
          5687,
          18282,
          4562,
          5389,
          6020,
          6716,
          18827,
          20491,
          25641,
          4298,
          55905,
          56807,
          17449,
          19294,
          39035,
          6453,
          5999,
          5748,
          6789,
          16020,
          5007,
          14292,
          8379,
          0,
          55567,
          5482,
          21732,
          12206,
          17038,
          13225,
          14226,
          4829,
          20191,
          15324,
          17296,
          16928,
          12363,
          5251,
          47061,
          15599,
          7231,
          14761,
          5523,
          18570,
          24714,
          4993,
          6693,
          56275,
          25870,
          9007,
          7074,
          51114,
          5256,
          12292,
          5666,
          9327,
          19436,
          5928,
          7209,
          20715,
          22959,
          6059,
          20916,
          21634,
          55160,
          17940,
          17524,
          13941,
          4226,
          14153,
          7890,
          42963,
          57496,
          6887,
          7285,
          14169,
          14461,
          24271,
          15787,
          0,
          5285,
          6203,
          14637,
          6442,
          5421,
          17663,
          61753,
          32410,
          5952,
          6393,
          6608,
          21787,
          6095,
          5740,
          16178,
          6174,
          17809,
          17134,
          8974,
          73058,
          15810,
          7913,
          0,
          0,
          17012,
          5579,
          13982,
          63644,
          18669,
          14319,
          50485,
          61658,
          8048,
          6927,
          14597,
          36651,
          11140,
          6808,
          11520,
          21242,
          5504,
          6516,
          6194,
          57064,
          23030,
          6975,
          8282,
          5738
         ],
         "yaxis": "y"
        },
        {
         "hovertemplate": "Product=SKU3<br>Date=%{x}<br>mean_sales=%{y}<extra></extra>",
         "legendgroup": "SKU3",
         "marker": {
          "color": "#19d3f3",
          "symbol": "circle"
         },
         "mode": "markers",
         "name": "SKU3",
         "orientation": "v",
         "showlegend": true,
         "type": "scatter",
         "x": [
          "2018-02-11T00:00:00",
          "2018-04-29T00:00:00",
          "2019-12-15T00:00:00",
          "2017-09-10T00:00:00",
          "2018-07-08T00:00:00",
          "2019-01-27T00:00:00",
          "2019-05-26T00:00:00",
          "2019-10-27T00:00:00",
          "2020-08-09T00:00:00",
          "2017-12-03T00:00:00",
          "2018-07-29T00:00:00",
          "2020-02-23T00:00:00",
          "2017-03-12T00:00:00",
          "2017-12-10T00:00:00",
          "2020-12-13T00:00:00",
          "2017-08-27T00:00:00",
          "2019-08-25T00:00:00",
          "2017-03-19T00:00:00",
          "2017-07-02T00:00:00",
          "2018-01-07T00:00:00",
          "2018-01-28T00:00:00",
          "2019-01-20T00:00:00",
          "2017-11-19T00:00:00",
          "2018-09-16T00:00:00",
          "2019-02-03T00:00:00",
          "2020-03-29T00:00:00",
          "2019-04-14T00:00:00",
          "2019-09-08T00:00:00",
          "2019-10-13T00:00:00",
          "2017-03-05T00:00:00",
          "2020-07-05T00:00:00",
          "2018-02-18T00:00:00",
          "2020-09-27T00:00:00",
          "2017-10-22T00:00:00",
          "2018-11-18T00:00:00",
          "2018-12-30T00:00:00",
          "2019-03-24T00:00:00",
          "2017-08-20T00:00:00",
          "2017-09-17T00:00:00",
          "2018-05-20T00:00:00",
          "2019-04-28T00:00:00",
          "2018-09-23T00:00:00",
          "2019-06-23T00:00:00",
          "2020-02-16T00:00:00",
          "2020-07-12T00:00:00",
          "2018-03-04T00:00:00",
          "2019-08-11T00:00:00",
          "2020-09-13T00:00:00",
          "2020-12-20T00:00:00",
          "2018-08-26T00:00:00",
          "2020-01-05T00:00:00",
          "2019-12-01T00:00:00",
          "2020-01-26T00:00:00",
          "2017-08-13T00:00:00",
          "2019-01-06T00:00:00",
          "2017-06-25T00:00:00",
          "2018-10-14T00:00:00",
          "2019-05-05T00:00:00",
          "2017-02-05T00:00:00",
          "2017-11-26T00:00:00",
          "2018-05-27T00:00:00",
          "2020-04-12T00:00:00",
          "2017-06-04T00:00:00",
          "2019-03-10T00:00:00",
          "2019-10-06T00:00:00",
          "2018-06-17T00:00:00",
          "2020-12-27T00:00:00",
          "2018-05-13T00:00:00",
          "2020-01-12T00:00:00",
          "2017-04-16T00:00:00",
          "2018-11-25T00:00:00",
          "2019-07-21T00:00:00",
          "2020-09-06T00:00:00",
          "2017-02-19T00:00:00",
          "2017-11-12T00:00:00",
          "2018-03-25T00:00:00",
          "2018-12-02T00:00:00",
          "2019-09-22T00:00:00",
          "2018-03-18T00:00:00",
          "2018-10-07T00:00:00",
          "2020-11-29T00:00:00",
          "2017-06-11T00:00:00",
          "2019-08-04T00:00:00",
          "2020-12-06T00:00:00",
          "2018-07-15T00:00:00",
          "2019-02-17T00:00:00",
          "2019-07-14T00:00:00",
          "2020-01-19T00:00:00",
          "2020-07-19T00:00:00",
          "2019-09-29T00:00:00",
          "2017-05-14T00:00:00",
          "2020-08-30T00:00:00",
          "2018-04-15T00:00:00",
          "2019-09-01T00:00:00",
          "2017-12-17T00:00:00",
          "2020-10-04T00:00:00",
          "2020-05-03T00:00:00",
          "2020-06-07T00:00:00",
          "2019-01-13T00:00:00",
          "2019-12-29T00:00:00",
          "2018-11-11T00:00:00",
          "2019-11-17T00:00:00",
          "2020-04-26T00:00:00",
          "2020-05-31T00:00:00",
          "2020-10-25T00:00:00",
          "2018-09-02T00:00:00",
          "2020-11-15T00:00:00",
          "2017-07-09T00:00:00",
          "2018-09-30T00:00:00",
          "2019-04-07T00:00:00",
          "2019-08-18T00:00:00",
          "2018-06-24T00:00:00",
          "2019-11-10T00:00:00",
          "2020-08-23T00:00:00",
          "2020-04-05T00:00:00",
          "2020-06-28T00:00:00",
          "2019-12-08T00:00:00",
          "2017-08-06T00:00:00",
          "2020-06-14T00:00:00",
          "2020-03-01T00:00:00",
          "2020-05-17T00:00:00",
          "2019-07-07T00:00:00",
          "2020-08-02T00:00:00",
          "2017-10-15T00:00:00",
          "2020-05-24T00:00:00",
          "2018-02-25T00:00:00",
          "2019-09-15T00:00:00",
          "2018-08-19T00:00:00",
          "2017-07-23T00:00:00",
          "2019-10-20T00:00:00",
          "2020-04-19T00:00:00",
          "2020-08-16T00:00:00",
          "2020-11-08T00:00:00",
          "2017-09-24T00:00:00",
          "2017-10-08T00:00:00",
          "2019-07-28T00:00:00",
          "2017-10-01T00:00:00",
          "2019-11-03T00:00:00",
          "2017-04-30T00:00:00",
          "2019-03-17T00:00:00",
          "2020-03-22T00:00:00",
          "2019-02-10T00:00:00",
          "2020-03-15T00:00:00",
          "2020-10-11T00:00:00",
          "2020-10-18T00:00:00",
          "2017-12-31T00:00:00",
          "2018-04-01T00:00:00",
          "2020-03-08T00:00:00",
          "2017-04-09T00:00:00",
          "2019-06-09T00:00:00",
          "2017-02-12T00:00:00",
          "2018-11-04T00:00:00",
          "2019-06-30T00:00:00",
          "2019-02-24T00:00:00",
          "2020-11-22T00:00:00",
          "2018-07-22T00:00:00",
          "2017-10-29T00:00:00",
          "2018-12-23T00:00:00",
          "2019-06-16T00:00:00",
          "2018-04-08T00:00:00",
          "2018-07-01T00:00:00",
          "2018-05-06T00:00:00",
          "2018-04-22T00:00:00",
          "2020-06-21T00:00:00",
          "2017-04-23T00:00:00",
          "2020-05-10T00:00:00",
          "2017-07-16T00:00:00",
          "2019-06-02T00:00:00",
          "2017-12-24T00:00:00",
          "2018-03-11T00:00:00",
          "2020-09-20T00:00:00",
          "2018-09-09T00:00:00",
          "2018-12-16T00:00:00",
          "2019-03-03T00:00:00",
          "2017-04-02T00:00:00"
         ],
         "xaxis": "x",
         "y": [
          14822,
          41716,
          29325,
          64818,
          98300,
          15378,
          65796,
          77885,
          21666,
          62176,
          21768,
          31172,
          48230,
          15098,
          0,
          236242,
          36190,
          47632,
          21719,
          57707,
          14766,
          72688,
          29788,
          83294,
          77331,
          33476,
          82925,
          18947,
          83295,
          13568,
          63430,
          65917,
          59997,
          49891,
          18175,
          19818,
          23297,
          57361,
          63731,
          81236,
          60819,
          69874,
          75058,
          187548,
          20478,
          15242,
          20287,
          57867,
          0,
          19395,
          50536,
          16864,
          14278,
          19315,
          65120,
          88330,
          94028,
          14847,
          39767,
          43078,
          20184,
          97959,
          55744,
          18959,
          37198,
          44670,
          0,
          73443,
          13672,
          31180,
          85834,
          82028,
          21108,
          41044,
          47367,
          81070,
          16673,
          22404,
          15914,
          19806,
          0,
          248373,
          75642,
          0,
          24771,
          195088,
          19698,
          59700,
          184365,
          207356,
          46634,
          51884,
          15593,
          78848,
          46362,
          52970,
          22217,
          75510,
          13910,
          17979,
          86341,
          30944,
          64671,
          19726,
          60638,
          84724,
          13668,
          66602,
          237462,
          20603,
          224723,
          83798,
          182891,
          51798,
          29350,
          23331,
          72108,
          52917,
          20278,
          76759,
          19161,
          63367,
          60530,
          31259,
          66290,
          72768,
          75687,
          94025,
          60173,
          18549,
          19116,
          189965,
          42459,
          72851,
          52132,
          18589,
          18797,
          16769,
          28519,
          84789,
          24862,
          16284,
          102770,
          54751,
          17625,
          10970,
          16298,
          16311,
          58678,
          197503,
          49090,
          16559,
          34350,
          66726,
          0,
          77644,
          16354,
          15567,
          40396,
          63779,
          45241,
          85960,
          91541,
          79090,
          39918,
          78949,
          37996,
          19708,
          40244,
          77546,
          19186,
          17903,
          16228,
          70897,
          48624
         ],
         "yaxis": "y"
        }
       ],
       "layout": {
        "legend": {
         "title": {
          "text": "Product"
         },
         "tracegroupgap": 0
        },
        "template": {
         "data": {
          "bar": [
           {
            "error_x": {
             "color": "#2a3f5f"
            },
            "error_y": {
             "color": "#2a3f5f"
            },
            "marker": {
             "line": {
              "color": "#E5ECF6",
              "width": 0.5
             },
             "pattern": {
              "fillmode": "overlay",
              "size": 10,
              "solidity": 0.2
             }
            },
            "type": "bar"
           }
          ],
          "barpolar": [
           {
            "marker": {
             "line": {
              "color": "#E5ECF6",
              "width": 0.5
             },
             "pattern": {
              "fillmode": "overlay",
              "size": 10,
              "solidity": 0.2
             }
            },
            "type": "barpolar"
           }
          ],
          "carpet": [
           {
            "aaxis": {
             "endlinecolor": "#2a3f5f",
             "gridcolor": "white",
             "linecolor": "white",
             "minorgridcolor": "white",
             "startlinecolor": "#2a3f5f"
            },
            "baxis": {
             "endlinecolor": "#2a3f5f",
             "gridcolor": "white",
             "linecolor": "white",
             "minorgridcolor": "white",
             "startlinecolor": "#2a3f5f"
            },
            "type": "carpet"
           }
          ],
          "choropleth": [
           {
            "colorbar": {
             "outlinewidth": 0,
             "ticks": ""
            },
            "type": "choropleth"
           }
          ],
          "contour": [
           {
            "colorbar": {
             "outlinewidth": 0,
             "ticks": ""
            },
            "colorscale": [
             [
              0,
              "#0d0887"
             ],
             [
              0.1111111111111111,
              "#46039f"
             ],
             [
              0.2222222222222222,
              "#7201a8"
             ],
             [
              0.3333333333333333,
              "#9c179e"
             ],
             [
              0.4444444444444444,
              "#bd3786"
             ],
             [
              0.5555555555555556,
              "#d8576b"
             ],
             [
              0.6666666666666666,
              "#ed7953"
             ],
             [
              0.7777777777777778,
              "#fb9f3a"
             ],
             [
              0.8888888888888888,
              "#fdca26"
             ],
             [
              1,
              "#f0f921"
             ]
            ],
            "type": "contour"
           }
          ],
          "contourcarpet": [
           {
            "colorbar": {
             "outlinewidth": 0,
             "ticks": ""
            },
            "type": "contourcarpet"
           }
          ],
          "heatmap": [
           {
            "colorbar": {
             "outlinewidth": 0,
             "ticks": ""
            },
            "colorscale": [
             [
              0,
              "#0d0887"
             ],
             [
              0.1111111111111111,
              "#46039f"
             ],
             [
              0.2222222222222222,
              "#7201a8"
             ],
             [
              0.3333333333333333,
              "#9c179e"
             ],
             [
              0.4444444444444444,
              "#bd3786"
             ],
             [
              0.5555555555555556,
              "#d8576b"
             ],
             [
              0.6666666666666666,
              "#ed7953"
             ],
             [
              0.7777777777777778,
              "#fb9f3a"
             ],
             [
              0.8888888888888888,
              "#fdca26"
             ],
             [
              1,
              "#f0f921"
             ]
            ],
            "type": "heatmap"
           }
          ],
          "heatmapgl": [
           {
            "colorbar": {
             "outlinewidth": 0,
             "ticks": ""
            },
            "colorscale": [
             [
              0,
              "#0d0887"
             ],
             [
              0.1111111111111111,
              "#46039f"
             ],
             [
              0.2222222222222222,
              "#7201a8"
             ],
             [
              0.3333333333333333,
              "#9c179e"
             ],
             [
              0.4444444444444444,
              "#bd3786"
             ],
             [
              0.5555555555555556,
              "#d8576b"
             ],
             [
              0.6666666666666666,
              "#ed7953"
             ],
             [
              0.7777777777777778,
              "#fb9f3a"
             ],
             [
              0.8888888888888888,
              "#fdca26"
             ],
             [
              1,
              "#f0f921"
             ]
            ],
            "type": "heatmapgl"
           }
          ],
          "histogram": [
           {
            "marker": {
             "pattern": {
              "fillmode": "overlay",
              "size": 10,
              "solidity": 0.2
             }
            },
            "type": "histogram"
           }
          ],
          "histogram2d": [
           {
            "colorbar": {
             "outlinewidth": 0,
             "ticks": ""
            },
            "colorscale": [
             [
              0,
              "#0d0887"
             ],
             [
              0.1111111111111111,
              "#46039f"
             ],
             [
              0.2222222222222222,
              "#7201a8"
             ],
             [
              0.3333333333333333,
              "#9c179e"
             ],
             [
              0.4444444444444444,
              "#bd3786"
             ],
             [
              0.5555555555555556,
              "#d8576b"
             ],
             [
              0.6666666666666666,
              "#ed7953"
             ],
             [
              0.7777777777777778,
              "#fb9f3a"
             ],
             [
              0.8888888888888888,
              "#fdca26"
             ],
             [
              1,
              "#f0f921"
             ]
            ],
            "type": "histogram2d"
           }
          ],
          "histogram2dcontour": [
           {
            "colorbar": {
             "outlinewidth": 0,
             "ticks": ""
            },
            "colorscale": [
             [
              0,
              "#0d0887"
             ],
             [
              0.1111111111111111,
              "#46039f"
             ],
             [
              0.2222222222222222,
              "#7201a8"
             ],
             [
              0.3333333333333333,
              "#9c179e"
             ],
             [
              0.4444444444444444,
              "#bd3786"
             ],
             [
              0.5555555555555556,
              "#d8576b"
             ],
             [
              0.6666666666666666,
              "#ed7953"
             ],
             [
              0.7777777777777778,
              "#fb9f3a"
             ],
             [
              0.8888888888888888,
              "#fdca26"
             ],
             [
              1,
              "#f0f921"
             ]
            ],
            "type": "histogram2dcontour"
           }
          ],
          "mesh3d": [
           {
            "colorbar": {
             "outlinewidth": 0,
             "ticks": ""
            },
            "type": "mesh3d"
           }
          ],
          "parcoords": [
           {
            "line": {
             "colorbar": {
              "outlinewidth": 0,
              "ticks": ""
             }
            },
            "type": "parcoords"
           }
          ],
          "pie": [
           {
            "automargin": true,
            "type": "pie"
           }
          ],
          "scatter": [
           {
            "fillpattern": {
             "fillmode": "overlay",
             "size": 10,
             "solidity": 0.2
            },
            "type": "scatter"
           }
          ],
          "scatter3d": [
           {
            "line": {
             "colorbar": {
              "outlinewidth": 0,
              "ticks": ""
             }
            },
            "marker": {
             "colorbar": {
              "outlinewidth": 0,
              "ticks": ""
             }
            },
            "type": "scatter3d"
           }
          ],
          "scattercarpet": [
           {
            "marker": {
             "colorbar": {
              "outlinewidth": 0,
              "ticks": ""
             }
            },
            "type": "scattercarpet"
           }
          ],
          "scattergeo": [
           {
            "marker": {
             "colorbar": {
              "outlinewidth": 0,
              "ticks": ""
             }
            },
            "type": "scattergeo"
           }
          ],
          "scattergl": [
           {
            "marker": {
             "colorbar": {
              "outlinewidth": 0,
              "ticks": ""
             }
            },
            "type": "scattergl"
           }
          ],
          "scattermapbox": [
           {
            "marker": {
             "colorbar": {
              "outlinewidth": 0,
              "ticks": ""
             }
            },
            "type": "scattermapbox"
           }
          ],
          "scatterpolar": [
           {
            "marker": {
             "colorbar": {
              "outlinewidth": 0,
              "ticks": ""
             }
            },
            "type": "scatterpolar"
           }
          ],
          "scatterpolargl": [
           {
            "marker": {
             "colorbar": {
              "outlinewidth": 0,
              "ticks": ""
             }
            },
            "type": "scatterpolargl"
           }
          ],
          "scatterternary": [
           {
            "marker": {
             "colorbar": {
              "outlinewidth": 0,
              "ticks": ""
             }
            },
            "type": "scatterternary"
           }
          ],
          "surface": [
           {
            "colorbar": {
             "outlinewidth": 0,
             "ticks": ""
            },
            "colorscale": [
             [
              0,
              "#0d0887"
             ],
             [
              0.1111111111111111,
              "#46039f"
             ],
             [
              0.2222222222222222,
              "#7201a8"
             ],
             [
              0.3333333333333333,
              "#9c179e"
             ],
             [
              0.4444444444444444,
              "#bd3786"
             ],
             [
              0.5555555555555556,
              "#d8576b"
             ],
             [
              0.6666666666666666,
              "#ed7953"
             ],
             [
              0.7777777777777778,
              "#fb9f3a"
             ],
             [
              0.8888888888888888,
              "#fdca26"
             ],
             [
              1,
              "#f0f921"
             ]
            ],
            "type": "surface"
           }
          ],
          "table": [
           {
            "cells": {
             "fill": {
              "color": "#EBF0F8"
             },
             "line": {
              "color": "white"
             }
            },
            "header": {
             "fill": {
              "color": "#C8D4E3"
             },
             "line": {
              "color": "white"
             }
            },
            "type": "table"
           }
          ]
         },
         "layout": {
          "annotationdefaults": {
           "arrowcolor": "#2a3f5f",
           "arrowhead": 0,
           "arrowwidth": 1
          },
          "autotypenumbers": "strict",
          "coloraxis": {
           "colorbar": {
            "outlinewidth": 0,
            "ticks": ""
           }
          },
          "colorscale": {
           "diverging": [
            [
             0,
             "#8e0152"
            ],
            [
             0.1,
             "#c51b7d"
            ],
            [
             0.2,
             "#de77ae"
            ],
            [
             0.3,
             "#f1b6da"
            ],
            [
             0.4,
             "#fde0ef"
            ],
            [
             0.5,
             "#f7f7f7"
            ],
            [
             0.6,
             "#e6f5d0"
            ],
            [
             0.7,
             "#b8e186"
            ],
            [
             0.8,
             "#7fbc41"
            ],
            [
             0.9,
             "#4d9221"
            ],
            [
             1,
             "#276419"
            ]
           ],
           "sequential": [
            [
             0,
             "#0d0887"
            ],
            [
             0.1111111111111111,
             "#46039f"
            ],
            [
             0.2222222222222222,
             "#7201a8"
            ],
            [
             0.3333333333333333,
             "#9c179e"
            ],
            [
             0.4444444444444444,
             "#bd3786"
            ],
            [
             0.5555555555555556,
             "#d8576b"
            ],
            [
             0.6666666666666666,
             "#ed7953"
            ],
            [
             0.7777777777777778,
             "#fb9f3a"
            ],
            [
             0.8888888888888888,
             "#fdca26"
            ],
            [
             1,
             "#f0f921"
            ]
           ],
           "sequentialminus": [
            [
             0,
             "#0d0887"
            ],
            [
             0.1111111111111111,
             "#46039f"
            ],
            [
             0.2222222222222222,
             "#7201a8"
            ],
            [
             0.3333333333333333,
             "#9c179e"
            ],
            [
             0.4444444444444444,
             "#bd3786"
            ],
            [
             0.5555555555555556,
             "#d8576b"
            ],
            [
             0.6666666666666666,
             "#ed7953"
            ],
            [
             0.7777777777777778,
             "#fb9f3a"
            ],
            [
             0.8888888888888888,
             "#fdca26"
            ],
            [
             1,
             "#f0f921"
            ]
           ]
          },
          "colorway": [
           "#636efa",
           "#EF553B",
           "#00cc96",
           "#ab63fa",
           "#FFA15A",
           "#19d3f3",
           "#FF6692",
           "#B6E880",
           "#FF97FF",
           "#FECB52"
          ],
          "font": {
           "color": "#2a3f5f"
          },
          "geo": {
           "bgcolor": "white",
           "lakecolor": "white",
           "landcolor": "#E5ECF6",
           "showlakes": true,
           "showland": true,
           "subunitcolor": "white"
          },
          "hoverlabel": {
           "align": "left"
          },
          "hovermode": "closest",
          "mapbox": {
           "style": "light"
          },
          "paper_bgcolor": "white",
          "plot_bgcolor": "#E5ECF6",
          "polar": {
           "angularaxis": {
            "gridcolor": "white",
            "linecolor": "white",
            "ticks": ""
           },
           "bgcolor": "#E5ECF6",
           "radialaxis": {
            "gridcolor": "white",
            "linecolor": "white",
            "ticks": ""
           }
          },
          "scene": {
           "xaxis": {
            "backgroundcolor": "#E5ECF6",
            "gridcolor": "white",
            "gridwidth": 2,
            "linecolor": "white",
            "showbackground": true,
            "ticks": "",
            "zerolinecolor": "white"
           },
           "yaxis": {
            "backgroundcolor": "#E5ECF6",
            "gridcolor": "white",
            "gridwidth": 2,
            "linecolor": "white",
            "showbackground": true,
            "ticks": "",
            "zerolinecolor": "white"
           },
           "zaxis": {
            "backgroundcolor": "#E5ECF6",
            "gridcolor": "white",
            "gridwidth": 2,
            "linecolor": "white",
            "showbackground": true,
            "ticks": "",
            "zerolinecolor": "white"
           }
          },
          "shapedefaults": {
           "line": {
            "color": "#2a3f5f"
           }
          },
          "ternary": {
           "aaxis": {
            "gridcolor": "white",
            "linecolor": "white",
            "ticks": ""
           },
           "baxis": {
            "gridcolor": "white",
            "linecolor": "white",
            "ticks": ""
           },
           "bgcolor": "#E5ECF6",
           "caxis": {
            "gridcolor": "white",
            "linecolor": "white",
            "ticks": ""
           }
          },
          "title": {
           "x": 0.05
          },
          "xaxis": {
           "automargin": true,
           "gridcolor": "white",
           "linecolor": "white",
           "ticks": "",
           "title": {
            "standoff": 15
           },
           "zerolinecolor": "white",
           "zerolinewidth": 2
          },
          "yaxis": {
           "automargin": true,
           "gridcolor": "white",
           "linecolor": "white",
           "ticks": "",
           "title": {
            "standoff": 15
           },
           "zerolinecolor": "white",
           "zerolinewidth": 2
          }
         }
        },
        "title": {
         "text": "Mean sales over 2017-2020"
        },
        "xaxis": {
         "anchor": "y",
         "domain": [
          0,
          1
         ],
         "title": {
          "text": "Date"
         }
        },
        "yaxis": {
         "anchor": "x",
         "domain": [
          0,
          1
         ],
         "title": {
          "text": "mean_sales"
         }
        }
       }
      },
      "text/html": [
       "<div>                            <div id=\"cb522dd2-66e0-4111-9a14-a8a1aca7c826\" class=\"plotly-graph-div\" style=\"height:525px; width:100%;\"></div>            <script type=\"text/javascript\">                require([\"plotly\"], function(Plotly) {                    window.PLOTLYENV=window.PLOTLYENV || {};                                    if (document.getElementById(\"cb522dd2-66e0-4111-9a14-a8a1aca7c826\")) {                    Plotly.newPlot(                        \"cb522dd2-66e0-4111-9a14-a8a1aca7c826\",                        [{\"hovertemplate\":\"Product=SKU2<br>Date=%{x}<br>mean_sales=%{y}<extra></extra>\",\"legendgroup\":\"SKU2\",\"marker\":{\"color\":\"#636efa\",\"symbol\":\"circle\"},\"mode\":\"markers\",\"name\":\"SKU2\",\"orientation\":\"v\",\"showlegend\":true,\"x\":[\"2017-04-30T00:00:00\",\"2017-12-31T00:00:00\",\"2019-09-08T00:00:00\",\"2018-04-01T00:00:00\",\"2020-05-17T00:00:00\",\"2018-04-08T00:00:00\",\"2018-03-11T00:00:00\",\"2019-08-04T00:00:00\",\"2018-01-28T00:00:00\",\"2018-02-11T00:00:00\",\"2018-07-29T00:00:00\",\"2017-10-01T00:00:00\",\"2017-12-24T00:00:00\",\"2019-05-19T00:00:00\",\"2019-09-22T00:00:00\",\"2020-12-06T00:00:00\",\"2017-12-03T00:00:00\",\"2019-07-21T00:00:00\",\"2019-12-29T00:00:00\",\"2020-08-09T00:00:00\",\"2017-11-26T00:00:00\",\"2019-07-28T00:00:00\",\"2018-10-28T00:00:00\",\"2020-01-05T00:00:00\",\"2020-10-11T00:00:00\",\"2018-06-17T00:00:00\",\"2019-06-02T00:00:00\",\"2020-07-12T00:00:00\",\"2019-09-15T00:00:00\",\"2018-01-21T00:00:00\",\"2017-10-08T00:00:00\",\"2019-04-28T00:00:00\",\"2019-12-15T00:00:00\",\"2017-03-05T00:00:00\",\"2020-06-07T00:00:00\",\"2017-08-06T00:00:00\",\"2020-09-20T00:00:00\",\"2018-12-09T00:00:00\",\"2017-12-17T00:00:00\",\"2019-02-24T00:00:00\",\"2017-05-14T00:00:00\",\"2019-09-29T00:00:00\",\"2017-06-04T00:00:00\",\"2018-10-21T00:00:00\",\"2020-02-16T00:00:00\",\"2018-07-15T00:00:00\",\"2019-03-17T00:00:00\",\"2017-06-25T00:00:00\",\"2020-07-05T00:00:00\",\"2018-09-23T00:00:00\",\"2019-02-03T00:00:00\",\"2019-11-03T00:00:00\",\"2017-11-05T00:00:00\",\"2020-11-29T00:00:00\",\"2019-01-13T00:00:00\",\"2019-11-17T00:00:00\",\"2017-09-17T00:00:00\",\"2019-10-27T00:00:00\",\"2019-03-24T00:00:00\",\"2017-04-02T00:00:00\",\"2017-11-19T00:00:00\",\"2018-09-02T00:00:00\",\"2017-02-12T00:00:00\",\"2018-12-23T00:00:00\",\"2018-01-14T00:00:00\",\"2020-03-15T00:00:00\",\"2018-05-27T00:00:00\",\"2017-02-26T00:00:00\",\"2020-02-09T00:00:00\",\"2018-06-03T00:00:00\",\"2018-11-25T00:00:00\",\"2020-11-01T00:00:00\",\"2020-01-12T00:00:00\",\"2018-04-15T00:00:00\",\"2020-08-30T00:00:00\",\"2017-08-27T00:00:00\",\"2017-08-13T00:00:00\",\"2019-01-20T00:00:00\",\"2020-12-20T00:00:00\",\"2017-06-11T00:00:00\",\"2018-09-09T00:00:00\",\"2020-12-27T00:00:00\",\"2020-03-22T00:00:00\",\"2017-11-12T00:00:00\",\"2020-01-26T00:00:00\",\"2018-03-04T00:00:00\",\"2018-05-13T00:00:00\",\"2020-11-15T00:00:00\",\"2019-02-17T00:00:00\",\"2019-11-24T00:00:00\",\"2018-10-07T00:00:00\",\"2020-06-14T00:00:00\",\"2018-12-30T00:00:00\",\"2018-02-04T00:00:00\",\"2018-09-30T00:00:00\",\"2018-12-16T00:00:00\",\"2018-01-07T00:00:00\",\"2019-12-08T00:00:00\",\"2020-11-22T00:00:00\",\"2019-07-14T00:00:00\",\"2019-08-25T00:00:00\",\"2019-04-21T00:00:00\",\"2020-10-04T00:00:00\",\"2019-02-10T00:00:00\",\"2017-04-09T00:00:00\",\"2017-02-19T00:00:00\",\"2017-07-02T00:00:00\",\"2019-10-20T00:00:00\",\"2017-07-16T00:00:00\",\"2017-10-22T00:00:00\",\"2019-12-22T00:00:00\",\"2020-03-29T00:00:00\",\"2018-07-01T00:00:00\",\"2017-07-23T00:00:00\",\"2020-07-19T00:00:00\",\"2019-03-31T00:00:00\",\"2017-09-10T00:00:00\",\"2019-04-07T00:00:00\",\"2019-05-12T00:00:00\",\"2018-08-26T00:00:00\",\"2020-06-28T00:00:00\",\"2017-07-09T00:00:00\",\"2018-11-18T00:00:00\",\"2020-05-24T00:00:00\",\"2018-08-12T00:00:00\",\"2018-03-25T00:00:00\",\"2019-10-06T00:00:00\",\"2020-05-03T00:00:00\",\"2020-08-16T00:00:00\",\"2020-12-13T00:00:00\",\"2020-05-31T00:00:00\",\"2017-05-21T00:00:00\",\"2018-02-18T00:00:00\",\"2018-04-22T00:00:00\",\"2018-07-22T00:00:00\",\"2020-04-26T00:00:00\",\"2018-07-08T00:00:00\",\"2019-11-10T00:00:00\",\"2020-08-23T00:00:00\",\"2017-07-30T00:00:00\",\"2018-03-18T00:00:00\",\"2018-04-29T00:00:00\",\"2019-01-06T00:00:00\",\"2019-03-10T00:00:00\",\"2019-04-14T00:00:00\",\"2017-03-19T00:00:00\",\"2017-10-15T00:00:00\",\"2019-12-01T00:00:00\",\"2020-02-02T00:00:00\",\"2017-02-05T00:00:00\",\"2017-10-29T00:00:00\",\"2019-08-11T00:00:00\",\"2019-10-13T00:00:00\",\"2020-04-12T00:00:00\",\"2017-05-28T00:00:00\",\"2018-06-10T00:00:00\",\"2018-06-24T00:00:00\",\"2019-05-05T00:00:00\",\"2018-02-25T00:00:00\",\"2020-08-02T00:00:00\",\"2019-05-26T00:00:00\",\"2020-10-25T00:00:00\",\"2017-03-12T00:00:00\",\"2019-06-09T00:00:00\",\"2020-04-05T00:00:00\",\"2018-10-14T00:00:00\",\"2020-06-21T00:00:00\",\"2020-07-26T00:00:00\",\"2017-06-18T00:00:00\",\"2018-05-06T00:00:00\",\"2019-09-01T00:00:00\"],\"xaxis\":\"x\",\"y\":[8290.0,4940.0,7933.0,2651.0,3411.0,17970.0,3069.0,8486.0,2267.0,32549.0,9613.0,2242.0,1453.0,6838.0,7533.0,0.0,6270.0,7718.0,1714.0,3210.0,2380.0,2867.0,3269.0,2506.0,40169.0,3420.0,6743.0,3154.0,2748.0,6406.0,7041.0,6349.0,2339.0,8342.0,3181.0,3071.0,3322.0,7022.0,2007.0,23327.0,3450.0,6829.0,3081.0,2990.0,2857.0,9878.0,2744.0,33566.0,3267.0,9301.0,3019.0,2585.0,2636.0,0.0,2808.0,3026.0,2572.0,7209.0,2900.0,7618.0,2521.0,3725.0,7080.0,1976.0,2305.0,5999.0,8539.0,3062.0,6993.0,8834.0,2747.0,3062.0,2870.0,7697.0,3170.0,8376.0,3098.0,8978.0,0.0,8604.0,3139.0,0.0,5403.0,6184.0,30409.0,2805.0,41316.0,3464.0,3055.0,39870.0,32900.0,3339.0,2027.0,2583.0,3053.0,2609.0,2156.0,7215.0,0.0,2569.0,2580.0,2178.0,3160.0,2837.0,3084.0,2753.0,3232.0,7766.0,8489.0,6905.0,2178.0,4258.0,8320.0,2990.0,8340.0,7817.0,2617.0,2749.0,36674.0,9024.0,3279.0,2560.0,7680.0,3424.0,8664.0,3318.0,2461.0,3189.0,34327.0,0.0,3416.0,52122.0,6613.0,2867.0,3468.0,3251.0,3387.0,2907.0,7910.0,7956.0,8464.0,6534.0,2642.0,6714.0,10895.0,41915.0,2523.0,7690.0,5152.0,7180.0,40527.0,3004.0,40111.0,2914.0,7256.0,2930.0,42002.0,2628.0,2620.0,7732.0,2598.0,8143.0,3124.0,2423.0,3719.0,7386.0,3425.0,3076.0,3232.0,3679.0,2743.0],\"yaxis\":\"y\",\"type\":\"scatter\"},{\"hovertemplate\":\"Product=SKU4<br>Date=%{x}<br>mean_sales=%{y}<extra></extra>\",\"legendgroup\":\"SKU4\",\"marker\":{\"color\":\"#EF553B\",\"symbol\":\"circle\"},\"mode\":\"markers\",\"name\":\"SKU4\",\"orientation\":\"v\",\"showlegend\":true,\"x\":[\"2017-02-05T00:00:00\",\"2018-04-15T00:00:00\",\"2018-10-28T00:00:00\",\"2018-06-10T00:00:00\",\"2020-03-15T00:00:00\",\"2018-06-17T00:00:00\",\"2020-10-04T00:00:00\",\"2017-04-16T00:00:00\",\"2020-02-02T00:00:00\",\"2018-07-29T00:00:00\",\"2019-12-01T00:00:00\",\"2020-06-21T00:00:00\",\"2020-12-20T00:00:00\",\"2018-02-25T00:00:00\",\"2018-03-04T00:00:00\",\"2017-11-05T00:00:00\",\"2017-08-13T00:00:00\",\"2019-09-22T00:00:00\",\"2017-04-23T00:00:00\",\"2020-03-29T00:00:00\",\"2018-02-18T00:00:00\",\"2018-12-16T00:00:00\",\"2020-04-19T00:00:00\",\"2020-09-27T00:00:00\",\"2018-07-15T00:00:00\",\"2019-08-04T00:00:00\",\"2019-09-08T00:00:00\",\"2020-07-26T00:00:00\",\"2018-03-11T00:00:00\",\"2019-05-05T00:00:00\",\"2019-03-31T00:00:00\",\"2020-04-12T00:00:00\",\"2018-01-28T00:00:00\",\"2018-01-07T00:00:00\",\"2018-11-04T00:00:00\",\"2018-03-25T00:00:00\",\"2017-08-06T00:00:00\",\"2020-09-13T00:00:00\",\"2020-01-26T00:00:00\",\"2017-07-30T00:00:00\",\"2019-06-30T00:00:00\",\"2019-10-06T00:00:00\",\"2018-06-03T00:00:00\",\"2018-12-09T00:00:00\",\"2019-02-03T00:00:00\",\"2018-11-18T00:00:00\",\"2020-03-22T00:00:00\",\"2020-03-01T00:00:00\",\"2020-08-30T00:00:00\",\"2019-02-17T00:00:00\",\"2018-01-21T00:00:00\",\"2018-07-08T00:00:00\",\"2018-11-25T00:00:00\",\"2018-08-05T00:00:00\",\"2017-05-14T00:00:00\",\"2019-01-20T00:00:00\",\"2018-10-21T00:00:00\",\"2020-05-17T00:00:00\",\"2020-10-18T00:00:00\",\"2018-05-20T00:00:00\",\"2018-09-23T00:00:00\",\"2020-08-09T00:00:00\",\"2017-10-01T00:00:00\",\"2018-12-30T00:00:00\",\"2020-11-29T00:00:00\",\"2019-05-26T00:00:00\",\"2020-01-12T00:00:00\",\"2020-11-22T00:00:00\",\"2018-05-13T00:00:00\",\"2019-10-27T00:00:00\",\"2017-06-25T00:00:00\",\"2017-07-16T00:00:00\",\"2017-10-22T00:00:00\",\"2020-12-06T00:00:00\",\"2020-07-05T00:00:00\",\"2020-02-23T00:00:00\",\"2018-04-22T00:00:00\",\"2017-07-09T00:00:00\",\"2018-08-26T00:00:00\",\"2018-12-23T00:00:00\",\"2020-05-24T00:00:00\",\"2019-06-23T00:00:00\",\"2017-03-19T00:00:00\",\"2017-06-18T00:00:00\",\"2017-07-02T00:00:00\",\"2019-07-07T00:00:00\",\"2017-03-05T00:00:00\",\"2019-12-08T00:00:00\",\"2018-11-11T00:00:00\",\"2019-03-10T00:00:00\",\"2017-02-26T00:00:00\",\"2020-02-16T00:00:00\",\"2020-09-06T00:00:00\",\"2019-07-21T00:00:00\",\"2019-12-29T00:00:00\",\"2017-11-26T00:00:00\",\"2020-06-28T00:00:00\",\"2019-10-20T00:00:00\",\"2017-04-02T00:00:00\",\"2019-03-03T00:00:00\",\"2019-12-15T00:00:00\",\"2020-04-05T00:00:00\",\"2017-08-20T00:00:00\",\"2019-08-25T00:00:00\",\"2017-11-12T00:00:00\",\"2018-02-11T00:00:00\",\"2020-05-03T00:00:00\",\"2018-04-08T00:00:00\",\"2020-02-09T00:00:00\",\"2017-04-09T00:00:00\",\"2019-09-15T00:00:00\",\"2019-02-10T00:00:00\",\"2017-03-12T00:00:00\",\"2017-12-17T00:00:00\",\"2019-06-02T00:00:00\",\"2017-08-27T00:00:00\",\"2020-01-19T00:00:00\",\"2020-09-20T00:00:00\",\"2018-04-29T00:00:00\",\"2020-11-15T00:00:00\",\"2019-04-21T00:00:00\",\"2019-07-14T00:00:00\",\"2018-07-01T00:00:00\",\"2018-07-22T00:00:00\",\"2019-10-13T00:00:00\",\"2020-06-07T00:00:00\",\"2018-09-02T00:00:00\",\"2017-09-10T00:00:00\",\"2017-11-19T00:00:00\",\"2017-10-15T00:00:00\",\"2017-06-04T00:00:00\",\"2017-12-31T00:00:00\",\"2019-05-19T00:00:00\",\"2020-08-23T00:00:00\",\"2018-05-06T00:00:00\",\"2018-04-01T00:00:00\",\"2017-09-17T00:00:00\",\"2019-09-29T00:00:00\",\"2018-09-16T00:00:00\",\"2017-03-26T00:00:00\",\"2017-02-12T00:00:00\",\"2017-10-29T00:00:00\",\"2019-04-14T00:00:00\",\"2019-08-18T00:00:00\",\"2017-10-08T00:00:00\",\"2019-06-16T00:00:00\",\"2020-08-16T00:00:00\",\"2019-09-01T00:00:00\",\"2020-07-19T00:00:00\",\"2020-11-08T00:00:00\",\"2019-04-07T00:00:00\",\"2018-02-04T00:00:00\",\"2019-11-24T00:00:00\",\"2019-12-22T00:00:00\",\"2017-12-24T00:00:00\",\"2018-09-09T00:00:00\",\"2017-09-24T00:00:00\",\"2018-01-14T00:00:00\",\"2018-10-07T00:00:00\",\"2019-03-17T00:00:00\",\"2018-08-12T00:00:00\",\"2020-05-31T00:00:00\",\"2020-11-01T00:00:00\"],\"xaxis\":\"x\",\"y\":[12835.0,3754.0,22940.0,72261.0,32133.0,12202.0,22119.0,9445.0,18078.0,5392.0,4056.0,29993.0,0.0,22091.0,4422.0,69467.0,5497.0,5100.0,12697.0,9592.0,21451.0,3759.0,5342.0,24960.0,6117.0,21721.0,4385.0,13391.0,24597.0,4415.0,23530.0,26823.0,4057.0,18647.0,4039.0,25200.0,17564.0,23086.0,3721.0,5487.0,9155.0,9544.0,12454.0,19795.0,19564.0,4081.0,6538.0,21180.0,21743.0,63842.0,19773.0,28282.0,23852.0,12400.0,14559.0,17667.0,4596.0,6215.0,6619.0,24612.0,20826.0,8126.0,5640.0,5042.0,0.0,17578.0,3792.0,0.0,24208.0,21013.0,26316.0,11807.0,16777.0,0.0,24787.0,8486.0,24056.0,19411.0,5086.0,3332.0,23484.0,19576.0,15759.0,16824.0,5426.0,17401.0,3729.0,20011.0,22262.0,5266.0,15709.0,58091.0,7557.0,22481.0,5153.0,14023.0,7661.0,4550.0,16003.0,22114.0,8178.0,8224.0,18434.0,9409.0,15498.0,4306.0,6665.0,19161.0,4218.0,19455.0,17385.0,3789.0,15061.0,13159.0,5012.0,75377.0,19561.0,6972.0,10289.0,5924.0,4240.0,4844.0,12293.0,20461.0,21822.0,27221.0,23667.0,17340.0,8994.0,10420.0,15932.0,2960.0,9098.0,21752.0,25115.0,4140.0,20945.0,56430.0,22977.0,15479.0,15705.0,4725.0,25614.0,64115.0,16773.0,11764.0,81301.0,19481.0,76346.0,21558.0,6276.0,21229.0,19749.0,9285.0,10487.0,4753.0,24469.0,3583.0,5293.0,27690.0,5043.0,6262.0,5353.0],\"yaxis\":\"y\",\"type\":\"scatter\"},{\"hovertemplate\":\"Product=SKU6<br>Date=%{x}<br>mean_sales=%{y}<extra></extra>\",\"legendgroup\":\"SKU6\",\"marker\":{\"color\":\"#00cc96\",\"symbol\":\"circle\"},\"mode\":\"markers\",\"name\":\"SKU6\",\"orientation\":\"v\",\"showlegend\":true,\"x\":[\"2017-07-02T00:00:00\",\"2019-12-22T00:00:00\",\"2020-07-05T00:00:00\",\"2019-10-13T00:00:00\",\"2019-01-13T00:00:00\",\"2019-12-01T00:00:00\",\"2019-08-18T00:00:00\",\"2020-04-12T00:00:00\",\"2017-10-08T00:00:00\",\"2018-04-15T00:00:00\",\"2017-03-05T00:00:00\",\"2019-11-10T00:00:00\",\"2018-03-18T00:00:00\",\"2018-07-01T00:00:00\",\"2018-05-13T00:00:00\",\"2020-07-26T00:00:00\",\"2018-08-19T00:00:00\",\"2019-04-21T00:00:00\",\"2019-12-15T00:00:00\",\"2018-03-25T00:00:00\",\"2019-07-14T00:00:00\",\"2017-07-09T00:00:00\",\"2017-11-26T00:00:00\",\"2020-07-19T00:00:00\",\"2019-05-26T00:00:00\",\"2019-03-24T00:00:00\",\"2018-04-08T00:00:00\",\"2017-05-28T00:00:00\",\"2020-05-17T00:00:00\",\"2017-05-21T00:00:00\",\"2017-06-04T00:00:00\",\"2018-05-27T00:00:00\",\"2017-05-07T00:00:00\",\"2017-12-17T00:00:00\",\"2017-04-30T00:00:00\",\"2018-12-23T00:00:00\",\"2018-06-24T00:00:00\",\"2020-09-20T00:00:00\",\"2018-04-01T00:00:00\",\"2020-11-01T00:00:00\",\"2017-11-19T00:00:00\",\"2017-12-03T00:00:00\",\"2020-02-16T00:00:00\",\"2018-12-09T00:00:00\",\"2020-06-21T00:00:00\",\"2017-07-16T00:00:00\",\"2019-06-09T00:00:00\",\"2017-12-10T00:00:00\",\"2019-02-10T00:00:00\",\"2017-10-22T00:00:00\",\"2019-06-30T00:00:00\",\"2017-10-15T00:00:00\",\"2019-11-24T00:00:00\",\"2017-08-27T00:00:00\",\"2018-02-25T00:00:00\",\"2018-11-18T00:00:00\",\"2018-05-06T00:00:00\",\"2020-10-18T00:00:00\",\"2017-12-24T00:00:00\",\"2020-08-09T00:00:00\",\"2018-12-02T00:00:00\",\"2020-02-23T00:00:00\",\"2017-02-19T00:00:00\",\"2018-08-26T00:00:00\",\"2017-07-30T00:00:00\",\"2018-12-30T00:00:00\",\"2020-04-05T00:00:00\",\"2017-04-02T00:00:00\",\"2018-07-08T00:00:00\",\"2017-03-19T00:00:00\",\"2018-11-25T00:00:00\",\"2019-12-08T00:00:00\",\"2019-05-12T00:00:00\",\"2018-07-15T00:00:00\",\"2020-01-26T00:00:00\",\"2017-10-01T00:00:00\",\"2019-09-29T00:00:00\",\"2020-03-22T00:00:00\",\"2020-08-02T00:00:00\",\"2017-02-26T00:00:00\",\"2017-05-14T00:00:00\",\"2018-06-17T00:00:00\",\"2018-02-04T00:00:00\",\"2019-05-19T00:00:00\",\"2018-09-30T00:00:00\",\"2019-07-21T00:00:00\",\"2019-02-03T00:00:00\",\"2018-01-28T00:00:00\",\"2019-01-27T00:00:00\",\"2018-11-04T00:00:00\",\"2019-10-27T00:00:00\",\"2020-06-28T00:00:00\",\"2020-11-08T00:00:00\",\"2017-12-31T00:00:00\",\"2020-04-19T00:00:00\",\"2019-04-14T00:00:00\",\"2020-05-03T00:00:00\",\"2020-05-24T00:00:00\",\"2018-09-02T00:00:00\",\"2019-06-23T00:00:00\",\"2020-05-10T00:00:00\",\"2019-06-16T00:00:00\",\"2017-10-29T00:00:00\",\"2020-01-19T00:00:00\",\"2017-09-10T00:00:00\",\"2019-11-03T00:00:00\",\"2018-10-14T00:00:00\",\"2017-04-23T00:00:00\",\"2019-09-22T00:00:00\",\"2017-09-24T00:00:00\",\"2018-01-14T00:00:00\",\"2019-09-01T00:00:00\",\"2018-04-22T00:00:00\",\"2018-02-11T00:00:00\",\"2019-12-29T00:00:00\",\"2020-03-01T00:00:00\",\"2020-09-13T00:00:00\",\"2020-05-31T00:00:00\",\"2020-07-12T00:00:00\",\"2018-01-07T00:00:00\",\"2019-10-06T00:00:00\",\"2018-12-16T00:00:00\",\"2019-03-17T00:00:00\",\"2017-08-13T00:00:00\",\"2019-08-11T00:00:00\",\"2020-02-02T00:00:00\",\"2017-04-09T00:00:00\",\"2018-09-23T00:00:00\",\"2018-10-28T00:00:00\",\"2019-06-02T00:00:00\",\"2018-11-11T00:00:00\",\"2017-03-12T00:00:00\",\"2018-07-29T00:00:00\",\"2019-03-10T00:00:00\",\"2019-02-17T00:00:00\",\"2017-08-20T00:00:00\",\"2020-02-09T00:00:00\",\"2019-08-04T00:00:00\",\"2018-08-12T00:00:00\",\"2020-04-26T00:00:00\",\"2020-09-27T00:00:00\",\"2018-05-20T00:00:00\",\"2020-08-30T00:00:00\",\"2018-03-11T00:00:00\",\"2019-02-24T00:00:00\",\"2017-03-26T00:00:00\",\"2019-09-08T00:00:00\",\"2019-03-31T00:00:00\",\"2018-07-22T00:00:00\",\"2019-07-28T00:00:00\",\"2018-10-21T00:00:00\",\"2019-03-03T00:00:00\",\"2018-04-29T00:00:00\",\"2020-06-14T00:00:00\",\"2017-06-18T00:00:00\",\"2020-08-16T00:00:00\"],\"xaxis\":\"x\",\"y\":[131072.0,16213.0,12577.0,50881.0,26272.0,40726.0,13056.0,6756.0,44595.0,31617.0,11666.0,29842.0,34761.0,45147.0,12072.0,24698.0,15026.0,19724.0,14398.0,11969.0,103831.0,29081.0,44779.0,8670.0,27378.0,112451.0,8121.0,28847.0,63725.0,32898.0,142953.0,44324.0,28788.0,14744.0,27228.0,33821.0,14182.0,80769.0,26184.0,152186.0,32668.0,42982.0,10955.0,12783.0,11518.0,37630.0,10571.0,41175.0,37295.0,154098.0,38589.0,42541.0,26587.0,33724.0,12358.0,40660.0,11884.0,96619.0,13862.0,26276.0,39116.0,24330.0,12140.0,41251.0,33159.0,7158.0,9705.0,11595.0,14632.0,32530.0,25478.0,13056.0,9373.0,107913.0,30336.0,14692.0,23973.0,20879.0,69799.0,29635.0,29511.0,38287.0,12099.0,86119.0,27569.0,26567.0,10101.0,41994.0,32245.0,105995.0,143887.0,29560.0,26445.0,19735.0,16926.0,8850.0,8302.0,23969.0,13210.0,24578.0,7924.0,26709.0,241114.0,9984.0,14540.0,163536.0,44702.0,21203.0,103617.0,129254.0,38639.0,12320.0,11202.0,38384.0,6067.0,9934.0,8164.0,29202.0,27671.0,9047.0,39082.0,38557.0,10329.0,33809.0,40295.0,9831.0,29675.0,127468.0,181833.0,34735.0,25456.0,118504.0,39265.0,21482.0,11422.0,47551.0,32102.0,13397.0,46285.0,7726.0,21692.0,43299.0,8158.0,110490.0,20031.0,28821.0,42182.0,23003.0,31895.0,37663.0,140995.0,9715.0,32640.0,24753.0,12779.0,7722.0],\"yaxis\":\"y\",\"type\":\"scatter\"},{\"hovertemplate\":\"Product=SKU1<br>Date=%{x}<br>mean_sales=%{y}<extra></extra>\",\"legendgroup\":\"SKU1\",\"marker\":{\"color\":\"#ab63fa\",\"symbol\":\"circle\"},\"mode\":\"markers\",\"name\":\"SKU1\",\"orientation\":\"v\",\"showlegend\":true,\"x\":[\"2019-04-28T00:00:00\",\"2017-11-12T00:00:00\",\"2019-12-29T00:00:00\",\"2017-04-30T00:00:00\",\"2020-03-08T00:00:00\",\"2018-05-13T00:00:00\",\"2019-02-24T00:00:00\",\"2018-03-25T00:00:00\",\"2020-08-23T00:00:00\",\"2020-01-19T00:00:00\",\"2018-01-07T00:00:00\",\"2019-09-29T00:00:00\",\"2017-02-19T00:00:00\",\"2018-08-26T00:00:00\",\"2018-11-11T00:00:00\",\"2020-06-14T00:00:00\",\"2020-10-25T00:00:00\",\"2019-12-08T00:00:00\",\"2020-12-27T00:00:00\",\"2017-04-09T00:00:00\",\"2017-09-03T00:00:00\",\"2020-07-19T00:00:00\",\"2017-09-10T00:00:00\",\"2019-11-10T00:00:00\",\"2020-05-31T00:00:00\",\"2019-09-15T00:00:00\",\"2019-02-03T00:00:00\",\"2019-07-14T00:00:00\",\"2017-10-15T00:00:00\",\"2018-02-18T00:00:00\",\"2017-12-03T00:00:00\",\"2018-08-05T00:00:00\",\"2020-09-06T00:00:00\",\"2017-09-17T00:00:00\",\"2017-12-31T00:00:00\",\"2020-02-23T00:00:00\",\"2020-04-26T00:00:00\",\"2017-09-24T00:00:00\",\"2019-09-01T00:00:00\",\"2017-12-24T00:00:00\",\"2018-04-01T00:00:00\",\"2018-10-14T00:00:00\",\"2018-05-20T00:00:00\",\"2019-05-19T00:00:00\",\"2019-03-31T00:00:00\",\"2020-09-13T00:00:00\",\"2018-09-02T00:00:00\",\"2019-06-23T00:00:00\",\"2018-06-17T00:00:00\",\"2017-10-01T00:00:00\",\"2018-06-03T00:00:00\",\"2018-07-15T00:00:00\",\"2017-05-14T00:00:00\",\"2020-11-29T00:00:00\",\"2019-12-15T00:00:00\",\"2019-05-05T00:00:00\",\"2018-11-18T00:00:00\",\"2020-10-11T00:00:00\",\"2020-12-13T00:00:00\",\"2020-12-20T00:00:00\",\"2020-10-18T00:00:00\",\"2020-11-01T00:00:00\",\"2017-06-18T00:00:00\",\"2018-12-30T00:00:00\",\"2018-04-08T00:00:00\",\"2018-09-23T00:00:00\",\"2017-10-08T00:00:00\",\"2020-08-02T00:00:00\",\"2020-11-08T00:00:00\",\"2018-05-06T00:00:00\",\"2018-12-09T00:00:00\",\"2019-06-09T00:00:00\",\"2020-02-09T00:00:00\",\"2018-12-02T00:00:00\",\"2020-04-19T00:00:00\",\"2019-02-10T00:00:00\",\"2019-05-26T00:00:00\",\"2019-11-03T00:00:00\",\"2020-04-12T00:00:00\",\"2020-06-07T00:00:00\",\"2020-06-28T00:00:00\",\"2018-04-22T00:00:00\",\"2019-06-16T00:00:00\",\"2017-02-26T00:00:00\",\"2018-11-04T00:00:00\",\"2019-02-17T00:00:00\",\"2018-03-04T00:00:00\",\"2019-07-21T00:00:00\",\"2020-07-26T00:00:00\",\"2017-11-05T00:00:00\",\"2019-03-17T00:00:00\",\"2019-05-12T00:00:00\",\"2019-12-22T00:00:00\",\"2018-03-11T00:00:00\",\"2020-08-09T00:00:00\",\"2017-03-05T00:00:00\",\"2019-08-04T00:00:00\",\"2020-04-05T00:00:00\",\"2017-07-09T00:00:00\",\"2018-07-22T00:00:00\",\"2018-12-16T00:00:00\",\"2019-07-28T00:00:00\",\"2020-07-05T00:00:00\",\"2018-04-29T00:00:00\",\"2018-07-01T00:00:00\",\"2019-03-24T00:00:00\",\"2017-05-21T00:00:00\",\"2019-04-14T00:00:00\",\"2018-09-09T00:00:00\",\"2019-03-10T00:00:00\",\"2018-01-28T00:00:00\",\"2018-06-24T00:00:00\",\"2018-07-29T00:00:00\",\"2017-07-02T00:00:00\",\"2018-08-19T00:00:00\",\"2018-10-07T00:00:00\",\"2019-04-07T00:00:00\",\"2019-09-08T00:00:00\",\"2020-05-10T00:00:00\",\"2017-10-22T00:00:00\",\"2020-05-24T00:00:00\",\"2020-07-12T00:00:00\",\"2020-09-27T00:00:00\",\"2018-01-21T00:00:00\",\"2019-11-24T00:00:00\",\"2017-06-25T00:00:00\",\"2017-08-06T00:00:00\",\"2019-10-13T00:00:00\",\"2020-03-01T00:00:00\",\"2017-06-11T00:00:00\",\"2019-01-06T00:00:00\",\"2017-04-16T00:00:00\",\"2018-09-30T00:00:00\",\"2017-06-04T00:00:00\",\"2017-11-26T00:00:00\",\"2020-06-21T00:00:00\",\"2018-08-12T00:00:00\",\"2020-10-04T00:00:00\",\"2019-12-01T00:00:00\",\"2017-07-30T00:00:00\",\"2017-08-13T00:00:00\",\"2018-01-14T00:00:00\",\"2017-04-02T00:00:00\",\"2018-04-15T00:00:00\",\"2019-10-20T00:00:00\",\"2020-01-26T00:00:00\",\"2017-03-26T00:00:00\",\"2020-08-16T00:00:00\",\"2018-02-25T00:00:00\",\"2019-03-03T00:00:00\",\"2018-05-27T00:00:00\",\"2018-10-21T00:00:00\",\"2018-02-04T00:00:00\",\"2019-06-30T00:00:00\",\"2020-02-16T00:00:00\",\"2017-02-12T00:00:00\",\"2018-02-11T00:00:00\",\"2020-11-15T00:00:00\",\"2020-05-17T00:00:00\",\"2020-12-06T00:00:00\",\"2019-01-20T00:00:00\",\"2019-01-13T00:00:00\",\"2019-09-22T00:00:00\",\"2018-06-10T00:00:00\",\"2017-04-23T00:00:00\",\"2017-12-17T00:00:00\",\"2017-05-07T00:00:00\"],\"xaxis\":\"x\",\"y\":[31741.0,57417.0,124261.0,42154.0,36955.0,52964.0,30016.0,54925.0,23606.0,47058.0,41941.0,69480.0,45630.0,29976.0,51495.0,26244.0,49593.0,82558.0,0.0,54655.0,49531.0,25749.0,30874.0,67770.0,29177.0,57446.0,30561.0,31099.0,33967.0,55216.0,66333.0,32373.0,51946.0,82940.0,89706.0,29275.0,46829.0,34481.0,36320.0,155253.0,79050.0,31482.0,34526.0,28457.0,52930.0,83565.0,52126.0,30099.0,32223.0,96610.0,49314.0,35354.0,29490.0,0.0,85762.0,43820.0,52048.0,44587.0,0.0,0.0,43976.0,33267.0,25446.0,96211.0,35136.0,49548.0,31898.0,25792.0,50159.0,49036.0,109917.0,85108.0,29239.0,59037.0,39290.0,29867.0,40402.0,60365.0,64685.0,30877.0,26410.0,56351.0,44596.0,26789.0,97972.0,48001.0,51305.0,31866.0,23891.0,104775.0,29664.0,46628.0,258874.0,91870.0,24543.0,41999.0,29985.0,39473.0,45198.0,35191.0,80431.0,31386.0,26925.0,34225.0,51818.0,28997.0,25936.0,59375.0,48279.0,32103.0,65691.0,32463.0,33057.0,27001.0,31772.0,33433.0,55859.0,55431.0,31836.0,33429.0,71971.0,26973.0,50644.0,43324.0,72587.0,42543.0,26888.0,36072.0,35684.0,43689.0,40420.0,108159.0,67966.0,25903.0,64904.0,25445.0,31850.0,55980.0,73956.0,27657.0,46260.0,37845.0,44339.0,34800.0,37454.0,58185.0,27722.0,23744.0,33908.0,30502.0,33308.0,32196.0,35016.0,46193.0,45572.0,29023.0,33604.0,51369.0,31406.0,0.0,48759.0,34603.0,58872.0,84075.0,30361.0,94633.0,39782.0],\"yaxis\":\"y\",\"type\":\"scatter\"},{\"hovertemplate\":\"Product=SKU5<br>Date=%{x}<br>mean_sales=%{y}<extra></extra>\",\"legendgroup\":\"SKU5\",\"marker\":{\"color\":\"#FFA15A\",\"symbol\":\"circle\"},\"mode\":\"markers\",\"name\":\"SKU5\",\"orientation\":\"v\",\"showlegend\":true,\"x\":[\"2019-12-29T00:00:00\",\"2018-05-06T00:00:00\",\"2020-04-19T00:00:00\",\"2017-04-30T00:00:00\",\"2019-09-08T00:00:00\",\"2020-03-08T00:00:00\",\"2018-08-26T00:00:00\",\"2020-01-12T00:00:00\",\"2020-10-04T00:00:00\",\"2018-11-18T00:00:00\",\"2018-10-28T00:00:00\",\"2019-01-27T00:00:00\",\"2018-10-21T00:00:00\",\"2018-05-27T00:00:00\",\"2020-09-27T00:00:00\",\"2019-01-20T00:00:00\",\"2018-07-29T00:00:00\",\"2017-04-23T00:00:00\",\"2018-08-12T00:00:00\",\"2020-08-09T00:00:00\",\"2017-10-01T00:00:00\",\"2020-06-14T00:00:00\",\"2018-09-09T00:00:00\",\"2019-07-14T00:00:00\",\"2018-12-23T00:00:00\",\"2020-12-27T00:00:00\",\"2017-12-24T00:00:00\",\"2020-08-02T00:00:00\",\"2017-07-23T00:00:00\",\"2020-02-09T00:00:00\",\"2020-12-20T00:00:00\",\"2017-03-19T00:00:00\",\"2019-09-01T00:00:00\",\"2017-12-17T00:00:00\",\"2018-12-09T00:00:00\",\"2017-08-20T00:00:00\",\"2019-03-31T00:00:00\",\"2020-10-25T00:00:00\",\"2017-03-26T00:00:00\",\"2018-07-08T00:00:00\",\"2019-05-26T00:00:00\",\"2018-03-04T00:00:00\",\"2018-04-01T00:00:00\",\"2018-02-04T00:00:00\",\"2020-01-26T00:00:00\",\"2017-06-04T00:00:00\",\"2019-07-28T00:00:00\",\"2020-05-03T00:00:00\",\"2017-10-15T00:00:00\",\"2017-12-31T00:00:00\",\"2017-07-09T00:00:00\",\"2019-09-15T00:00:00\",\"2019-03-10T00:00:00\",\"2019-04-14T00:00:00\",\"2019-07-07T00:00:00\",\"2019-11-17T00:00:00\",\"2020-02-16T00:00:00\",\"2017-02-12T00:00:00\",\"2018-06-24T00:00:00\",\"2019-02-24T00:00:00\",\"2019-04-21T00:00:00\",\"2019-05-19T00:00:00\",\"2020-03-29T00:00:00\",\"2020-11-29T00:00:00\",\"2017-09-24T00:00:00\",\"2020-01-05T00:00:00\",\"2020-04-12T00:00:00\",\"2018-03-25T00:00:00\",\"2018-05-20T00:00:00\",\"2018-11-25T00:00:00\",\"2018-12-16T00:00:00\",\"2019-03-03T00:00:00\",\"2019-11-03T00:00:00\",\"2019-04-28T00:00:00\",\"2019-12-22T00:00:00\",\"2020-04-05T00:00:00\",\"2017-12-03T00:00:00\",\"2019-02-03T00:00:00\",\"2019-05-12T00:00:00\",\"2018-09-02T00:00:00\",\"2020-09-20T00:00:00\",\"2018-08-05T00:00:00\",\"2019-04-07T00:00:00\",\"2019-09-29T00:00:00\",\"2017-10-29T00:00:00\",\"2018-04-15T00:00:00\",\"2018-06-17T00:00:00\",\"2018-07-01T00:00:00\",\"2017-06-25T00:00:00\",\"2019-10-20T00:00:00\",\"2020-06-21T00:00:00\",\"2018-01-21T00:00:00\",\"2018-02-25T00:00:00\",\"2019-11-10T00:00:00\",\"2020-02-23T00:00:00\",\"2020-03-22T00:00:00\",\"2020-10-18T00:00:00\",\"2017-02-26T00:00:00\",\"2017-09-03T00:00:00\",\"2020-09-06T00:00:00\",\"2017-06-11T00:00:00\",\"2020-11-15T00:00:00\",\"2018-02-11T00:00:00\",\"2018-09-23T00:00:00\",\"2018-06-03T00:00:00\",\"2017-12-10T00:00:00\",\"2019-10-27T00:00:00\",\"2019-12-08T00:00:00\",\"2018-04-08T00:00:00\",\"2020-05-24T00:00:00\",\"2018-12-30T00:00:00\",\"2018-04-29T00:00:00\",\"2019-10-13T00:00:00\",\"2020-11-08T00:00:00\",\"2017-07-02T00:00:00\",\"2018-09-16T00:00:00\",\"2019-08-18T00:00:00\",\"2019-09-22T00:00:00\",\"2020-06-28T00:00:00\",\"2020-11-22T00:00:00\",\"2018-03-11T00:00:00\",\"2019-06-23T00:00:00\",\"2018-01-07T00:00:00\",\"2018-05-13T00:00:00\",\"2019-02-17T00:00:00\",\"2019-06-02T00:00:00\",\"2020-05-17T00:00:00\",\"2020-11-01T00:00:00\",\"2017-03-12T00:00:00\",\"2019-08-25T00:00:00\",\"2018-04-22T00:00:00\",\"2017-03-05T00:00:00\",\"2018-12-02T00:00:00\",\"2017-04-16T00:00:00\",\"2017-05-21T00:00:00\",\"2017-05-07T00:00:00\",\"2019-06-16T00:00:00\",\"2019-03-24T00:00:00\",\"2020-05-10T00:00:00\",\"2020-07-19T00:00:00\",\"2018-07-22T00:00:00\",\"2019-10-06T00:00:00\",\"2020-12-06T00:00:00\",\"2020-12-13T00:00:00\",\"2017-07-16T00:00:00\",\"2020-01-19T00:00:00\",\"2017-11-19T00:00:00\",\"2019-08-11T00:00:00\",\"2018-11-11T00:00:00\",\"2018-06-10T00:00:00\",\"2017-11-12T00:00:00\",\"2019-06-30T00:00:00\",\"2020-08-16T00:00:00\",\"2017-06-18T00:00:00\",\"2019-08-04T00:00:00\",\"2020-10-11T00:00:00\",\"2017-11-26T00:00:00\",\"2020-03-15T00:00:00\",\"2018-01-28T00:00:00\",\"2018-07-15T00:00:00\",\"2019-05-05T00:00:00\",\"2019-12-01T00:00:00\",\"2017-04-02T00:00:00\",\"2019-06-09T00:00:00\",\"2017-09-10T00:00:00\",\"2020-09-13T00:00:00\",\"2020-07-12T00:00:00\",\"2019-03-17T00:00:00\"],\"xaxis\":\"x\",\"y\":[8011.0,13215.0,7098.0,14974.0,6009.0,6201.0,46909.0,5396.0,7525.0,5863.0,15187.0,12323.0,24517.0,6759.0,7236.0,5241.0,22544.0,42344.0,6716.0,43900.0,17914.0,12949.0,45838.0,18790.0,14616.0,0.0,12059.0,34540.0,7485.0,13686.0,0.0,5994.0,6739.0,11647.0,23690.0,73114.0,5365.0,19392.0,15317.0,43611.0,5687.0,18282.0,4562.0,5389.0,6020.0,6716.0,18827.0,20491.0,25641.0,4298.0,55905.0,56807.0,17449.0,19294.0,39035.0,6453.0,5999.0,5748.0,6789.0,16020.0,5007.0,14292.0,8379.0,0.0,55567.0,5482.0,21732.0,12206.0,17038.0,13225.0,14226.0,4829.0,20191.0,15324.0,17296.0,16928.0,12363.0,5251.0,47061.0,15599.0,7231.0,14761.0,5523.0,18570.0,24714.0,4993.0,6693.0,56275.0,25870.0,9007.0,7074.0,51114.0,5256.0,12292.0,5666.0,9327.0,19436.0,5928.0,7209.0,20715.0,22959.0,6059.0,20916.0,21634.0,55160.0,17940.0,17524.0,13941.0,4226.0,14153.0,7890.0,42963.0,57496.0,6887.0,7285.0,14169.0,14461.0,24271.0,15787.0,0.0,5285.0,6203.0,14637.0,6442.0,5421.0,17663.0,61753.0,32410.0,5952.0,6393.0,6608.0,21787.0,6095.0,5740.0,16178.0,6174.0,17809.0,17134.0,8974.0,73058.0,15810.0,7913.0,0.0,0.0,17012.0,5579.0,13982.0,63644.0,18669.0,14319.0,50485.0,61658.0,8048.0,6927.0,14597.0,36651.0,11140.0,6808.0,11520.0,21242.0,5504.0,6516.0,6194.0,57064.0,23030.0,6975.0,8282.0,5738.0],\"yaxis\":\"y\",\"type\":\"scatter\"},{\"hovertemplate\":\"Product=SKU3<br>Date=%{x}<br>mean_sales=%{y}<extra></extra>\",\"legendgroup\":\"SKU3\",\"marker\":{\"color\":\"#19d3f3\",\"symbol\":\"circle\"},\"mode\":\"markers\",\"name\":\"SKU3\",\"orientation\":\"v\",\"showlegend\":true,\"x\":[\"2018-02-11T00:00:00\",\"2018-04-29T00:00:00\",\"2019-12-15T00:00:00\",\"2017-09-10T00:00:00\",\"2018-07-08T00:00:00\",\"2019-01-27T00:00:00\",\"2019-05-26T00:00:00\",\"2019-10-27T00:00:00\",\"2020-08-09T00:00:00\",\"2017-12-03T00:00:00\",\"2018-07-29T00:00:00\",\"2020-02-23T00:00:00\",\"2017-03-12T00:00:00\",\"2017-12-10T00:00:00\",\"2020-12-13T00:00:00\",\"2017-08-27T00:00:00\",\"2019-08-25T00:00:00\",\"2017-03-19T00:00:00\",\"2017-07-02T00:00:00\",\"2018-01-07T00:00:00\",\"2018-01-28T00:00:00\",\"2019-01-20T00:00:00\",\"2017-11-19T00:00:00\",\"2018-09-16T00:00:00\",\"2019-02-03T00:00:00\",\"2020-03-29T00:00:00\",\"2019-04-14T00:00:00\",\"2019-09-08T00:00:00\",\"2019-10-13T00:00:00\",\"2017-03-05T00:00:00\",\"2020-07-05T00:00:00\",\"2018-02-18T00:00:00\",\"2020-09-27T00:00:00\",\"2017-10-22T00:00:00\",\"2018-11-18T00:00:00\",\"2018-12-30T00:00:00\",\"2019-03-24T00:00:00\",\"2017-08-20T00:00:00\",\"2017-09-17T00:00:00\",\"2018-05-20T00:00:00\",\"2019-04-28T00:00:00\",\"2018-09-23T00:00:00\",\"2019-06-23T00:00:00\",\"2020-02-16T00:00:00\",\"2020-07-12T00:00:00\",\"2018-03-04T00:00:00\",\"2019-08-11T00:00:00\",\"2020-09-13T00:00:00\",\"2020-12-20T00:00:00\",\"2018-08-26T00:00:00\",\"2020-01-05T00:00:00\",\"2019-12-01T00:00:00\",\"2020-01-26T00:00:00\",\"2017-08-13T00:00:00\",\"2019-01-06T00:00:00\",\"2017-06-25T00:00:00\",\"2018-10-14T00:00:00\",\"2019-05-05T00:00:00\",\"2017-02-05T00:00:00\",\"2017-11-26T00:00:00\",\"2018-05-27T00:00:00\",\"2020-04-12T00:00:00\",\"2017-06-04T00:00:00\",\"2019-03-10T00:00:00\",\"2019-10-06T00:00:00\",\"2018-06-17T00:00:00\",\"2020-12-27T00:00:00\",\"2018-05-13T00:00:00\",\"2020-01-12T00:00:00\",\"2017-04-16T00:00:00\",\"2018-11-25T00:00:00\",\"2019-07-21T00:00:00\",\"2020-09-06T00:00:00\",\"2017-02-19T00:00:00\",\"2017-11-12T00:00:00\",\"2018-03-25T00:00:00\",\"2018-12-02T00:00:00\",\"2019-09-22T00:00:00\",\"2018-03-18T00:00:00\",\"2018-10-07T00:00:00\",\"2020-11-29T00:00:00\",\"2017-06-11T00:00:00\",\"2019-08-04T00:00:00\",\"2020-12-06T00:00:00\",\"2018-07-15T00:00:00\",\"2019-02-17T00:00:00\",\"2019-07-14T00:00:00\",\"2020-01-19T00:00:00\",\"2020-07-19T00:00:00\",\"2019-09-29T00:00:00\",\"2017-05-14T00:00:00\",\"2020-08-30T00:00:00\",\"2018-04-15T00:00:00\",\"2019-09-01T00:00:00\",\"2017-12-17T00:00:00\",\"2020-10-04T00:00:00\",\"2020-05-03T00:00:00\",\"2020-06-07T00:00:00\",\"2019-01-13T00:00:00\",\"2019-12-29T00:00:00\",\"2018-11-11T00:00:00\",\"2019-11-17T00:00:00\",\"2020-04-26T00:00:00\",\"2020-05-31T00:00:00\",\"2020-10-25T00:00:00\",\"2018-09-02T00:00:00\",\"2020-11-15T00:00:00\",\"2017-07-09T00:00:00\",\"2018-09-30T00:00:00\",\"2019-04-07T00:00:00\",\"2019-08-18T00:00:00\",\"2018-06-24T00:00:00\",\"2019-11-10T00:00:00\",\"2020-08-23T00:00:00\",\"2020-04-05T00:00:00\",\"2020-06-28T00:00:00\",\"2019-12-08T00:00:00\",\"2017-08-06T00:00:00\",\"2020-06-14T00:00:00\",\"2020-03-01T00:00:00\",\"2020-05-17T00:00:00\",\"2019-07-07T00:00:00\",\"2020-08-02T00:00:00\",\"2017-10-15T00:00:00\",\"2020-05-24T00:00:00\",\"2018-02-25T00:00:00\",\"2019-09-15T00:00:00\",\"2018-08-19T00:00:00\",\"2017-07-23T00:00:00\",\"2019-10-20T00:00:00\",\"2020-04-19T00:00:00\",\"2020-08-16T00:00:00\",\"2020-11-08T00:00:00\",\"2017-09-24T00:00:00\",\"2017-10-08T00:00:00\",\"2019-07-28T00:00:00\",\"2017-10-01T00:00:00\",\"2019-11-03T00:00:00\",\"2017-04-30T00:00:00\",\"2019-03-17T00:00:00\",\"2020-03-22T00:00:00\",\"2019-02-10T00:00:00\",\"2020-03-15T00:00:00\",\"2020-10-11T00:00:00\",\"2020-10-18T00:00:00\",\"2017-12-31T00:00:00\",\"2018-04-01T00:00:00\",\"2020-03-08T00:00:00\",\"2017-04-09T00:00:00\",\"2019-06-09T00:00:00\",\"2017-02-12T00:00:00\",\"2018-11-04T00:00:00\",\"2019-06-30T00:00:00\",\"2019-02-24T00:00:00\",\"2020-11-22T00:00:00\",\"2018-07-22T00:00:00\",\"2017-10-29T00:00:00\",\"2018-12-23T00:00:00\",\"2019-06-16T00:00:00\",\"2018-04-08T00:00:00\",\"2018-07-01T00:00:00\",\"2018-05-06T00:00:00\",\"2018-04-22T00:00:00\",\"2020-06-21T00:00:00\",\"2017-04-23T00:00:00\",\"2020-05-10T00:00:00\",\"2017-07-16T00:00:00\",\"2019-06-02T00:00:00\",\"2017-12-24T00:00:00\",\"2018-03-11T00:00:00\",\"2020-09-20T00:00:00\",\"2018-09-09T00:00:00\",\"2018-12-16T00:00:00\",\"2019-03-03T00:00:00\",\"2017-04-02T00:00:00\"],\"xaxis\":\"x\",\"y\":[14822.0,41716.0,29325.0,64818.0,98300.0,15378.0,65796.0,77885.0,21666.0,62176.0,21768.0,31172.0,48230.0,15098.0,0.0,236242.0,36190.0,47632.0,21719.0,57707.0,14766.0,72688.0,29788.0,83294.0,77331.0,33476.0,82925.0,18947.0,83295.0,13568.0,63430.0,65917.0,59997.0,49891.0,18175.0,19818.0,23297.0,57361.0,63731.0,81236.0,60819.0,69874.0,75058.0,187548.0,20478.0,15242.0,20287.0,57867.0,0.0,19395.0,50536.0,16864.0,14278.0,19315.0,65120.0,88330.0,94028.0,14847.0,39767.0,43078.0,20184.0,97959.0,55744.0,18959.0,37198.0,44670.0,0.0,73443.0,13672.0,31180.0,85834.0,82028.0,21108.0,41044.0,47367.0,81070.0,16673.0,22404.0,15914.0,19806.0,0.0,248373.0,75642.0,0.0,24771.0,195088.0,19698.0,59700.0,184365.0,207356.0,46634.0,51884.0,15593.0,78848.0,46362.0,52970.0,22217.0,75510.0,13910.0,17979.0,86341.0,30944.0,64671.0,19726.0,60638.0,84724.0,13668.0,66602.0,237462.0,20603.0,224723.0,83798.0,182891.0,51798.0,29350.0,23331.0,72108.0,52917.0,20278.0,76759.0,19161.0,63367.0,60530.0,31259.0,66290.0,72768.0,75687.0,94025.0,60173.0,18549.0,19116.0,189965.0,42459.0,72851.0,52132.0,18589.0,18797.0,16769.0,28519.0,84789.0,24862.0,16284.0,102770.0,54751.0,17625.0,10970.0,16298.0,16311.0,58678.0,197503.0,49090.0,16559.0,34350.0,66726.0,0.0,77644.0,16354.0,15567.0,40396.0,63779.0,45241.0,85960.0,91541.0,79090.0,39918.0,78949.0,37996.0,19708.0,40244.0,77546.0,19186.0,17903.0,16228.0,70897.0,48624.0],\"yaxis\":\"y\",\"type\":\"scatter\"}],                        {\"template\":{\"data\":{\"histogram2dcontour\":[{\"type\":\"histogram2dcontour\",\"colorbar\":{\"outlinewidth\":0,\"ticks\":\"\"},\"colorscale\":[[0.0,\"#0d0887\"],[0.1111111111111111,\"#46039f\"],[0.2222222222222222,\"#7201a8\"],[0.3333333333333333,\"#9c179e\"],[0.4444444444444444,\"#bd3786\"],[0.5555555555555556,\"#d8576b\"],[0.6666666666666666,\"#ed7953\"],[0.7777777777777778,\"#fb9f3a\"],[0.8888888888888888,\"#fdca26\"],[1.0,\"#f0f921\"]]}],\"choropleth\":[{\"type\":\"choropleth\",\"colorbar\":{\"outlinewidth\":0,\"ticks\":\"\"}}],\"histogram2d\":[{\"type\":\"histogram2d\",\"colorbar\":{\"outlinewidth\":0,\"ticks\":\"\"},\"colorscale\":[[0.0,\"#0d0887\"],[0.1111111111111111,\"#46039f\"],[0.2222222222222222,\"#7201a8\"],[0.3333333333333333,\"#9c179e\"],[0.4444444444444444,\"#bd3786\"],[0.5555555555555556,\"#d8576b\"],[0.6666666666666666,\"#ed7953\"],[0.7777777777777778,\"#fb9f3a\"],[0.8888888888888888,\"#fdca26\"],[1.0,\"#f0f921\"]]}],\"heatmap\":[{\"type\":\"heatmap\",\"colorbar\":{\"outlinewidth\":0,\"ticks\":\"\"},\"colorscale\":[[0.0,\"#0d0887\"],[0.1111111111111111,\"#46039f\"],[0.2222222222222222,\"#7201a8\"],[0.3333333333333333,\"#9c179e\"],[0.4444444444444444,\"#bd3786\"],[0.5555555555555556,\"#d8576b\"],[0.6666666666666666,\"#ed7953\"],[0.7777777777777778,\"#fb9f3a\"],[0.8888888888888888,\"#fdca26\"],[1.0,\"#f0f921\"]]}],\"heatmapgl\":[{\"type\":\"heatmapgl\",\"colorbar\":{\"outlinewidth\":0,\"ticks\":\"\"},\"colorscale\":[[0.0,\"#0d0887\"],[0.1111111111111111,\"#46039f\"],[0.2222222222222222,\"#7201a8\"],[0.3333333333333333,\"#9c179e\"],[0.4444444444444444,\"#bd3786\"],[0.5555555555555556,\"#d8576b\"],[0.6666666666666666,\"#ed7953\"],[0.7777777777777778,\"#fb9f3a\"],[0.8888888888888888,\"#fdca26\"],[1.0,\"#f0f921\"]]}],\"contourcarpet\":[{\"type\":\"contourcarpet\",\"colorbar\":{\"outlinewidth\":0,\"ticks\":\"\"}}],\"contour\":[{\"type\":\"contour\",\"colorbar\":{\"outlinewidth\":0,\"ticks\":\"\"},\"colorscale\":[[0.0,\"#0d0887\"],[0.1111111111111111,\"#46039f\"],[0.2222222222222222,\"#7201a8\"],[0.3333333333333333,\"#9c179e\"],[0.4444444444444444,\"#bd3786\"],[0.5555555555555556,\"#d8576b\"],[0.6666666666666666,\"#ed7953\"],[0.7777777777777778,\"#fb9f3a\"],[0.8888888888888888,\"#fdca26\"],[1.0,\"#f0f921\"]]}],\"surface\":[{\"type\":\"surface\",\"colorbar\":{\"outlinewidth\":0,\"ticks\":\"\"},\"colorscale\":[[0.0,\"#0d0887\"],[0.1111111111111111,\"#46039f\"],[0.2222222222222222,\"#7201a8\"],[0.3333333333333333,\"#9c179e\"],[0.4444444444444444,\"#bd3786\"],[0.5555555555555556,\"#d8576b\"],[0.6666666666666666,\"#ed7953\"],[0.7777777777777778,\"#fb9f3a\"],[0.8888888888888888,\"#fdca26\"],[1.0,\"#f0f921\"]]}],\"mesh3d\":[{\"type\":\"mesh3d\",\"colorbar\":{\"outlinewidth\":0,\"ticks\":\"\"}}],\"scatter\":[{\"fillpattern\":{\"fillmode\":\"overlay\",\"size\":10,\"solidity\":0.2},\"type\":\"scatter\"}],\"parcoords\":[{\"type\":\"parcoords\",\"line\":{\"colorbar\":{\"outlinewidth\":0,\"ticks\":\"\"}}}],\"scatterpolargl\":[{\"type\":\"scatterpolargl\",\"marker\":{\"colorbar\":{\"outlinewidth\":0,\"ticks\":\"\"}}}],\"bar\":[{\"error_x\":{\"color\":\"#2a3f5f\"},\"error_y\":{\"color\":\"#2a3f5f\"},\"marker\":{\"line\":{\"color\":\"#E5ECF6\",\"width\":0.5},\"pattern\":{\"fillmode\":\"overlay\",\"size\":10,\"solidity\":0.2}},\"type\":\"bar\"}],\"scattergeo\":[{\"type\":\"scattergeo\",\"marker\":{\"colorbar\":{\"outlinewidth\":0,\"ticks\":\"\"}}}],\"scatterpolar\":[{\"type\":\"scatterpolar\",\"marker\":{\"colorbar\":{\"outlinewidth\":0,\"ticks\":\"\"}}}],\"histogram\":[{\"marker\":{\"pattern\":{\"fillmode\":\"overlay\",\"size\":10,\"solidity\":0.2}},\"type\":\"histogram\"}],\"scattergl\":[{\"type\":\"scattergl\",\"marker\":{\"colorbar\":{\"outlinewidth\":0,\"ticks\":\"\"}}}],\"scatter3d\":[{\"type\":\"scatter3d\",\"line\":{\"colorbar\":{\"outlinewidth\":0,\"ticks\":\"\"}},\"marker\":{\"colorbar\":{\"outlinewidth\":0,\"ticks\":\"\"}}}],\"scattermapbox\":[{\"type\":\"scattermapbox\",\"marker\":{\"colorbar\":{\"outlinewidth\":0,\"ticks\":\"\"}}}],\"scatterternary\":[{\"type\":\"scatterternary\",\"marker\":{\"colorbar\":{\"outlinewidth\":0,\"ticks\":\"\"}}}],\"scattercarpet\":[{\"type\":\"scattercarpet\",\"marker\":{\"colorbar\":{\"outlinewidth\":0,\"ticks\":\"\"}}}],\"carpet\":[{\"aaxis\":{\"endlinecolor\":\"#2a3f5f\",\"gridcolor\":\"white\",\"linecolor\":\"white\",\"minorgridcolor\":\"white\",\"startlinecolor\":\"#2a3f5f\"},\"baxis\":{\"endlinecolor\":\"#2a3f5f\",\"gridcolor\":\"white\",\"linecolor\":\"white\",\"minorgridcolor\":\"white\",\"startlinecolor\":\"#2a3f5f\"},\"type\":\"carpet\"}],\"table\":[{\"cells\":{\"fill\":{\"color\":\"#EBF0F8\"},\"line\":{\"color\":\"white\"}},\"header\":{\"fill\":{\"color\":\"#C8D4E3\"},\"line\":{\"color\":\"white\"}},\"type\":\"table\"}],\"barpolar\":[{\"marker\":{\"line\":{\"color\":\"#E5ECF6\",\"width\":0.5},\"pattern\":{\"fillmode\":\"overlay\",\"size\":10,\"solidity\":0.2}},\"type\":\"barpolar\"}],\"pie\":[{\"automargin\":true,\"type\":\"pie\"}]},\"layout\":{\"autotypenumbers\":\"strict\",\"colorway\":[\"#636efa\",\"#EF553B\",\"#00cc96\",\"#ab63fa\",\"#FFA15A\",\"#19d3f3\",\"#FF6692\",\"#B6E880\",\"#FF97FF\",\"#FECB52\"],\"font\":{\"color\":\"#2a3f5f\"},\"hovermode\":\"closest\",\"hoverlabel\":{\"align\":\"left\"},\"paper_bgcolor\":\"white\",\"plot_bgcolor\":\"#E5ECF6\",\"polar\":{\"bgcolor\":\"#E5ECF6\",\"angularaxis\":{\"gridcolor\":\"white\",\"linecolor\":\"white\",\"ticks\":\"\"},\"radialaxis\":{\"gridcolor\":\"white\",\"linecolor\":\"white\",\"ticks\":\"\"}},\"ternary\":{\"bgcolor\":\"#E5ECF6\",\"aaxis\":{\"gridcolor\":\"white\",\"linecolor\":\"white\",\"ticks\":\"\"},\"baxis\":{\"gridcolor\":\"white\",\"linecolor\":\"white\",\"ticks\":\"\"},\"caxis\":{\"gridcolor\":\"white\",\"linecolor\":\"white\",\"ticks\":\"\"}},\"coloraxis\":{\"colorbar\":{\"outlinewidth\":0,\"ticks\":\"\"}},\"colorscale\":{\"sequential\":[[0.0,\"#0d0887\"],[0.1111111111111111,\"#46039f\"],[0.2222222222222222,\"#7201a8\"],[0.3333333333333333,\"#9c179e\"],[0.4444444444444444,\"#bd3786\"],[0.5555555555555556,\"#d8576b\"],[0.6666666666666666,\"#ed7953\"],[0.7777777777777778,\"#fb9f3a\"],[0.8888888888888888,\"#fdca26\"],[1.0,\"#f0f921\"]],\"sequentialminus\":[[0.0,\"#0d0887\"],[0.1111111111111111,\"#46039f\"],[0.2222222222222222,\"#7201a8\"],[0.3333333333333333,\"#9c179e\"],[0.4444444444444444,\"#bd3786\"],[0.5555555555555556,\"#d8576b\"],[0.6666666666666666,\"#ed7953\"],[0.7777777777777778,\"#fb9f3a\"],[0.8888888888888888,\"#fdca26\"],[1.0,\"#f0f921\"]],\"diverging\":[[0,\"#8e0152\"],[0.1,\"#c51b7d\"],[0.2,\"#de77ae\"],[0.3,\"#f1b6da\"],[0.4,\"#fde0ef\"],[0.5,\"#f7f7f7\"],[0.6,\"#e6f5d0\"],[0.7,\"#b8e186\"],[0.8,\"#7fbc41\"],[0.9,\"#4d9221\"],[1,\"#276419\"]]},\"xaxis\":{\"gridcolor\":\"white\",\"linecolor\":\"white\",\"ticks\":\"\",\"title\":{\"standoff\":15},\"zerolinecolor\":\"white\",\"automargin\":true,\"zerolinewidth\":2},\"yaxis\":{\"gridcolor\":\"white\",\"linecolor\":\"white\",\"ticks\":\"\",\"title\":{\"standoff\":15},\"zerolinecolor\":\"white\",\"automargin\":true,\"zerolinewidth\":2},\"scene\":{\"xaxis\":{\"backgroundcolor\":\"#E5ECF6\",\"gridcolor\":\"white\",\"linecolor\":\"white\",\"showbackground\":true,\"ticks\":\"\",\"zerolinecolor\":\"white\",\"gridwidth\":2},\"yaxis\":{\"backgroundcolor\":\"#E5ECF6\",\"gridcolor\":\"white\",\"linecolor\":\"white\",\"showbackground\":true,\"ticks\":\"\",\"zerolinecolor\":\"white\",\"gridwidth\":2},\"zaxis\":{\"backgroundcolor\":\"#E5ECF6\",\"gridcolor\":\"white\",\"linecolor\":\"white\",\"showbackground\":true,\"ticks\":\"\",\"zerolinecolor\":\"white\",\"gridwidth\":2}},\"shapedefaults\":{\"line\":{\"color\":\"#2a3f5f\"}},\"annotationdefaults\":{\"arrowcolor\":\"#2a3f5f\",\"arrowhead\":0,\"arrowwidth\":1},\"geo\":{\"bgcolor\":\"white\",\"landcolor\":\"#E5ECF6\",\"subunitcolor\":\"white\",\"showland\":true,\"showlakes\":true,\"lakecolor\":\"white\"},\"title\":{\"x\":0.05},\"mapbox\":{\"style\":\"light\"}}},\"xaxis\":{\"anchor\":\"y\",\"domain\":[0.0,1.0],\"title\":{\"text\":\"Date\"}},\"yaxis\":{\"anchor\":\"x\",\"domain\":[0.0,1.0],\"title\":{\"text\":\"mean_sales\"}},\"legend\":{\"title\":{\"text\":\"Product\"},\"tracegroupgap\":0},\"title\":{\"text\":\"Mean sales over 2017-2020\"}},                        {\"responsive\": true}                    ).then(function(){\n",
       "                            \n",
       "var gd = document.getElementById('cb522dd2-66e0-4111-9a14-a8a1aca7c826');\n",
       "var x = new MutationObserver(function (mutations, observer) {{\n",
       "        var display = window.getComputedStyle(gd).display;\n",
       "        if (!display || display === 'none') {{\n",
       "            console.log([gd, 'removed!']);\n",
       "            Plotly.purge(gd);\n",
       "            observer.disconnect();\n",
       "        }}\n",
       "}});\n",
       "\n",
       "// Listen for the removal of the full notebook cells\n",
       "var notebookContainer = gd.closest('#notebook-container');\n",
       "if (notebookContainer) {{\n",
       "    x.observe(notebookContainer, {childList: true});\n",
       "}}\n",
       "\n",
       "// Listen for the clearing of the current output cell\n",
       "var outputEl = gd.closest('.output');\n",
       "if (outputEl) {{\n",
       "    x.observe(outputEl, {childList: true});\n",
       "}}\n",
       "\n",
       "                        })                };                });            </script>        </div>"
      ]
     },
     "metadata": {},
     "output_type": "display_data"
    },
    {
     "name": "stderr",
     "output_type": "stream",
     "text": [
      "----------------------------------------\n",
      "Exception occurred during processing of request from ('127.0.0.1', 57042)\n",
      "Traceback (most recent call last):\n",
      "  File \"/opt/conda/lib/python3.10/socketserver.py\", line 316, in _handle_request_noblock\n",
      "    self.process_request(request, client_address)\n",
      "  File \"/opt/conda/lib/python3.10/socketserver.py\", line 347, in process_request\n",
      "    self.finish_request(request, client_address)\n",
      "  File \"/opt/conda/lib/python3.10/socketserver.py\", line 360, in finish_request\n",
      "    self.RequestHandlerClass(request, client_address, self)\n",
      "  File \"/opt/conda/lib/python3.10/socketserver.py\", line 747, in __init__\n",
      "    self.handle()\n",
      "  File \"/usr/local/spark/python/pyspark/accumulators.py\", line 281, in handle\n",
      "    poll(accum_updates)\n",
      "  File \"/usr/local/spark/python/pyspark/accumulators.py\", line 253, in poll\n",
      "    if func():\n",
      "  File \"/usr/local/spark/python/pyspark/accumulators.py\", line 257, in accum_updates\n",
      "    num_updates = read_int(self.rfile)\n",
      "  File \"/usr/local/spark/python/pyspark/serializers.py\", line 595, in read_int\n",
      "    raise EOFError\n",
      "EOFError\n",
      "----------------------------------------\n"
     ]
    }
   ],
   "source": [
    "df.groupby(['Product', 'Date']).agg(mean_sales = ('Sales','mean')).reset_index().plot.scatter(x='Date', y='mean_sales', color=\"Product\", title=\"Mean sales over 2017-2020\")"
   ]
  },
  {
   "cell_type": "code",
   "execution_count": 51,
   "id": "a3e0f4fd",
   "metadata": {},
   "outputs": [
    {
     "data": {
      "application/vnd.plotly.v1+json": {
       "config": {
        "plotlyServerURL": "https://plot.ly"
       },
       "data": [
        {
         "hovertemplate": "Cw=%{x}<br>mean_sales=%{y}<br>Year=%{marker.color}<extra></extra>",
         "legendgroup": "",
         "marker": {
          "color": [
           2018,
           2018,
           2018,
           2019,
           2019,
           2019,
           2018,
           2019,
           2018,
           2017,
           2020,
           2020,
           2020,
           2019,
           2020,
           2019,
           2020,
           2018,
           2019,
           2018,
           2018,
           2020,
           2020,
           2017,
           2019,
           2018,
           2017,
           2017,
           2017,
           2017,
           2020,
           2017,
           2019,
           2020,
           2017,
           2017,
           2019,
           2018,
           2018,
           2019,
           2017,
           2020,
           2020,
           2017,
           2017,
           2018,
           2020,
           2020,
           2019,
           2017,
           2018,
           2018,
           2020,
           2018,
           2018,
           2017,
           2017,
           2019,
           2018,
           2019,
           2020,
           2018,
           2020,
           2020,
           2017,
           2017,
           2018,
           2019,
           2019,
           2020,
           2018,
           2019,
           2018,
           2017,
           2019,
           2020,
           2020,
           2020,
           2020,
           2017,
           2018,
           2019,
           2020,
           2018,
           2019,
           2018,
           2020,
           2018,
           2019,
           2020,
           2020,
           2017,
           2018,
           2017,
           2018,
           2019,
           2020,
           2017,
           2020,
           2020,
           2017,
           2020,
           2018,
           2019,
           2018,
           2018,
           2019,
           2020,
           2019,
           2019,
           2020,
           2020,
           2017,
           2017,
           2018,
           2019,
           2020,
           2018,
           2019,
           2017,
           2018,
           2019,
           2020,
           2017,
           2017,
           2019,
           2018,
           2017,
           2017,
           2019,
           2018,
           2020,
           2018,
           2020,
           2019,
           2020,
           2019,
           2017,
           2018,
           2019,
           2017,
           2017,
           2018,
           2019,
           2019,
           2018,
           2018,
           2018,
           2018,
           2019,
           2017,
           2019,
           2017,
           2019,
           2020,
           2017,
           2018,
           2020,
           2018,
           2019,
           2019,
           2019,
           2017,
           2017,
           2018,
           2018,
           2018,
           2018,
           2020,
           2018,
           2019,
           2019,
           2017,
           2019,
           2018,
           2019,
           2017,
           2019,
           2020,
           2019,
           2020,
           2020,
           2017,
           2017,
           2017,
           2018,
           2019,
           2020,
           2018,
           2020,
           2019,
           2020,
           2017,
           2017,
           2020,
           2017,
           2017,
           2019,
           2019,
           2020,
           2020,
           2017,
           2020,
           2020
          ],
          "coloraxis": "coloraxis",
          "symbol": "circle"
         },
         "mode": "markers",
         "name": "",
         "orientation": "v",
         "showlegend": false,
         "type": "scatter",
         "x": [
          23,
          41,
          44,
          5,
          43,
          9,
          18,
          26,
          15,
          38,
          23,
          38,
          44,
          1,
          29,
          18,
          13,
          12,
          48,
          39,
          3,
          26,
          51,
          23,
          47,
          38,
          10,
          48,
          45,
          43,
          18,
          13,
          21,
          4,
          39,
          47,
          14,
          35,
          47,
          25,
          28,
          12,
          45,
          6,
          27,
          25,
          14,
          11,
          51,
          41,
          22,
          30,
          43,
          19,
          43,
          15,
          26,
          39,
          20,
          20,
          20,
          14,
          6,
          27,
          14,
          46,
          40,
          37,
          50,
          3,
          5,
          40,
          50,
          31,
          23,
          31,
          32,
          9,
          17,
          11,
          33,
          6,
          8,
          7,
          4,
          9,
          15,
          10,
          17,
          34,
          52,
          33,
          46,
          35,
          28,
          3,
          5,
          21,
          10,
          1,
          12,
          46,
          26,
          32,
          37,
          51,
          12,
          37,
          13,
          33,
          7,
          47,
          34,
          42,
          29,
          2,
          48,
          13,
          35,
          44,
          21,
          38,
          19,
          22,
          32,
          19,
          34,
          37,
          16,
          28,
          1,
          16,
          4,
          25,
          15,
          50,
          29,
          51,
          45,
          30,
          20,
          24,
          8,
          34,
          24,
          31,
          49,
          2,
          42,
          16,
          49,
          46,
          5,
          42,
          36,
          18,
          11,
          49,
          6,
          44,
          7,
          52,
          25,
          40,
          24,
          36,
          16,
          17,
          24,
          27,
          27,
          10,
          30,
          45,
          32,
          49,
          8,
          8,
          40,
          41,
          41,
          22,
          19,
          36,
          50,
          52,
          22,
          30,
          48,
          28,
          36,
          35,
          17,
          52,
          33,
          29,
          9,
          11,
          31,
          21,
          39,
          7,
          2,
          42
         ],
         "xaxis": "x",
         "y": [
          84075,
          31482,
          97972,
          30561,
          37663,
          30502,
          49036,
          46193,
          34800,
          34481,
          30877,
          50780,
          33267,
          40420,
          25749,
          43820,
          43707,
          54925,
          73956,
          67966,
          43324,
          26410,
          0,
          43689,
          72587,
          49548,
          29731,
          66333,
          57417,
          34918,
          29536,
          44339,
          40402,
          58185,
          96610,
          64904,
          55859,
          52126,
          52532,
          30099,
          28650,
          77842,
          50159,
          29023,
          45198,
          32463,
          39473,
          56886,
          258874,
          33967,
          49314,
          33057,
          49593,
          52964,
          32717,
          108159,
          27001,
          69480,
          34526,
          28457,
          31406,
          35136,
          29239,
          26925,
          54655,
          60631,
          33433,
          57446,
          85762,
          47058,
          35016,
          106885,
          80431,
          26888,
          85108,
          25792,
          24543,
          35684,
          46829,
          27365,
          31772,
          29867,
          29275,
          55216,
          58215,
          51305,
          64685,
          91870,
          31741,
          23606,
          0,
          29415,
          52048,
          49531,
          35354,
          48759,
          30020,
          26045,
          36955,
          41141,
          27722,
          51369,
          51818,
          31628,
          86576,
          174994,
          28997,
          83565,
          52930,
          33665,
          45572,
          0,
          50471,
          33429,
          35191,
          34603,
          0,
          79050,
          36320,
          104775,
          33308,
          58872,
          31836,
          25903,
          46260,
          46628,
          29976,
          82940,
          30361,
          31099,
          41941,
          39290,
          65691,
          25445,
          59375,
          0,
          31866,
          155253,
          51495,
          31386,
          25936,
          25446,
          33908,
          34550,
          44596,
          32373,
          109917,
          37845,
          32196,
          119393,
          71917,
          70327,
          27750,
          37454,
          51946,
          39782,
          51438,
          0,
          33604,
          60365,
          48001,
          124261,
          42543,
          31898,
          32223,
          48279,
          56351,
          34225,
          26244,
          35597,
          31093,
          32103,
          27657,
          67770,
          31850,
          82558,
          26789,
          30016,
          55980,
          36072,
          44587,
          29177,
          29490,
          30874,
          94633,
          96211,
          28521,
          23891,
          59037,
          26973,
          55431,
          24346,
          42154,
          89706,
          23744,
          42032,
          41999,
          29664,
          29985,
          71971,
          50644,
          45630,
          34303,
          43976
         ],
         "yaxis": "y"
        }
       ],
       "layout": {
        "coloraxis": {
         "colorbar": {
          "title": {
           "text": "Year"
          }
         },
         "colorscale": [
          [
           0,
           "#0d0887"
          ],
          [
           0.1111111111111111,
           "#46039f"
          ],
          [
           0.2222222222222222,
           "#7201a8"
          ],
          [
           0.3333333333333333,
           "#9c179e"
          ],
          [
           0.4444444444444444,
           "#bd3786"
          ],
          [
           0.5555555555555556,
           "#d8576b"
          ],
          [
           0.6666666666666666,
           "#ed7953"
          ],
          [
           0.7777777777777778,
           "#fb9f3a"
          ],
          [
           0.8888888888888888,
           "#fdca26"
          ],
          [
           1,
           "#f0f921"
          ]
         ]
        },
        "legend": {
         "tracegroupgap": 0
        },
        "template": {
         "data": {
          "bar": [
           {
            "error_x": {
             "color": "#2a3f5f"
            },
            "error_y": {
             "color": "#2a3f5f"
            },
            "marker": {
             "line": {
              "color": "#E5ECF6",
              "width": 0.5
             },
             "pattern": {
              "fillmode": "overlay",
              "size": 10,
              "solidity": 0.2
             }
            },
            "type": "bar"
           }
          ],
          "barpolar": [
           {
            "marker": {
             "line": {
              "color": "#E5ECF6",
              "width": 0.5
             },
             "pattern": {
              "fillmode": "overlay",
              "size": 10,
              "solidity": 0.2
             }
            },
            "type": "barpolar"
           }
          ],
          "carpet": [
           {
            "aaxis": {
             "endlinecolor": "#2a3f5f",
             "gridcolor": "white",
             "linecolor": "white",
             "minorgridcolor": "white",
             "startlinecolor": "#2a3f5f"
            },
            "baxis": {
             "endlinecolor": "#2a3f5f",
             "gridcolor": "white",
             "linecolor": "white",
             "minorgridcolor": "white",
             "startlinecolor": "#2a3f5f"
            },
            "type": "carpet"
           }
          ],
          "choropleth": [
           {
            "colorbar": {
             "outlinewidth": 0,
             "ticks": ""
            },
            "type": "choropleth"
           }
          ],
          "contour": [
           {
            "colorbar": {
             "outlinewidth": 0,
             "ticks": ""
            },
            "colorscale": [
             [
              0,
              "#0d0887"
             ],
             [
              0.1111111111111111,
              "#46039f"
             ],
             [
              0.2222222222222222,
              "#7201a8"
             ],
             [
              0.3333333333333333,
              "#9c179e"
             ],
             [
              0.4444444444444444,
              "#bd3786"
             ],
             [
              0.5555555555555556,
              "#d8576b"
             ],
             [
              0.6666666666666666,
              "#ed7953"
             ],
             [
              0.7777777777777778,
              "#fb9f3a"
             ],
             [
              0.8888888888888888,
              "#fdca26"
             ],
             [
              1,
              "#f0f921"
             ]
            ],
            "type": "contour"
           }
          ],
          "contourcarpet": [
           {
            "colorbar": {
             "outlinewidth": 0,
             "ticks": ""
            },
            "type": "contourcarpet"
           }
          ],
          "heatmap": [
           {
            "colorbar": {
             "outlinewidth": 0,
             "ticks": ""
            },
            "colorscale": [
             [
              0,
              "#0d0887"
             ],
             [
              0.1111111111111111,
              "#46039f"
             ],
             [
              0.2222222222222222,
              "#7201a8"
             ],
             [
              0.3333333333333333,
              "#9c179e"
             ],
             [
              0.4444444444444444,
              "#bd3786"
             ],
             [
              0.5555555555555556,
              "#d8576b"
             ],
             [
              0.6666666666666666,
              "#ed7953"
             ],
             [
              0.7777777777777778,
              "#fb9f3a"
             ],
             [
              0.8888888888888888,
              "#fdca26"
             ],
             [
              1,
              "#f0f921"
             ]
            ],
            "type": "heatmap"
           }
          ],
          "heatmapgl": [
           {
            "colorbar": {
             "outlinewidth": 0,
             "ticks": ""
            },
            "colorscale": [
             [
              0,
              "#0d0887"
             ],
             [
              0.1111111111111111,
              "#46039f"
             ],
             [
              0.2222222222222222,
              "#7201a8"
             ],
             [
              0.3333333333333333,
              "#9c179e"
             ],
             [
              0.4444444444444444,
              "#bd3786"
             ],
             [
              0.5555555555555556,
              "#d8576b"
             ],
             [
              0.6666666666666666,
              "#ed7953"
             ],
             [
              0.7777777777777778,
              "#fb9f3a"
             ],
             [
              0.8888888888888888,
              "#fdca26"
             ],
             [
              1,
              "#f0f921"
             ]
            ],
            "type": "heatmapgl"
           }
          ],
          "histogram": [
           {
            "marker": {
             "pattern": {
              "fillmode": "overlay",
              "size": 10,
              "solidity": 0.2
             }
            },
            "type": "histogram"
           }
          ],
          "histogram2d": [
           {
            "colorbar": {
             "outlinewidth": 0,
             "ticks": ""
            },
            "colorscale": [
             [
              0,
              "#0d0887"
             ],
             [
              0.1111111111111111,
              "#46039f"
             ],
             [
              0.2222222222222222,
              "#7201a8"
             ],
             [
              0.3333333333333333,
              "#9c179e"
             ],
             [
              0.4444444444444444,
              "#bd3786"
             ],
             [
              0.5555555555555556,
              "#d8576b"
             ],
             [
              0.6666666666666666,
              "#ed7953"
             ],
             [
              0.7777777777777778,
              "#fb9f3a"
             ],
             [
              0.8888888888888888,
              "#fdca26"
             ],
             [
              1,
              "#f0f921"
             ]
            ],
            "type": "histogram2d"
           }
          ],
          "histogram2dcontour": [
           {
            "colorbar": {
             "outlinewidth": 0,
             "ticks": ""
            },
            "colorscale": [
             [
              0,
              "#0d0887"
             ],
             [
              0.1111111111111111,
              "#46039f"
             ],
             [
              0.2222222222222222,
              "#7201a8"
             ],
             [
              0.3333333333333333,
              "#9c179e"
             ],
             [
              0.4444444444444444,
              "#bd3786"
             ],
             [
              0.5555555555555556,
              "#d8576b"
             ],
             [
              0.6666666666666666,
              "#ed7953"
             ],
             [
              0.7777777777777778,
              "#fb9f3a"
             ],
             [
              0.8888888888888888,
              "#fdca26"
             ],
             [
              1,
              "#f0f921"
             ]
            ],
            "type": "histogram2dcontour"
           }
          ],
          "mesh3d": [
           {
            "colorbar": {
             "outlinewidth": 0,
             "ticks": ""
            },
            "type": "mesh3d"
           }
          ],
          "parcoords": [
           {
            "line": {
             "colorbar": {
              "outlinewidth": 0,
              "ticks": ""
             }
            },
            "type": "parcoords"
           }
          ],
          "pie": [
           {
            "automargin": true,
            "type": "pie"
           }
          ],
          "scatter": [
           {
            "fillpattern": {
             "fillmode": "overlay",
             "size": 10,
             "solidity": 0.2
            },
            "type": "scatter"
           }
          ],
          "scatter3d": [
           {
            "line": {
             "colorbar": {
              "outlinewidth": 0,
              "ticks": ""
             }
            },
            "marker": {
             "colorbar": {
              "outlinewidth": 0,
              "ticks": ""
             }
            },
            "type": "scatter3d"
           }
          ],
          "scattercarpet": [
           {
            "marker": {
             "colorbar": {
              "outlinewidth": 0,
              "ticks": ""
             }
            },
            "type": "scattercarpet"
           }
          ],
          "scattergeo": [
           {
            "marker": {
             "colorbar": {
              "outlinewidth": 0,
              "ticks": ""
             }
            },
            "type": "scattergeo"
           }
          ],
          "scattergl": [
           {
            "marker": {
             "colorbar": {
              "outlinewidth": 0,
              "ticks": ""
             }
            },
            "type": "scattergl"
           }
          ],
          "scattermapbox": [
           {
            "marker": {
             "colorbar": {
              "outlinewidth": 0,
              "ticks": ""
             }
            },
            "type": "scattermapbox"
           }
          ],
          "scatterpolar": [
           {
            "marker": {
             "colorbar": {
              "outlinewidth": 0,
              "ticks": ""
             }
            },
            "type": "scatterpolar"
           }
          ],
          "scatterpolargl": [
           {
            "marker": {
             "colorbar": {
              "outlinewidth": 0,
              "ticks": ""
             }
            },
            "type": "scatterpolargl"
           }
          ],
          "scatterternary": [
           {
            "marker": {
             "colorbar": {
              "outlinewidth": 0,
              "ticks": ""
             }
            },
            "type": "scatterternary"
           }
          ],
          "surface": [
           {
            "colorbar": {
             "outlinewidth": 0,
             "ticks": ""
            },
            "colorscale": [
             [
              0,
              "#0d0887"
             ],
             [
              0.1111111111111111,
              "#46039f"
             ],
             [
              0.2222222222222222,
              "#7201a8"
             ],
             [
              0.3333333333333333,
              "#9c179e"
             ],
             [
              0.4444444444444444,
              "#bd3786"
             ],
             [
              0.5555555555555556,
              "#d8576b"
             ],
             [
              0.6666666666666666,
              "#ed7953"
             ],
             [
              0.7777777777777778,
              "#fb9f3a"
             ],
             [
              0.8888888888888888,
              "#fdca26"
             ],
             [
              1,
              "#f0f921"
             ]
            ],
            "type": "surface"
           }
          ],
          "table": [
           {
            "cells": {
             "fill": {
              "color": "#EBF0F8"
             },
             "line": {
              "color": "white"
             }
            },
            "header": {
             "fill": {
              "color": "#C8D4E3"
             },
             "line": {
              "color": "white"
             }
            },
            "type": "table"
           }
          ]
         },
         "layout": {
          "annotationdefaults": {
           "arrowcolor": "#2a3f5f",
           "arrowhead": 0,
           "arrowwidth": 1
          },
          "autotypenumbers": "strict",
          "coloraxis": {
           "colorbar": {
            "outlinewidth": 0,
            "ticks": ""
           }
          },
          "colorscale": {
           "diverging": [
            [
             0,
             "#8e0152"
            ],
            [
             0.1,
             "#c51b7d"
            ],
            [
             0.2,
             "#de77ae"
            ],
            [
             0.3,
             "#f1b6da"
            ],
            [
             0.4,
             "#fde0ef"
            ],
            [
             0.5,
             "#f7f7f7"
            ],
            [
             0.6,
             "#e6f5d0"
            ],
            [
             0.7,
             "#b8e186"
            ],
            [
             0.8,
             "#7fbc41"
            ],
            [
             0.9,
             "#4d9221"
            ],
            [
             1,
             "#276419"
            ]
           ],
           "sequential": [
            [
             0,
             "#0d0887"
            ],
            [
             0.1111111111111111,
             "#46039f"
            ],
            [
             0.2222222222222222,
             "#7201a8"
            ],
            [
             0.3333333333333333,
             "#9c179e"
            ],
            [
             0.4444444444444444,
             "#bd3786"
            ],
            [
             0.5555555555555556,
             "#d8576b"
            ],
            [
             0.6666666666666666,
             "#ed7953"
            ],
            [
             0.7777777777777778,
             "#fb9f3a"
            ],
            [
             0.8888888888888888,
             "#fdca26"
            ],
            [
             1,
             "#f0f921"
            ]
           ],
           "sequentialminus": [
            [
             0,
             "#0d0887"
            ],
            [
             0.1111111111111111,
             "#46039f"
            ],
            [
             0.2222222222222222,
             "#7201a8"
            ],
            [
             0.3333333333333333,
             "#9c179e"
            ],
            [
             0.4444444444444444,
             "#bd3786"
            ],
            [
             0.5555555555555556,
             "#d8576b"
            ],
            [
             0.6666666666666666,
             "#ed7953"
            ],
            [
             0.7777777777777778,
             "#fb9f3a"
            ],
            [
             0.8888888888888888,
             "#fdca26"
            ],
            [
             1,
             "#f0f921"
            ]
           ]
          },
          "colorway": [
           "#636efa",
           "#EF553B",
           "#00cc96",
           "#ab63fa",
           "#FFA15A",
           "#19d3f3",
           "#FF6692",
           "#B6E880",
           "#FF97FF",
           "#FECB52"
          ],
          "font": {
           "color": "#2a3f5f"
          },
          "geo": {
           "bgcolor": "white",
           "lakecolor": "white",
           "landcolor": "#E5ECF6",
           "showlakes": true,
           "showland": true,
           "subunitcolor": "white"
          },
          "hoverlabel": {
           "align": "left"
          },
          "hovermode": "closest",
          "mapbox": {
           "style": "light"
          },
          "paper_bgcolor": "white",
          "plot_bgcolor": "#E5ECF6",
          "polar": {
           "angularaxis": {
            "gridcolor": "white",
            "linecolor": "white",
            "ticks": ""
           },
           "bgcolor": "#E5ECF6",
           "radialaxis": {
            "gridcolor": "white",
            "linecolor": "white",
            "ticks": ""
           }
          },
          "scene": {
           "xaxis": {
            "backgroundcolor": "#E5ECF6",
            "gridcolor": "white",
            "gridwidth": 2,
            "linecolor": "white",
            "showbackground": true,
            "ticks": "",
            "zerolinecolor": "white"
           },
           "yaxis": {
            "backgroundcolor": "#E5ECF6",
            "gridcolor": "white",
            "gridwidth": 2,
            "linecolor": "white",
            "showbackground": true,
            "ticks": "",
            "zerolinecolor": "white"
           },
           "zaxis": {
            "backgroundcolor": "#E5ECF6",
            "gridcolor": "white",
            "gridwidth": 2,
            "linecolor": "white",
            "showbackground": true,
            "ticks": "",
            "zerolinecolor": "white"
           }
          },
          "shapedefaults": {
           "line": {
            "color": "#2a3f5f"
           }
          },
          "ternary": {
           "aaxis": {
            "gridcolor": "white",
            "linecolor": "white",
            "ticks": ""
           },
           "baxis": {
            "gridcolor": "white",
            "linecolor": "white",
            "ticks": ""
           },
           "bgcolor": "#E5ECF6",
           "caxis": {
            "gridcolor": "white",
            "linecolor": "white",
            "ticks": ""
           }
          },
          "title": {
           "x": 0.05
          },
          "xaxis": {
           "automargin": true,
           "gridcolor": "white",
           "linecolor": "white",
           "ticks": "",
           "title": {
            "standoff": 15
           },
           "zerolinecolor": "white",
           "zerolinewidth": 2
          },
          "yaxis": {
           "automargin": true,
           "gridcolor": "white",
           "linecolor": "white",
           "ticks": "",
           "title": {
            "standoff": 15
           },
           "zerolinecolor": "white",
           "zerolinewidth": 2
          }
         }
        },
        "title": {
         "text": "Mean sales over 2017-2020"
        },
        "xaxis": {
         "anchor": "y",
         "domain": [
          0,
          1
         ],
         "title": {
          "text": "Cw"
         }
        },
        "yaxis": {
         "anchor": "x",
         "domain": [
          0,
          1
         ],
         "title": {
          "text": "mean_sales"
         }
        }
       }
      },
      "text/html": [
       "<div>                            <div id=\"bf479e66-f842-43fe-b38f-6d9a903911c3\" class=\"plotly-graph-div\" style=\"height:525px; width:100%;\"></div>            <script type=\"text/javascript\">                require([\"plotly\"], function(Plotly) {                    window.PLOTLYENV=window.PLOTLYENV || {};                                    if (document.getElementById(\"bf479e66-f842-43fe-b38f-6d9a903911c3\")) {                    Plotly.newPlot(                        \"bf479e66-f842-43fe-b38f-6d9a903911c3\",                        [{\"hovertemplate\":\"Cw=%{x}<br>mean_sales=%{y}<br>Year=%{marker.color}<extra></extra>\",\"legendgroup\":\"\",\"marker\":{\"color\":[2018,2018,2018,2019,2019,2019,2018,2019,2018,2017,2020,2020,2020,2019,2020,2019,2020,2018,2019,2018,2018,2020,2020,2017,2019,2018,2017,2017,2017,2017,2020,2017,2019,2020,2017,2017,2019,2018,2018,2019,2017,2020,2020,2017,2017,2018,2020,2020,2019,2017,2018,2018,2020,2018,2018,2017,2017,2019,2018,2019,2020,2018,2020,2020,2017,2017,2018,2019,2019,2020,2018,2019,2018,2017,2019,2020,2020,2020,2020,2017,2018,2019,2020,2018,2019,2018,2020,2018,2019,2020,2020,2017,2018,2017,2018,2019,2020,2017,2020,2020,2017,2020,2018,2019,2018,2018,2019,2020,2019,2019,2020,2020,2017,2017,2018,2019,2020,2018,2019,2017,2018,2019,2020,2017,2017,2019,2018,2017,2017,2019,2018,2020,2018,2020,2019,2020,2019,2017,2018,2019,2017,2017,2018,2019,2019,2018,2018,2018,2018,2019,2017,2019,2017,2019,2020,2017,2018,2020,2018,2019,2019,2019,2017,2017,2018,2018,2018,2018,2020,2018,2019,2019,2017,2019,2018,2019,2017,2019,2020,2019,2020,2020,2017,2017,2017,2018,2019,2020,2018,2020,2019,2020,2017,2017,2020,2017,2017,2019,2019,2020,2020,2017,2020,2020],\"coloraxis\":\"coloraxis\",\"symbol\":\"circle\"},\"mode\":\"markers\",\"name\":\"\",\"orientation\":\"v\",\"showlegend\":false,\"x\":[23,41,44,5,43,9,18,26,15,38,23,38,44,1,29,18,13,12,48,39,3,26,51,23,47,38,10,48,45,43,18,13,21,4,39,47,14,35,47,25,28,12,45,6,27,25,14,11,51,41,22,30,43,19,43,15,26,39,20,20,20,14,6,27,14,46,40,37,50,3,5,40,50,31,23,31,32,9,17,11,33,6,8,7,4,9,15,10,17,34,52,33,46,35,28,3,5,21,10,1,12,46,26,32,37,51,12,37,13,33,7,47,34,42,29,2,48,13,35,44,21,38,19,22,32,19,34,37,16,28,1,16,4,25,15,50,29,51,45,30,20,24,8,34,24,31,49,2,42,16,49,46,5,42,36,18,11,49,6,44,7,52,25,40,24,36,16,17,24,27,27,10,30,45,32,49,8,8,40,41,41,22,19,36,50,52,22,30,48,28,36,35,17,52,33,29,9,11,31,21,39,7,2,42],\"xaxis\":\"x\",\"y\":[84075.0,31482.0,97972.0,30561.0,37663.0,30502.0,49036.0,46193.0,34800.0,34481.0,30877.0,50780.0,33267.0,40420.0,25749.0,43820.0,43707.0,54925.0,73956.0,67966.0,43324.0,26410.0,0.0,43689.0,72587.0,49548.0,29731.0,66333.0,57417.0,34918.0,29536.0,44339.0,40402.0,58185.0,96610.0,64904.0,55859.0,52126.0,52532.0,30099.0,28650.0,77842.0,50159.0,29023.0,45198.0,32463.0,39473.0,56886.0,258874.0,33967.0,49314.0,33057.0,49593.0,52964.0,32717.0,108159.0,27001.0,69480.0,34526.0,28457.0,31406.0,35136.0,29239.0,26925.0,54655.0,60631.0,33433.0,57446.0,85762.0,47058.0,35016.0,106885.0,80431.0,26888.0,85108.0,25792.0,24543.0,35684.0,46829.0,27365.0,31772.0,29867.0,29275.0,55216.0,58215.0,51305.0,64685.0,91870.0,31741.0,23606.0,0.0,29415.0,52048.0,49531.0,35354.0,48759.0,30020.0,26045.0,36955.0,41141.0,27722.0,51369.0,51818.0,31628.0,86576.0,174994.0,28997.0,83565.0,52930.0,33665.0,45572.0,0.0,50471.0,33429.0,35191.0,34603.0,0.0,79050.0,36320.0,104775.0,33308.0,58872.0,31836.0,25903.0,46260.0,46628.0,29976.0,82940.0,30361.0,31099.0,41941.0,39290.0,65691.0,25445.0,59375.0,0.0,31866.0,155253.0,51495.0,31386.0,25936.0,25446.0,33908.0,34550.0,44596.0,32373.0,109917.0,37845.0,32196.0,119393.0,71917.0,70327.0,27750.0,37454.0,51946.0,39782.0,51438.0,0.0,33604.0,60365.0,48001.0,124261.0,42543.0,31898.0,32223.0,48279.0,56351.0,34225.0,26244.0,35597.0,31093.0,32103.0,27657.0,67770.0,31850.0,82558.0,26789.0,30016.0,55980.0,36072.0,44587.0,29177.0,29490.0,30874.0,94633.0,96211.0,28521.0,23891.0,59037.0,26973.0,55431.0,24346.0,42154.0,89706.0,23744.0,42032.0,41999.0,29664.0,29985.0,71971.0,50644.0,45630.0,34303.0,43976.0],\"yaxis\":\"y\",\"type\":\"scatter\"}],                        {\"template\":{\"data\":{\"histogram2dcontour\":[{\"type\":\"histogram2dcontour\",\"colorbar\":{\"outlinewidth\":0,\"ticks\":\"\"},\"colorscale\":[[0.0,\"#0d0887\"],[0.1111111111111111,\"#46039f\"],[0.2222222222222222,\"#7201a8\"],[0.3333333333333333,\"#9c179e\"],[0.4444444444444444,\"#bd3786\"],[0.5555555555555556,\"#d8576b\"],[0.6666666666666666,\"#ed7953\"],[0.7777777777777778,\"#fb9f3a\"],[0.8888888888888888,\"#fdca26\"],[1.0,\"#f0f921\"]]}],\"choropleth\":[{\"type\":\"choropleth\",\"colorbar\":{\"outlinewidth\":0,\"ticks\":\"\"}}],\"histogram2d\":[{\"type\":\"histogram2d\",\"colorbar\":{\"outlinewidth\":0,\"ticks\":\"\"},\"colorscale\":[[0.0,\"#0d0887\"],[0.1111111111111111,\"#46039f\"],[0.2222222222222222,\"#7201a8\"],[0.3333333333333333,\"#9c179e\"],[0.4444444444444444,\"#bd3786\"],[0.5555555555555556,\"#d8576b\"],[0.6666666666666666,\"#ed7953\"],[0.7777777777777778,\"#fb9f3a\"],[0.8888888888888888,\"#fdca26\"],[1.0,\"#f0f921\"]]}],\"heatmap\":[{\"type\":\"heatmap\",\"colorbar\":{\"outlinewidth\":0,\"ticks\":\"\"},\"colorscale\":[[0.0,\"#0d0887\"],[0.1111111111111111,\"#46039f\"],[0.2222222222222222,\"#7201a8\"],[0.3333333333333333,\"#9c179e\"],[0.4444444444444444,\"#bd3786\"],[0.5555555555555556,\"#d8576b\"],[0.6666666666666666,\"#ed7953\"],[0.7777777777777778,\"#fb9f3a\"],[0.8888888888888888,\"#fdca26\"],[1.0,\"#f0f921\"]]}],\"heatmapgl\":[{\"type\":\"heatmapgl\",\"colorbar\":{\"outlinewidth\":0,\"ticks\":\"\"},\"colorscale\":[[0.0,\"#0d0887\"],[0.1111111111111111,\"#46039f\"],[0.2222222222222222,\"#7201a8\"],[0.3333333333333333,\"#9c179e\"],[0.4444444444444444,\"#bd3786\"],[0.5555555555555556,\"#d8576b\"],[0.6666666666666666,\"#ed7953\"],[0.7777777777777778,\"#fb9f3a\"],[0.8888888888888888,\"#fdca26\"],[1.0,\"#f0f921\"]]}],\"contourcarpet\":[{\"type\":\"contourcarpet\",\"colorbar\":{\"outlinewidth\":0,\"ticks\":\"\"}}],\"contour\":[{\"type\":\"contour\",\"colorbar\":{\"outlinewidth\":0,\"ticks\":\"\"},\"colorscale\":[[0.0,\"#0d0887\"],[0.1111111111111111,\"#46039f\"],[0.2222222222222222,\"#7201a8\"],[0.3333333333333333,\"#9c179e\"],[0.4444444444444444,\"#bd3786\"],[0.5555555555555556,\"#d8576b\"],[0.6666666666666666,\"#ed7953\"],[0.7777777777777778,\"#fb9f3a\"],[0.8888888888888888,\"#fdca26\"],[1.0,\"#f0f921\"]]}],\"surface\":[{\"type\":\"surface\",\"colorbar\":{\"outlinewidth\":0,\"ticks\":\"\"},\"colorscale\":[[0.0,\"#0d0887\"],[0.1111111111111111,\"#46039f\"],[0.2222222222222222,\"#7201a8\"],[0.3333333333333333,\"#9c179e\"],[0.4444444444444444,\"#bd3786\"],[0.5555555555555556,\"#d8576b\"],[0.6666666666666666,\"#ed7953\"],[0.7777777777777778,\"#fb9f3a\"],[0.8888888888888888,\"#fdca26\"],[1.0,\"#f0f921\"]]}],\"mesh3d\":[{\"type\":\"mesh3d\",\"colorbar\":{\"outlinewidth\":0,\"ticks\":\"\"}}],\"scatter\":[{\"fillpattern\":{\"fillmode\":\"overlay\",\"size\":10,\"solidity\":0.2},\"type\":\"scatter\"}],\"parcoords\":[{\"type\":\"parcoords\",\"line\":{\"colorbar\":{\"outlinewidth\":0,\"ticks\":\"\"}}}],\"scatterpolargl\":[{\"type\":\"scatterpolargl\",\"marker\":{\"colorbar\":{\"outlinewidth\":0,\"ticks\":\"\"}}}],\"bar\":[{\"error_x\":{\"color\":\"#2a3f5f\"},\"error_y\":{\"color\":\"#2a3f5f\"},\"marker\":{\"line\":{\"color\":\"#E5ECF6\",\"width\":0.5},\"pattern\":{\"fillmode\":\"overlay\",\"size\":10,\"solidity\":0.2}},\"type\":\"bar\"}],\"scattergeo\":[{\"type\":\"scattergeo\",\"marker\":{\"colorbar\":{\"outlinewidth\":0,\"ticks\":\"\"}}}],\"scatterpolar\":[{\"type\":\"scatterpolar\",\"marker\":{\"colorbar\":{\"outlinewidth\":0,\"ticks\":\"\"}}}],\"histogram\":[{\"marker\":{\"pattern\":{\"fillmode\":\"overlay\",\"size\":10,\"solidity\":0.2}},\"type\":\"histogram\"}],\"scattergl\":[{\"type\":\"scattergl\",\"marker\":{\"colorbar\":{\"outlinewidth\":0,\"ticks\":\"\"}}}],\"scatter3d\":[{\"type\":\"scatter3d\",\"line\":{\"colorbar\":{\"outlinewidth\":0,\"ticks\":\"\"}},\"marker\":{\"colorbar\":{\"outlinewidth\":0,\"ticks\":\"\"}}}],\"scattermapbox\":[{\"type\":\"scattermapbox\",\"marker\":{\"colorbar\":{\"outlinewidth\":0,\"ticks\":\"\"}}}],\"scatterternary\":[{\"type\":\"scatterternary\",\"marker\":{\"colorbar\":{\"outlinewidth\":0,\"ticks\":\"\"}}}],\"scattercarpet\":[{\"type\":\"scattercarpet\",\"marker\":{\"colorbar\":{\"outlinewidth\":0,\"ticks\":\"\"}}}],\"carpet\":[{\"aaxis\":{\"endlinecolor\":\"#2a3f5f\",\"gridcolor\":\"white\",\"linecolor\":\"white\",\"minorgridcolor\":\"white\",\"startlinecolor\":\"#2a3f5f\"},\"baxis\":{\"endlinecolor\":\"#2a3f5f\",\"gridcolor\":\"white\",\"linecolor\":\"white\",\"minorgridcolor\":\"white\",\"startlinecolor\":\"#2a3f5f\"},\"type\":\"carpet\"}],\"table\":[{\"cells\":{\"fill\":{\"color\":\"#EBF0F8\"},\"line\":{\"color\":\"white\"}},\"header\":{\"fill\":{\"color\":\"#C8D4E3\"},\"line\":{\"color\":\"white\"}},\"type\":\"table\"}],\"barpolar\":[{\"marker\":{\"line\":{\"color\":\"#E5ECF6\",\"width\":0.5},\"pattern\":{\"fillmode\":\"overlay\",\"size\":10,\"solidity\":0.2}},\"type\":\"barpolar\"}],\"pie\":[{\"automargin\":true,\"type\":\"pie\"}]},\"layout\":{\"autotypenumbers\":\"strict\",\"colorway\":[\"#636efa\",\"#EF553B\",\"#00cc96\",\"#ab63fa\",\"#FFA15A\",\"#19d3f3\",\"#FF6692\",\"#B6E880\",\"#FF97FF\",\"#FECB52\"],\"font\":{\"color\":\"#2a3f5f\"},\"hovermode\":\"closest\",\"hoverlabel\":{\"align\":\"left\"},\"paper_bgcolor\":\"white\",\"plot_bgcolor\":\"#E5ECF6\",\"polar\":{\"bgcolor\":\"#E5ECF6\",\"angularaxis\":{\"gridcolor\":\"white\",\"linecolor\":\"white\",\"ticks\":\"\"},\"radialaxis\":{\"gridcolor\":\"white\",\"linecolor\":\"white\",\"ticks\":\"\"}},\"ternary\":{\"bgcolor\":\"#E5ECF6\",\"aaxis\":{\"gridcolor\":\"white\",\"linecolor\":\"white\",\"ticks\":\"\"},\"baxis\":{\"gridcolor\":\"white\",\"linecolor\":\"white\",\"ticks\":\"\"},\"caxis\":{\"gridcolor\":\"white\",\"linecolor\":\"white\",\"ticks\":\"\"}},\"coloraxis\":{\"colorbar\":{\"outlinewidth\":0,\"ticks\":\"\"}},\"colorscale\":{\"sequential\":[[0.0,\"#0d0887\"],[0.1111111111111111,\"#46039f\"],[0.2222222222222222,\"#7201a8\"],[0.3333333333333333,\"#9c179e\"],[0.4444444444444444,\"#bd3786\"],[0.5555555555555556,\"#d8576b\"],[0.6666666666666666,\"#ed7953\"],[0.7777777777777778,\"#fb9f3a\"],[0.8888888888888888,\"#fdca26\"],[1.0,\"#f0f921\"]],\"sequentialminus\":[[0.0,\"#0d0887\"],[0.1111111111111111,\"#46039f\"],[0.2222222222222222,\"#7201a8\"],[0.3333333333333333,\"#9c179e\"],[0.4444444444444444,\"#bd3786\"],[0.5555555555555556,\"#d8576b\"],[0.6666666666666666,\"#ed7953\"],[0.7777777777777778,\"#fb9f3a\"],[0.8888888888888888,\"#fdca26\"],[1.0,\"#f0f921\"]],\"diverging\":[[0,\"#8e0152\"],[0.1,\"#c51b7d\"],[0.2,\"#de77ae\"],[0.3,\"#f1b6da\"],[0.4,\"#fde0ef\"],[0.5,\"#f7f7f7\"],[0.6,\"#e6f5d0\"],[0.7,\"#b8e186\"],[0.8,\"#7fbc41\"],[0.9,\"#4d9221\"],[1,\"#276419\"]]},\"xaxis\":{\"gridcolor\":\"white\",\"linecolor\":\"white\",\"ticks\":\"\",\"title\":{\"standoff\":15},\"zerolinecolor\":\"white\",\"automargin\":true,\"zerolinewidth\":2},\"yaxis\":{\"gridcolor\":\"white\",\"linecolor\":\"white\",\"ticks\":\"\",\"title\":{\"standoff\":15},\"zerolinecolor\":\"white\",\"automargin\":true,\"zerolinewidth\":2},\"scene\":{\"xaxis\":{\"backgroundcolor\":\"#E5ECF6\",\"gridcolor\":\"white\",\"linecolor\":\"white\",\"showbackground\":true,\"ticks\":\"\",\"zerolinecolor\":\"white\",\"gridwidth\":2},\"yaxis\":{\"backgroundcolor\":\"#E5ECF6\",\"gridcolor\":\"white\",\"linecolor\":\"white\",\"showbackground\":true,\"ticks\":\"\",\"zerolinecolor\":\"white\",\"gridwidth\":2},\"zaxis\":{\"backgroundcolor\":\"#E5ECF6\",\"gridcolor\":\"white\",\"linecolor\":\"white\",\"showbackground\":true,\"ticks\":\"\",\"zerolinecolor\":\"white\",\"gridwidth\":2}},\"shapedefaults\":{\"line\":{\"color\":\"#2a3f5f\"}},\"annotationdefaults\":{\"arrowcolor\":\"#2a3f5f\",\"arrowhead\":0,\"arrowwidth\":1},\"geo\":{\"bgcolor\":\"white\",\"landcolor\":\"#E5ECF6\",\"subunitcolor\":\"white\",\"showland\":true,\"showlakes\":true,\"lakecolor\":\"white\"},\"title\":{\"x\":0.05},\"mapbox\":{\"style\":\"light\"}}},\"xaxis\":{\"anchor\":\"y\",\"domain\":[0.0,1.0],\"title\":{\"text\":\"Cw\"}},\"yaxis\":{\"anchor\":\"x\",\"domain\":[0.0,1.0],\"title\":{\"text\":\"mean_sales\"}},\"coloraxis\":{\"colorbar\":{\"title\":{\"text\":\"Year\"}},\"colorscale\":[[0.0,\"#0d0887\"],[0.1111111111111111,\"#46039f\"],[0.2222222222222222,\"#7201a8\"],[0.3333333333333333,\"#9c179e\"],[0.4444444444444444,\"#bd3786\"],[0.5555555555555556,\"#d8576b\"],[0.6666666666666666,\"#ed7953\"],[0.7777777777777778,\"#fb9f3a\"],[0.8888888888888888,\"#fdca26\"],[1.0,\"#f0f921\"]]},\"legend\":{\"tracegroupgap\":0},\"title\":{\"text\":\"Mean sales over 2017-2020\"}},                        {\"responsive\": true}                    ).then(function(){\n",
       "                            \n",
       "var gd = document.getElementById('bf479e66-f842-43fe-b38f-6d9a903911c3');\n",
       "var x = new MutationObserver(function (mutations, observer) {{\n",
       "        var display = window.getComputedStyle(gd).display;\n",
       "        if (!display || display === 'none') {{\n",
       "            console.log([gd, 'removed!']);\n",
       "            Plotly.purge(gd);\n",
       "            observer.disconnect();\n",
       "        }}\n",
       "}});\n",
       "\n",
       "// Listen for the removal of the full notebook cells\n",
       "var notebookContainer = gd.closest('#notebook-container');\n",
       "if (notebookContainer) {{\n",
       "    x.observe(notebookContainer, {childList: true});\n",
       "}}\n",
       "\n",
       "// Listen for the clearing of the current output cell\n",
       "var outputEl = gd.closest('.output');\n",
       "if (outputEl) {{\n",
       "    x.observe(outputEl, {childList: true});\n",
       "}}\n",
       "\n",
       "                        })                };                });            </script>        </div>"
      ]
     },
     "metadata": {},
     "output_type": "display_data"
    }
   ],
   "source": [
    "df[df['Product'] == 'SKU1'].groupby(['Year','Cw']).agg(mean_sales = ('Sales','mean')).reset_index().plot.scatter(x='Cw', y='mean_sales', color=\"Year\", title=\"Mean sales over 2017-2020\")"
   ]
  }
 ],
 "metadata": {
  "kernelspec": {
   "display_name": "Python 3 (ipykernel)",
   "language": "python",
   "name": "python3"
  },
  "language_info": {
   "codemirror_mode": {
    "name": "ipython",
    "version": 3
   },
   "file_extension": ".py",
   "mimetype": "text/x-python",
   "name": "python",
   "nbconvert_exporter": "python",
   "pygments_lexer": "ipython3",
   "version": "3.10.8"
  },
  "vscode": {
   "interpreter": {
    "hash": "31f2aee4e71d21fbe5cf8b01ff0e069b9275f58929596ceb00d14d90e3e16cd6"
   }
  }
 },
 "nbformat": 4,
 "nbformat_minor": 5
}
